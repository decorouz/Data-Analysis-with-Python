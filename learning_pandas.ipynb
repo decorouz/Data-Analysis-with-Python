{
 "cells": [
  {
   "cell_type": "code",
   "execution_count": null,
   "id": "d98f8087",
   "metadata": {},
   "outputs": [],
   "source": [
    "import pandas as pd"
   ]
  },
  {
   "cell_type": "markdown",
   "id": "960c0c53",
   "metadata": {},
   "source": [
    " I want to store passenger data of the Titanic. For a number\n",
    "    of passengers, I know the name, age, and sex data.\n",
    "    \n",
    "        To manually store data in a table, create a DataFrame\n",
    "        Each column in a DataFrame is a Series"
   ]
  },
  {
   "cell_type": "code",
   "execution_count": null,
   "id": "67cd24aa",
   "metadata": {},
   "outputs": [],
   "source": [
    "df = pd.DataFrame({\n",
    "    \"Name\": [\n",
    "        \"Braund, Mr. Owen Harris\",\n",
    "        \"Allen, mr. William Henry\",\n",
    "        \"Bonnell, Miss. Elizabeth\"\n",
    "    ],\n",
    "    \"Age\": [22, 35, 58],\n",
    "    \"Sex\": [\"male\", \"male\", \"female\"]\n",
    "})\n",
    "df"
   ]
  },
  {
   "cell_type": "code",
   "execution_count": null,
   "id": "c427c07d",
   "metadata": {},
   "outputs": [],
   "source": [
    "# Just interested in working with the data in the column Age\n",
    "# When selecting the result of a single column of a Dataframe\n",
    "# the result is a pandas Series\n",
    "df[\"Age\"]"
   ]
  },
  {
   "cell_type": "code",
   "execution_count": null,
   "id": "6f367e9c",
   "metadata": {},
   "outputs": [],
   "source": [
    "# Interested in some basic statistics of the numerical data of my\n",
    "# data table \n",
    "\n",
    "df.describe()"
   ]
  },
  {
   "cell_type": "markdown",
   "id": "9e06366e",
   "metadata": {},
   "source": [
    "### How do I read and write tabula data?"
   ]
  },
  {
   "cell_type": "code",
   "execution_count": null,
   "id": "3d6cf56f",
   "metadata": {},
   "outputs": [],
   "source": [
    "titanic = pd.read_csv(\"data/train.csv\")\n",
    "titanic"
   ]
  },
  {
   "cell_type": "code",
   "execution_count": null,
   "id": "db9c2af3",
   "metadata": {},
   "outputs": [],
   "source": [
    "titanic.head(8)"
   ]
  },
  {
   "cell_type": "code",
   "execution_count": null,
   "id": "b6e97603",
   "metadata": {},
   "outputs": [],
   "source": [
    "titanic.dtypes"
   ]
  },
  {
   "cell_type": "code",
   "execution_count": null,
   "id": "e6cead96",
   "metadata": {},
   "outputs": [],
   "source": [
    "titanic.to_excel(\"titanic_new.xlsx\", sheet_name=\"passengers\", index=False)"
   ]
  },
  {
   "cell_type": "code",
   "execution_count": null,
   "id": "d885051b",
   "metadata": {},
   "outputs": [],
   "source": [
    "titanic = pd.read_excel(\"titanic_new.xlsx\", sheet_name=\"passengers\")\n",
    "titanic.head(5)"
   ]
  },
  {
   "cell_type": "code",
   "execution_count": null,
   "id": "df33b863",
   "metadata": {},
   "outputs": [],
   "source": [
    "# Interested in technical summary\n",
    "titanic.info()"
   ]
  },
  {
   "cell_type": "markdown",
   "id": "e5d4b8be",
   "metadata": {},
   "source": [
    "## How do I select a sbuset of a DataFrame?\n",
    "## How do I select a specific columns from a DataFrame?"
   ]
  },
  {
   "cell_type": "code",
   "execution_count": null,
   "id": "8a3418dd",
   "metadata": {},
   "outputs": [],
   "source": [
    "# Interested in the age of the Titanic passengers\n",
    "ages = titanic[\"Age\"]\n",
    "ages.head()"
   ]
  },
  {
   "cell_type": "code",
   "execution_count": null,
   "id": "5a84868c",
   "metadata": {},
   "outputs": [],
   "source": [
    "# the shape of the output\n",
    "titanic[\"Age\"].shape"
   ]
  },
  {
   "cell_type": "code",
   "execution_count": null,
   "id": "0eab69f1",
   "metadata": {},
   "outputs": [],
   "source": [
    "# interested in the age and sex f the titanic passengers\n",
    "age_sex = titanic[[\"Age\", \"Sex\"]]\n",
    "age_sex.head()"
   ]
  },
  {
   "cell_type": "markdown",
   "id": "afa201c7",
   "metadata": {},
   "source": [
    "## Learning more basic information on indexing\n",
    "    Here we construct a simple time series data set and use it for illustrating the indexing functionality"
   ]
  },
  {
   "cell_type": "code",
   "execution_count": null,
   "id": "41d3e70e",
   "metadata": {},
   "outputs": [],
   "source": [
    "dates = pd.date_range(\"1/1/2000\", periods=8)\n",
    "dates"
   ]
  },
  {
   "cell_type": "code",
   "execution_count": null,
   "id": "b42b7bde",
   "metadata": {},
   "outputs": [],
   "source": [
    "import numpy as np\n",
    "df = pd.DataFrame(np.random.randn(8,4),\n",
    "                 index=dates, columns=[\"A\",\"B\",\"C\",\"D\"])\n",
    "df"
   ]
  },
  {
   "cell_type": "code",
   "execution_count": null,
   "id": "fa47d138",
   "metadata": {},
   "outputs": [],
   "source": [
    "s = df[\"A\"]\n",
    "s"
   ]
  },
  {
   "cell_type": "code",
   "execution_count": null,
   "id": "bfcb68e9",
   "metadata": {},
   "outputs": [],
   "source": [
    "s[dates[0]]"
   ]
  },
  {
   "cell_type": "code",
   "execution_count": null,
   "id": "b289c0dd",
   "metadata": {},
   "outputs": [],
   "source": [
    "# You can pass a list of columns\n",
    "df\n"
   ]
  },
  {
   "cell_type": "code",
   "execution_count": null,
   "id": "d0f3037f",
   "metadata": {},
   "outputs": [],
   "source": [
    "df[[\"B\", \"A\"]] = df[[\"A\", \"B\"]]\n",
    "df"
   ]
  },
  {
   "cell_type": "code",
   "execution_count": null,
   "id": "a7d82afe",
   "metadata": {},
   "outputs": [],
   "source": [
    "df[[\"A\", \"B\"]]"
   ]
  },
  {
   "cell_type": "code",
   "execution_count": null,
   "id": "ca14bb20",
   "metadata": {},
   "outputs": [],
   "source": [
    "# The correct way to swap values is by using raw values\n",
    "df.loc[:, [\"B\", \"A\"]] = df[[\"A\", \"B\"]].to_numpy()\n",
    "df[[\"A\", \"B\"]]"
   ]
  },
  {
   "cell_type": "markdown",
   "id": "3ade6f08",
   "metadata": {},
   "source": [
    "## Attribute access"
   ]
  },
  {
   "cell_type": "code",
   "execution_count": null,
   "id": "6cd99424",
   "metadata": {},
   "outputs": [],
   "source": [
    "sa = pd.Series([1,2,3], index=list(\"abc\"))\n",
    "sa"
   ]
  },
  {
   "cell_type": "code",
   "execution_count": null,
   "id": "9df43a82",
   "metadata": {},
   "outputs": [],
   "source": [
    "dfa = df.copy()\n",
    "dfa"
   ]
  },
  {
   "cell_type": "code",
   "execution_count": null,
   "id": "b5e3f8e2",
   "metadata": {},
   "outputs": [],
   "source": [
    "sa.b"
   ]
  },
  {
   "cell_type": "code",
   "execution_count": null,
   "id": "6fb84f03",
   "metadata": {},
   "outputs": [],
   "source": [
    "dfa.A"
   ]
  },
  {
   "cell_type": "code",
   "execution_count": null,
   "id": "66e22f91",
   "metadata": {},
   "outputs": [],
   "source": [
    "sa"
   ]
  },
  {
   "cell_type": "code",
   "execution_count": null,
   "id": "ca4cc319",
   "metadata": {},
   "outputs": [],
   "source": [
    "sa.a = 5\n",
    "sa"
   ]
  },
  {
   "cell_type": "code",
   "execution_count": null,
   "id": "2b028302",
   "metadata": {},
   "outputs": [],
   "source": [
    "dfa.A = list(range(len(dfa.index))  # ok if A already exists\n",
    "dfa"
   ]
  },
  {
   "cell_type": "code",
   "execution_count": null,
   "id": "f65d8c6a",
   "metadata": {},
   "outputs": [],
   "source": [
    "dfa[\"F\"] = np.random.randn(8,4)\n",
    "dfa"
   ]
  },
  {
   "cell_type": "markdown",
   "id": "b6c96f08",
   "metadata": {},
   "source": [
    "### Slicing ranges\n",
    "        The most robust and consistent way of slicing ranges along arbitrary is loc and iloc"
   ]
  },
  {
   "cell_type": "code",
   "execution_count": null,
   "id": "2d139cf3",
   "metadata": {},
   "outputs": [],
   "source": [
    "s"
   ]
  },
  {
   "cell_type": "code",
   "execution_count": null,
   "id": "9b5b0fcc",
   "metadata": {},
   "outputs": [],
   "source": [
    "s[:5]"
   ]
  },
  {
   "cell_type": "code",
   "execution_count": null,
   "id": "fd6bcd4a",
   "metadata": {},
   "outputs": [],
   "source": [
    "s[::2]"
   ]
  },
  {
   "cell_type": "code",
   "execution_count": null,
   "id": "e7052565",
   "metadata": {},
   "outputs": [],
   "source": [
    "s[::-1]"
   ]
  },
  {
   "cell_type": "code",
   "execution_count": null,
   "id": "427a6b67",
   "metadata": {},
   "outputs": [],
   "source": [
    "# Note that stting works as well:\n",
    "s2 = s.copy()\n",
    "s2[:5]"
   ]
  },
  {
   "cell_type": "code",
   "execution_count": null,
   "id": "413e662c",
   "metadata": {},
   "outputs": [],
   "source": [
    "s2[:5] = 0\n",
    "s2"
   ]
  },
  {
   "cell_type": "code",
   "execution_count": null,
   "id": "1870134b",
   "metadata": {},
   "outputs": [],
   "source": [
    "# With DataFrame, slicing inside of [] *slices the rows*. This is\n",
    "#provided largely as a convenice since it ushc a common operation\n",
    "df"
   ]
  },
  {
   "cell_type": "code",
   "execution_count": null,
   "id": "4530bfd1",
   "metadata": {},
   "outputs": [],
   "source": [
    "df[:3]"
   ]
  },
  {
   "cell_type": "code",
   "execution_count": null,
   "id": "5771bac4",
   "metadata": {},
   "outputs": [],
   "source": [
    "df[::-1]"
   ]
  },
  {
   "cell_type": "markdown",
   "id": "8f0ccb8a",
   "metadata": {},
   "source": [
    "#### Selections by label"
   ]
  },
  {
   "cell_type": "code",
   "execution_count": null,
   "id": "7433eeb0",
   "metadata": {},
   "outputs": [],
   "source": [
    "dfl = pd.DataFrame(np.random.randn(5,4),\n",
    "                  columns=list(\"ABCD\"),\n",
    "                  index=pd.date_range(\"20130101\", periods=5))\n",
    "dfl"
   ]
  },
  {
   "cell_type": "code",
   "execution_count": null,
   "id": "fe98579a",
   "metadata": {},
   "outputs": [],
   "source": [
    "dfl.iloc[2:3]"
   ]
  },
  {
   "cell_type": "markdown",
   "id": "44267eb0",
   "metadata": {},
   "source": [
    "### How do I filter specific rows from a DataFrame"
   ]
  },
  {
   "cell_type": "code",
   "execution_count": null,
   "id": "a1bd335e",
   "metadata": {},
   "outputs": [],
   "source": [
    "titanic.head(6)"
   ]
  },
  {
   "cell_type": "code",
   "execution_count": null,
   "id": "6c25ae29",
   "metadata": {},
   "outputs": [],
   "source": [
    "above_35 = titanic[titanic[\"Age\"] > 35]\n",
    "above_35.head()"
   ]
  },
  {
   "cell_type": "code",
   "execution_count": null,
   "id": "25f18cab",
   "metadata": {},
   "outputs": [],
   "source": [
    "titanic[\"Age\"]> 35"
   ]
  },
  {
   "cell_type": "code",
   "execution_count": null,
   "id": "c4a48685",
   "metadata": {},
   "outputs": [],
   "source": [
    "above_35.shape"
   ]
  },
  {
   "cell_type": "code",
   "execution_count": null,
   "id": "44bad876",
   "metadata": {},
   "outputs": [],
   "source": [
    "# Interested in the Titanic Passengers from cabin class 2 and 3\n",
    "class_23 = titanic[titanic[\"Pclass\"].isin([2,3])]"
   ]
  },
  {
   "cell_type": "code",
   "execution_count": null,
   "id": "9ecf1e17",
   "metadata": {},
   "outputs": [],
   "source": [
    "class_23.head()"
   ]
  },
  {
   "cell_type": "markdown",
   "id": "9ee51d77",
   "metadata": {},
   "source": [
    "##### I want to work with passenger data for which the age is known"
   ]
  },
  {
   "cell_type": "code",
   "execution_count": null,
   "id": "cc53c8ec",
   "metadata": {},
   "outputs": [],
   "source": [
    "age_no_na = titanic[titanic[\"Age\"].notna()]\n",
    "age_no_na.head()"
   ]
  },
  {
   "cell_type": "code",
   "execution_count": null,
   "id": "522e9fb3",
   "metadata": {},
   "outputs": [],
   "source": [
    "age_no_na.shape"
   ]
  },
  {
   "cell_type": "markdown",
   "id": "3e531d3c",
   "metadata": {},
   "source": [
    "## How do I select specific rows and columsn from a DataFrame\n",
    "\n",
    "    When using ;oc/iloc, the part before the comma is the rows you want,\n",
    "    and the part after the comma is the columns you want to select"
   ]
  },
  {
   "cell_type": "code",
   "execution_count": null,
   "id": "37bd597b",
   "metadata": {},
   "outputs": [],
   "source": [
    "# Interested in the names of the passengers older than 35 years\n",
    "adult_names = titanic.loc[titanic[\"Age\"]>35, \"Name\"]\n",
    "adult_names.head()\n"
   ]
  },
  {
   "cell_type": "code",
   "execution_count": null,
   "id": "9b49fd86",
   "metadata": {},
   "outputs": [],
   "source": [
    "# You are interested in rows 10 till 25 and columns 3 to 5\n",
    "titanic.iloc[9:25, 2:5]"
   ]
  },
  {
   "cell_type": "markdown",
   "id": "45b49208",
   "metadata": {},
   "source": [
    "# How to create plots in pandas\n",
    "\n",
    "U"
   ]
  },
  {
   "cell_type": "code",
   "execution_count": null,
   "id": "022679e4",
   "metadata": {},
   "outputs": [],
   "source": [
    "df = pd.read_csv(\"data/Lagos_PM2.5_2021_YTD.csv\", index_col=2, parse_dates=True)\n",
    "\n",
    "df"
   ]
  },
  {
   "cell_type": "code",
   "execution_count": null,
   "id": "da2071c2",
   "metadata": {},
   "outputs": [],
   "source": [
    "df = df[df[\"AQI\"]>0]\n",
    "air_quality_lagos = df[[\"AQI\"]]\n",
    "air_quality_lagos = air_quality_lagos.loc[\"2021-02-12 21:00:00\":]\n",
    "air_quality_lagos\n",
    "\n",
    "\n",
    "\n"
   ]
  },
  {
   "cell_type": "code",
   "execution_count": null,
   "id": "94fa0ba8",
   "metadata": {},
   "outputs": [],
   "source": [
    "df = pd.read_csv(\"data/Abuja_PM2.5_2021_YTD.csv\", index_col=2, parse_dates=True)\n",
    "df = df[df[\"AQI\"]>0]\n",
    "air_quality_abuja = df[[\"AQI\"]]\n",
    "air_quality_abuja"
   ]
  },
  {
   "cell_type": "code",
   "execution_count": null,
   "id": "c13d2a16",
   "metadata": {},
   "outputs": [],
   "source": [
    "\n",
    "air_quality_data = pd.merge(air_quality_lagos, air_quality_abuja, on=\"Date (LT)\",\n",
    "                      suffixes=('_lagos', '_abuja'))"
   ]
  },
  {
   "cell_type": "code",
   "execution_count": null,
   "id": "74cce686",
   "metadata": {},
   "outputs": [],
   "source": [
    "air_quality_data"
   ]
  },
  {
   "cell_type": "code",
   "execution_count": null,
   "id": "4b0f4f84",
   "metadata": {},
   "outputs": [],
   "source": [
    "air_quality_data.plot()"
   ]
  },
  {
   "cell_type": "code",
   "execution_count": null,
   "id": "a402f076",
   "metadata": {},
   "outputs": [],
   "source": [
    "# I want to visually compare the air quality values in Lagos vs Abuja\n",
    "air_quality_data"
   ]
  },
  {
   "cell_type": "code",
   "execution_count": null,
   "id": "f473cf24",
   "metadata": {},
   "outputs": [],
   "source": [
    "air_quality_data.plot.scatter(x=\"AQI_lagos\", y=\"AQI_abuja\", alpha=0.5)"
   ]
  },
  {
   "cell_type": "markdown",
   "id": "5ca5928c",
   "metadata": {},
   "source": [
    "#### Create a bar chart"
   ]
  },
  {
   "cell_type": "code",
   "execution_count": null,
   "id": "8373d038",
   "metadata": {},
   "outputs": [],
   "source": [
    "ax = air_quality_data.plot(kind=\"line\", figsize=(20,7))\n",
    "ax.set_ylabel(\"AQI Lagos vs.AQI Abuja\")\n",
    "ax.set_xlabel(\"Dates (LT)\")\n",
    "ax.grid()"
   ]
  },
  {
   "cell_type": "markdown",
   "id": "a8de24dc",
   "metadata": {},
   "source": [
    "### Subplot"
   ]
  },
  {
   "cell_type": "code",
   "execution_count": null,
   "id": "a70d2286",
   "metadata": {
    "scrolled": true
   },
   "outputs": [],
   "source": [
    "axs = air_quality_data.plot.area(figsize=(12, 4), subplots=True)"
   ]
  },
  {
   "cell_type": "code",
   "execution_count": null,
   "id": "814699f7",
   "metadata": {},
   "outputs": [],
   "source": [
    "# Further customize, extend and save resulting plot\n",
    "from matplotlib import pyplot as plt\n",
    "fig, axs = plt.subplots(figsize=(12, 4))        # Create an empty matplotlib Figure and Axes\n",
    "air_quality_data.plot.area(ax=axs)                   # Use pandas to put the area plot on the prepared Figure/Axes\n",
    "axs.set_ylabel(\"AQI\")          # Do any matplotlib customization you like\n",
    "fig.savefig(\"AQI_lag_vs_abj.png\") "
   ]
  },
  {
   "cell_type": "code",
   "execution_count": null,
   "id": "5f90c219",
   "metadata": {},
   "outputs": [],
   "source": []
  },
  {
   "cell_type": "code",
   "execution_count": null,
   "id": "87db61db",
   "metadata": {},
   "outputs": [],
   "source": []
  }
 ],
 "metadata": {
  "kernelspec": {
   "display_name": "Python 3",
   "language": "python",
   "name": "python3"
  },
  "language_info": {
   "codemirror_mode": {
    "name": "ipython",
    "version": 3
   },
   "file_extension": ".py",
   "mimetype": "text/x-python",
   "name": "python",
   "nbconvert_exporter": "python",
   "pygments_lexer": "ipython3",
   "version": "3.9.6"
  }
 },
 "nbformat": 4,
 "nbformat_minor": 5
}
