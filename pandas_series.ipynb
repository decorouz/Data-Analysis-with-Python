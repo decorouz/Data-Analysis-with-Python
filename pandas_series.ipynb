{
 "cells": [
  {
   "cell_type": "markdown",
   "id": "020ecd4f",
   "metadata": {},
   "source": [
    "### Test Scores\n",
    "\n",
    "Create a series of 10 elements, random integers from 70-100, representing scores on a monthly exam. Set the index to be the month names, starting in September and ending in June."
   ]
  },
  {
   "cell_type": "code",
   "execution_count": 1,
   "id": "4659c189",
   "metadata": {},
   "outputs": [],
   "source": [
    "import pandas as pd\n",
    "import numpy as np\n",
    "np.random.seed(0)\n",
    "import math"
   ]
  },
  {
   "cell_type": "code",
   "execution_count": 2,
   "id": "1f90f2d3",
   "metadata": {},
   "outputs": [],
   "source": [
    "months = \"Sep Oct Nov Dec Jan Feb Mar Apr May Jun\".split()\n"
   ]
  },
  {
   "cell_type": "code",
   "execution_count": 3,
   "id": "fc69261e",
   "metadata": {},
   "outputs": [
    {
     "data": {
      "text/plain": [
       "Sep    82\n",
       "Oct    85\n",
       "Nov    91\n",
       "Dec    70\n",
       "Jan    73\n",
       "Feb    97\n",
       "Mar    73\n",
       "Apr    77\n",
       "May    79\n",
       "Jun    89\n",
       "dtype: int64"
      ]
     },
     "execution_count": 3,
     "metadata": {},
     "output_type": "execute_result"
    }
   ],
   "source": [
    "monthly_exam_scores = pd.Series(np.random.randint(70, 100, 10), index = months)\n",
    "monthly_exam_scores"
   ]
  },
  {
   "cell_type": "code",
   "execution_count": 4,
   "id": "30e50edd",
   "metadata": {},
   "outputs": [],
   "source": [
    "# What is the student average scores\n",
    "student_avg_score = f'Student Yearly Average: {monthly_exam_scores.mean()}'"
   ]
  },
  {
   "cell_type": "code",
   "execution_count": 5,
   "id": "d3d2a0e3",
   "metadata": {},
   "outputs": [
    {
     "data": {
      "text/plain": [
       "'Student Yearly Average: 81.6'"
      ]
     },
     "execution_count": 5,
     "metadata": {},
     "output_type": "execute_result"
    }
   ],
   "source": [
    "student_avg_score"
   ]
  },
  {
   "cell_type": "code",
   "execution_count": 6,
   "id": "78df6020",
   "metadata": {},
   "outputs": [
    {
     "data": {
      "text/plain": [
       "80.2"
      ]
     },
     "execution_count": 6,
     "metadata": {},
     "output_type": "execute_result"
    }
   ],
   "source": [
    "# What is the student’s average test score during the first \n",
    "# half of the year (i.e., the first five months)?\n",
    "\n",
    "student_first_half_avg = monthly_exam_scores[\"Sep\" : \"Jan\"].mean()\n",
    "student_first_half_avg "
   ]
  },
  {
   "cell_type": "code",
   "execution_count": 7,
   "id": "ebde573e",
   "metadata": {},
   "outputs": [
    {
     "data": {
      "text/plain": [
       "83.0"
      ]
     },
     "execution_count": 7,
     "metadata": {},
     "output_type": "execute_result"
    }
   ],
   "source": [
    "# What is the student’s average test score \n",
    "# during the second half of the year?\n",
    "student_second_half_avg = monthly_exam_scores[\"Feb\" : \"Jun\"].mean()\n",
    "student_second_half_avg"
   ]
  },
  {
   "cell_type": "code",
   "execution_count": 8,
   "id": "2ed330ca",
   "metadata": {},
   "outputs": [
    {
     "data": {
      "text/plain": [
       "'Improvement: 2.799999999999997'"
      ]
     },
     "execution_count": 8,
     "metadata": {},
     "output_type": "execute_result"
    }
   ],
   "source": [
    "# Did the student improve their performance in the second half? \n",
    "# If so, then by how much?\n",
    "\n",
    "performance_improvement = student_second_half_avg - student_first_half_avg\n",
    "performance_improvement = f\"Improvement: {performance_improvement}\"\n",
    "performance_improvement"
   ]
  },
  {
   "cell_type": "markdown",
   "id": "b9374e7d",
   "metadata": {},
   "source": [
    "#### Beyond the exercise\n",
    "Retrieving both individual elements and slices from series is a critical skill when working with pandas. Here are three additional exercises to help you understand them better"
   ]
  },
  {
   "cell_type": "code",
   "execution_count": 9,
   "id": "ec51d902",
   "metadata": {},
   "outputs": [
    {
     "data": {
      "text/plain": [
       "Feb    97\n",
       "dtype: int64"
      ]
     },
     "execution_count": 9,
     "metadata": {},
     "output_type": "execute_result"
    }
   ],
   "source": [
    "#In which month did this student get their highest score? \n",
    "# Note that there are at least two ways to accomplish this: \n",
    "# You can sort the values, taking the largest one, or you \n",
    "# can use a boolean (\"mask\") index to find those rows that \n",
    "# match the value of s.max(), the highest value.\n",
    "\n",
    "# month_with_highest_score = monthly_exam_scores.max()\n",
    "\n",
    "month_with_highest_score = monthly_exam_scores[\n",
    "    monthly_exam_scores == monthly_exam_scores.max()]\n",
    "month_with_highest_score\n"
   ]
  },
  {
   "cell_type": "code",
   "execution_count": 10,
   "id": "b2d1f9a9",
   "metadata": {},
   "outputs": [
    {
     "data": {
      "text/plain": [
       "Feb    97\n",
       "Nov    91\n",
       "Jun    89\n",
       "Oct    85\n",
       "Sep    82\n",
       "dtype: int64"
      ]
     },
     "execution_count": 10,
     "metadata": {},
     "output_type": "execute_result"
    }
   ],
   "source": [
    "# What were this student’s five highest scores in the year?\n",
    "\n",
    "first_five_high_scores = monthly_exam_scores.sort_values(ascending=False).head(5)\n",
    "first_five_high_scores\n"
   ]
  },
  {
   "cell_type": "code",
   "execution_count": 11,
   "id": "ae9738d4",
   "metadata": {},
   "outputs": [
    {
     "data": {
      "text/plain": [
       "Sep    82\n",
       "Oct    85\n",
       "Nov    91\n",
       "Dec    70\n",
       "Jan    73\n",
       "Feb    97\n",
       "Mar    73\n",
       "Apr    77\n",
       "May    79\n",
       "Jun    89\n",
       "dtype: int64"
      ]
     },
     "execution_count": 11,
     "metadata": {},
     "output_type": "execute_result"
    }
   ],
   "source": [
    "monthly_exam_scores"
   ]
  },
  {
   "cell_type": "code",
   "execution_count": 12,
   "id": "3df0006c",
   "metadata": {},
   "outputs": [
    {
     "data": {
      "text/plain": [
       "Sep     80\n",
       "Oct     80\n",
       "Nov     90\n",
       "Dec     70\n",
       "Jan     70\n",
       "Feb    100\n",
       "Mar     70\n",
       "Apr     80\n",
       "May     80\n",
       "Jun     90\n",
       "dtype: int64"
      ]
     },
     "execution_count": 12,
     "metadata": {},
     "output_type": "execute_result"
    }
   ],
   "source": [
    "# Round the student’s scores to the nearest 10. \n",
    "# So a score of 82 would be rounded down to 80, \n",
    "# but a score of 87 would be rounded up to 90.\n",
    "monthly_exam_scores_copy = monthly_exam_scores.copy()\n",
    "def custom_round(x, base=10):\n",
    "    return int(base * round(float(x)/base))\n",
    "monthly_exam_scores_copy.apply(lambda x: custom_round(x))"
   ]
  },
  {
   "cell_type": "code",
   "execution_count": 13,
   "id": "60038db7",
   "metadata": {},
   "outputs": [
    {
     "data": {
      "text/plain": [
       "count    10.000000\n",
       "mean     81.600000\n",
       "std       8.834277\n",
       "min      70.000000\n",
       "25%      74.000000\n",
       "50%      80.500000\n",
       "75%      88.000000\n",
       "max      97.000000\n",
       "dtype: float64"
      ]
     },
     "execution_count": 13,
     "metadata": {},
     "output_type": "execute_result"
    }
   ],
   "source": [
    "monthly_exam_scores.describe()"
   ]
  },
  {
   "cell_type": "markdown",
   "id": "724e20a1",
   "metadata": {},
   "source": [
    "### Standard Deviation\n",
    "The measure of how much the valies in our data set vary from one another. \n",
    "In a data set with 0 standard deviation, the values all all identical to one\n",
    "another. By contrast, a data set with a very large standard deviation will\n",
    "have values that varyes greatly from th mean value."
   ]
  },
  {
   "cell_type": "markdown",
   "id": "2af7280d",
   "metadata": {},
   "source": [
    "### Exercise 2: Scaling Test scores"
   ]
  },
  {
   "cell_type": "code",
   "execution_count": 14,
   "id": "36bb5a66",
   "metadata": {},
   "outputs": [
    {
     "data": {
      "text/plain": [
       "0    10\n",
       "1    20\n",
       "2    30\n",
       "dtype: object"
      ]
     },
     "execution_count": 14,
     "metadata": {},
     "output_type": "execute_result"
    }
   ],
   "source": [
    "s = pd.Series(\"10 20 30\".split())\n",
    "s.dtype\n",
    "s"
   ]
  },
  {
   "cell_type": "code",
   "execution_count": 15,
   "id": "cee47a49",
   "metadata": {},
   "outputs": [
    {
     "data": {
      "text/plain": [
       "0    10\n",
       "1    20\n",
       "2    30\n",
       "dtype: int64"
      ]
     },
     "execution_count": 15,
     "metadata": {},
     "output_type": "execute_result"
    }
   ],
   "source": [
    "s = s.astype(np.int64)\n",
    "s"
   ]
  },
  {
   "cell_type": "code",
   "execution_count": 16,
   "id": "96e9cee1",
   "metadata": {},
   "outputs": [
    {
     "data": {
      "text/plain": [
       "0    70.0\n",
       "1    80.0\n",
       "2    90.0\n",
       "dtype: float64"
      ]
     },
     "execution_count": 16,
     "metadata": {},
     "output_type": "execute_result"
    }
   ],
   "source": [
    "s + (80 - s.mean())"
   ]
  },
  {
   "cell_type": "code",
   "execution_count": 17,
   "id": "85b0e9dd",
   "metadata": {},
   "outputs": [
    {
     "data": {
      "text/plain": [
       "0    110\n",
       "1    220\n",
       "2    330\n",
       "3    440\n",
       "dtype: int64"
      ]
     },
     "execution_count": 17,
     "metadata": {},
     "output_type": "execute_result"
    }
   ],
   "source": [
    "## Example of vectorized operations\n",
    "s1 = pd.Series([10, 20, 30, 40])\n",
    "s2 = pd.Series([100, 200, 300, 400])\n",
    "\n",
    "s1 + s2"
   ]
  },
  {
   "cell_type": "code",
   "execution_count": 18,
   "id": "bb582f94",
   "metadata": {},
   "outputs": [
    {
     "data": {
      "text/plain": [
       "a    410\n",
       "b    320\n",
       "c    230\n",
       "d    140\n",
       "dtype: int64"
      ]
     },
     "execution_count": 18,
     "metadata": {},
     "output_type": "execute_result"
    }
   ],
   "source": [
    "## Example of vectorized operations\n",
    "s1 = pd.Series([10, 20, 30, 40], index=list(\"abcd\"))\n",
    "s2 = pd.Series([100, 200, 300, 400], index=list(\"dcba\"))\n",
    "s1 + s2\n"
   ]
  },
  {
   "cell_type": "code",
   "execution_count": 19,
   "id": "5ffc9544",
   "metadata": {},
   "outputs": [
    {
     "data": {
      "text/plain": [
       "a    13\n",
       "b    23\n",
       "c    33\n",
       "d    43\n",
       "dtype: int64"
      ]
     },
     "execution_count": 19,
     "metadata": {},
     "output_type": "execute_result"
    }
   ],
   "source": [
    "# When you try to add a series to a scalar value. \n",
    "# Pandas does something call Broadcasting\n",
    "\n",
    "s = pd.Series([10, 20, 30, 40], index=list(\"abcd\"))\n",
    "\n",
    "s + 3"
   ]
  },
  {
   "cell_type": "code",
   "execution_count": 20,
   "id": "8bc91405",
   "metadata": {},
   "outputs": [
    {
     "data": {
      "text/plain": [
       "Sep    52\n",
       "Oct    55\n",
       "Nov    40\n",
       "Dec    43\n",
       "Jan    43\n",
       "Feb    47\n",
       "Mar    49\n",
       "Apr    59\n",
       "May    58\n",
       "Jun    44\n",
       "dtype: int64"
      ]
     },
     "execution_count": 20,
     "metadata": {},
     "output_type": "execute_result"
    }
   ],
   "source": [
    "# Generate a test a score between 40 and 60\n",
    "np.random.seed(0)\n",
    "\n",
    "months = \"Sep Oct Nov Dec Jan Feb Mar Apr May Jun\".split()\n",
    "s = pd.Series(np.random.randint(40, 60, 10), \n",
    "             index =months)\n",
    "s"
   ]
  },
  {
   "cell_type": "code",
   "execution_count": 21,
   "id": "1d6cba3f",
   "metadata": {},
   "outputs": [
    {
     "data": {
      "text/plain": [
       "Sep    62\n",
       "Oct    65\n",
       "Nov    50\n",
       "Dec    53\n",
       "Jan    53\n",
       "Feb    57\n",
       "Mar    59\n",
       "Apr    69\n",
       "May    68\n",
       "Jun    54\n",
       "dtype: int64"
      ]
     },
     "execution_count": 21,
     "metadata": {},
     "output_type": "execute_result"
    }
   ],
   "source": [
    "# Then add 10 points to them \n",
    "s + 10"
   ]
  },
  {
   "cell_type": "code",
   "execution_count": 22,
   "id": "6da14933",
   "metadata": {},
   "outputs": [
    {
     "data": {
      "text/plain": [
       "Sep    83.0\n",
       "Oct    86.0\n",
       "Nov    71.0\n",
       "Dec    74.0\n",
       "Jan    74.0\n",
       "Feb    78.0\n",
       "Mar    80.0\n",
       "Apr    90.0\n",
       "May    89.0\n",
       "Jun    75.0\n",
       "dtype: float64"
      ]
     },
     "execution_count": 22,
     "metadata": {},
     "output_type": "execute_result"
    }
   ],
   "source": [
    "s + (80 - s.mean())"
   ]
  },
  {
   "cell_type": "markdown",
   "id": "48683377",
   "metadata": {},
   "source": [
    "#### Note\n",
    "Whenever we perfom an operation on an int and a float, wr get back a float,\n",
    "even if there's no need for it, as with addition."
   ]
  },
  {
   "cell_type": "markdown",
   "id": "47be39d8",
   "metadata": {},
   "source": [
    "#### Beyond the Exercice:\n",
    "Implementing the other way to scale test scores, by looking at both the \n",
    "mean of the scores and their standard deviation."
   ]
  },
  {
   "cell_type": "code",
   "execution_count": 23,
   "id": "a2c10283",
   "metadata": {},
   "outputs": [
    {
     "data": {
      "text/plain": [
       "Sep    52\n",
       "Oct    55\n",
       "Nov    40\n",
       "Dec    43\n",
       "Jan    43\n",
       "Feb    47\n",
       "Mar    49\n",
       "Apr    59\n",
       "May    58\n",
       "Jun    44\n",
       "dtype: int64"
      ]
     },
     "execution_count": 23,
     "metadata": {},
     "output_type": "execute_result"
    }
   ],
   "source": [
    "s"
   ]
  },
  {
   "cell_type": "code",
   "execution_count": 24,
   "id": "1c9ab601",
   "metadata": {},
   "outputs": [
    {
     "data": {
      "text/plain": [
       "55.733003292241385"
      ]
     },
     "execution_count": 24,
     "metadata": {},
     "output_type": "execute_result"
    }
   ],
   "source": [
    "s_mean = s.mean()\n",
    "s_std = s.std()\n",
    "s_mean + s_std"
   ]
  },
  {
   "cell_type": "code",
   "execution_count": 25,
   "id": "cf5673a9",
   "metadata": {},
   "outputs": [
    {
     "data": {
      "text/plain": [
       "6.733003292241386"
      ]
     },
     "execution_count": 25,
     "metadata": {},
     "output_type": "execute_result"
    }
   ],
   "source": [
    "s_std = s_std\n",
    "s_std"
   ]
  },
  {
   "cell_type": "code",
   "execution_count": 26,
   "id": "4e8f435d",
   "metadata": {},
   "outputs": [
    {
     "data": {
      "text/plain": [
       "49.0"
      ]
     },
     "execution_count": 26,
     "metadata": {},
     "output_type": "execute_result"
    }
   ],
   "source": [
    "s_mean"
   ]
  },
  {
   "cell_type": "code",
   "execution_count": 27,
   "id": "248d0d04",
   "metadata": {},
   "outputs": [
    {
     "data": {
      "text/plain": [
       "Apr    59\n",
       "May    58\n",
       "dtype: int64"
      ]
     },
     "execution_count": 27,
     "metadata": {},
     "output_type": "execute_result"
    }
   ],
   "source": [
    "# A students gets a score more than mean + std\n",
    "s[s > (s_mean + s_std)]"
   ]
  },
  {
   "cell_type": "code",
   "execution_count": 28,
   "id": "c8f070e5",
   "metadata": {},
   "outputs": [
    {
     "data": {
      "text/plain": [
       "Sep    52\n",
       "Oct    55\n",
       "dtype: int64"
      ]
     },
     "execution_count": 28,
     "metadata": {},
     "output_type": "execute_result"
    }
   ],
   "source": [
    "#  B student gets above mean but less than mean + std\n",
    "s[(s < s_mean + s_std) & (s > s_mean)]"
   ]
  },
  {
   "cell_type": "code",
   "execution_count": 29,
   "id": "3bddf84d",
   "metadata": {},
   "outputs": [
    {
     "data": {
      "text/plain": [
       "Dec    43\n",
       "Jan    43\n",
       "Feb    47\n",
       "Jun    44\n",
       "dtype: int64"
      ]
     },
     "execution_count": 29,
     "metadata": {},
     "output_type": "execute_result"
    }
   ],
   "source": [
    "# C Student gets below mean and great than mean - std\n",
    "s[(s > s_mean - s_std) & (s < s_mean)]"
   ]
  },
  {
   "cell_type": "code",
   "execution_count": 30,
   "id": "8d2263d4",
   "metadata": {},
   "outputs": [
    {
     "data": {
      "text/plain": [
       "Nov    40\n",
       "dtype: int64"
      ]
     },
     "execution_count": 30,
     "metadata": {},
     "output_type": "execute_result"
    }
   ],
   "source": [
    "# D students gets mean - std\n",
    "s[s < s_mean - s_std]"
   ]
  },
  {
   "cell_type": "markdown",
   "id": "541582af",
   "metadata": {},
   "source": [
    "### Beyond 2\n",
    "Were there any test scores more than 2 standard deviation above or below the mean"
   ]
  },
  {
   "cell_type": "code",
   "execution_count": 31,
   "id": "97762a8f",
   "metadata": {},
   "outputs": [
    {
     "data": {
      "text/plain": [
       "Series([], dtype: int64)"
      ]
     },
     "execution_count": 31,
     "metadata": {},
     "output_type": "execute_result"
    }
   ],
   "source": [
    "s[(s < s_mean - 2*s_std) | (s > s_mean + 2*s_std)]"
   ]
  },
  {
   "cell_type": "markdown",
   "id": "b93555cd",
   "metadata": {},
   "source": [
    "### Beyond 3:\n",
    "How close are the mean and median to one another. \n",
    "What does it mean if they are close"
   ]
  },
  {
   "cell_type": "code",
   "execution_count": 32,
   "id": "406f2635",
   "metadata": {},
   "outputs": [
    {
     "data": {
      "text/plain": [
       "49.0"
      ]
     },
     "execution_count": 32,
     "metadata": {},
     "output_type": "execute_result"
    }
   ],
   "source": [
    "s_mean = s.mean()\n",
    "s_mean "
   ]
  },
  {
   "cell_type": "code",
   "execution_count": 33,
   "id": "62b83ce3",
   "metadata": {},
   "outputs": [
    {
     "data": {
      "text/plain": [
       "48.0"
      ]
     },
     "execution_count": 33,
     "metadata": {},
     "output_type": "execute_result"
    }
   ],
   "source": [
    "s_median = s.median()\n",
    "s_median"
   ]
  },
  {
   "cell_type": "markdown",
   "id": "609f3500",
   "metadata": {},
   "source": [
    "The mean and median are basically the same, which means that we don't have any large outliers skewing the mean's value. If the mean were much higher than the median, then we would assume we have at least one very high test score. And if the mean were much lower than the median, we could assume we have at least one very low test score."
   ]
  },
  {
   "cell_type": "markdown",
   "id": "133a94dc",
   "metadata": {},
   "source": [
    "## Exercise 3 Counting 10s digits\n",
    "This exercice we want to generate 10 random intereges in the range 0 - 100"
   ]
  },
  {
   "cell_type": "code",
   "execution_count": 34,
   "id": "1b26ad9e",
   "metadata": {},
   "outputs": [
    {
     "data": {
      "text/plain": [
       "0    44\n",
       "1    47\n",
       "2    64\n",
       "3    67\n",
       "4    67\n",
       "5     9\n",
       "6    83\n",
       "7    21\n",
       "8    36\n",
       "9    87\n",
       "dtype: int64"
      ]
     },
     "execution_count": 34,
     "metadata": {},
     "output_type": "execute_result"
    }
   ],
   "source": [
    "np.random.seed(0)\n",
    "s = pd.Series(np.random.randint(0, 100, 10))\n",
    "s"
   ]
  },
  {
   "cell_type": "code",
   "execution_count": 35,
   "id": "05550d66",
   "metadata": {},
   "outputs": [
    {
     "data": {
      "text/plain": [
       "0    4\n",
       "1    4\n",
       "2    6\n",
       "3    6\n",
       "4    6\n",
       "5    0\n",
       "6    8\n",
       "7    2\n",
       "8    3\n",
       "9    8\n",
       "dtype: int8"
      ]
     },
     "execution_count": 35,
     "metadata": {},
     "output_type": "execute_result"
    }
   ],
   "source": [
    "# Solution 1\n",
    "(s/10).astype(np.int8)"
   ]
  },
  {
   "cell_type": "code",
   "execution_count": 36,
   "id": "210a00f6",
   "metadata": {},
   "outputs": [
    {
     "data": {
      "text/plain": [
       "0    4\n",
       "1    4\n",
       "2    6\n",
       "3    6\n",
       "4    6\n",
       "5    0\n",
       "6    8\n",
       "7    2\n",
       "8    3\n",
       "9    8\n",
       "dtype: object"
      ]
     },
     "execution_count": 36,
     "metadata": {},
     "output_type": "execute_result"
    }
   ],
   "source": [
    "# solution 2 partial\n",
    "s.astype(str).str.get(-2).fillna(\"0\")"
   ]
  },
  {
   "cell_type": "code",
   "execution_count": 37,
   "id": "2e4c3f18",
   "metadata": {},
   "outputs": [
    {
     "data": {
      "text/plain": [
       "0    4\n",
       "1    4\n",
       "2    6\n",
       "3    6\n",
       "4    6\n",
       "5    0\n",
       "6    8\n",
       "7    2\n",
       "8    3\n",
       "9    8\n",
       "dtype: int8"
      ]
     },
     "execution_count": 37,
     "metadata": {},
     "output_type": "execute_result"
    }
   ],
   "source": [
    "# Solution 2 Complete\n",
    "s.astype(str).str.get(-2).fillna(\"0\").astype(np.int8)"
   ]
  },
  {
   "cell_type": "markdown",
   "id": "85d4a123",
   "metadata": {},
   "source": [
    "## Beyond the exercise\n"
   ]
  },
  {
   "cell_type": "code",
   "execution_count": 38,
   "id": "d048e95c",
   "metadata": {},
   "outputs": [
    {
     "data": {
      "text/plain": [
       "0    2732\n",
       "1    9845\n",
       "2    3264\n",
       "3    4859\n",
       "4    9225\n",
       "5    7891\n",
       "6    4373\n",
       "7    5874\n",
       "8    6744\n",
       "9    3468\n",
       "dtype: int64"
      ]
     },
     "execution_count": 38,
     "metadata": {},
     "output_type": "execute_result"
    }
   ],
   "source": [
    "np.random.seed(0)\n",
    "s = pd.Series(np.random.randint(0, 10000, 10))\n",
    "s"
   ]
  },
  {
   "cell_type": "markdown",
   "id": "e2b6051f",
   "metadata": {},
   "source": [
    "### Beyond 1\n",
    "What if the range were from 0 - 1000?\n",
    "How would that change your strategy, if at all?"
   ]
  },
  {
   "cell_type": "code",
   "execution_count": 39,
   "id": "ae37bdfa",
   "metadata": {},
   "outputs": [
    {
     "data": {
      "text/plain": [
       "0    3\n",
       "1    4\n",
       "2    6\n",
       "3    5\n",
       "4    2\n",
       "5    9\n",
       "6    7\n",
       "7    7\n",
       "8    4\n",
       "9    6\n",
       "dtype: int8"
      ]
     },
     "execution_count": 39,
     "metadata": {},
     "output_type": "execute_result"
    }
   ],
   "source": [
    "# Our string method will work just fine here. We can drop the call to\n",
    "# fillna if we are sure none of the value would be <10.\n",
    "s.astype(str).str.get(-2).fillna(\"0\").astype(np.int8)"
   ]
  },
  {
   "cell_type": "markdown",
   "id": "cb5015b0",
   "metadata": {},
   "source": [
    "## Beyond 2\n",
    "What is the smallest dtype we should use for our integer"
   ]
  },
  {
   "cell_type": "code",
   "execution_count": 40,
   "id": "9ef6192f",
   "metadata": {},
   "outputs": [
    {
     "data": {
      "text/plain": [
       "(2732, 9845)"
      ]
     },
     "execution_count": 40,
     "metadata": {},
     "output_type": "execute_result"
    }
   ],
   "source": [
    "# Lets find the minimum and max value of our series\n",
    "(s.min(), s.max())"
   ]
  },
  {
   "cell_type": "code",
   "execution_count": 41,
   "id": "e117fccb",
   "metadata": {},
   "outputs": [
    {
     "data": {
      "text/plain": [
       "0    2732\n",
       "1    9845\n",
       "2    3264\n",
       "3    4859\n",
       "4    9225\n",
       "5    7891\n",
       "6    4373\n",
       "7    5874\n",
       "8    6744\n",
       "9    3468\n",
       "dtype: int64"
      ]
     },
     "execution_count": 41,
     "metadata": {},
     "output_type": "execute_result"
    }
   ],
   "source": [
    "s"
   ]
  },
  {
   "cell_type": "code",
   "execution_count": 42,
   "id": "47678b7c",
   "metadata": {},
   "outputs": [
    {
     "data": {
      "text/plain": [
       "0    -84\n",
       "1    117\n",
       "2    -64\n",
       "3     -5\n",
       "4      9\n",
       "5    -45\n",
       "6     21\n",
       "7    -14\n",
       "8     88\n",
       "9   -116\n",
       "dtype: int8"
      ]
     },
     "execution_count": 42,
     "metadata": {},
     "output_type": "execute_result"
    }
   ],
   "source": [
    "# What happens if we use int8\n",
    "s.astype(np.int8)"
   ]
  },
  {
   "cell_type": "code",
   "execution_count": 43,
   "id": "134e77a5",
   "metadata": {},
   "outputs": [
    {
     "data": {
      "text/plain": [
       "0    172\n",
       "1    117\n",
       "2    192\n",
       "3    251\n",
       "4      9\n",
       "5    211\n",
       "6     21\n",
       "7    242\n",
       "8     88\n",
       "9    140\n",
       "dtype: uint8"
      ]
     },
     "execution_count": 43,
     "metadata": {},
     "output_type": "execute_result"
    }
   ],
   "source": [
    "# what happens when we use unit8\n",
    "s.astype(np.uint8)"
   ]
  },
  {
   "cell_type": "code",
   "execution_count": 44,
   "id": "9718abb0",
   "metadata": {},
   "outputs": [
    {
     "data": {
      "text/plain": [
       "0    2732\n",
       "1    9845\n",
       "2    3264\n",
       "3    4859\n",
       "4    9225\n",
       "5    7891\n",
       "6    4373\n",
       "7    5874\n",
       "8    6744\n",
       "9    3468\n",
       "dtype: uint16"
      ]
     },
     "execution_count": 44,
     "metadata": {},
     "output_type": "execute_result"
    }
   ],
   "source": [
    "# What happens when we use uint 16\n",
    "s.astype(np.uint16)"
   ]
  },
  {
   "cell_type": "code",
   "execution_count": 45,
   "id": "51601071",
   "metadata": {},
   "outputs": [
    {
     "data": {
      "text/plain": [
       "0    2732\n",
       "1    9845\n",
       "2    3264\n",
       "3    4859\n",
       "4    9225\n",
       "5    7891\n",
       "6    4373\n",
       "7    5874\n",
       "8    6744\n",
       "9    3468\n",
       "dtype: int16"
      ]
     },
     "execution_count": 45,
     "metadata": {},
     "output_type": "execute_result"
    }
   ],
   "source": [
    "# Checking what happens when we use int16\n",
    "s.astype(np.int16)"
   ]
  },
  {
   "cell_type": "markdown",
   "id": "eb54f524",
   "metadata": {},
   "source": [
    "Given a range from 0 - 10000, the smallest dtype we would use to avoid any problams is uint16 and int16"
   ]
  },
  {
   "cell_type": "markdown",
   "id": "12d94cd0",
   "metadata": {},
   "source": [
    "## Beyond 3\n",
    "Create a new series, with 10 floating-point values between 0 and 1,000. Find the numbers whose integer component (i.e., ignoring any fractional part) are even."
   ]
  },
  {
   "cell_type": "code",
   "execution_count": 46,
   "id": "83b74317",
   "metadata": {},
   "outputs": [
    {
     "data": {
      "text/plain": [
       "0    383.441519\n",
       "1    791.725038\n",
       "2    528.894920\n",
       "3    568.044561\n",
       "4    925.596638\n",
       "5     71.036058\n",
       "6     87.129300\n",
       "7     20.218397\n",
       "8    832.619846\n",
       "9    778.156751\n",
       "dtype: float64"
      ]
     },
     "execution_count": 46,
     "metadata": {},
     "output_type": "execute_result"
    }
   ],
   "source": [
    "\n",
    "s = pd.Series(np.random.rand(10) * 1000)\n",
    "s"
   ]
  },
  {
   "cell_type": "code",
   "execution_count": 47,
   "id": "d141f6b8",
   "metadata": {},
   "outputs": [
    {
     "data": {
      "text/plain": [
       "2    528.894920\n",
       "3    568.044561\n",
       "7     20.218397\n",
       "8    832.619846\n",
       "9    778.156751\n",
       "dtype: float64"
      ]
     },
     "execution_count": 47,
     "metadata": {},
     "output_type": "execute_result"
    }
   ],
   "source": [
    "# Get the modulus (dividing by 2) of the int version of the numbers\n",
    "# Check which results are 0, and use that as a mask index on \n",
    "\n",
    "s[s.astype(np.int16) % 2 == 0]"
   ]
  },
  {
   "cell_type": "markdown",
   "id": "b39b6325",
   "metadata": {},
   "source": [
    "# SELECTING VALUES WITH BOOLEANS\n",
    "In Python and other traditional programming languages, we can select elements from a sequence using a combination of for loops and if statements. While you could do that in pandas, you almost certainly don’t want to. Instead, you want to select items using a combination of techniques known as a \"boolean index\" or a \"mask index.\"\n",
    "\n",
    "Mask indexes are useful and powerful, but their syntax can take some getting used to.\n",
    "\n",
    "First, consider that you can retrieve any element of a series via square brackets and an index:"
   ]
  },
  {
   "cell_type": "code",
   "execution_count": 48,
   "id": "8a1bb68d",
   "metadata": {},
   "outputs": [
    {
     "data": {
      "text/plain": [
       "40"
      ]
     },
     "execution_count": 48,
     "metadata": {},
     "output_type": "execute_result"
    }
   ],
   "source": [
    "s = pd.Series([10, 20, 30, 40, 50])\n",
    "s[3]"
   ]
  },
  {
   "cell_type": "code",
   "execution_count": 49,
   "id": "737faa31",
   "metadata": {},
   "outputs": [
    {
     "data": {
      "text/plain": [
       "0    10\n",
       "1    20\n",
       "4    50\n",
       "dtype: int64"
      ]
     },
     "execution_count": 49,
     "metadata": {},
     "output_type": "execute_result"
    }
   ],
   "source": [
    "# Instead of passing a single intger, we can pass a list \n",
    "# (or numpy array or series) of boolean values\n",
    "\n",
    "s = pd.Series([10, 20, 30, 40, 50])\n",
    "s[[True, True, False, False, True]]"
   ]
  },
  {
   "cell_type": "code",
   "execution_count": 50,
   "id": "1af9db1d",
   "metadata": {},
   "outputs": [
    {
     "data": {
      "text/plain": [
       "0    10\n",
       "1    20\n",
       "dtype: int64"
      ]
     },
     "execution_count": 50,
     "metadata": {},
     "output_type": "execute_result"
    }
   ],
   "source": [
    "# Using a comparison operator (e.g., ==)\n",
    "s[s<30]"
   ]
  },
  {
   "cell_type": "code",
   "execution_count": 51,
   "id": "bb8e97e9",
   "metadata": {},
   "outputs": [
    {
     "data": {
      "text/plain": [
       "0    10\n",
       "1    20\n",
       "2    30\n",
       "dtype: int64"
      ]
     },
     "execution_count": 51,
     "metadata": {},
     "output_type": "execute_result"
    }
   ],
   "source": [
    "# Getting more sophisticated\n",
    "s[s <= s.mean()]"
   ]
  },
  {
   "cell_type": "code",
   "execution_count": 52,
   "id": "e5bcbc95",
   "metadata": {},
   "outputs": [
    {
     "data": {
      "text/plain": [
       "30.0"
      ]
     },
     "execution_count": 52,
     "metadata": {},
     "output_type": "execute_result"
    }
   ],
   "source": [
    "s.mean()"
   ]
  },
  {
   "cell_type": "code",
   "execution_count": 53,
   "id": "7293996f",
   "metadata": {},
   "outputs": [
    {
     "data": {
      "text/plain": [
       "0    999\n",
       "1    999\n",
       "2    999\n",
       "3     40\n",
       "4     50\n",
       "dtype: int64"
      ]
     },
     "execution_count": 53,
     "metadata": {},
     "output_type": "execute_result"
    }
   ],
   "source": [
    "# We can ue mask for assignment\n",
    "s[s <= s.mean()] = 999\n",
    "s"
   ]
  },
  {
   "cell_type": "markdown",
   "id": "881b2028",
   "metadata": {},
   "source": [
    "The techniqpe above is worht learning and internalizing, \n",
    "because it is both powerful and efficient"
   ]
  },
  {
   "cell_type": "markdown",
   "id": "af4d79b4",
   "metadata": {},
   "source": [
    "# 1.5 Exercice 4: Descriptive Statistics\n",
    "The mean, median, and standard deviation are three numbers we can use to get a better picture of our data. But there are some other numbers that we can use to fully understand it. These are collectively known as \"descriptive statistics.\"\n",
    "\n"
   ]
  },
  {
   "cell_type": "code",
   "execution_count": 54,
   "id": "e9dde0d0",
   "metadata": {},
   "outputs": [],
   "source": [
    "# Generate a series of 100,000 floats in a normal distribution\n",
    "# with mean at 0\n",
    "# Standard deviation of 100\n",
    "np.random.seed(0)\n",
    "\n",
    "s = pd.Series(np.random.normal(0, 100, 100_000))\n",
    "s1 = s.copy()"
   ]
  },
  {
   "cell_type": "code",
   "execution_count": 55,
   "id": "fd4a008a",
   "metadata": {},
   "outputs": [
    {
     "data": {
      "text/plain": [
       "count    100000.000000\n",
       "mean          0.157670\n",
       "std          99.734467\n",
       "min        -485.211765\n",
       "25%         -66.864170\n",
       "50%           0.172022\n",
       "75%          67.343870\n",
       "max         424.177191\n",
       "dtype: float64"
      ]
     },
     "execution_count": 55,
     "metadata": {},
     "output_type": "execute_result"
    }
   ],
   "source": [
    "# Get the descriptive statistics for this series\n",
    "s.describe()"
   ]
  },
  {
   "cell_type": "code",
   "execution_count": 56,
   "id": "f015d539",
   "metadata": {},
   "outputs": [],
   "source": [
    "# Replace the minimum value with 5 times the maximum value\n",
    "\n",
    "s[s == s.min()] = 5*s.max()"
   ]
  },
  {
   "cell_type": "code",
   "execution_count": 57,
   "id": "b1a29310",
   "metadata": {},
   "outputs": [
    {
     "data": {
      "text/plain": [
       "count    100000.000000\n",
       "mean          0.183731\n",
       "std          99.947900\n",
       "min        -465.995297\n",
       "25%         -66.862839\n",
       "50%           0.174214\n",
       "75%          67.345174\n",
       "max        2120.885956\n",
       "dtype: float64"
      ]
     },
     "execution_count": 57,
     "metadata": {},
     "output_type": "execute_result"
    }
   ],
   "source": [
    "s.describe()"
   ]
  },
  {
   "cell_type": "code",
   "execution_count": 58,
   "id": "ce61221a",
   "metadata": {},
   "outputs": [
    {
     "data": {
      "text/plain": [
       "0.17421399102941376"
      ]
     },
     "execution_count": 58,
     "metadata": {},
     "output_type": "execute_result"
    }
   ],
   "source": [
    "s.median()"
   ]
  },
  {
   "cell_type": "markdown",
   "id": "8d066c5d",
   "metadata": {},
   "source": [
    "## 1.5.3 Beyond the Exercise"
   ]
  },
  {
   "cell_type": "markdown",
   "id": "200064a4",
   "metadata": {},
   "source": [
    "## Beyond 1\n",
    "Demonstrate that 68%, 95%, and 99.7% of the values in s are indeed within 1, 2, and 3 standard distributions of the mean."
   ]
  },
  {
   "cell_type": "code",
   "execution_count": 59,
   "id": "197b4df6",
   "metadata": {},
   "outputs": [
    {
     "data": {
      "text/plain": [
       "count    100000.000000\n",
       "mean          0.157670\n",
       "std          99.734467\n",
       "min        -485.211765\n",
       "25%         -66.864170\n",
       "50%           0.172022\n",
       "75%          67.343870\n",
       "max         424.177191\n",
       "dtype: float64"
      ]
     },
     "execution_count": 59,
     "metadata": {},
     "output_type": "execute_result"
    }
   ],
   "source": [
    "s1.describe()"
   ]
  },
  {
   "cell_type": "code",
   "execution_count": 60,
   "id": "758c79ee",
   "metadata": {},
   "outputs": [
    {
     "data": {
      "text/plain": [
       "0.68567"
      ]
     },
     "execution_count": 60,
     "metadata": {},
     "output_type": "execute_result"
    }
   ],
   "source": [
    "# with 1 standard distribution\n",
    "\n",
    "s[(s > s.mean() - s.std()) &\n",
    " (s < s.mean() + s.std())].count()/100_000"
   ]
  },
  {
   "cell_type": "code",
   "execution_count": 61,
   "id": "95cc5483",
   "metadata": {},
   "outputs": [
    {
     "data": {
      "text/plain": [
       "0.95432"
      ]
     },
     "execution_count": 61,
     "metadata": {},
     "output_type": "execute_result"
    }
   ],
   "source": [
    "# within 2 standard distribution\n",
    "s[(s > s.mean() - 2*s.std()) &\n",
    " (s < s.mean() + 2*s.std())].count()/100_000"
   ]
  },
  {
   "cell_type": "code",
   "execution_count": 62,
   "id": "3be0714b",
   "metadata": {},
   "outputs": [
    {
     "data": {
      "text/plain": [
       "0.99717"
      ]
     },
     "execution_count": 62,
     "metadata": {},
     "output_type": "execute_result"
    }
   ],
   "source": [
    "# within 4 standard distribution\n",
    "s[(s > s.mean() - 3*s.std()) &\n",
    " (s < s.mean() + 3*s.std())].count()/100_000"
   ]
  },
  {
   "cell_type": "markdown",
   "id": "5c3cbbcd",
   "metadata": {},
   "source": [
    "### # Beyond 2\n",
    "Calculate the mean of numbers greater than s.mean(). Then calculate the mean of numbers less than s.mean(). Is the average of these two numbers the same as s.mean()?"
   ]
  },
  {
   "cell_type": "code",
   "execution_count": 63,
   "id": "e755e686",
   "metadata": {},
   "outputs": [
    {
     "data": {
      "text/plain": [
       "0.15290179343802635"
      ]
     },
     "execution_count": 63,
     "metadata": {},
     "output_type": "execute_result"
    }
   ],
   "source": [
    "(s1[s1 < s1.mean()].mean() + s1[s1 > s1.mean()].mean() ) / 2"
   ]
  },
  {
   "cell_type": "code",
   "execution_count": 64,
   "id": "4a8073c5",
   "metadata": {},
   "outputs": [
    {
     "data": {
      "text/plain": [
       "count    100000.000000\n",
       "mean          0.157670\n",
       "std          99.734467\n",
       "min        -485.211765\n",
       "25%         -66.864170\n",
       "50%           0.172022\n",
       "75%          67.343870\n",
       "max         424.177191\n",
       "dtype: float64"
      ]
     },
     "execution_count": 64,
     "metadata": {},
     "output_type": "execute_result"
    }
   ],
   "source": [
    "s1.describe()"
   ]
  },
  {
   "cell_type": "markdown",
   "id": "6bc75f80",
   "metadata": {},
   "source": [
    "## Beyond 3\n",
    "What is th mean of the numbers beyond 3 standard deviations"
   ]
  },
  {
   "cell_type": "code",
   "execution_count": 65,
   "id": "a2ce396b",
   "metadata": {},
   "outputs": [
    {
     "data": {
      "text/plain": [
       "-2.3577910861855775"
      ]
     },
     "execution_count": 65,
     "metadata": {},
     "output_type": "execute_result"
    }
   ],
   "source": [
    "s1[(s1 < s1.mean() - 3*s1.std()) |\n",
    " (s1 > s1.mean() + 3*s1.std())].mean()"
   ]
  },
  {
   "cell_type": "markdown",
   "id": "f2923812",
   "metadata": {},
   "source": [
    "# 1.6 Exercise 5: Monday Temperatures\n",
    "\n",
    "It’s common to assume that the index in a pandas series is unique. After all, the index in a Python string, list, or tuple is unique, as are the keys in a Python dictionary. But it turns out that a series index can contain repeated values. This turns out to be quite useful in many ways.\n",
    "\n",
    "In this exercise, I want you to create a series of 28 temperature readings in Celsius, representing four seven-day weeks, randomly selected from a normal distribution with a mean of 20 and a standard deviation of 5, rounded to the nearest integer. (If you’re in a country that measures temperature in Fahrenheit, then just pretend you’re looking at the weather in exotic foreign location, rather than where you live.) The index should start with Sun, continue through Sat, and then repeat Sun through Sat until each temperature has a value.\n",
    "\n",
    "The question is: What was the mean temperature on Mondays during this period?"
   ]
  },
  {
   "cell_type": "code",
   "execution_count": 66,
   "id": "1341a817",
   "metadata": {},
   "outputs": [
    {
     "data": {
      "text/plain": [
       "array([28.82026173, 22.00078604, 24.89368992, 31.204466  , 29.33778995,\n",
       "       15.1136106 , 24.75044209, 19.24321396, 19.48390574, 22.05299251,\n",
       "       20.72021786, 27.27136753, 23.80518863, 20.60837508, 22.21931616,\n",
       "       21.66837164, 27.47039537, 18.97420868, 21.56533851, 15.7295213 ,\n",
       "        7.23505092, 23.26809298, 24.32218099, 16.2891749 , 31.34877312,\n",
       "       12.72817163, 20.22879259, 19.06408075])"
      ]
     },
     "execution_count": 66,
     "metadata": {},
     "output_type": "execute_result"
    }
   ],
   "source": [
    "np.random.seed(0)\n",
    "np.random.normal(20, 5, 28)"
   ]
  },
  {
   "cell_type": "code",
   "execution_count": 67,
   "id": "b2aaee20",
   "metadata": {},
   "outputs": [
    {
     "data": {
      "text/plain": [
       "['Sun', 'Mon', 'Tue', 'Wed', 'Thu', 'Fri', 'Sat']"
      ]
     },
     "execution_count": 67,
     "metadata": {},
     "output_type": "execute_result"
    }
   ],
   "source": [
    "# create seven element list of strings, with the days of the week:\n",
    "\n",
    "days = \"Sun Mon Tue Wed Thu Fri Sat\".split()\n",
    "days"
   ]
  },
  {
   "cell_type": "code",
   "execution_count": 68,
   "id": "f4d04084",
   "metadata": {},
   "outputs": [],
   "source": [
    "np.random.seed(0)\n",
    "s = pd.Series(np.random.normal(20, 5, 28),\n",
    "             index=days*4).round().astype(np.int8)"
   ]
  },
  {
   "cell_type": "code",
   "execution_count": 69,
   "id": "4f61d7f8",
   "metadata": {},
   "outputs": [
    {
     "data": {
      "text/plain": [
       "Sun    29\n",
       "Mon    22\n",
       "Tue    25\n",
       "Wed    31\n",
       "Thu    29\n",
       "Fri    15\n",
       "Sat    25\n",
       "Sun    19\n",
       "Mon    19\n",
       "Tue    22\n",
       "Wed    21\n",
       "Thu    27\n",
       "Fri    24\n",
       "Sat    21\n",
       "Sun    22\n",
       "Mon    22\n",
       "Tue    27\n",
       "Wed    19\n",
       "Thu    22\n",
       "Fri    16\n",
       "Sat     7\n",
       "Sun    23\n",
       "Mon    24\n",
       "Tue    16\n",
       "Wed    31\n",
       "Thu    13\n",
       "Fri    20\n",
       "Sat    19\n",
       "dtype: int8"
      ]
     },
     "execution_count": 69,
     "metadata": {},
     "output_type": "execute_result"
    }
   ],
   "source": [
    "s"
   ]
  },
  {
   "cell_type": "code",
   "execution_count": 70,
   "id": "5777d7bc",
   "metadata": {},
   "outputs": [
    {
     "data": {
      "text/plain": [
       "21.75"
      ]
     },
     "execution_count": 70,
     "metadata": {},
     "output_type": "execute_result"
    }
   ],
   "source": [
    "s.loc[\"Mon\"].mean()"
   ]
  },
  {
   "cell_type": "markdown",
   "id": "169e257c",
   "metadata": {},
   "source": [
    "### 1.6.3 Beyond the exercise "
   ]
  },
  {
   "cell_type": "markdown",
   "id": "9d1dde18",
   "metadata": {},
   "source": [
    "#### Beyond 1\n",
    "What was the average temperature on the weekends (i.e., Saturdays and Sundays)"
   ]
  },
  {
   "cell_type": "code",
   "execution_count": 71,
   "id": "549ac5b9",
   "metadata": {},
   "outputs": [
    {
     "data": {
      "text/plain": [
       "Sat    25\n",
       "Sat    21\n",
       "Sat     7\n",
       "Sat    19\n",
       "Sun    29\n",
       "Sun    19\n",
       "Sun    22\n",
       "Sun    23\n",
       "dtype: int8"
      ]
     },
     "execution_count": 71,
     "metadata": {},
     "output_type": "execute_result"
    }
   ],
   "source": [
    "# Temperature on Sat and Sun\n",
    "s.loc[[\"Sat\", \"Sun\"]]"
   ]
  },
  {
   "cell_type": "code",
   "execution_count": 72,
   "id": "b6e12e52",
   "metadata": {},
   "outputs": [
    {
     "data": {
      "text/plain": [
       "20.625"
      ]
     },
     "execution_count": 72,
     "metadata": {},
     "output_type": "execute_result"
    }
   ],
   "source": [
    "# Average of temperature on weekends\n",
    "s.loc[[\"Sat\", \"Sun\"]].mean()"
   ]
  },
  {
   "cell_type": "markdown",
   "id": "90c12df8",
   "metadata": {},
   "source": [
    "#### Beyond 2\n",
    "How many times will be the change in temperatue from the previous day be greater than 2 degree"
   ]
  },
  {
   "cell_type": "code",
   "execution_count": 73,
   "id": "78afbfca",
   "metadata": {},
   "outputs": [
    {
     "data": {
      "text/plain": [
       "Tue    25\n",
       "Wed    31\n",
       "Sat    25\n",
       "Tue    22\n",
       "Thu    27\n",
       "Tue    27\n",
       "Thu    22\n",
       "Sun    23\n",
       "Wed    31\n",
       "Fri    20\n",
       "dtype: int8"
      ]
     },
     "execution_count": 73,
     "metadata": {},
     "output_type": "execute_result"
    }
   ],
   "source": [
    "# By default .diff compares with the previous element\n",
    "\n",
    "s[s.diff() > 2]"
   ]
  },
  {
   "cell_type": "code",
   "execution_count": 74,
   "id": "be6b2847",
   "metadata": {},
   "outputs": [
    {
     "data": {
      "text/plain": [
       "10"
      ]
     },
     "execution_count": 74,
     "metadata": {},
     "output_type": "execute_result"
    }
   ],
   "source": [
    "# How many times?\n",
    "s[s.diff() > 2].count()"
   ]
  },
  {
   "cell_type": "markdown",
   "id": "840326f9",
   "metadata": {},
   "source": [
    "#### Beyond \n",
    "What are the two most common temperatures in our data set, and how often does each appear?\n"
   ]
  },
  {
   "cell_type": "code",
   "execution_count": 75,
   "id": "19c54308",
   "metadata": {},
   "outputs": [
    {
     "data": {
      "text/plain": [
       "22    5\n",
       "19    4\n",
       "dtype: int64"
      ]
     },
     "execution_count": 75,
     "metadata": {},
     "output_type": "execute_result"
    }
   ],
   "source": [
    "# Two most common temperatures\n",
    "\n",
    "# value_counts returns a series in which the values from s are \n",
    "# the index, the number of appearances is the value, and the\n",
    "# items are ordered from most common to least common. We can\n",
    "# then use \"head\" to get only the 2 most common values.\n",
    "\n",
    "s.value_counts().head(2)"
   ]
  },
  {
   "cell_type": "markdown",
   "id": "e8e7c2fd",
   "metadata": {},
   "source": [
    "# FANCY INDEXING\n"
   ]
  },
  {
   "cell_type": "markdown",
   "id": "57321028",
   "metadata": {},
   "source": [
    "### 1.7 Exercise 6 Passenger Frequency\n",
    "In this exercise, we’re going to start to look at some real-world data. We’ll be looking at reading from and writing to data in greater depth starting in chapter 3, but we’re going to start here by reading from a file into a series. This is possible with the workhorse pd.read_csv method, which normally returns a data frame but can be coerced into returning a series from a file with the squeeze parameter set to True. (This only works if each line of the file contains a single value, which makes it a CSV file without any commas in it.)\n",
    "\n",
    "The data we’ll look at is in the file taxi-passenger-count.csv, available along with the other data files used in this course. The data comes from 2015 data I retrieved from New York City’s open data site, from which you can get enormous amounts of information about taxi rides in New York city over the last few years. This file shows the number of passengers in each of 100,000 rides.\n",
    "\n",
    "Your task in this exercise is to show what percentage of taxi rides had only 1 passengers, vs. the maximum of 6 passengers."
   ]
  },
  {
   "cell_type": "code",
   "execution_count": 78,
   "id": "b93afa3e",
   "metadata": {},
   "outputs": [
    {
     "data": {
      "text/plain": [
       "0       1\n",
       "1       1\n",
       "2       1\n",
       "3       1\n",
       "4       1\n",
       "       ..\n",
       "9994    1\n",
       "9995    1\n",
       "9996    1\n",
       "9997    6\n",
       "9998    1\n",
       "Name: 0, Length: 9999, dtype: int64"
      ]
     },
     "execution_count": 78,
     "metadata": {},
     "output_type": "execute_result"
    }
   ],
   "source": [
    "s = pd.read_csv(\"../data/taxi-passenger-count.csv\", squeeze=True, header=None)\n",
    "s"
   ]
  },
  {
   "cell_type": "code",
   "execution_count": 81,
   "id": "5f1772c7",
   "metadata": {},
   "outputs": [
    {
     "data": {
      "text/plain": [
       "369"
      ]
     },
     "execution_count": 81,
     "metadata": {},
     "output_type": "execute_result"
    }
   ],
   "source": [
    "s[s==1].count()\n",
    "s[s==6].count()"
   ]
  },
  {
   "cell_type": "code",
   "execution_count": 82,
   "id": "23b0ecdf",
   "metadata": {},
   "outputs": [
    {
     "data": {
      "text/plain": [
       "1    7207\n",
       "2    1313\n",
       "5     520\n",
       "3     406\n",
       "6     369\n",
       "4     182\n",
       "0       2\n",
       "Name: 0, dtype: int64"
      ]
     },
     "execution_count": 82,
     "metadata": {},
     "output_type": "execute_result"
    }
   ],
   "source": [
    "# A far easier way value_counts()\n",
    "s.value_counts()"
   ]
  },
  {
   "cell_type": "code",
   "execution_count": 83,
   "id": "5084b56e",
   "metadata": {},
   "outputs": [
    {
     "data": {
      "text/plain": [
       "1    7207\n",
       "6     369\n",
       "Name: 0, dtype: int64"
      ]
     },
     "execution_count": 83,
     "metadata": {},
     "output_type": "execute_result"
    }
   ],
   "source": [
    "# Frequency of 1- and 6-passenger rides\n",
    "\n",
    "s.value_counts()[[1,6]]"
   ]
  },
  {
   "cell_type": "code",
   "execution_count": 85,
   "id": "615f0b7b",
   "metadata": {},
   "outputs": [
    {
     "data": {
      "text/plain": [
       "1    0.720772\n",
       "6    0.036904\n",
       "Name: 0, dtype: float64"
      ]
     },
     "execution_count": 85,
     "metadata": {},
     "output_type": "execute_result"
    }
   ],
   "source": [
    "# Normalize parameter to give the percentage value not the raw value\n",
    "s.value_counts(normalize=True)[[1,6]]"
   ]
  },
  {
   "cell_type": "markdown",
   "id": "9690bccd",
   "metadata": {},
   "source": [
    "# 1.7.3 Beyond the exercise\n",
    "Let’s analyze our taxi passenger data in a few more ways:\n",
    "\n",
    "What are the 25%, 50% (median), and 75% quantiles for this data set? Can you guess the results before you execute the code?\n",
    "What proportion of taxi rides are for 3, 4, 5, or 6 passengers?\n",
    "Consider that you’re in charge of vehicle licensing for New York taxis. Given these numbers, would more people benefit from smaller taxis that can take only one or two passengers, or larger taxis that can take five or six passengers?"
   ]
  },
  {
   "cell_type": "markdown",
   "id": "06245678",
   "metadata": {},
   "source": [
    "#### Beyond 1\n",
    "What are the 25%, 50% (median), and 75% quantiles for this data set? Can you guess the results before you execute the code?"
   ]
  },
  {
   "cell_type": "code",
   "execution_count": 91,
   "id": "d789db80",
   "metadata": {},
   "outputs": [
    {
     "data": {
      "text/plain": [
       "1.0"
      ]
     },
     "execution_count": 91,
     "metadata": {},
     "output_type": "execute_result"
    }
   ],
   "source": [
    "# The 25%\n",
    "\n",
    "s.describe()[\"25%\"]"
   ]
  },
  {
   "cell_type": "code",
   "execution_count": 89,
   "id": "3ccffb10",
   "metadata": {},
   "outputs": [
    {
     "data": {
      "text/plain": [
       "1.0"
      ]
     },
     "execution_count": 89,
     "metadata": {},
     "output_type": "execute_result"
    }
   ],
   "source": [
    "# The 50%\n",
    "s.describe()[\"50%\"]"
   ]
  },
  {
   "cell_type": "code",
   "execution_count": 90,
   "id": "ce4401ad",
   "metadata": {},
   "outputs": [
    {
     "data": {
      "text/plain": [
       "2.0"
      ]
     },
     "execution_count": 90,
     "metadata": {},
     "output_type": "execute_result"
    }
   ],
   "source": [
    "# The 75%\n",
    "s.describe()[\"75%\"]"
   ]
  },
  {
   "cell_type": "code",
   "execution_count": 92,
   "id": "463931e9",
   "metadata": {},
   "outputs": [
    {
     "data": {
      "text/plain": [
       "25%    1.0\n",
       "50%    1.0\n",
       "75%    2.0\n",
       "Name: 0, dtype: float64"
      ]
     },
     "execution_count": 92,
     "metadata": {},
     "output_type": "execute_result"
    }
   ],
   "source": [
    "# 25%, 50%, 75%\n",
    "s.describe()[[\"25%\", \"50%\", \"75%\"]]"
   ]
  },
  {
   "cell_type": "markdown",
   "id": "1bb77894",
   "metadata": {},
   "source": [
    "#### Beyond 2\n",
    "What proportion of taxi rides are for 3,4,5 or 6 passengers"
   ]
  },
  {
   "cell_type": "code",
   "execution_count": 97,
   "id": "21494da2",
   "metadata": {},
   "outputs": [
    {
     "data": {
      "text/plain": [
       "0.1477147714771477"
      ]
     },
     "execution_count": 97,
     "metadata": {},
     "output_type": "execute_result"
    }
   ],
   "source": [
    "s.value_counts(normalize=True)[[3,4,5,6]].sum()"
   ]
  },
  {
   "cell_type": "markdown",
   "id": "fe840ca1",
   "metadata": {},
   "source": [
    "#### Beyond 3\n",
    "Consider that you’re in charge of vehicle licensing for New York taxis. Given these numbers, would more people benefit from smaller taxis that can take only one or two passengers, or larger taxis that can take five or six passengers?"
   ]
  },
  {
   "cell_type": "code",
   "execution_count": 96,
   "id": "68eb30c2",
   "metadata": {},
   "outputs": [
    {
     "data": {
      "text/plain": [
       "1    7207\n",
       "2    1313\n",
       "5     520\n",
       "3     406\n",
       "6     369\n",
       "4     182\n",
       "0       2\n",
       "Name: 0, dtype: int64"
      ]
     },
     "execution_count": 96,
     "metadata": {},
     "output_type": "execute_result"
    }
   ],
   "source": [
    "s.value_counts()"
   ]
  },
  {
   "cell_type": "markdown",
   "id": "9dcc192c",
   "metadata": {},
   "source": [
    "Given that a huge proportion of then ride are 1 or 2, licensing more smaller taxi would benefit smaller taxi"
   ]
  },
  {
   "cell_type": "code",
   "execution_count": null,
   "id": "83ed4637",
   "metadata": {},
   "outputs": [],
   "source": []
  }
 ],
 "metadata": {
  "kernelspec": {
   "display_name": "Python 3",
   "language": "python",
   "name": "python3"
  },
  "language_info": {
   "codemirror_mode": {
    "name": "ipython",
    "version": 3
   },
   "file_extension": ".py",
   "mimetype": "text/x-python",
   "name": "python",
   "nbconvert_exporter": "python",
   "pygments_lexer": "ipython3",
   "version": "3.9.6"
  }
 },
 "nbformat": 4,
 "nbformat_minor": 5
}
