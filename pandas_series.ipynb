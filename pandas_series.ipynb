{
 "cells": [
  {
   "cell_type": "markdown",
   "id": "8ee83449",
   "metadata": {},
   "source": [
    "### Test Scores\n",
    "\n",
    "Create a series of 10 elements, random integers from 70-100, representing scores on a monthly exam. Set the index to be the month names, starting in September and ending in June."
   ]
  },
  {
   "cell_type": "code",
   "execution_count": 1,
   "id": "9eb669c0",
   "metadata": {},
   "outputs": [],
   "source": [
    "import pandas as pd\n",
    "import numpy as np\n",
    "np.random.seed(0)\n",
    "import math"
   ]
  },
  {
   "cell_type": "code",
   "execution_count": 2,
   "id": "35099c36",
   "metadata": {},
   "outputs": [],
   "source": [
    "months = \"Sep Oct Nov Dec Jan Feb Mar Apr May Jun\".split()\n"
   ]
  },
  {
   "cell_type": "code",
   "execution_count": 3,
   "id": "a962ed30",
   "metadata": {},
   "outputs": [
    {
     "data": {
      "text/plain": [
       "Sep    82\n",
       "Oct    85\n",
       "Nov    91\n",
       "Dec    70\n",
       "Jan    73\n",
       "Feb    97\n",
       "Mar    73\n",
       "Apr    77\n",
       "May    79\n",
       "Jun    89\n",
       "dtype: int64"
      ]
     },
     "execution_count": 3,
     "metadata": {},
     "output_type": "execute_result"
    }
   ],
   "source": [
    "monthly_exam_scores = pd.Series(np.random.randint(70, 100, 10), index = months)\n",
    "monthly_exam_scores"
   ]
  },
  {
   "cell_type": "code",
   "execution_count": 4,
   "id": "12f16050",
   "metadata": {},
   "outputs": [],
   "source": [
    "# What is the student average scores\n",
    "student_avg_score = f'Student Yearly Average: {monthly_exam_scores.mean()}'"
   ]
  },
  {
   "cell_type": "code",
   "execution_count": 5,
   "id": "89ae51a5",
   "metadata": {},
   "outputs": [
    {
     "data": {
      "text/plain": [
       "'Student Yearly Average: 81.6'"
      ]
     },
     "execution_count": 5,
     "metadata": {},
     "output_type": "execute_result"
    }
   ],
   "source": [
    "student_avg_score"
   ]
  },
  {
   "cell_type": "code",
   "execution_count": 6,
   "id": "8e318049",
   "metadata": {},
   "outputs": [
    {
     "data": {
      "text/plain": [
       "80.2"
      ]
     },
     "execution_count": 6,
     "metadata": {},
     "output_type": "execute_result"
    }
   ],
   "source": [
    "# What is the student’s average test score during the first \n",
    "# half of the year (i.e., the first five months)?\n",
    "\n",
    "student_first_half_avg = monthly_exam_scores[\"Sep\" : \"Jan\"].mean()\n",
    "student_first_half_avg "
   ]
  },
  {
   "cell_type": "code",
   "execution_count": 7,
   "id": "74477ccc",
   "metadata": {},
   "outputs": [
    {
     "data": {
      "text/plain": [
       "83.0"
      ]
     },
     "execution_count": 7,
     "metadata": {},
     "output_type": "execute_result"
    }
   ],
   "source": [
    "# What is the student’s average test score \n",
    "# during the second half of the year?\n",
    "student_second_half_avg = monthly_exam_scores[\"Feb\" : \"Jun\"].mean()\n",
    "student_second_half_avg"
   ]
  },
  {
   "cell_type": "code",
   "execution_count": 8,
   "id": "16dc1adf",
   "metadata": {},
   "outputs": [
    {
     "data": {
      "text/plain": [
       "'Improvement: 2.799999999999997'"
      ]
     },
     "execution_count": 8,
     "metadata": {},
     "output_type": "execute_result"
    }
   ],
   "source": [
    "# Did the student improve their performance in the second half? \n",
    "# If so, then by how much?\n",
    "\n",
    "performance_improvement = student_second_half_avg - student_first_half_avg\n",
    "performance_improvement = f\"Improvement: {performance_improvement}\"\n",
    "performance_improvement"
   ]
  },
  {
   "cell_type": "markdown",
   "id": "e761ccbf",
   "metadata": {},
   "source": [
    "#### Beyond the exercise\n",
    "Retrieving both individual elements and slices from series is a critical skill when working with pandas. Here are three additional exercises to help you understand them better"
   ]
  },
  {
   "cell_type": "code",
   "execution_count": 9,
   "id": "5c8e150b",
   "metadata": {},
   "outputs": [
    {
     "data": {
      "text/plain": [
       "Feb    97\n",
       "dtype: int64"
      ]
     },
     "execution_count": 9,
     "metadata": {},
     "output_type": "execute_result"
    }
   ],
   "source": [
    "#In which month did this student get their highest score? \n",
    "# Note that there are at least two ways to accomplish this: \n",
    "# You can sort the values, taking the largest one, or you \n",
    "# can use a boolean (\"mask\") index to find those rows that \n",
    "# match the value of s.max(), the highest value.\n",
    "\n",
    "# month_with_highest_score = monthly_exam_scores.max()\n",
    "\n",
    "month_with_highest_score = monthly_exam_scores[\n",
    "    monthly_exam_scores == monthly_exam_scores.max()]\n",
    "month_with_highest_score\n"
   ]
  },
  {
   "cell_type": "code",
   "execution_count": 10,
   "id": "1abe57ec",
   "metadata": {},
   "outputs": [
    {
     "data": {
      "text/plain": [
       "Feb    97\n",
       "Nov    91\n",
       "Jun    89\n",
       "Oct    85\n",
       "Sep    82\n",
       "dtype: int64"
      ]
     },
     "execution_count": 10,
     "metadata": {},
     "output_type": "execute_result"
    }
   ],
   "source": [
    "# What were this student’s five highest scores in the year?\n",
    "\n",
    "first_five_high_scores = monthly_exam_scores.sort_values(ascending=False).head(5)\n",
    "first_five_high_scores\n"
   ]
  },
  {
   "cell_type": "code",
   "execution_count": 11,
   "id": "62e6ac10",
   "metadata": {},
   "outputs": [
    {
     "data": {
      "text/plain": [
       "Sep    82\n",
       "Oct    85\n",
       "Nov    91\n",
       "Dec    70\n",
       "Jan    73\n",
       "Feb    97\n",
       "Mar    73\n",
       "Apr    77\n",
       "May    79\n",
       "Jun    89\n",
       "dtype: int64"
      ]
     },
     "execution_count": 11,
     "metadata": {},
     "output_type": "execute_result"
    }
   ],
   "source": [
    "monthly_exam_scores"
   ]
  },
  {
   "cell_type": "code",
   "execution_count": 12,
   "id": "ca35af69",
   "metadata": {},
   "outputs": [
    {
     "data": {
      "text/plain": [
       "Sep     80\n",
       "Oct     80\n",
       "Nov     90\n",
       "Dec     70\n",
       "Jan     70\n",
       "Feb    100\n",
       "Mar     70\n",
       "Apr     80\n",
       "May     80\n",
       "Jun     90\n",
       "dtype: int64"
      ]
     },
     "execution_count": 12,
     "metadata": {},
     "output_type": "execute_result"
    }
   ],
   "source": [
    "# Round the student’s scores to the nearest 10. \n",
    "# So a score of 82 would be rounded down to 80, \n",
    "# but a score of 87 would be rounded up to 90.\n",
    "monthly_exam_scores_copy = monthly_exam_scores.copy()\n",
    "def custom_round(x, base=10):\n",
    "    return int(base * round(float(x)/base))\n",
    "monthly_exam_scores_copy.apply(lambda x: custom_round(x))"
   ]
  },
  {
   "cell_type": "code",
   "execution_count": 13,
   "id": "a40e773f",
   "metadata": {},
   "outputs": [
    {
     "data": {
      "text/plain": [
       "count    10.000000\n",
       "mean     81.600000\n",
       "std       8.834277\n",
       "min      70.000000\n",
       "25%      74.000000\n",
       "50%      80.500000\n",
       "75%      88.000000\n",
       "max      97.000000\n",
       "dtype: float64"
      ]
     },
     "execution_count": 13,
     "metadata": {},
     "output_type": "execute_result"
    }
   ],
   "source": [
    "monthly_exam_scores.describe()"
   ]
  },
  {
   "cell_type": "markdown",
   "id": "a31dbd3c",
   "metadata": {},
   "source": [
    "### Standard Deviation\n",
    "The measure of how much the valies in our data set vary from one another. \n",
    "In a data set with 0 standard deviation, the values all all identical to one\n",
    "another. By contrast, a data set with a very large standard deviation will\n",
    "have values that varyes greatly from th mean value."
   ]
  },
  {
   "cell_type": "markdown",
   "id": "37211e02",
   "metadata": {},
   "source": [
    "### Exercise 2: Scaling Test scores"
   ]
  },
  {
   "cell_type": "code",
   "execution_count": 14,
   "id": "3a62d16b",
   "metadata": {},
   "outputs": [
    {
     "data": {
      "text/plain": [
       "0    10\n",
       "1    20\n",
       "2    30\n",
       "dtype: object"
      ]
     },
     "execution_count": 14,
     "metadata": {},
     "output_type": "execute_result"
    }
   ],
   "source": [
    "s = pd.Series(\"10 20 30\".split())\n",
    "s.dtype\n",
    "s"
   ]
  },
  {
   "cell_type": "code",
   "execution_count": 15,
   "id": "b39676b6",
   "metadata": {},
   "outputs": [
    {
     "data": {
      "text/plain": [
       "0    10\n",
       "1    20\n",
       "2    30\n",
       "dtype: int64"
      ]
     },
     "execution_count": 15,
     "metadata": {},
     "output_type": "execute_result"
    }
   ],
   "source": [
    "s = s.astype(np.int64)\n",
    "s"
   ]
  },
  {
   "cell_type": "code",
   "execution_count": 16,
   "id": "8e021383",
   "metadata": {},
   "outputs": [
    {
     "data": {
      "text/plain": [
       "0    70.0\n",
       "1    80.0\n",
       "2    90.0\n",
       "dtype: float64"
      ]
     },
     "execution_count": 16,
     "metadata": {},
     "output_type": "execute_result"
    }
   ],
   "source": [
    "s + (80 - s.mean())"
   ]
  },
  {
   "cell_type": "code",
   "execution_count": 17,
   "id": "d27d8160",
   "metadata": {},
   "outputs": [
    {
     "data": {
      "text/plain": [
       "0    110\n",
       "1    220\n",
       "2    330\n",
       "3    440\n",
       "dtype: int64"
      ]
     },
     "execution_count": 17,
     "metadata": {},
     "output_type": "execute_result"
    }
   ],
   "source": [
    "## Example of vectorized operations\n",
    "s1 = pd.Series([10, 20, 30, 40])\n",
    "s2 = pd.Series([100, 200, 300, 400])\n",
    "\n",
    "s1 + s2"
   ]
  },
  {
   "cell_type": "code",
   "execution_count": 18,
   "id": "8f275380",
   "metadata": {},
   "outputs": [
    {
     "data": {
      "text/plain": [
       "a    410\n",
       "b    320\n",
       "c    230\n",
       "d    140\n",
       "dtype: int64"
      ]
     },
     "execution_count": 18,
     "metadata": {},
     "output_type": "execute_result"
    }
   ],
   "source": [
    "## Example of vectorized operations\n",
    "s1 = pd.Series([10, 20, 30, 40], index=list(\"abcd\"))\n",
    "s2 = pd.Series([100, 200, 300, 400], index=list(\"dcba\"))\n",
    "s1 + s2\n"
   ]
  },
  {
   "cell_type": "code",
   "execution_count": 19,
   "id": "ed649d09",
   "metadata": {},
   "outputs": [
    {
     "data": {
      "text/plain": [
       "a    13\n",
       "b    23\n",
       "c    33\n",
       "d    43\n",
       "dtype: int64"
      ]
     },
     "execution_count": 19,
     "metadata": {},
     "output_type": "execute_result"
    }
   ],
   "source": [
    "# When you try to add a series to a scalar value. \n",
    "# Pandas does something call Broadcasting\n",
    "\n",
    "s = pd.Series([10, 20, 30, 40], index=list(\"abcd\"))\n",
    "\n",
    "s + 3"
   ]
  },
  {
   "cell_type": "code",
   "execution_count": 20,
   "id": "5ec02c10",
   "metadata": {},
   "outputs": [
    {
     "data": {
      "text/plain": [
       "Sep    52\n",
       "Oct    55\n",
       "Nov    40\n",
       "Dec    43\n",
       "Jan    43\n",
       "Feb    47\n",
       "Mar    49\n",
       "Apr    59\n",
       "May    58\n",
       "Jun    44\n",
       "dtype: int64"
      ]
     },
     "execution_count": 20,
     "metadata": {},
     "output_type": "execute_result"
    }
   ],
   "source": [
    "# Generate a test a score between 40 and 60\n",
    "np.random.seed(0)\n",
    "\n",
    "months = \"Sep Oct Nov Dec Jan Feb Mar Apr May Jun\".split()\n",
    "s = pd.Series(np.random.randint(40, 60, 10), \n",
    "             index =months)\n",
    "s"
   ]
  },
  {
   "cell_type": "code",
   "execution_count": 21,
   "id": "243faa33",
   "metadata": {},
   "outputs": [
    {
     "data": {
      "text/plain": [
       "Sep    62\n",
       "Oct    65\n",
       "Nov    50\n",
       "Dec    53\n",
       "Jan    53\n",
       "Feb    57\n",
       "Mar    59\n",
       "Apr    69\n",
       "May    68\n",
       "Jun    54\n",
       "dtype: int64"
      ]
     },
     "execution_count": 21,
     "metadata": {},
     "output_type": "execute_result"
    }
   ],
   "source": [
    "# Then add 10 points to them \n",
    "s + 10"
   ]
  },
  {
   "cell_type": "code",
   "execution_count": 22,
   "id": "268afc00",
   "metadata": {},
   "outputs": [
    {
     "data": {
      "text/plain": [
       "Sep    83.0\n",
       "Oct    86.0\n",
       "Nov    71.0\n",
       "Dec    74.0\n",
       "Jan    74.0\n",
       "Feb    78.0\n",
       "Mar    80.0\n",
       "Apr    90.0\n",
       "May    89.0\n",
       "Jun    75.0\n",
       "dtype: float64"
      ]
     },
     "execution_count": 22,
     "metadata": {},
     "output_type": "execute_result"
    }
   ],
   "source": [
    "s + (80 - s.mean())"
   ]
  },
  {
   "cell_type": "markdown",
   "id": "e2c5c8c1",
   "metadata": {},
   "source": [
    "#### Note\n",
    "Whenever we perfom an operation on an int and a float, wr get back a float,\n",
    "even if there's no need for it, as with addition."
   ]
  },
  {
   "cell_type": "markdown",
   "id": "845a5050",
   "metadata": {},
   "source": [
    "#### Beyond the Exercice:\n",
    "Implementing the other way to scale test scores, by looking at both the \n",
    "mean of the scores and their standard deviation."
   ]
  },
  {
   "cell_type": "code",
   "execution_count": 23,
   "id": "7aedd5d3",
   "metadata": {},
   "outputs": [
    {
     "data": {
      "text/plain": [
       "Sep    52\n",
       "Oct    55\n",
       "Nov    40\n",
       "Dec    43\n",
       "Jan    43\n",
       "Feb    47\n",
       "Mar    49\n",
       "Apr    59\n",
       "May    58\n",
       "Jun    44\n",
       "dtype: int64"
      ]
     },
     "execution_count": 23,
     "metadata": {},
     "output_type": "execute_result"
    }
   ],
   "source": [
    "s"
   ]
  },
  {
   "cell_type": "code",
   "execution_count": 24,
   "id": "346f7414",
   "metadata": {},
   "outputs": [
    {
     "data": {
      "text/plain": [
       "55.733003292241385"
      ]
     },
     "execution_count": 24,
     "metadata": {},
     "output_type": "execute_result"
    }
   ],
   "source": [
    "s_mean = s.mean()\n",
    "s_std = s.std()\n",
    "s_mean + s_std"
   ]
  },
  {
   "cell_type": "code",
   "execution_count": 25,
   "id": "1df415a2",
   "metadata": {},
   "outputs": [
    {
     "data": {
      "text/plain": [
       "6.733003292241386"
      ]
     },
     "execution_count": 25,
     "metadata": {},
     "output_type": "execute_result"
    }
   ],
   "source": [
    "s_std = s_std\n",
    "s_std"
   ]
  },
  {
   "cell_type": "code",
   "execution_count": 26,
   "id": "f58a2591",
   "metadata": {},
   "outputs": [
    {
     "data": {
      "text/plain": [
       "49.0"
      ]
     },
     "execution_count": 26,
     "metadata": {},
     "output_type": "execute_result"
    }
   ],
   "source": [
    "s_mean"
   ]
  },
  {
   "cell_type": "code",
   "execution_count": 27,
   "id": "154ac5f0",
   "metadata": {},
   "outputs": [
    {
     "data": {
      "text/plain": [
       "Apr    59\n",
       "May    58\n",
       "dtype: int64"
      ]
     },
     "execution_count": 27,
     "metadata": {},
     "output_type": "execute_result"
    }
   ],
   "source": [
    "# A students gets a score more than mean + std\n",
    "s[s > (s_mean + s_std)]"
   ]
  },
  {
   "cell_type": "code",
   "execution_count": 28,
   "id": "f15049c0",
   "metadata": {},
   "outputs": [
    {
     "data": {
      "text/plain": [
       "Sep    52\n",
       "Oct    55\n",
       "dtype: int64"
      ]
     },
     "execution_count": 28,
     "metadata": {},
     "output_type": "execute_result"
    }
   ],
   "source": [
    "#  B student gets above mean but less than mean + std\n",
    "s[(s < s_mean + s_std) & (s > s_mean)]"
   ]
  },
  {
   "cell_type": "code",
   "execution_count": 29,
   "id": "abcf022e",
   "metadata": {},
   "outputs": [
    {
     "data": {
      "text/plain": [
       "Dec    43\n",
       "Jan    43\n",
       "Feb    47\n",
       "Jun    44\n",
       "dtype: int64"
      ]
     },
     "execution_count": 29,
     "metadata": {},
     "output_type": "execute_result"
    }
   ],
   "source": [
    "# C Student gets below mean and great than mean - std\n",
    "s[(s > s_mean - s_std) & (s < s_mean)]"
   ]
  },
  {
   "cell_type": "code",
   "execution_count": 30,
   "id": "3c3a1bce",
   "metadata": {},
   "outputs": [
    {
     "data": {
      "text/plain": [
       "Nov    40\n",
       "dtype: int64"
      ]
     },
     "execution_count": 30,
     "metadata": {},
     "output_type": "execute_result"
    }
   ],
   "source": [
    "# D students gets mean - std\n",
    "s[s < s_mean - s_std]"
   ]
  },
  {
   "cell_type": "markdown",
   "id": "431fddea",
   "metadata": {},
   "source": [
    "### Beyond 2\n",
    "Were there any test scores more than 2 standard deviation above or below the mean"
   ]
  },
  {
   "cell_type": "code",
   "execution_count": 31,
   "id": "316122da",
   "metadata": {},
   "outputs": [
    {
     "data": {
      "text/plain": [
       "Series([], dtype: int64)"
      ]
     },
     "execution_count": 31,
     "metadata": {},
     "output_type": "execute_result"
    }
   ],
   "source": [
    "s[(s < s_mean - 2*s_std) | (s > s_mean + 2*s_std)]"
   ]
  },
  {
   "cell_type": "markdown",
   "id": "d7647307",
   "metadata": {},
   "source": [
    "### Beyond 3:\n",
    "How close are the mean and median to one another. \n",
    "What does it mean if they are close"
   ]
  },
  {
   "cell_type": "code",
   "execution_count": 32,
   "id": "e099b3d1",
   "metadata": {},
   "outputs": [
    {
     "data": {
      "text/plain": [
       "49.0"
      ]
     },
     "execution_count": 32,
     "metadata": {},
     "output_type": "execute_result"
    }
   ],
   "source": [
    "s_mean = s.mean()\n",
    "s_mean "
   ]
  },
  {
   "cell_type": "code",
   "execution_count": 33,
   "id": "a7439d4a",
   "metadata": {},
   "outputs": [
    {
     "data": {
      "text/plain": [
       "48.0"
      ]
     },
     "execution_count": 33,
     "metadata": {},
     "output_type": "execute_result"
    }
   ],
   "source": [
    "s_median = s.median()\n",
    "s_median"
   ]
  },
  {
   "cell_type": "markdown",
   "id": "2d0a1f65",
   "metadata": {},
   "source": [
    "The mean and median are basically the same, which means that we don't have any large outliers skewing the mean's value. If the mean were much higher than the median, then we would assume we have at least one very high test score. And if the mean were much lower than the median, we could assume we have at least one very low test score."
   ]
  },
  {
   "cell_type": "markdown",
   "id": "7f106f50",
   "metadata": {},
   "source": [
    "## Exercise 3 Counting 10s digits\n",
    "This exercice we want to generate 10 random intereges in the range 0 - 100"
   ]
  },
  {
   "cell_type": "code",
   "execution_count": 34,
   "id": "d755d540",
   "metadata": {},
   "outputs": [
    {
     "data": {
      "text/plain": [
       "0    44\n",
       "1    47\n",
       "2    64\n",
       "3    67\n",
       "4    67\n",
       "5     9\n",
       "6    83\n",
       "7    21\n",
       "8    36\n",
       "9    87\n",
       "dtype: int64"
      ]
     },
     "execution_count": 34,
     "metadata": {},
     "output_type": "execute_result"
    }
   ],
   "source": [
    "np.random.seed(0)\n",
    "s = pd.Series(np.random.randint(0, 100, 10))\n",
    "s"
   ]
  },
  {
   "cell_type": "code",
   "execution_count": 35,
   "id": "07af327f",
   "metadata": {},
   "outputs": [
    {
     "data": {
      "text/plain": [
       "0    4\n",
       "1    4\n",
       "2    6\n",
       "3    6\n",
       "4    6\n",
       "5    0\n",
       "6    8\n",
       "7    2\n",
       "8    3\n",
       "9    8\n",
       "dtype: int8"
      ]
     },
     "execution_count": 35,
     "metadata": {},
     "output_type": "execute_result"
    }
   ],
   "source": [
    "# Solution 1\n",
    "(s/10).astype(np.int8)"
   ]
  },
  {
   "cell_type": "code",
   "execution_count": 36,
   "id": "2dcd45ac",
   "metadata": {},
   "outputs": [
    {
     "data": {
      "text/plain": [
       "0    4\n",
       "1    4\n",
       "2    6\n",
       "3    6\n",
       "4    6\n",
       "5    0\n",
       "6    8\n",
       "7    2\n",
       "8    3\n",
       "9    8\n",
       "dtype: object"
      ]
     },
     "execution_count": 36,
     "metadata": {},
     "output_type": "execute_result"
    }
   ],
   "source": [
    "# solution 2 partial\n",
    "s.astype(str).str.get(-2).fillna(\"0\")"
   ]
  },
  {
   "cell_type": "code",
   "execution_count": 37,
   "id": "090cd574",
   "metadata": {},
   "outputs": [
    {
     "data": {
      "text/plain": [
       "0    4\n",
       "1    4\n",
       "2    6\n",
       "3    6\n",
       "4    6\n",
       "5    0\n",
       "6    8\n",
       "7    2\n",
       "8    3\n",
       "9    8\n",
       "dtype: int8"
      ]
     },
     "execution_count": 37,
     "metadata": {},
     "output_type": "execute_result"
    }
   ],
   "source": [
    "# Solution 2 Complete\n",
    "s.astype(str).str.get(-2).fillna(\"0\").astype(np.int8)"
   ]
  },
  {
   "cell_type": "markdown",
   "id": "61187c64",
   "metadata": {},
   "source": [
    "## Beyond the exercise\n"
   ]
  },
  {
   "cell_type": "code",
   "execution_count": 38,
   "id": "332b55fe",
   "metadata": {},
   "outputs": [
    {
     "data": {
      "text/plain": [
       "0    2732\n",
       "1    9845\n",
       "2    3264\n",
       "3    4859\n",
       "4    9225\n",
       "5    7891\n",
       "6    4373\n",
       "7    5874\n",
       "8    6744\n",
       "9    3468\n",
       "dtype: int64"
      ]
     },
     "execution_count": 38,
     "metadata": {},
     "output_type": "execute_result"
    }
   ],
   "source": [
    "np.random.seed(0)\n",
    "s = pd.Series(np.random.randint(0, 10000, 10))\n",
    "s"
   ]
  },
  {
   "cell_type": "markdown",
   "id": "0b0cdec5",
   "metadata": {},
   "source": [
    "### Beyond 1\n",
    "What if the range were from 0 - 1000?\n",
    "How would that change your strategy, if at all?"
   ]
  },
  {
   "cell_type": "code",
   "execution_count": 39,
   "id": "0869e615",
   "metadata": {},
   "outputs": [
    {
     "data": {
      "text/plain": [
       "0    3\n",
       "1    4\n",
       "2    6\n",
       "3    5\n",
       "4    2\n",
       "5    9\n",
       "6    7\n",
       "7    7\n",
       "8    4\n",
       "9    6\n",
       "dtype: int8"
      ]
     },
     "execution_count": 39,
     "metadata": {},
     "output_type": "execute_result"
    }
   ],
   "source": [
    "# Our string method will work just fine here. We can drop the call to\n",
    "# fillna if we are sure none of the value would be <10.\n",
    "s.astype(str).str.get(-2).fillna(\"0\").astype(np.int8)"
   ]
  },
  {
   "cell_type": "markdown",
   "id": "98033b00",
   "metadata": {},
   "source": [
    "## Beyond 2\n",
    "What is the smallest dtype we should use for our integer"
   ]
  },
  {
   "cell_type": "code",
   "execution_count": 40,
   "id": "0e2a98aa",
   "metadata": {},
   "outputs": [
    {
     "data": {
      "text/plain": [
       "(2732, 9845)"
      ]
     },
     "execution_count": 40,
     "metadata": {},
     "output_type": "execute_result"
    }
   ],
   "source": [
    "# Lets find the minimum and max value of our series\n",
    "(s.min(), s.max())"
   ]
  },
  {
   "cell_type": "code",
   "execution_count": 41,
   "id": "bc21b3d3",
   "metadata": {},
   "outputs": [
    {
     "data": {
      "text/plain": [
       "0    2732\n",
       "1    9845\n",
       "2    3264\n",
       "3    4859\n",
       "4    9225\n",
       "5    7891\n",
       "6    4373\n",
       "7    5874\n",
       "8    6744\n",
       "9    3468\n",
       "dtype: int64"
      ]
     },
     "execution_count": 41,
     "metadata": {},
     "output_type": "execute_result"
    }
   ],
   "source": [
    "s"
   ]
  },
  {
   "cell_type": "code",
   "execution_count": 42,
   "id": "d1e73f98",
   "metadata": {},
   "outputs": [
    {
     "data": {
      "text/plain": [
       "0    -84\n",
       "1    117\n",
       "2    -64\n",
       "3     -5\n",
       "4      9\n",
       "5    -45\n",
       "6     21\n",
       "7    -14\n",
       "8     88\n",
       "9   -116\n",
       "dtype: int8"
      ]
     },
     "execution_count": 42,
     "metadata": {},
     "output_type": "execute_result"
    }
   ],
   "source": [
    "# What happens if we use int8\n",
    "s.astype(np.int8)"
   ]
  },
  {
   "cell_type": "code",
   "execution_count": 43,
   "id": "2e2bfc4c",
   "metadata": {},
   "outputs": [
    {
     "data": {
      "text/plain": [
       "0    172\n",
       "1    117\n",
       "2    192\n",
       "3    251\n",
       "4      9\n",
       "5    211\n",
       "6     21\n",
       "7    242\n",
       "8     88\n",
       "9    140\n",
       "dtype: uint8"
      ]
     },
     "execution_count": 43,
     "metadata": {},
     "output_type": "execute_result"
    }
   ],
   "source": [
    "# what happens when we use unit8\n",
    "s.astype(np.uint8)"
   ]
  },
  {
   "cell_type": "code",
   "execution_count": 44,
   "id": "7d5fae3e",
   "metadata": {},
   "outputs": [
    {
     "data": {
      "text/plain": [
       "0    2732\n",
       "1    9845\n",
       "2    3264\n",
       "3    4859\n",
       "4    9225\n",
       "5    7891\n",
       "6    4373\n",
       "7    5874\n",
       "8    6744\n",
       "9    3468\n",
       "dtype: uint16"
      ]
     },
     "execution_count": 44,
     "metadata": {},
     "output_type": "execute_result"
    }
   ],
   "source": [
    "# What happens when we use uint 16\n",
    "s.astype(np.uint16)"
   ]
  },
  {
   "cell_type": "code",
   "execution_count": 45,
   "id": "5b8b559e",
   "metadata": {},
   "outputs": [
    {
     "data": {
      "text/plain": [
       "0    2732\n",
       "1    9845\n",
       "2    3264\n",
       "3    4859\n",
       "4    9225\n",
       "5    7891\n",
       "6    4373\n",
       "7    5874\n",
       "8    6744\n",
       "9    3468\n",
       "dtype: int16"
      ]
     },
     "execution_count": 45,
     "metadata": {},
     "output_type": "execute_result"
    }
   ],
   "source": [
    "# Checking what happens when we use int16\n",
    "s.astype(np.int16)"
   ]
  },
  {
   "cell_type": "markdown",
   "id": "f02eb6df",
   "metadata": {},
   "source": [
    "Given a range from 0 - 10000, the smallest dtype we would use to avoid any problams is uint16 and int16"
   ]
  },
  {
   "cell_type": "markdown",
   "id": "589b0c7d",
   "metadata": {},
   "source": [
    "## Beyond 3\n",
    "Create a new series, with 10 floating-point values between 0 and 1,000. Find the numbers whose integer component (i.e., ignoring any fractional part) are even."
   ]
  },
  {
   "cell_type": "code",
   "execution_count": 46,
   "id": "34d75dbf",
   "metadata": {},
   "outputs": [
    {
     "data": {
      "text/plain": [
       "0    383.441519\n",
       "1    791.725038\n",
       "2    528.894920\n",
       "3    568.044561\n",
       "4    925.596638\n",
       "5     71.036058\n",
       "6     87.129300\n",
       "7     20.218397\n",
       "8    832.619846\n",
       "9    778.156751\n",
       "dtype: float64"
      ]
     },
     "execution_count": 46,
     "metadata": {},
     "output_type": "execute_result"
    }
   ],
   "source": [
    "\n",
    "s = pd.Series(np.random.rand(10) * 1000)\n",
    "s"
   ]
  },
  {
   "cell_type": "code",
   "execution_count": 47,
   "id": "4c4c0ea6",
   "metadata": {},
   "outputs": [
    {
     "data": {
      "text/plain": [
       "2    528.894920\n",
       "3    568.044561\n",
       "7     20.218397\n",
       "8    832.619846\n",
       "9    778.156751\n",
       "dtype: float64"
      ]
     },
     "execution_count": 47,
     "metadata": {},
     "output_type": "execute_result"
    }
   ],
   "source": [
    "# Get the modulus (dividing by 2) of the int version of the numbers\n",
    "# Check which results are 0, and use that as a mask index on \n",
    "\n",
    "s[s.astype(np.int16) % 2 == 0]"
   ]
  },
  {
   "cell_type": "markdown",
   "id": "68d75457",
   "metadata": {},
   "source": [
    "# SELECTING VALUES WITH BOOLEANS\n",
    "In Python and other traditional programming languages, we can select elements from a sequence using a combination of for loops and if statements. While you could do that in pandas, you almost certainly don’t want to. Instead, you want to select items using a combination of techniques known as a \"boolean index\" or a \"mask index.\"\n",
    "\n",
    "Mask indexes are useful and powerful, but their syntax can take some getting used to.\n",
    "\n",
    "First, consider that you can retrieve any element of a series via square brackets and an index:"
   ]
  },
  {
   "cell_type": "code",
   "execution_count": 48,
   "id": "e6f7fffb",
   "metadata": {},
   "outputs": [
    {
     "data": {
      "text/plain": [
       "40"
      ]
     },
     "execution_count": 48,
     "metadata": {},
     "output_type": "execute_result"
    }
   ],
   "source": [
    "s = pd.Series([10, 20, 30, 40, 50])\n",
    "s[3]"
   ]
  },
  {
   "cell_type": "code",
   "execution_count": 49,
   "id": "82462d8a",
   "metadata": {},
   "outputs": [
    {
     "data": {
      "text/plain": [
       "0    10\n",
       "1    20\n",
       "4    50\n",
       "dtype: int64"
      ]
     },
     "execution_count": 49,
     "metadata": {},
     "output_type": "execute_result"
    }
   ],
   "source": [
    "# Instead of passing a single intger, we can pass a list \n",
    "# (or numpy array or series) of boolean values\n",
    "\n",
    "s = pd.Series([10, 20, 30, 40, 50])\n",
    "s[[True, True, False, False, True]]"
   ]
  },
  {
   "cell_type": "code",
   "execution_count": 50,
   "id": "e7b7e98d",
   "metadata": {},
   "outputs": [
    {
     "data": {
      "text/plain": [
       "0    10\n",
       "1    20\n",
       "dtype: int64"
      ]
     },
     "execution_count": 50,
     "metadata": {},
     "output_type": "execute_result"
    }
   ],
   "source": [
    "# Using a comparison operator (e.g., ==)\n",
    "s[s<30]"
   ]
  },
  {
   "cell_type": "code",
   "execution_count": 51,
   "id": "50fd965c",
   "metadata": {},
   "outputs": [
    {
     "data": {
      "text/plain": [
       "0    10\n",
       "1    20\n",
       "2    30\n",
       "dtype: int64"
      ]
     },
     "execution_count": 51,
     "metadata": {},
     "output_type": "execute_result"
    }
   ],
   "source": [
    "# Getting more sophisticated\n",
    "s[s <= s.mean()]"
   ]
  },
  {
   "cell_type": "code",
   "execution_count": 52,
   "id": "242f8bd0",
   "metadata": {},
   "outputs": [
    {
     "data": {
      "text/plain": [
       "30.0"
      ]
     },
     "execution_count": 52,
     "metadata": {},
     "output_type": "execute_result"
    }
   ],
   "source": [
    "s.mean()"
   ]
  },
  {
   "cell_type": "code",
   "execution_count": 53,
   "id": "f9bf0480",
   "metadata": {},
   "outputs": [
    {
     "data": {
      "text/plain": [
       "0    999\n",
       "1    999\n",
       "2    999\n",
       "3     40\n",
       "4     50\n",
       "dtype: int64"
      ]
     },
     "execution_count": 53,
     "metadata": {},
     "output_type": "execute_result"
    }
   ],
   "source": [
    "# We can ue mask for assignment\n",
    "s[s <= s.mean()] = 999\n",
    "s"
   ]
  },
  {
   "cell_type": "markdown",
   "id": "062be83f",
   "metadata": {},
   "source": [
    "The techniqpe above is worht learning and internalizing, \n",
    "because it is both powerful and efficient"
   ]
  },
  {
   "cell_type": "markdown",
   "id": "97600d48",
   "metadata": {},
   "source": [
    "# 1.5 Exercice 4: Descriptive Statistics\n",
    "The mean, median, and standard deviation are three numbers we can use to get a better picture of our data. But there are some other numbers that we can use to fully understand it. These are collectively known as \"descriptive statistics.\"\n",
    "\n"
   ]
  },
  {
   "cell_type": "code",
   "execution_count": 54,
   "id": "da723e7d",
   "metadata": {},
   "outputs": [],
   "source": [
    "# Generate a series of 100,000 floats in a normal distribution\n",
    "# with mean at 0\n",
    "# Standard deviation of 100\n",
    "np.random.seed(0)\n",
    "\n",
    "s = pd.Series(np.random.normal(0, 100, 100_000))\n",
    "s1 = s.copy()"
   ]
  },
  {
   "cell_type": "code",
   "execution_count": 55,
   "id": "d466cb66",
   "metadata": {},
   "outputs": [
    {
     "data": {
      "text/plain": [
       "count    100000.000000\n",
       "mean          0.157670\n",
       "std          99.734467\n",
       "min        -485.211765\n",
       "25%         -66.864170\n",
       "50%           0.172022\n",
       "75%          67.343870\n",
       "max         424.177191\n",
       "dtype: float64"
      ]
     },
     "execution_count": 55,
     "metadata": {},
     "output_type": "execute_result"
    }
   ],
   "source": [
    "# Get the descriptive statistics for this series\n",
    "s.describe()"
   ]
  },
  {
   "cell_type": "code",
   "execution_count": 56,
   "id": "8b6a4385",
   "metadata": {},
   "outputs": [],
   "source": [
    "# Replace the minimum value with 5 times the maximum value\n",
    "\n",
    "s[s == s.min()] = 5*s.max()"
   ]
  },
  {
   "cell_type": "code",
   "execution_count": 57,
   "id": "080bb5fe",
   "metadata": {},
   "outputs": [
    {
     "data": {
      "text/plain": [
       "count    100000.000000\n",
       "mean          0.183731\n",
       "std          99.947900\n",
       "min        -465.995297\n",
       "25%         -66.862839\n",
       "50%           0.174214\n",
       "75%          67.345174\n",
       "max        2120.885956\n",
       "dtype: float64"
      ]
     },
     "execution_count": 57,
     "metadata": {},
     "output_type": "execute_result"
    }
   ],
   "source": [
    "s.describe()"
   ]
  },
  {
   "cell_type": "code",
   "execution_count": 58,
   "id": "47ce75db",
   "metadata": {},
   "outputs": [
    {
     "data": {
      "text/plain": [
       "0.17421399102941376"
      ]
     },
     "execution_count": 58,
     "metadata": {},
     "output_type": "execute_result"
    }
   ],
   "source": [
    "s.median()"
   ]
  },
  {
   "cell_type": "markdown",
   "id": "3488826b",
   "metadata": {},
   "source": [
    "## 1.5.3 Beyond the Exercise"
   ]
  },
  {
   "cell_type": "markdown",
   "id": "56a1ca64",
   "metadata": {},
   "source": [
    "## Beyond 1\n",
    "Demonstrate that 68%, 95%, and 99.7% of the values in s are indeed within 1, 2, and 3 standard distributions of the mean."
   ]
  },
  {
   "cell_type": "code",
   "execution_count": 59,
   "id": "7e15c405",
   "metadata": {},
   "outputs": [
    {
     "data": {
      "text/plain": [
       "count    100000.000000\n",
       "mean          0.157670\n",
       "std          99.734467\n",
       "min        -485.211765\n",
       "25%         -66.864170\n",
       "50%           0.172022\n",
       "75%          67.343870\n",
       "max         424.177191\n",
       "dtype: float64"
      ]
     },
     "execution_count": 59,
     "metadata": {},
     "output_type": "execute_result"
    }
   ],
   "source": [
    "s1.describe()"
   ]
  },
  {
   "cell_type": "code",
   "execution_count": 60,
   "id": "998cf3bf",
   "metadata": {},
   "outputs": [
    {
     "data": {
      "text/plain": [
       "0.68567"
      ]
     },
     "execution_count": 60,
     "metadata": {},
     "output_type": "execute_result"
    }
   ],
   "source": [
    "# with 1 standard distribution\n",
    "\n",
    "s[(s > s.mean() - s.std()) &\n",
    " (s < s.mean() + s.std())].count()/100_000"
   ]
  },
  {
   "cell_type": "code",
   "execution_count": 61,
   "id": "67b076d3",
   "metadata": {},
   "outputs": [
    {
     "data": {
      "text/plain": [
       "0.95432"
      ]
     },
     "execution_count": 61,
     "metadata": {},
     "output_type": "execute_result"
    }
   ],
   "source": [
    "# within 2 standard distribution\n",
    "s[(s > s.mean() - 2*s.std()) &\n",
    " (s < s.mean() + 2*s.std())].count()/100_000"
   ]
  },
  {
   "cell_type": "code",
   "execution_count": 62,
   "id": "32880473",
   "metadata": {},
   "outputs": [
    {
     "data": {
      "text/plain": [
       "0.99717"
      ]
     },
     "execution_count": 62,
     "metadata": {},
     "output_type": "execute_result"
    }
   ],
   "source": [
    "# within 4 standard distribution\n",
    "s[(s > s.mean() - 3*s.std()) &\n",
    " (s < s.mean() + 3*s.std())].count()/100_000"
   ]
  },
  {
   "cell_type": "markdown",
   "id": "f06b4ef9",
   "metadata": {},
   "source": [
    "### # Beyond 2\n",
    "Calculate the mean of numbers greater than s.mean(). Then calculate the mean of numbers less than s.mean(). Is the average of these two numbers the same as s.mean()?"
   ]
  },
  {
   "cell_type": "code",
   "execution_count": 63,
   "id": "bff894a8",
   "metadata": {},
   "outputs": [
    {
     "data": {
      "text/plain": [
       "0.15290179343802635"
      ]
     },
     "execution_count": 63,
     "metadata": {},
     "output_type": "execute_result"
    }
   ],
   "source": [
    "(s1[s1 < s1.mean()].mean() + s1[s1 > s1.mean()].mean() ) / 2"
   ]
  },
  {
   "cell_type": "code",
   "execution_count": 64,
   "id": "d868c481",
   "metadata": {},
   "outputs": [
    {
     "data": {
      "text/plain": [
       "count    100000.000000\n",
       "mean          0.157670\n",
       "std          99.734467\n",
       "min        -485.211765\n",
       "25%         -66.864170\n",
       "50%           0.172022\n",
       "75%          67.343870\n",
       "max         424.177191\n",
       "dtype: float64"
      ]
     },
     "execution_count": 64,
     "metadata": {},
     "output_type": "execute_result"
    }
   ],
   "source": [
    "s1.describe()"
   ]
  },
  {
   "cell_type": "markdown",
   "id": "e2b73054",
   "metadata": {},
   "source": [
    "## Beyond 3\n",
    "What is th mean of the numbers beyond 3 standard deviations"
   ]
  },
  {
   "cell_type": "code",
   "execution_count": 65,
   "id": "947a9cb7",
   "metadata": {},
   "outputs": [
    {
     "data": {
      "text/plain": [
       "-2.3577910861855775"
      ]
     },
     "execution_count": 65,
     "metadata": {},
     "output_type": "execute_result"
    }
   ],
   "source": [
    "s1[(s1 < s1.mean() - 3*s1.std()) |\n",
    " (s1 > s1.mean() + 3*s1.std())].mean()"
   ]
  },
  {
   "cell_type": "markdown",
   "id": "6db17dd5",
   "metadata": {},
   "source": [
    "# 1.6 Exercise 5: Monday Temperatures\n",
    "\n",
    "It’s common to assume that the index in a pandas series is unique. After all, the index in a Python string, list, or tuple is unique, as are the keys in a Python dictionary. But it turns out that a series index can contain repeated values. This turns out to be quite useful in many ways.\n",
    "\n",
    "In this exercise, I want you to create a series of 28 temperature readings in Celsius, representing four seven-day weeks, randomly selected from a normal distribution with a mean of 20 and a standard deviation of 5, rounded to the nearest integer. (If you’re in a country that measures temperature in Fahrenheit, then just pretend you’re looking at the weather in exotic foreign location, rather than where you live.) The index should start with Sun, continue through Sat, and then repeat Sun through Sat until each temperature has a value.\n",
    "\n",
    "The question is: What was the mean temperature on Mondays during this period?"
   ]
  },
  {
   "cell_type": "code",
   "execution_count": 66,
   "id": "c4fefc3a",
   "metadata": {},
   "outputs": [
    {
     "data": {
      "text/plain": [
       "array([28.82026173, 22.00078604, 24.89368992, 31.204466  , 29.33778995,\n",
       "       15.1136106 , 24.75044209, 19.24321396, 19.48390574, 22.05299251,\n",
       "       20.72021786, 27.27136753, 23.80518863, 20.60837508, 22.21931616,\n",
       "       21.66837164, 27.47039537, 18.97420868, 21.56533851, 15.7295213 ,\n",
       "        7.23505092, 23.26809298, 24.32218099, 16.2891749 , 31.34877312,\n",
       "       12.72817163, 20.22879259, 19.06408075])"
      ]
     },
     "execution_count": 66,
     "metadata": {},
     "output_type": "execute_result"
    }
   ],
   "source": [
    "np.random.seed(0)\n",
    "np.random.normal(20, 5, 28)"
   ]
  },
  {
   "cell_type": "code",
   "execution_count": 67,
   "id": "1a59cb63",
   "metadata": {},
   "outputs": [
    {
     "data": {
      "text/plain": [
       "['Sun', 'Mon', 'Tue', 'Wed', 'Thu', 'Fri', 'Sat']"
      ]
     },
     "execution_count": 67,
     "metadata": {},
     "output_type": "execute_result"
    }
   ],
   "source": [
    "# create seven element list of strings, with the days of the week:\n",
    "\n",
    "days = \"Sun Mon Tue Wed Thu Fri Sat\".split()\n",
    "days"
   ]
  },
  {
   "cell_type": "code",
   "execution_count": 68,
   "id": "98382527",
   "metadata": {},
   "outputs": [],
   "source": [
    "np.random.seed(0)\n",
    "s = pd.Series(np.random.normal(20, 5, 28),\n",
    "             index=days*4).round().astype(np.int8)"
   ]
  },
  {
   "cell_type": "code",
   "execution_count": 69,
   "id": "020c923e",
   "metadata": {},
   "outputs": [
    {
     "data": {
      "text/plain": [
       "Sun    29\n",
       "Mon    22\n",
       "Tue    25\n",
       "Wed    31\n",
       "Thu    29\n",
       "Fri    15\n",
       "Sat    25\n",
       "Sun    19\n",
       "Mon    19\n",
       "Tue    22\n",
       "Wed    21\n",
       "Thu    27\n",
       "Fri    24\n",
       "Sat    21\n",
       "Sun    22\n",
       "Mon    22\n",
       "Tue    27\n",
       "Wed    19\n",
       "Thu    22\n",
       "Fri    16\n",
       "Sat     7\n",
       "Sun    23\n",
       "Mon    24\n",
       "Tue    16\n",
       "Wed    31\n",
       "Thu    13\n",
       "Fri    20\n",
       "Sat    19\n",
       "dtype: int8"
      ]
     },
     "execution_count": 69,
     "metadata": {},
     "output_type": "execute_result"
    }
   ],
   "source": [
    "s"
   ]
  },
  {
   "cell_type": "code",
   "execution_count": 70,
   "id": "d960ac97",
   "metadata": {},
   "outputs": [
    {
     "data": {
      "text/plain": [
       "21.75"
      ]
     },
     "execution_count": 70,
     "metadata": {},
     "output_type": "execute_result"
    }
   ],
   "source": [
    "s.loc[\"Mon\"].mean()"
   ]
  },
  {
   "cell_type": "markdown",
   "id": "478cdaf5",
   "metadata": {},
   "source": [
    "### 1.6.3 Beyond the exercise "
   ]
  },
  {
   "cell_type": "markdown",
   "id": "b4349871",
   "metadata": {},
   "source": [
    "#### Beyond 1\n",
    "What was the average temperature on the weekends (i.e., Saturdays and Sundays)"
   ]
  },
  {
   "cell_type": "code",
   "execution_count": 71,
   "id": "19fa8a24",
   "metadata": {},
   "outputs": [
    {
     "data": {
      "text/plain": [
       "Sat    25\n",
       "Sat    21\n",
       "Sat     7\n",
       "Sat    19\n",
       "Sun    29\n",
       "Sun    19\n",
       "Sun    22\n",
       "Sun    23\n",
       "dtype: int8"
      ]
     },
     "execution_count": 71,
     "metadata": {},
     "output_type": "execute_result"
    }
   ],
   "source": [
    "# Temperature on Sat and Sun\n",
    "s.loc[[\"Sat\", \"Sun\"]]"
   ]
  },
  {
   "cell_type": "code",
   "execution_count": 72,
   "id": "5d65535c",
   "metadata": {},
   "outputs": [
    {
     "data": {
      "text/plain": [
       "20.625"
      ]
     },
     "execution_count": 72,
     "metadata": {},
     "output_type": "execute_result"
    }
   ],
   "source": [
    "# Average of temperature on weekends\n",
    "s.loc[[\"Sat\", \"Sun\"]].mean()"
   ]
  },
  {
   "cell_type": "markdown",
   "id": "47d0ff53",
   "metadata": {},
   "source": [
    "#### Beyond 2\n",
    "How many times will be the change in temperatue from the previous day be greater than 2 degree"
   ]
  },
  {
   "cell_type": "code",
   "execution_count": 73,
   "id": "432394f6",
   "metadata": {},
   "outputs": [
    {
     "data": {
      "text/plain": [
       "Tue    25\n",
       "Wed    31\n",
       "Sat    25\n",
       "Tue    22\n",
       "Thu    27\n",
       "Tue    27\n",
       "Thu    22\n",
       "Sun    23\n",
       "Wed    31\n",
       "Fri    20\n",
       "dtype: int8"
      ]
     },
     "execution_count": 73,
     "metadata": {},
     "output_type": "execute_result"
    }
   ],
   "source": [
    "# By default .diff compares with the previous element\n",
    "\n",
    "s[s.diff() > 2]"
   ]
  },
  {
   "cell_type": "code",
   "execution_count": 74,
   "id": "37351f29",
   "metadata": {},
   "outputs": [
    {
     "data": {
      "text/plain": [
       "10"
      ]
     },
     "execution_count": 74,
     "metadata": {},
     "output_type": "execute_result"
    }
   ],
   "source": [
    "# How many times?\n",
    "s[s.diff() > 2].count()"
   ]
  },
  {
   "cell_type": "markdown",
   "id": "cac18312",
   "metadata": {},
   "source": [
    "#### Beyond \n",
    "What are the two most common temperatures in our data set, and how often does each appear?\n"
   ]
  },
  {
   "cell_type": "code",
   "execution_count": 75,
   "id": "d2878504",
   "metadata": {},
   "outputs": [
    {
     "data": {
      "text/plain": [
       "22    5\n",
       "19    4\n",
       "dtype: int64"
      ]
     },
     "execution_count": 75,
     "metadata": {},
     "output_type": "execute_result"
    }
   ],
   "source": [
    "# Two most common temperatures\n",
    "\n",
    "# value_counts returns a series in which the values from s are \n",
    "# the index, the number of appearances is the value, and the\n",
    "# items are ordered from most common to least common. We can\n",
    "# then use \"head\" to get only the 2 most common values.\n",
    "\n",
    "s.value_counts().head(2)"
   ]
  },
  {
   "cell_type": "markdown",
   "id": "f70324a8",
   "metadata": {},
   "source": [
    "# FANCY INDEXING\n"
   ]
  },
  {
   "cell_type": "markdown",
   "id": "83de45e4",
   "metadata": {},
   "source": [
    "### 1.7 Exercise 6 Passenger Frequency\n",
    "In this exercise, we’re going to start to look at some real-world data. We’ll be looking at reading from and writing to data in greater depth starting in chapter 3, but we’re going to start here by reading from a file into a series. This is possible with the workhorse pd.read_csv method, which normally returns a data frame but can be coerced into returning a series from a file with the squeeze parameter set to True. (This only works if each line of the file contains a single value, which makes it a CSV file without any commas in it.)\n",
    "\n",
    "The data we’ll look at is in the file taxi-passenger-count.csv, available along with the other data files used in this course. The data comes from 2015 data I retrieved from New York City’s open data site, from which you can get enormous amounts of information about taxi rides in New York city over the last few years. This file shows the number of passengers in each of 100,000 rides.\n",
    "\n",
    "Your task in this exercise is to show what percentage of taxi rides had only 1 passengers, vs. the maximum of 6 passengers."
   ]
  },
  {
   "cell_type": "code",
   "execution_count": 78,
   "id": "7a111094",
   "metadata": {},
   "outputs": [
    {
     "data": {
      "text/plain": [
       "0       1\n",
       "1       1\n",
       "2       1\n",
       "3       1\n",
       "4       1\n",
       "       ..\n",
       "9994    1\n",
       "9995    1\n",
       "9996    1\n",
       "9997    6\n",
       "9998    1\n",
       "Name: 0, Length: 9999, dtype: int64"
      ]
     },
     "execution_count": 78,
     "metadata": {},
     "output_type": "execute_result"
    }
   ],
   "source": [
    "s = pd.read_csv(\"../data/taxi-passenger-count.csv\", squeeze=True, header=None)\n",
    "s"
   ]
  },
  {
   "cell_type": "code",
   "execution_count": 81,
   "id": "4024c607",
   "metadata": {},
   "outputs": [
    {
     "data": {
      "text/plain": [
       "369"
      ]
     },
     "execution_count": 81,
     "metadata": {},
     "output_type": "execute_result"
    }
   ],
   "source": [
    "s[s==1].count()\n",
    "s[s==6].count()"
   ]
  },
  {
   "cell_type": "code",
   "execution_count": 82,
   "id": "02cfff3e",
   "metadata": {},
   "outputs": [
    {
     "data": {
      "text/plain": [
       "1    7207\n",
       "2    1313\n",
       "5     520\n",
       "3     406\n",
       "6     369\n",
       "4     182\n",
       "0       2\n",
       "Name: 0, dtype: int64"
      ]
     },
     "execution_count": 82,
     "metadata": {},
     "output_type": "execute_result"
    }
   ],
   "source": [
    "# A far easier way value_counts()\n",
    "s.value_counts()"
   ]
  },
  {
   "cell_type": "code",
   "execution_count": 83,
   "id": "2d78d49f",
   "metadata": {},
   "outputs": [
    {
     "data": {
      "text/plain": [
       "1    7207\n",
       "6     369\n",
       "Name: 0, dtype: int64"
      ]
     },
     "execution_count": 83,
     "metadata": {},
     "output_type": "execute_result"
    }
   ],
   "source": [
    "# Frequency of 1- and 6-passenger rides\n",
    "\n",
    "s.value_counts()[[1,6]]"
   ]
  },
  {
   "cell_type": "code",
   "execution_count": 85,
   "id": "837d6430",
   "metadata": {},
   "outputs": [
    {
     "data": {
      "text/plain": [
       "1    0.720772\n",
       "6    0.036904\n",
       "Name: 0, dtype: float64"
      ]
     },
     "execution_count": 85,
     "metadata": {},
     "output_type": "execute_result"
    }
   ],
   "source": [
    "# Normalize parameter to give the percentage value not the raw value\n",
    "s.value_counts(normalize=True)[[1,6]]"
   ]
  },
  {
   "cell_type": "markdown",
   "id": "940598d3",
   "metadata": {},
   "source": [
    "# 1.7.3 Beyond the exercise\n",
    "Let’s analyze our taxi passenger data in a few more ways:\n",
    "\n",
    "What are the 25%, 50% (median), and 75% quantiles for this data set? Can you guess the results before you execute the code?\n",
    "What proportion of taxi rides are for 3, 4, 5, or 6 passengers?\n",
    "Consider that you’re in charge of vehicle licensing for New York taxis. Given these numbers, would more people benefit from smaller taxis that can take only one or two passengers, or larger taxis that can take five or six passengers?"
   ]
  },
  {
   "cell_type": "markdown",
   "id": "0c6c60b6",
   "metadata": {},
   "source": [
    "#### Beyond 1\n",
    "What are the 25%, 50% (median), and 75% quantiles for this data set? Can you guess the results before you execute the code?"
   ]
  },
  {
   "cell_type": "code",
   "execution_count": 91,
   "id": "3833318f",
   "metadata": {},
   "outputs": [
    {
     "data": {
      "text/plain": [
       "1.0"
      ]
     },
     "execution_count": 91,
     "metadata": {},
     "output_type": "execute_result"
    }
   ],
   "source": [
    "# The 25%\n",
    "\n",
    "s.describe()[\"25%\"]"
   ]
  },
  {
   "cell_type": "code",
   "execution_count": 89,
   "id": "4cf3fbe7",
   "metadata": {},
   "outputs": [
    {
     "data": {
      "text/plain": [
       "1.0"
      ]
     },
     "execution_count": 89,
     "metadata": {},
     "output_type": "execute_result"
    }
   ],
   "source": [
    "# The 50%\n",
    "s.describe()[\"50%\"]"
   ]
  },
  {
   "cell_type": "code",
   "execution_count": 90,
   "id": "58b80fb0",
   "metadata": {},
   "outputs": [
    {
     "data": {
      "text/plain": [
       "2.0"
      ]
     },
     "execution_count": 90,
     "metadata": {},
     "output_type": "execute_result"
    }
   ],
   "source": [
    "# The 75%\n",
    "s.describe()[\"75%\"]"
   ]
  },
  {
   "cell_type": "code",
   "execution_count": 92,
   "id": "53922c3c",
   "metadata": {},
   "outputs": [
    {
     "data": {
      "text/plain": [
       "25%    1.0\n",
       "50%    1.0\n",
       "75%    2.0\n",
       "Name: 0, dtype: float64"
      ]
     },
     "execution_count": 92,
     "metadata": {},
     "output_type": "execute_result"
    }
   ],
   "source": [
    "# 25%, 50%, 75%\n",
    "s.describe()[[\"25%\", \"50%\", \"75%\"]]"
   ]
  },
  {
   "cell_type": "markdown",
   "id": "6b081361",
   "metadata": {},
   "source": [
    "#### Beyond 2\n",
    "What proportion of taxi rides are for 3,4,5 or 6 passengers"
   ]
  },
  {
   "cell_type": "code",
   "execution_count": 97,
   "id": "fd3773ce",
   "metadata": {},
   "outputs": [
    {
     "data": {
      "text/plain": [
       "0.1477147714771477"
      ]
     },
     "execution_count": 97,
     "metadata": {},
     "output_type": "execute_result"
    }
   ],
   "source": [
    "s.value_counts(normalize=True)[[3,4,5,6]].sum()"
   ]
  },
  {
   "cell_type": "markdown",
   "id": "0e8a5c79",
   "metadata": {},
   "source": [
    "#### Beyond 3\n",
    "Consider that you’re in charge of vehicle licensing for New York taxis. Given these numbers, would more people benefit from smaller taxis that can take only one or two passengers, or larger taxis that can take five or six passengers?"
   ]
  },
  {
   "cell_type": "code",
   "execution_count": 96,
   "id": "2078f2e2",
   "metadata": {},
   "outputs": [
    {
     "data": {
      "text/plain": [
       "1    7207\n",
       "2    1313\n",
       "5     520\n",
       "3     406\n",
       "6     369\n",
       "4     182\n",
       "0       2\n",
       "Name: 0, dtype: int64"
      ]
     },
     "execution_count": 96,
     "metadata": {},
     "output_type": "execute_result"
    }
   ],
   "source": [
    "s.value_counts()"
   ]
  },
  {
   "cell_type": "markdown",
   "id": "2f007bc9",
   "metadata": {},
   "source": [
    "Given that a huge proportion of then ride are 1 or 2, licensing more smaller taxi would benefit smaller taxi"
   ]
  },
  {
   "cell_type": "markdown",
   "id": "1195c7a5",
   "metadata": {},
   "source": [
    "## 1.8 Exercise 7: Long, medium, and short taxi rides\n",
    "In this exercise, we’re once again going to look at taxi data—but instead of looking at the number of passengers, we’re instead going to look at the distance (in miles) that each taxi ride went. Once again, I’ll ask you to create a series based on a single-column CSV file, taxi-distance.csv."
   ]
  },
  {
   "cell_type": "code",
   "execution_count": 112,
   "id": "a44f2e1b",
   "metadata": {},
   "outputs": [
    {
     "data": {
      "text/plain": [
       "0       1.63\n",
       "1       0.46\n",
       "2       0.87\n",
       "3       2.13\n",
       "4       1.40\n",
       "        ... \n",
       "9994    2.70\n",
       "9995    4.50\n",
       "9996    5.59\n",
       "9997    1.54\n",
       "9998    5.80\n",
       "Name: 0, Length: 9999, dtype: float64"
      ]
     },
     "execution_count": 112,
     "metadata": {},
     "output_type": "execute_result"
    }
   ],
   "source": [
    "# Load the data into a Series\n",
    "s = pd.read_csv(\"../data/taxi-distance.csv\", squeeze=True, header=None)\n",
    "s"
   ]
  },
  {
   "cell_type": "markdown",
   "id": "3b87329c",
   "metadata": {},
   "source": [
    "#### Approach\n",
    "Then, show the number of rides in each of three categories:\n",
    "\n",
    "short, ⇐ 2 miles\n",
    "medium, > 2 miles, but ⇐ 10 miles\n",
    "long, > 10 miles"
   ]
  },
  {
   "cell_type": "code",
   "execution_count": 118,
   "id": "445a9bb3",
   "metadata": {},
   "outputs": [
    {
     "data": {
      "text/plain": [
       "short     5890\n",
       "medium    3402\n",
       "long       707\n",
       "Name: 0, dtype: int64"
      ]
     },
     "execution_count": 118,
     "metadata": {},
     "output_type": "execute_result"
    }
   ],
   "source": [
    "# Use a combination of comparisons and assignment approach\n",
    "categories = s.astype(str)\n",
    "categories[:] = \"medium\"\n",
    "categories[s<=2] = \"short\"\n",
    "categories[s>10] = \"long\"\n",
    "categories.value_counts()"
   ]
  },
  {
   "cell_type": "code",
   "execution_count": 119,
   "id": "3b9db711",
   "metadata": {},
   "outputs": [
    {
     "data": {
      "text/plain": [
       "0        short\n",
       "1        short\n",
       "2        short\n",
       "3       medium\n",
       "4        short\n",
       "         ...  \n",
       "9994    medium\n",
       "9995    medium\n",
       "9996    medium\n",
       "9997     short\n",
       "9998    medium\n",
       "Name: 0, Length: 9999, dtype: category\n",
       "Categories (3, object): ['short' < 'medium' < 'long']"
      ]
     },
     "execution_count": 119,
     "metadata": {},
     "output_type": "execute_result"
    }
   ],
   "source": [
    "# pd.cut: Allows us to set numeric boundaries and then cut a series into parts\n",
    "# based on thos boundaries\n",
    "pd.cut(s, bins=[s.min(), 2, 10, s.max()],\n",
    "      labels=[\"short\", \"medium\", \"long\"])"
   ]
  },
  {
   "cell_type": "code",
   "execution_count": 121,
   "id": "be57d5da",
   "metadata": {},
   "outputs": [
    {
     "data": {
      "text/plain": [
       "short     5823\n",
       "medium    3402\n",
       "long       707\n",
       "Name: 0, dtype: int64"
      ]
     },
     "execution_count": 121,
     "metadata": {},
     "output_type": "execute_result"
    }
   ],
   "source": [
    "# The number of rides in each categories \n",
    "# Note that the bin boundaries are exclusive on the left\n",
    "# and inclusice on the right\n",
    "pd.cut(s, bins=[s.min(), 2, 10, s.max()],\n",
    "      labels=[\"short\", \"medium\", \"long\"]).value_counts()"
   ]
  },
  {
   "cell_type": "markdown",
   "id": "148f6885",
   "metadata": {},
   "source": [
    "### 1.8.3 Beyond the exercise"
   ]
  },
  {
   "cell_type": "code",
   "execution_count": 123,
   "id": "4c67471e",
   "metadata": {},
   "outputs": [
    {
     "data": {
      "text/plain": [
       "3.158510851085099"
      ]
     },
     "execution_count": 123,
     "metadata": {},
     "output_type": "execute_result"
    }
   ],
   "source": [
    "# Compare the mean and median trip distances\n",
    "# Mean distance\n",
    "s.mean()"
   ]
  },
  {
   "cell_type": "code",
   "execution_count": 124,
   "id": "9fa8428f",
   "metadata": {},
   "outputs": [
    {
     "data": {
      "text/plain": [
       "1.7"
      ]
     },
     "execution_count": 124,
     "metadata": {},
     "output_type": "execute_result"
    }
   ],
   "source": [
    "# Median\n",
    "s.median()"
   ]
  },
  {
   "cell_type": "markdown",
   "id": "07dba7c7",
   "metadata": {},
   "source": [
    "What does the value of the s.mean() and s.median() say about the distribution of our data?"
   ]
  },
  {
   "cell_type": "markdown",
   "id": "41451a4b",
   "metadata": {},
   "source": [
    "Given the mean and median of our data is different, it can inferred that the\n",
    "data is not normally distributed. Since the mean is greater that the median,\n",
    "it can be said that the data distribution is skewed to the rght hand side"
   ]
  },
  {
   "cell_type": "markdown",
   "id": "621c1761",
   "metadata": {},
   "source": [
    "#### Beyond 2\n",
    "How many short, medium and long trips were there for trips that had only one passenger?"
   ]
  },
  {
   "cell_type": "code",
   "execution_count": 135,
   "id": "17167e51",
   "metadata": {},
   "outputs": [
    {
     "data": {
      "text/plain": [
       "0       1\n",
       "1       1\n",
       "2       1\n",
       "3       1\n",
       "4       1\n",
       "       ..\n",
       "9994    1\n",
       "9995    1\n",
       "9996    1\n",
       "9997    6\n",
       "9998    1\n",
       "Name: 0, Length: 9999, dtype: int64"
      ]
     },
     "execution_count": 135,
     "metadata": {},
     "output_type": "execute_result"
    }
   ],
   "source": [
    "passenger_count = pd.read_csv(\"../data/taxi-passenger-count.csv\",\n",
    "                             squeeze=True,\n",
    "                             header=None)\n",
    "passenger_count"
   ]
  },
  {
   "cell_type": "code",
   "execution_count": 136,
   "id": "57131cfd",
   "metadata": {},
   "outputs": [
    {
     "data": {
      "text/plain": [
       "short     4285\n",
       "medium    2387\n",
       "long       487\n",
       "Name: 0, dtype: int64"
      ]
     },
     "execution_count": 136,
     "metadata": {},
     "output_type": "execute_result"
    }
   ],
   "source": [
    "pd.cut(s[passenger_count ==1],\n",
    "      bins=[s.min(), 2, 10, s.max()],\n",
    "      labels = [\"short\", \"medium\", \"long\"]).value_counts()"
   ]
  },
  {
   "cell_type": "markdown",
   "id": "ca87e362",
   "metadata": {},
   "source": [
    "#### Beyond 3\n",
    "What happens if we didn't pass explicit intervals and instead ask pd.cut to just create 3 bins, with bins=3"
   ]
  },
  {
   "cell_type": "code",
   "execution_count": 145,
   "id": "4e060637",
   "metadata": {},
   "outputs": [
    {
     "data": {
      "text/plain": [
       "(0       short\n",
       " 1       short\n",
       " 2       short\n",
       " 3       short\n",
       " 4       short\n",
       "         ...  \n",
       " 9993    short\n",
       " 9994    short\n",
       " 9995    short\n",
       " 9996    short\n",
       " 9998    short\n",
       " Name: 0, Length: 7207, dtype: category\n",
       " Categories (3, object): ['short' < 'medium' < 'long'],\n",
       " array([-0.0646    , 21.53333333, 43.06666667, 64.6       ]))"
      ]
     },
     "execution_count": 145,
     "metadata": {},
     "output_type": "execute_result"
    }
   ],
   "source": [
    "pd.cut(s[passenger_count == 1],\n",
    "      bins=3,\n",
    "      labels = [\"short\", \"medium\", \"long\"], retbins=True)"
   ]
  },
  {
   "cell_type": "code",
   "execution_count": null,
   "id": "4191d60e",
   "metadata": {},
   "outputs": [],
   "source": []
  }
 ],
 "metadata": {
  "kernelspec": {
   "display_name": "Python 3",
   "language": "python",
   "name": "python3"
  },
  "language_info": {
   "codemirror_mode": {
    "name": "ipython",
    "version": 3
   },
   "file_extension": ".py",
   "mimetype": "text/x-python",
   "name": "python",
   "nbconvert_exporter": "python",
   "pygments_lexer": "ipython3",
   "version": "3.9.6"
  }
 },
 "nbformat": 4,
 "nbformat_minor": 5
}
