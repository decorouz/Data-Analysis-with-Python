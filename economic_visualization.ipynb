{
 "cells": [
  {
   "cell_type": "markdown",
   "id": "9966d127",
   "metadata": {},
   "source": [
    "### What defines a successful society?\n",
    "* What social condition defines a successful society?\n",
    "* What are some economic outcomes(measures) that defines a successful society?\n",
    "\n",
    "### How Do You Measure Conditions and Outcomes?\n",
    "\n",
    "#### Outcomes\n",
    "One very popular way to assess the economic health of a country is through its gross domestic product (GDP). This number is important because the higher the GDP - meaning, the more production that’s happening - the more access to capital, employment opportunities, and variety of available consumption choices your citizens will enjoy.\n",
    "\n",
    "#### Measuring the underlying economic conditions\n",
    "What are the conditions that lie behind the widest possible enjoyment economic success?\n",
    "* Index of Economic Freedom: This includs labor, business, spending, and trade along with measures like govt integrity and respect for proerty rights \n"
   ]
  },
  {
   "cell_type": "markdown",
   "id": "88a26f7f",
   "metadata": {},
   "source": [
    "## Getting the Data\n",
    "We’ll want our data broken down to the per capita level because that’s the best way to get useful apples-to-apples comparisons between countries of different sizes.\n",
    "\n",
    "I got my GDP data from the World Bank site, on this page. My Index of Economic Freedom data I took from here."
   ]
  },
  {
   "cell_type": "code",
   "execution_count": 184,
   "id": "ea4f758d",
   "metadata": {},
   "outputs": [],
   "source": [
    "import pandas as pd\n",
    "import numpy as np\n",
    "import matplotlib as plt\n",
    "import matplotlib.pyplot as plt\n",
    "\n",
    "gdp = pd.read_csv(\"../data/exported_gdp.csv\")\n",
    "economic_index = pd.read_csv(\"../data/heritage_all_data.csv\")\n"
   ]
  },
  {
   "cell_type": "markdown",
   "id": "71cdce21",
   "metadata": {},
   "source": [
    "Running gdp shows us that the GDP data set has got 248 rows that include plenty of stuff we don’t want; like some null values (NaN) and at least a few rows at the end with general values that will get in the way of our focus on countries. We’ll need to clean all that up, but our code will simply ignore those general values, because there will be no corresponding rows in the ec_index dataframe."
   ]
  },
  {
   "cell_type": "code",
   "execution_count": 185,
   "id": "545772c4",
   "metadata": {},
   "outputs": [
    {
     "data": {
      "text/html": [
       "<div>\n",
       "<style scoped>\n",
       "    .dataframe tbody tr th:only-of-type {\n",
       "        vertical-align: middle;\n",
       "    }\n",
       "\n",
       "    .dataframe tbody tr th {\n",
       "        vertical-align: top;\n",
       "    }\n",
       "\n",
       "    .dataframe thead th {\n",
       "        text-align: right;\n",
       "    }\n",
       "</style>\n",
       "<table border=\"1\" class=\"dataframe\">\n",
       "  <thead>\n",
       "    <tr style=\"text-align: right;\">\n",
       "      <th></th>\n",
       "      <th>Country</th>\n",
       "      <th>Most Recent Year</th>\n",
       "      <th>Most Recent Value</th>\n",
       "      <th>Unnamed: 3</th>\n",
       "    </tr>\n",
       "  </thead>\n",
       "  <tbody>\n",
       "    <tr>\n",
       "      <th>0</th>\n",
       "      <td>Afghanistan</td>\n",
       "      <td>2020.0</td>\n",
       "      <td>2,087.6</td>\n",
       "      <td>NaN</td>\n",
       "    </tr>\n",
       "    <tr>\n",
       "      <th>1</th>\n",
       "      <td>Albania</td>\n",
       "      <td>2020.0</td>\n",
       "      <td>13,817.8</td>\n",
       "      <td>NaN</td>\n",
       "    </tr>\n",
       "    <tr>\n",
       "      <th>2</th>\n",
       "      <td>Algeria</td>\n",
       "      <td>2020.0</td>\n",
       "      <td>11,268.3</td>\n",
       "      <td>NaN</td>\n",
       "    </tr>\n",
       "    <tr>\n",
       "      <th>3</th>\n",
       "      <td>American Samoa</td>\n",
       "      <td>NaN</td>\n",
       "      <td>NaN</td>\n",
       "      <td>NaN</td>\n",
       "    </tr>\n",
       "    <tr>\n",
       "      <th>4</th>\n",
       "      <td>Andorra</td>\n",
       "      <td>NaN</td>\n",
       "      <td>NaN</td>\n",
       "      <td>NaN</td>\n",
       "    </tr>\n",
       "    <tr>\n",
       "      <th>...</th>\n",
       "      <td>...</td>\n",
       "      <td>...</td>\n",
       "      <td>...</td>\n",
       "      <td>...</td>\n",
       "    </tr>\n",
       "    <tr>\n",
       "      <th>243</th>\n",
       "      <td>Low &amp; middle income</td>\n",
       "      <td>2020.0</td>\n",
       "      <td>10,849.3</td>\n",
       "      <td>NaN</td>\n",
       "    </tr>\n",
       "    <tr>\n",
       "      <th>244</th>\n",
       "      <td>Low income</td>\n",
       "      <td>2020.0</td>\n",
       "      <td>2,523.8</td>\n",
       "      <td>NaN</td>\n",
       "    </tr>\n",
       "    <tr>\n",
       "      <th>245</th>\n",
       "      <td>Lower middle income</td>\n",
       "      <td>2020.0</td>\n",
       "      <td>7,092.0</td>\n",
       "      <td>NaN</td>\n",
       "    </tr>\n",
       "    <tr>\n",
       "      <th>246</th>\n",
       "      <td>Middle income</td>\n",
       "      <td>2020.0</td>\n",
       "      <td>11,815.9</td>\n",
       "      <td>NaN</td>\n",
       "    </tr>\n",
       "    <tr>\n",
       "      <th>247</th>\n",
       "      <td>Upper middle income</td>\n",
       "      <td>2020.0</td>\n",
       "      <td>18,065.1</td>\n",
       "      <td>NaN</td>\n",
       "    </tr>\n",
       "  </tbody>\n",
       "</table>\n",
       "<p>248 rows × 4 columns</p>\n",
       "</div>"
      ],
      "text/plain": [
       "                 Country  Most Recent Year Most Recent Value  Unnamed: 3\n",
       "0            Afghanistan            2020.0           2,087.6         NaN\n",
       "1                Albania            2020.0          13,817.8         NaN\n",
       "2                Algeria            2020.0          11,268.3         NaN\n",
       "3         American Samoa               NaN               NaN         NaN\n",
       "4                Andorra               NaN               NaN         NaN\n",
       "..                   ...               ...               ...         ...\n",
       "243  Low & middle income            2020.0          10,849.3         NaN\n",
       "244           Low income            2020.0           2,523.8         NaN\n",
       "245  Lower middle income            2020.0           7,092.0         NaN\n",
       "246        Middle income            2020.0          11,815.9         NaN\n",
       "247  Upper middle income            2020.0          18,065.1         NaN\n",
       "\n",
       "[248 rows x 4 columns]"
      ]
     },
     "execution_count": 185,
     "metadata": {},
     "output_type": "execute_result"
    }
   ],
   "source": [
    "gdp"
   ]
  },
  {
   "cell_type": "code",
   "execution_count": 186,
   "id": "56ce85bd",
   "metadata": {},
   "outputs": [
    {
     "data": {
      "text/html": [
       "<div>\n",
       "<style scoped>\n",
       "    .dataframe tbody tr th:only-of-type {\n",
       "        vertical-align: middle;\n",
       "    }\n",
       "\n",
       "    .dataframe tbody tr th {\n",
       "        vertical-align: top;\n",
       "    }\n",
       "\n",
       "    .dataframe thead th {\n",
       "        text-align: right;\n",
       "    }\n",
       "</style>\n",
       "<table border=\"1\" class=\"dataframe\">\n",
       "  <thead>\n",
       "    <tr style=\"text-align: right;\">\n",
       "      <th></th>\n",
       "      <th>Country</th>\n",
       "      <th>Most Recent Year</th>\n",
       "      <th>Most Recent Value</th>\n",
       "    </tr>\n",
       "  </thead>\n",
       "  <tbody>\n",
       "    <tr>\n",
       "      <th>0</th>\n",
       "      <td>Afghanistan</td>\n",
       "      <td>2020.0</td>\n",
       "      <td>2,087.6</td>\n",
       "    </tr>\n",
       "    <tr>\n",
       "      <th>1</th>\n",
       "      <td>Albania</td>\n",
       "      <td>2020.0</td>\n",
       "      <td>13,817.8</td>\n",
       "    </tr>\n",
       "    <tr>\n",
       "      <th>2</th>\n",
       "      <td>Algeria</td>\n",
       "      <td>2020.0</td>\n",
       "      <td>11,268.3</td>\n",
       "    </tr>\n",
       "    <tr>\n",
       "      <th>3</th>\n",
       "      <td>American Samoa</td>\n",
       "      <td>NaN</td>\n",
       "      <td>NaN</td>\n",
       "    </tr>\n",
       "    <tr>\n",
       "      <th>4</th>\n",
       "      <td>Andorra</td>\n",
       "      <td>NaN</td>\n",
       "      <td>NaN</td>\n",
       "    </tr>\n",
       "  </tbody>\n",
       "</table>\n",
       "</div>"
      ],
      "text/plain": [
       "          Country  Most Recent Year Most Recent Value\n",
       "0     Afghanistan            2020.0           2,087.6\n",
       "1         Albania            2020.0          13,817.8\n",
       "2         Algeria            2020.0          11,268.3\n",
       "3  American Samoa               NaN               NaN\n",
       "4         Andorra               NaN               NaN"
      ]
     },
     "execution_count": 186,
     "metadata": {},
     "output_type": "execute_result"
    }
   ],
   "source": [
    "gdp.drop(\"Unnamed: 3\", axis=1, inplace=True)\n",
    "gdp.head()"
   ]
  },
  {
   "cell_type": "code",
   "execution_count": 187,
   "id": "5f2a8964",
   "metadata": {},
   "outputs": [],
   "source": [
    "gdp.columns = [\"Country\", \"Year\", \"Value\"]"
   ]
  },
  {
   "cell_type": "code",
   "execution_count": 188,
   "id": "a84e7931",
   "metadata": {},
   "outputs": [
    {
     "data": {
      "text/plain": [
       "Country     object\n",
       "Year       float64\n",
       "Value       object\n",
       "dtype: object"
      ]
     },
     "execution_count": 188,
     "metadata": {},
     "output_type": "execute_result"
    }
   ],
   "source": [
    "gdp.dtypes"
   ]
  },
  {
   "cell_type": "code",
   "execution_count": 189,
   "id": "429832e6",
   "metadata": {},
   "outputs": [
    {
     "data": {
      "text/html": [
       "<div>\n",
       "<style scoped>\n",
       "    .dataframe tbody tr th:only-of-type {\n",
       "        vertical-align: middle;\n",
       "    }\n",
       "\n",
       "    .dataframe tbody tr th {\n",
       "        vertical-align: top;\n",
       "    }\n",
       "\n",
       "    .dataframe thead th {\n",
       "        text-align: right;\n",
       "    }\n",
       "</style>\n",
       "<table border=\"1\" class=\"dataframe\">\n",
       "  <thead>\n",
       "    <tr style=\"text-align: right;\">\n",
       "      <th></th>\n",
       "      <th>Country</th>\n",
       "      <th>Year</th>\n",
       "      <th>Value</th>\n",
       "    </tr>\n",
       "  </thead>\n",
       "  <tbody>\n",
       "    <tr>\n",
       "      <th>0</th>\n",
       "      <td>Afghanistan</td>\n",
       "      <td>2020.0</td>\n",
       "      <td>2,087.6</td>\n",
       "    </tr>\n",
       "    <tr>\n",
       "      <th>1</th>\n",
       "      <td>Albania</td>\n",
       "      <td>2020.0</td>\n",
       "      <td>13,817.8</td>\n",
       "    </tr>\n",
       "    <tr>\n",
       "      <th>2</th>\n",
       "      <td>Algeria</td>\n",
       "      <td>2020.0</td>\n",
       "      <td>11,268.3</td>\n",
       "    </tr>\n",
       "    <tr>\n",
       "      <th>3</th>\n",
       "      <td>American Samoa</td>\n",
       "      <td>NaN</td>\n",
       "      <td>NaN</td>\n",
       "    </tr>\n",
       "    <tr>\n",
       "      <th>4</th>\n",
       "      <td>Andorra</td>\n",
       "      <td>NaN</td>\n",
       "      <td>NaN</td>\n",
       "    </tr>\n",
       "    <tr>\n",
       "      <th>...</th>\n",
       "      <td>...</td>\n",
       "      <td>...</td>\n",
       "      <td>...</td>\n",
       "    </tr>\n",
       "    <tr>\n",
       "      <th>243</th>\n",
       "      <td>Low &amp; middle income</td>\n",
       "      <td>2020.0</td>\n",
       "      <td>10,849.3</td>\n",
       "    </tr>\n",
       "    <tr>\n",
       "      <th>244</th>\n",
       "      <td>Low income</td>\n",
       "      <td>2020.0</td>\n",
       "      <td>2,523.8</td>\n",
       "    </tr>\n",
       "    <tr>\n",
       "      <th>245</th>\n",
       "      <td>Lower middle income</td>\n",
       "      <td>2020.0</td>\n",
       "      <td>7,092.0</td>\n",
       "    </tr>\n",
       "    <tr>\n",
       "      <th>246</th>\n",
       "      <td>Middle income</td>\n",
       "      <td>2020.0</td>\n",
       "      <td>11,815.9</td>\n",
       "    </tr>\n",
       "    <tr>\n",
       "      <th>247</th>\n",
       "      <td>Upper middle income</td>\n",
       "      <td>2020.0</td>\n",
       "      <td>18,065.1</td>\n",
       "    </tr>\n",
       "  </tbody>\n",
       "</table>\n",
       "<p>248 rows × 3 columns</p>\n",
       "</div>"
      ],
      "text/plain": [
       "                 Country    Year     Value\n",
       "0            Afghanistan  2020.0   2,087.6\n",
       "1                Albania  2020.0  13,817.8\n",
       "2                Algeria  2020.0  11,268.3\n",
       "3         American Samoa     NaN       NaN\n",
       "4                Andorra     NaN       NaN\n",
       "..                   ...     ...       ...\n",
       "243  Low & middle income  2020.0  10,849.3\n",
       "244           Low income  2020.0   2,523.8\n",
       "245  Lower middle income  2020.0   7,092.0\n",
       "246        Middle income  2020.0  11,815.9\n",
       "247  Upper middle income  2020.0  18,065.1\n",
       "\n",
       "[248 rows x 3 columns]"
      ]
     },
     "execution_count": 189,
     "metadata": {},
     "output_type": "execute_result"
    }
   ],
   "source": [
    "gdp"
   ]
  },
  {
   "cell_type": "markdown",
   "id": "59d750cd",
   "metadata": {},
   "source": [
    "dtypes shows us that the Year and Value columns are already formatted as float64, which is perfect for us."
   ]
  },
  {
   "cell_type": "code",
   "execution_count": 190,
   "id": "ecf05867",
   "metadata": {},
   "outputs": [
    {
     "data": {
      "text/html": [
       "<div>\n",
       "<style scoped>\n",
       "    .dataframe tbody tr th:only-of-type {\n",
       "        vertical-align: middle;\n",
       "    }\n",
       "\n",
       "    .dataframe tbody tr th {\n",
       "        vertical-align: top;\n",
       "    }\n",
       "\n",
       "    .dataframe thead th {\n",
       "        text-align: right;\n",
       "    }\n",
       "</style>\n",
       "<table border=\"1\" class=\"dataframe\">\n",
       "  <thead>\n",
       "    <tr style=\"text-align: right;\">\n",
       "      <th></th>\n",
       "      <th>Country</th>\n",
       "      <th>Year</th>\n",
       "      <th>Value</th>\n",
       "    </tr>\n",
       "  </thead>\n",
       "  <tbody>\n",
       "    <tr>\n",
       "      <th>0</th>\n",
       "      <td>Afghanistan</td>\n",
       "      <td>2020.0</td>\n",
       "      <td>2,087.6</td>\n",
       "    </tr>\n",
       "    <tr>\n",
       "      <th>1</th>\n",
       "      <td>Albania</td>\n",
       "      <td>2020.0</td>\n",
       "      <td>13,817.8</td>\n",
       "    </tr>\n",
       "    <tr>\n",
       "      <th>2</th>\n",
       "      <td>Algeria</td>\n",
       "      <td>2020.0</td>\n",
       "      <td>11,268.3</td>\n",
       "    </tr>\n",
       "    <tr>\n",
       "      <th>3</th>\n",
       "      <td>American Samoa</td>\n",
       "      <td>NaN</td>\n",
       "      <td>NaN</td>\n",
       "    </tr>\n",
       "    <tr>\n",
       "      <th>4</th>\n",
       "      <td>Andorra</td>\n",
       "      <td>NaN</td>\n",
       "      <td>NaN</td>\n",
       "    </tr>\n",
       "    <tr>\n",
       "      <th>...</th>\n",
       "      <td>...</td>\n",
       "      <td>...</td>\n",
       "      <td>...</td>\n",
       "    </tr>\n",
       "    <tr>\n",
       "      <th>243</th>\n",
       "      <td>Low &amp; middle income</td>\n",
       "      <td>2020.0</td>\n",
       "      <td>10,849.3</td>\n",
       "    </tr>\n",
       "    <tr>\n",
       "      <th>244</th>\n",
       "      <td>Low income</td>\n",
       "      <td>2020.0</td>\n",
       "      <td>2,523.8</td>\n",
       "    </tr>\n",
       "    <tr>\n",
       "      <th>245</th>\n",
       "      <td>Lower middle income</td>\n",
       "      <td>2020.0</td>\n",
       "      <td>7,092.0</td>\n",
       "    </tr>\n",
       "    <tr>\n",
       "      <th>246</th>\n",
       "      <td>Middle income</td>\n",
       "      <td>2020.0</td>\n",
       "      <td>11,815.9</td>\n",
       "    </tr>\n",
       "    <tr>\n",
       "      <th>247</th>\n",
       "      <td>Upper middle income</td>\n",
       "      <td>2020.0</td>\n",
       "      <td>18,065.1</td>\n",
       "    </tr>\n",
       "  </tbody>\n",
       "</table>\n",
       "<p>248 rows × 3 columns</p>\n",
       "</div>"
      ],
      "text/plain": [
       "                 Country    Year     Value\n",
       "0            Afghanistan  2020.0   2,087.6\n",
       "1                Albania  2020.0  13,817.8\n",
       "2                Algeria  2020.0  11,268.3\n",
       "3         American Samoa     NaN       NaN\n",
       "4                Andorra     NaN       NaN\n",
       "..                   ...     ...       ...\n",
       "243  Low & middle income  2020.0  10,849.3\n",
       "244           Low income  2020.0   2,523.8\n",
       "245  Lower middle income  2020.0   7,092.0\n",
       "246        Middle income  2020.0  11,815.9\n",
       "247  Upper middle income  2020.0  18,065.1\n",
       "\n",
       "[248 rows x 3 columns]"
      ]
     },
     "execution_count": 190,
     "metadata": {},
     "output_type": "execute_result"
    }
   ],
   "source": [
    "gdp"
   ]
  },
  {
   "cell_type": "code",
   "execution_count": 191,
   "id": "2f875851",
   "metadata": {},
   "outputs": [
    {
     "data": {
      "text/html": [
       "<div>\n",
       "<style scoped>\n",
       "    .dataframe tbody tr th:only-of-type {\n",
       "        vertical-align: middle;\n",
       "    }\n",
       "\n",
       "    .dataframe tbody tr th {\n",
       "        vertical-align: top;\n",
       "    }\n",
       "\n",
       "    .dataframe thead th {\n",
       "        text-align: right;\n",
       "    }\n",
       "</style>\n",
       "<table border=\"1\" class=\"dataframe\">\n",
       "  <thead>\n",
       "    <tr style=\"text-align: right;\">\n",
       "      <th></th>\n",
       "      <th>Name</th>\n",
       "      <th>Index Year</th>\n",
       "      <th>Overall Score</th>\n",
       "      <th>Property Rights</th>\n",
       "      <th>Government Integrity</th>\n",
       "      <th>Judicial Effectiveness</th>\n",
       "      <th>Tax Burden</th>\n",
       "      <th>Government Spending</th>\n",
       "      <th>Fiscal Health</th>\n",
       "      <th>Business Freedom</th>\n",
       "      <th>Labor Freedom</th>\n",
       "      <th>Monetary Freedom</th>\n",
       "      <th>Trade Freedom</th>\n",
       "      <th>Investment Freedom</th>\n",
       "      <th>Financial Freedom</th>\n",
       "    </tr>\n",
       "  </thead>\n",
       "  <tbody>\n",
       "    <tr>\n",
       "      <th>0</th>\n",
       "      <td>Afghanistan</td>\n",
       "      <td>2020</td>\n",
       "      <td>54.7</td>\n",
       "      <td>48.3</td>\n",
       "      <td>24.8</td>\n",
       "      <td>30.0</td>\n",
       "      <td>91.4</td>\n",
       "      <td>79.2</td>\n",
       "      <td>99.9</td>\n",
       "      <td>54.7</td>\n",
       "      <td>61.6</td>\n",
       "      <td>81.0</td>\n",
       "      <td>66.0</td>\n",
       "      <td>10.0</td>\n",
       "      <td>10.0</td>\n",
       "    </tr>\n",
       "    <tr>\n",
       "      <th>1</th>\n",
       "      <td>Albania</td>\n",
       "      <td>2020</td>\n",
       "      <td>66.9</td>\n",
       "      <td>57.1</td>\n",
       "      <td>38.8</td>\n",
       "      <td>33.0</td>\n",
       "      <td>85.9</td>\n",
       "      <td>74.6</td>\n",
       "      <td>86.3</td>\n",
       "      <td>65.7</td>\n",
       "      <td>52.1</td>\n",
       "      <td>81.2</td>\n",
       "      <td>88.4</td>\n",
       "      <td>70.0</td>\n",
       "      <td>70.0</td>\n",
       "    </tr>\n",
       "    <tr>\n",
       "      <th>2</th>\n",
       "      <td>Algeria</td>\n",
       "      <td>2020</td>\n",
       "      <td>46.9</td>\n",
       "      <td>37.9</td>\n",
       "      <td>28.3</td>\n",
       "      <td>35.0</td>\n",
       "      <td>75.4</td>\n",
       "      <td>52.6</td>\n",
       "      <td>17.3</td>\n",
       "      <td>63.0</td>\n",
       "      <td>50.5</td>\n",
       "      <td>76.2</td>\n",
       "      <td>66.2</td>\n",
       "      <td>30.0</td>\n",
       "      <td>30.0</td>\n",
       "    </tr>\n",
       "    <tr>\n",
       "      <th>3</th>\n",
       "      <td>Angola</td>\n",
       "      <td>2020</td>\n",
       "      <td>52.2</td>\n",
       "      <td>36.9</td>\n",
       "      <td>15.1</td>\n",
       "      <td>14.3</td>\n",
       "      <td>87.3</td>\n",
       "      <td>85.7</td>\n",
       "      <td>71.9</td>\n",
       "      <td>57.7</td>\n",
       "      <td>61.1</td>\n",
       "      <td>59.6</td>\n",
       "      <td>66.2</td>\n",
       "      <td>30.0</td>\n",
       "      <td>40.0</td>\n",
       "    </tr>\n",
       "    <tr>\n",
       "      <th>4</th>\n",
       "      <td>Argentina</td>\n",
       "      <td>2020</td>\n",
       "      <td>53.1</td>\n",
       "      <td>50.5</td>\n",
       "      <td>49.7</td>\n",
       "      <td>47.0</td>\n",
       "      <td>69.6</td>\n",
       "      <td>50.7</td>\n",
       "      <td>24.7</td>\n",
       "      <td>60.2</td>\n",
       "      <td>46.5</td>\n",
       "      <td>53.7</td>\n",
       "      <td>69.2</td>\n",
       "      <td>55.0</td>\n",
       "      <td>60.0</td>\n",
       "    </tr>\n",
       "  </tbody>\n",
       "</table>\n",
       "</div>"
      ],
      "text/plain": [
       "          Name  Index Year  Overall Score  Property Rights  \\\n",
       "0  Afghanistan        2020           54.7             48.3   \n",
       "1      Albania        2020           66.9             57.1   \n",
       "2      Algeria        2020           46.9             37.9   \n",
       "3       Angola        2020           52.2             36.9   \n",
       "4    Argentina        2020           53.1             50.5   \n",
       "\n",
       "   Government Integrity  Judicial Effectiveness  Tax Burden  \\\n",
       "0                  24.8                    30.0        91.4   \n",
       "1                  38.8                    33.0        85.9   \n",
       "2                  28.3                    35.0        75.4   \n",
       "3                  15.1                    14.3        87.3   \n",
       "4                  49.7                    47.0        69.6   \n",
       "\n",
       "   Government Spending  Fiscal Health  Business Freedom  Labor Freedom  \\\n",
       "0                 79.2           99.9              54.7           61.6   \n",
       "1                 74.6           86.3              65.7           52.1   \n",
       "2                 52.6           17.3              63.0           50.5   \n",
       "3                 85.7           71.9              57.7           61.1   \n",
       "4                 50.7           24.7              60.2           46.5   \n",
       "\n",
       "   Monetary Freedom  Trade Freedom  Investment Freedom  Financial Freedom  \n",
       "0              81.0           66.0                10.0               10.0  \n",
       "1              81.2           88.4                70.0               70.0  \n",
       "2              76.2           66.2                30.0               30.0  \n",
       "3              59.6           66.2                30.0               40.0  \n",
       "4              53.7           69.2                55.0               60.0  "
      ]
     },
     "execution_count": 191,
     "metadata": {},
     "output_type": "execute_result"
    }
   ],
   "source": [
    "economic_index.head()"
   ]
  },
  {
   "cell_type": "code",
   "execution_count": 192,
   "id": "7ce4f595",
   "metadata": {},
   "outputs": [
    {
     "data": {
      "text/plain": [
       "Country     object\n",
       "Year       float64\n",
       "Value       object\n",
       "dtype: object"
      ]
     },
     "execution_count": 192,
     "metadata": {},
     "output_type": "execute_result"
    }
   ],
   "source": [
    "gdp.dtypes"
   ]
  },
  {
   "cell_type": "markdown",
   "id": "7e42d60a",
   "metadata": {},
   "source": [
    "We should also check the column data types used in our Index of Economic Freedom dataframe (that I called “score”). The only three columns we’ll be interested in here are Name (which holds country names) and Index Year (because there are multiple years of data included), and Overall Score."
   ]
  },
  {
   "cell_type": "code",
   "execution_count": 193,
   "id": "2d952807",
   "metadata": {},
   "outputs": [
    {
     "data": {
      "text/html": [
       "<div>\n",
       "<style scoped>\n",
       "    .dataframe tbody tr th:only-of-type {\n",
       "        vertical-align: middle;\n",
       "    }\n",
       "\n",
       "    .dataframe tbody tr th {\n",
       "        vertical-align: top;\n",
       "    }\n",
       "\n",
       "    .dataframe thead th {\n",
       "        text-align: right;\n",
       "    }\n",
       "</style>\n",
       "<table border=\"1\" class=\"dataframe\">\n",
       "  <thead>\n",
       "    <tr style=\"text-align: right;\">\n",
       "      <th></th>\n",
       "      <th>Name</th>\n",
       "      <th>Index Year</th>\n",
       "      <th>Overall Score</th>\n",
       "      <th>Property Rights</th>\n",
       "      <th>Government Integrity</th>\n",
       "      <th>Judicial Effectiveness</th>\n",
       "      <th>Tax Burden</th>\n",
       "      <th>Government Spending</th>\n",
       "      <th>Fiscal Health</th>\n",
       "      <th>Business Freedom</th>\n",
       "      <th>Labor Freedom</th>\n",
       "      <th>Monetary Freedom</th>\n",
       "      <th>Trade Freedom</th>\n",
       "      <th>Investment Freedom</th>\n",
       "      <th>Financial Freedom</th>\n",
       "    </tr>\n",
       "  </thead>\n",
       "  <tbody>\n",
       "    <tr>\n",
       "      <th>0</th>\n",
       "      <td>Afghanistan</td>\n",
       "      <td>2020</td>\n",
       "      <td>54.7</td>\n",
       "      <td>48.3</td>\n",
       "      <td>24.8</td>\n",
       "      <td>30.0</td>\n",
       "      <td>91.4</td>\n",
       "      <td>79.2</td>\n",
       "      <td>99.9</td>\n",
       "      <td>54.7</td>\n",
       "      <td>61.6</td>\n",
       "      <td>81.0</td>\n",
       "      <td>66.0</td>\n",
       "      <td>10.0</td>\n",
       "      <td>10.0</td>\n",
       "    </tr>\n",
       "    <tr>\n",
       "      <th>1</th>\n",
       "      <td>Albania</td>\n",
       "      <td>2020</td>\n",
       "      <td>66.9</td>\n",
       "      <td>57.1</td>\n",
       "      <td>38.8</td>\n",
       "      <td>33.0</td>\n",
       "      <td>85.9</td>\n",
       "      <td>74.6</td>\n",
       "      <td>86.3</td>\n",
       "      <td>65.7</td>\n",
       "      <td>52.1</td>\n",
       "      <td>81.2</td>\n",
       "      <td>88.4</td>\n",
       "      <td>70.0</td>\n",
       "      <td>70.0</td>\n",
       "    </tr>\n",
       "    <tr>\n",
       "      <th>2</th>\n",
       "      <td>Algeria</td>\n",
       "      <td>2020</td>\n",
       "      <td>46.9</td>\n",
       "      <td>37.9</td>\n",
       "      <td>28.3</td>\n",
       "      <td>35.0</td>\n",
       "      <td>75.4</td>\n",
       "      <td>52.6</td>\n",
       "      <td>17.3</td>\n",
       "      <td>63.0</td>\n",
       "      <td>50.5</td>\n",
       "      <td>76.2</td>\n",
       "      <td>66.2</td>\n",
       "      <td>30.0</td>\n",
       "      <td>30.0</td>\n",
       "    </tr>\n",
       "    <tr>\n",
       "      <th>3</th>\n",
       "      <td>Angola</td>\n",
       "      <td>2020</td>\n",
       "      <td>52.2</td>\n",
       "      <td>36.9</td>\n",
       "      <td>15.1</td>\n",
       "      <td>14.3</td>\n",
       "      <td>87.3</td>\n",
       "      <td>85.7</td>\n",
       "      <td>71.9</td>\n",
       "      <td>57.7</td>\n",
       "      <td>61.1</td>\n",
       "      <td>59.6</td>\n",
       "      <td>66.2</td>\n",
       "      <td>30.0</td>\n",
       "      <td>40.0</td>\n",
       "    </tr>\n",
       "    <tr>\n",
       "      <th>4</th>\n",
       "      <td>Argentina</td>\n",
       "      <td>2020</td>\n",
       "      <td>53.1</td>\n",
       "      <td>50.5</td>\n",
       "      <td>49.7</td>\n",
       "      <td>47.0</td>\n",
       "      <td>69.6</td>\n",
       "      <td>50.7</td>\n",
       "      <td>24.7</td>\n",
       "      <td>60.2</td>\n",
       "      <td>46.5</td>\n",
       "      <td>53.7</td>\n",
       "      <td>69.2</td>\n",
       "      <td>55.0</td>\n",
       "      <td>60.0</td>\n",
       "    </tr>\n",
       "    <tr>\n",
       "      <th>...</th>\n",
       "      <td>...</td>\n",
       "      <td>...</td>\n",
       "      <td>...</td>\n",
       "      <td>...</td>\n",
       "      <td>...</td>\n",
       "      <td>...</td>\n",
       "      <td>...</td>\n",
       "      <td>...</td>\n",
       "      <td>...</td>\n",
       "      <td>...</td>\n",
       "      <td>...</td>\n",
       "      <td>...</td>\n",
       "      <td>...</td>\n",
       "      <td>...</td>\n",
       "      <td>...</td>\n",
       "    </tr>\n",
       "    <tr>\n",
       "      <th>181</th>\n",
       "      <td>Venezuela</td>\n",
       "      <td>2020</td>\n",
       "      <td>25.2</td>\n",
       "      <td>10.1</td>\n",
       "      <td>14.6</td>\n",
       "      <td>12.6</td>\n",
       "      <td>72.8</td>\n",
       "      <td>66.3</td>\n",
       "      <td>0.0</td>\n",
       "      <td>30.8</td>\n",
       "      <td>27.7</td>\n",
       "      <td>0.0</td>\n",
       "      <td>58.0</td>\n",
       "      <td>0.0</td>\n",
       "      <td>10.0</td>\n",
       "    </tr>\n",
       "    <tr>\n",
       "      <th>182</th>\n",
       "      <td>Vietnam</td>\n",
       "      <td>2020</td>\n",
       "      <td>58.8</td>\n",
       "      <td>52.6</td>\n",
       "      <td>33.8</td>\n",
       "      <td>40.1</td>\n",
       "      <td>79.5</td>\n",
       "      <td>75.9</td>\n",
       "      <td>58.0</td>\n",
       "      <td>65.6</td>\n",
       "      <td>62.5</td>\n",
       "      <td>68.2</td>\n",
       "      <td>79.6</td>\n",
       "      <td>40.0</td>\n",
       "      <td>50.0</td>\n",
       "    </tr>\n",
       "    <tr>\n",
       "      <th>183</th>\n",
       "      <td>Yemen</td>\n",
       "      <td>2020</td>\n",
       "      <td>NaN</td>\n",
       "      <td>22.5</td>\n",
       "      <td>21.9</td>\n",
       "      <td>20.1</td>\n",
       "      <td>NaN</td>\n",
       "      <td>96.5</td>\n",
       "      <td>60.1</td>\n",
       "      <td>43.9</td>\n",
       "      <td>43.8</td>\n",
       "      <td>42.6</td>\n",
       "      <td>70.0</td>\n",
       "      <td>50.0</td>\n",
       "      <td>NaN</td>\n",
       "    </tr>\n",
       "    <tr>\n",
       "      <th>184</th>\n",
       "      <td>Zambia</td>\n",
       "      <td>2020</td>\n",
       "      <td>53.5</td>\n",
       "      <td>45.2</td>\n",
       "      <td>28.4</td>\n",
       "      <td>31.3</td>\n",
       "      <td>73.2</td>\n",
       "      <td>81.7</td>\n",
       "      <td>18.4</td>\n",
       "      <td>66.4</td>\n",
       "      <td>47.0</td>\n",
       "      <td>72.2</td>\n",
       "      <td>72.6</td>\n",
       "      <td>55.0</td>\n",
       "      <td>50.0</td>\n",
       "    </tr>\n",
       "    <tr>\n",
       "      <th>185</th>\n",
       "      <td>Zimbabwe</td>\n",
       "      <td>2020</td>\n",
       "      <td>43.1</td>\n",
       "      <td>33.7</td>\n",
       "      <td>18.9</td>\n",
       "      <td>28.3</td>\n",
       "      <td>62.3</td>\n",
       "      <td>88.0</td>\n",
       "      <td>36.2</td>\n",
       "      <td>39.1</td>\n",
       "      <td>43.1</td>\n",
       "      <td>62.8</td>\n",
       "      <td>70.0</td>\n",
       "      <td>25.0</td>\n",
       "      <td>10.0</td>\n",
       "    </tr>\n",
       "  </tbody>\n",
       "</table>\n",
       "<p>186 rows × 15 columns</p>\n",
       "</div>"
      ],
      "text/plain": [
       "            Name  Index Year  Overall Score  Property Rights  \\\n",
       "0    Afghanistan        2020           54.7             48.3   \n",
       "1        Albania        2020           66.9             57.1   \n",
       "2        Algeria        2020           46.9             37.9   \n",
       "3         Angola        2020           52.2             36.9   \n",
       "4      Argentina        2020           53.1             50.5   \n",
       "..           ...         ...            ...              ...   \n",
       "181    Venezuela        2020           25.2             10.1   \n",
       "182      Vietnam        2020           58.8             52.6   \n",
       "183        Yemen        2020            NaN             22.5   \n",
       "184       Zambia        2020           53.5             45.2   \n",
       "185     Zimbabwe        2020           43.1             33.7   \n",
       "\n",
       "     Government Integrity  Judicial Effectiveness  Tax Burden  \\\n",
       "0                    24.8                    30.0        91.4   \n",
       "1                    38.8                    33.0        85.9   \n",
       "2                    28.3                    35.0        75.4   \n",
       "3                    15.1                    14.3        87.3   \n",
       "4                    49.7                    47.0        69.6   \n",
       "..                    ...                     ...         ...   \n",
       "181                  14.6                    12.6        72.8   \n",
       "182                  33.8                    40.1        79.5   \n",
       "183                  21.9                    20.1         NaN   \n",
       "184                  28.4                    31.3        73.2   \n",
       "185                  18.9                    28.3        62.3   \n",
       "\n",
       "     Government Spending  Fiscal Health  Business Freedom  Labor Freedom  \\\n",
       "0                   79.2           99.9              54.7           61.6   \n",
       "1                   74.6           86.3              65.7           52.1   \n",
       "2                   52.6           17.3              63.0           50.5   \n",
       "3                   85.7           71.9              57.7           61.1   \n",
       "4                   50.7           24.7              60.2           46.5   \n",
       "..                   ...            ...               ...            ...   \n",
       "181                 66.3            0.0              30.8           27.7   \n",
       "182                 75.9           58.0              65.6           62.5   \n",
       "183                 96.5           60.1              43.9           43.8   \n",
       "184                 81.7           18.4              66.4           47.0   \n",
       "185                 88.0           36.2              39.1           43.1   \n",
       "\n",
       "     Monetary Freedom  Trade Freedom  Investment Freedom  Financial Freedom  \n",
       "0                81.0           66.0                10.0               10.0  \n",
       "1                81.2           88.4                70.0               70.0  \n",
       "2                76.2           66.2                30.0               30.0  \n",
       "3                59.6           66.2                30.0               40.0  \n",
       "4                53.7           69.2                55.0               60.0  \n",
       "..                ...            ...                 ...                ...  \n",
       "181               0.0           58.0                 0.0               10.0  \n",
       "182              68.2           79.6                40.0               50.0  \n",
       "183              42.6           70.0                50.0                NaN  \n",
       "184              72.2           72.6                55.0               50.0  \n",
       "185              62.8           70.0                25.0               10.0  \n",
       "\n",
       "[186 rows x 15 columns]"
      ]
     },
     "execution_count": 193,
     "metadata": {},
     "output_type": "execute_result"
    }
   ],
   "source": [
    "economic_index"
   ]
  },
  {
   "cell_type": "code",
   "execution_count": 194,
   "id": "f993fd98",
   "metadata": {},
   "outputs": [
    {
     "data": {
      "text/html": [
       "<div>\n",
       "<style scoped>\n",
       "    .dataframe tbody tr th:only-of-type {\n",
       "        vertical-align: middle;\n",
       "    }\n",
       "\n",
       "    .dataframe tbody tr th {\n",
       "        vertical-align: top;\n",
       "    }\n",
       "\n",
       "    .dataframe thead th {\n",
       "        text-align: right;\n",
       "    }\n",
       "</style>\n",
       "<table border=\"1\" class=\"dataframe\">\n",
       "  <thead>\n",
       "    <tr style=\"text-align: right;\">\n",
       "      <th></th>\n",
       "      <th>Country</th>\n",
       "      <th>Year</th>\n",
       "      <th>Value</th>\n",
       "    </tr>\n",
       "  </thead>\n",
       "  <tbody>\n",
       "    <tr>\n",
       "      <th>0</th>\n",
       "      <td>Afghanistan</td>\n",
       "      <td>2020.0</td>\n",
       "      <td>2,087.6</td>\n",
       "    </tr>\n",
       "    <tr>\n",
       "      <th>1</th>\n",
       "      <td>Albania</td>\n",
       "      <td>2020.0</td>\n",
       "      <td>13,817.8</td>\n",
       "    </tr>\n",
       "    <tr>\n",
       "      <th>2</th>\n",
       "      <td>Algeria</td>\n",
       "      <td>2020.0</td>\n",
       "      <td>11,268.3</td>\n",
       "    </tr>\n",
       "    <tr>\n",
       "      <th>3</th>\n",
       "      <td>American Samoa</td>\n",
       "      <td>NaN</td>\n",
       "      <td>NaN</td>\n",
       "    </tr>\n",
       "    <tr>\n",
       "      <th>4</th>\n",
       "      <td>Andorra</td>\n",
       "      <td>NaN</td>\n",
       "      <td>NaN</td>\n",
       "    </tr>\n",
       "    <tr>\n",
       "      <th>...</th>\n",
       "      <td>...</td>\n",
       "      <td>...</td>\n",
       "      <td>...</td>\n",
       "    </tr>\n",
       "    <tr>\n",
       "      <th>243</th>\n",
       "      <td>Low &amp; middle income</td>\n",
       "      <td>2020.0</td>\n",
       "      <td>10,849.3</td>\n",
       "    </tr>\n",
       "    <tr>\n",
       "      <th>244</th>\n",
       "      <td>Low income</td>\n",
       "      <td>2020.0</td>\n",
       "      <td>2,523.8</td>\n",
       "    </tr>\n",
       "    <tr>\n",
       "      <th>245</th>\n",
       "      <td>Lower middle income</td>\n",
       "      <td>2020.0</td>\n",
       "      <td>7,092.0</td>\n",
       "    </tr>\n",
       "    <tr>\n",
       "      <th>246</th>\n",
       "      <td>Middle income</td>\n",
       "      <td>2020.0</td>\n",
       "      <td>11,815.9</td>\n",
       "    </tr>\n",
       "    <tr>\n",
       "      <th>247</th>\n",
       "      <td>Upper middle income</td>\n",
       "      <td>2020.0</td>\n",
       "      <td>18,065.1</td>\n",
       "    </tr>\n",
       "  </tbody>\n",
       "</table>\n",
       "<p>248 rows × 3 columns</p>\n",
       "</div>"
      ],
      "text/plain": [
       "                 Country    Year     Value\n",
       "0            Afghanistan  2020.0   2,087.6\n",
       "1                Albania  2020.0  13,817.8\n",
       "2                Algeria  2020.0  11,268.3\n",
       "3         American Samoa     NaN       NaN\n",
       "4                Andorra     NaN       NaN\n",
       "..                   ...     ...       ...\n",
       "243  Low & middle income  2020.0  10,849.3\n",
       "244           Low income  2020.0   2,523.8\n",
       "245  Lower middle income  2020.0   7,092.0\n",
       "246        Middle income  2020.0  11,815.9\n",
       "247  Upper middle income  2020.0  18,065.1\n",
       "\n",
       "[248 rows x 3 columns]"
      ]
     },
     "execution_count": 194,
     "metadata": {},
     "output_type": "execute_result"
    }
   ],
   "source": [
    "gdp"
   ]
  },
  {
   "cell_type": "code",
   "execution_count": 195,
   "id": "c291f673",
   "metadata": {},
   "outputs": [
    {
     "data": {
      "text/html": [
       "<div>\n",
       "<style scoped>\n",
       "    .dataframe tbody tr th:only-of-type {\n",
       "        vertical-align: middle;\n",
       "    }\n",
       "\n",
       "    .dataframe tbody tr th {\n",
       "        vertical-align: top;\n",
       "    }\n",
       "\n",
       "    .dataframe thead th {\n",
       "        text-align: right;\n",
       "    }\n",
       "</style>\n",
       "<table border=\"1\" class=\"dataframe\">\n",
       "  <thead>\n",
       "    <tr style=\"text-align: right;\">\n",
       "      <th></th>\n",
       "      <th>Name</th>\n",
       "      <th>Index Year</th>\n",
       "      <th>Overall Score</th>\n",
       "    </tr>\n",
       "  </thead>\n",
       "  <tbody>\n",
       "    <tr>\n",
       "      <th>0</th>\n",
       "      <td>Afghanistan</td>\n",
       "      <td>2020</td>\n",
       "      <td>54.7</td>\n",
       "    </tr>\n",
       "    <tr>\n",
       "      <th>1</th>\n",
       "      <td>Albania</td>\n",
       "      <td>2020</td>\n",
       "      <td>66.9</td>\n",
       "    </tr>\n",
       "    <tr>\n",
       "      <th>2</th>\n",
       "      <td>Algeria</td>\n",
       "      <td>2020</td>\n",
       "      <td>46.9</td>\n",
       "    </tr>\n",
       "    <tr>\n",
       "      <th>3</th>\n",
       "      <td>Angola</td>\n",
       "      <td>2020</td>\n",
       "      <td>52.2</td>\n",
       "    </tr>\n",
       "    <tr>\n",
       "      <th>4</th>\n",
       "      <td>Argentina</td>\n",
       "      <td>2020</td>\n",
       "      <td>53.1</td>\n",
       "    </tr>\n",
       "    <tr>\n",
       "      <th>...</th>\n",
       "      <td>...</td>\n",
       "      <td>...</td>\n",
       "      <td>...</td>\n",
       "    </tr>\n",
       "    <tr>\n",
       "      <th>181</th>\n",
       "      <td>Venezuela</td>\n",
       "      <td>2020</td>\n",
       "      <td>25.2</td>\n",
       "    </tr>\n",
       "    <tr>\n",
       "      <th>182</th>\n",
       "      <td>Vietnam</td>\n",
       "      <td>2020</td>\n",
       "      <td>58.8</td>\n",
       "    </tr>\n",
       "    <tr>\n",
       "      <th>183</th>\n",
       "      <td>Yemen</td>\n",
       "      <td>2020</td>\n",
       "      <td>NaN</td>\n",
       "    </tr>\n",
       "    <tr>\n",
       "      <th>184</th>\n",
       "      <td>Zambia</td>\n",
       "      <td>2020</td>\n",
       "      <td>53.5</td>\n",
       "    </tr>\n",
       "    <tr>\n",
       "      <th>185</th>\n",
       "      <td>Zimbabwe</td>\n",
       "      <td>2020</td>\n",
       "      <td>43.1</td>\n",
       "    </tr>\n",
       "  </tbody>\n",
       "</table>\n",
       "<p>186 rows × 3 columns</p>\n",
       "</div>"
      ],
      "text/plain": [
       "            Name  Index Year  Overall Score\n",
       "0    Afghanistan        2020           54.7\n",
       "1        Albania        2020           66.9\n",
       "2        Algeria        2020           46.9\n",
       "3         Angola        2020           52.2\n",
       "4      Argentina        2020           53.1\n",
       "..           ...         ...            ...\n",
       "181    Venezuela        2020           25.2\n",
       "182      Vietnam        2020           58.8\n",
       "183        Yemen        2020            NaN\n",
       "184       Zambia        2020           53.5\n",
       "185     Zimbabwe        2020           43.1\n",
       "\n",
       "[186 rows x 3 columns]"
      ]
     },
     "execution_count": 195,
     "metadata": {},
     "output_type": "execute_result"
    }
   ],
   "source": [
    "# I'll select just the columns from both dataframes tht we'll need:\n",
    "economic_index = economic_index[[\"Name\", \"Index Year\", \"Overall Score\"]]\n",
    "gdp = gdp[[\"Country\", \"Value\"]]\n",
    "economic_index"
   ]
  },
  {
   "cell_type": "code",
   "execution_count": 196,
   "id": "e4c88ff7",
   "metadata": {},
   "outputs": [
    {
     "data": {
      "text/plain": [
       "Country     object\n",
       "Year         int64\n",
       "Score      float64\n",
       "dtype: object"
      ]
     },
     "execution_count": 196,
     "metadata": {},
     "output_type": "execute_result"
    }
   ],
   "source": [
    "# Rename the columns in the economic_index dataframe. The critical one \n",
    "# changing the Name to Country so it matches the cloumn name.\n",
    "economic_index.columns = [\"Country\", \"Year\", \"Score\"]\n",
    "economic_index.dtypes"
   ]
  },
  {
   "cell_type": "code",
   "execution_count": 197,
   "id": "02302bd5",
   "metadata": {},
   "outputs": [
    {
     "data": {
      "text/html": [
       "<div>\n",
       "<style scoped>\n",
       "    .dataframe tbody tr th:only-of-type {\n",
       "        vertical-align: middle;\n",
       "    }\n",
       "\n",
       "    .dataframe tbody tr th {\n",
       "        vertical-align: top;\n",
       "    }\n",
       "\n",
       "    .dataframe thead th {\n",
       "        text-align: right;\n",
       "    }\n",
       "</style>\n",
       "<table border=\"1\" class=\"dataframe\">\n",
       "  <thead>\n",
       "    <tr style=\"text-align: right;\">\n",
       "      <th></th>\n",
       "      <th>Country</th>\n",
       "      <th>Year</th>\n",
       "      <th>Score</th>\n",
       "    </tr>\n",
       "  </thead>\n",
       "  <tbody>\n",
       "    <tr>\n",
       "      <th>0</th>\n",
       "      <td>Afghanistan</td>\n",
       "      <td>2020</td>\n",
       "      <td>54.7</td>\n",
       "    </tr>\n",
       "    <tr>\n",
       "      <th>1</th>\n",
       "      <td>Albania</td>\n",
       "      <td>2020</td>\n",
       "      <td>66.9</td>\n",
       "    </tr>\n",
       "    <tr>\n",
       "      <th>2</th>\n",
       "      <td>Algeria</td>\n",
       "      <td>2020</td>\n",
       "      <td>46.9</td>\n",
       "    </tr>\n",
       "    <tr>\n",
       "      <th>3</th>\n",
       "      <td>Angola</td>\n",
       "      <td>2020</td>\n",
       "      <td>52.2</td>\n",
       "    </tr>\n",
       "    <tr>\n",
       "      <th>4</th>\n",
       "      <td>Argentina</td>\n",
       "      <td>2020</td>\n",
       "      <td>53.1</td>\n",
       "    </tr>\n",
       "    <tr>\n",
       "      <th>...</th>\n",
       "      <td>...</td>\n",
       "      <td>...</td>\n",
       "      <td>...</td>\n",
       "    </tr>\n",
       "    <tr>\n",
       "      <th>181</th>\n",
       "      <td>Venezuela</td>\n",
       "      <td>2020</td>\n",
       "      <td>25.2</td>\n",
       "    </tr>\n",
       "    <tr>\n",
       "      <th>182</th>\n",
       "      <td>Vietnam</td>\n",
       "      <td>2020</td>\n",
       "      <td>58.8</td>\n",
       "    </tr>\n",
       "    <tr>\n",
       "      <th>183</th>\n",
       "      <td>Yemen</td>\n",
       "      <td>2020</td>\n",
       "      <td>NaN</td>\n",
       "    </tr>\n",
       "    <tr>\n",
       "      <th>184</th>\n",
       "      <td>Zambia</td>\n",
       "      <td>2020</td>\n",
       "      <td>53.5</td>\n",
       "    </tr>\n",
       "    <tr>\n",
       "      <th>185</th>\n",
       "      <td>Zimbabwe</td>\n",
       "      <td>2020</td>\n",
       "      <td>43.1</td>\n",
       "    </tr>\n",
       "  </tbody>\n",
       "</table>\n",
       "<p>186 rows × 3 columns</p>\n",
       "</div>"
      ],
      "text/plain": [
       "         Country  Year  Score\n",
       "0    Afghanistan  2020   54.7\n",
       "1        Albania  2020   66.9\n",
       "2        Algeria  2020   46.9\n",
       "3         Angola  2020   52.2\n",
       "4      Argentina  2020   53.1\n",
       "..           ...   ...    ...\n",
       "181    Venezuela  2020   25.2\n",
       "182      Vietnam  2020   58.8\n",
       "183        Yemen  2020    NaN\n",
       "184       Zambia  2020   53.5\n",
       "185     Zimbabwe  2020   43.1\n",
       "\n",
       "[186 rows x 3 columns]"
      ]
     },
     "execution_count": 197,
     "metadata": {},
     "output_type": "execute_result"
    }
   ],
   "source": [
    "# Limit the data we take from economic_index to only those whoe Year\n",
    "# column covers 2020\n",
    "\n",
    "economic_index = economic_index[economic_index.Year.isin([2020])]\n",
    "economic_index\n"
   ]
  },
  {
   "cell_type": "code",
   "execution_count": 198,
   "id": "faef97e9",
   "metadata": {},
   "outputs": [
    {
     "data": {
      "text/html": [
       "<div>\n",
       "<style scoped>\n",
       "    .dataframe tbody tr th:only-of-type {\n",
       "        vertical-align: middle;\n",
       "    }\n",
       "\n",
       "    .dataframe tbody tr th {\n",
       "        vertical-align: top;\n",
       "    }\n",
       "\n",
       "    .dataframe thead th {\n",
       "        text-align: right;\n",
       "    }\n",
       "</style>\n",
       "<table border=\"1\" class=\"dataframe\">\n",
       "  <thead>\n",
       "    <tr style=\"text-align: right;\">\n",
       "      <th></th>\n",
       "      <th>Country</th>\n",
       "      <th>Value</th>\n",
       "    </tr>\n",
       "  </thead>\n",
       "  <tbody>\n",
       "    <tr>\n",
       "      <th>0</th>\n",
       "      <td>Afghanistan</td>\n",
       "      <td>2,087.6</td>\n",
       "    </tr>\n",
       "    <tr>\n",
       "      <th>1</th>\n",
       "      <td>Albania</td>\n",
       "      <td>13,817.8</td>\n",
       "    </tr>\n",
       "    <tr>\n",
       "      <th>2</th>\n",
       "      <td>Algeria</td>\n",
       "      <td>11,268.3</td>\n",
       "    </tr>\n",
       "    <tr>\n",
       "      <th>3</th>\n",
       "      <td>American Samoa</td>\n",
       "      <td>NaN</td>\n",
       "    </tr>\n",
       "    <tr>\n",
       "      <th>4</th>\n",
       "      <td>Andorra</td>\n",
       "      <td>NaN</td>\n",
       "    </tr>\n",
       "    <tr>\n",
       "      <th>...</th>\n",
       "      <td>...</td>\n",
       "      <td>...</td>\n",
       "    </tr>\n",
       "    <tr>\n",
       "      <th>243</th>\n",
       "      <td>Low &amp; middle income</td>\n",
       "      <td>10,849.3</td>\n",
       "    </tr>\n",
       "    <tr>\n",
       "      <th>244</th>\n",
       "      <td>Low income</td>\n",
       "      <td>2,523.8</td>\n",
       "    </tr>\n",
       "    <tr>\n",
       "      <th>245</th>\n",
       "      <td>Lower middle income</td>\n",
       "      <td>7,092.0</td>\n",
       "    </tr>\n",
       "    <tr>\n",
       "      <th>246</th>\n",
       "      <td>Middle income</td>\n",
       "      <td>11,815.9</td>\n",
       "    </tr>\n",
       "    <tr>\n",
       "      <th>247</th>\n",
       "      <td>Upper middle income</td>\n",
       "      <td>18,065.1</td>\n",
       "    </tr>\n",
       "  </tbody>\n",
       "</table>\n",
       "<p>248 rows × 2 columns</p>\n",
       "</div>"
      ],
      "text/plain": [
       "                 Country     Value\n",
       "0            Afghanistan   2,087.6\n",
       "1                Albania  13,817.8\n",
       "2                Algeria  11,268.3\n",
       "3         American Samoa       NaN\n",
       "4                Andorra       NaN\n",
       "..                   ...       ...\n",
       "243  Low & middle income  10,849.3\n",
       "244           Low income   2,523.8\n",
       "245  Lower middle income   7,092.0\n",
       "246        Middle income  11,815.9\n",
       "247  Upper middle income  18,065.1\n",
       "\n",
       "[248 rows x 2 columns]"
      ]
     },
     "execution_count": 198,
     "metadata": {},
     "output_type": "execute_result"
    }
   ],
   "source": [
    "# Contains unwanted data under \"Country\" that will be filterd out by merged\n",
    "gdp"
   ]
  },
  {
   "cell_type": "markdown",
   "id": "2c8399f1",
   "metadata": {},
   "source": [
    "Now I’ll merge the two dataframes, telling Pandas to use the values of Country to align the data. When that’s done, I’ll select only those columns that we still need: to exclude the Year column from ec_index and then remove rows with NaN values. That’ll be all the data cleaning we’ll need here."
   ]
  },
  {
   "cell_type": "code",
   "execution_count": 199,
   "id": "c73e8b26",
   "metadata": {},
   "outputs": [],
   "source": [
    "merged_data = pd.merge(gdp, economic_index, on=\"Country\")"
   ]
  },
  {
   "cell_type": "code",
   "execution_count": 200,
   "id": "e424bde8",
   "metadata": {},
   "outputs": [
    {
     "data": {
      "text/html": [
       "<div>\n",
       "<style scoped>\n",
       "    .dataframe tbody tr th:only-of-type {\n",
       "        vertical-align: middle;\n",
       "    }\n",
       "\n",
       "    .dataframe tbody tr th {\n",
       "        vertical-align: top;\n",
       "    }\n",
       "\n",
       "    .dataframe thead th {\n",
       "        text-align: right;\n",
       "    }\n",
       "</style>\n",
       "<table border=\"1\" class=\"dataframe\">\n",
       "  <thead>\n",
       "    <tr style=\"text-align: right;\">\n",
       "      <th></th>\n",
       "      <th>Country</th>\n",
       "      <th>Value</th>\n",
       "      <th>Year</th>\n",
       "      <th>Score</th>\n",
       "    </tr>\n",
       "  </thead>\n",
       "  <tbody>\n",
       "    <tr>\n",
       "      <th>0</th>\n",
       "      <td>Afghanistan</td>\n",
       "      <td>2,087.6</td>\n",
       "      <td>2020</td>\n",
       "      <td>54.7</td>\n",
       "    </tr>\n",
       "    <tr>\n",
       "      <th>1</th>\n",
       "      <td>Albania</td>\n",
       "      <td>13,817.8</td>\n",
       "      <td>2020</td>\n",
       "      <td>66.9</td>\n",
       "    </tr>\n",
       "    <tr>\n",
       "      <th>2</th>\n",
       "      <td>Algeria</td>\n",
       "      <td>11,268.3</td>\n",
       "      <td>2020</td>\n",
       "      <td>46.9</td>\n",
       "    </tr>\n",
       "    <tr>\n",
       "      <th>3</th>\n",
       "      <td>Angola</td>\n",
       "      <td>6,538.5</td>\n",
       "      <td>2020</td>\n",
       "      <td>52.2</td>\n",
       "    </tr>\n",
       "    <tr>\n",
       "      <th>4</th>\n",
       "      <td>Argentina</td>\n",
       "      <td>20,767.6</td>\n",
       "      <td>2020</td>\n",
       "      <td>53.1</td>\n",
       "    </tr>\n",
       "    <tr>\n",
       "      <th>...</th>\n",
       "      <td>...</td>\n",
       "      <td>...</td>\n",
       "      <td>...</td>\n",
       "      <td>...</td>\n",
       "    </tr>\n",
       "    <tr>\n",
       "      <th>157</th>\n",
       "      <td>Uzbekistan</td>\n",
       "      <td>7,378.3</td>\n",
       "      <td>2020</td>\n",
       "      <td>57.2</td>\n",
       "    </tr>\n",
       "    <tr>\n",
       "      <th>158</th>\n",
       "      <td>Vanuatu</td>\n",
       "      <td>2,914.5</td>\n",
       "      <td>2020</td>\n",
       "      <td>60.7</td>\n",
       "    </tr>\n",
       "    <tr>\n",
       "      <th>159</th>\n",
       "      <td>Vietnam</td>\n",
       "      <td>8,650.7</td>\n",
       "      <td>2020</td>\n",
       "      <td>58.8</td>\n",
       "    </tr>\n",
       "    <tr>\n",
       "      <th>160</th>\n",
       "      <td>Zambia</td>\n",
       "      <td>3,449.6</td>\n",
       "      <td>2020</td>\n",
       "      <td>53.5</td>\n",
       "    </tr>\n",
       "    <tr>\n",
       "      <th>161</th>\n",
       "      <td>Zimbabwe</td>\n",
       "      <td>2,895.4</td>\n",
       "      <td>2020</td>\n",
       "      <td>43.1</td>\n",
       "    </tr>\n",
       "  </tbody>\n",
       "</table>\n",
       "<p>162 rows × 4 columns</p>\n",
       "</div>"
      ],
      "text/plain": [
       "         Country     Value  Year  Score\n",
       "0    Afghanistan   2,087.6  2020   54.7\n",
       "1        Albania  13,817.8  2020   66.9\n",
       "2        Algeria  11,268.3  2020   46.9\n",
       "3         Angola   6,538.5  2020   52.2\n",
       "4      Argentina  20,767.6  2020   53.1\n",
       "..           ...       ...   ...    ...\n",
       "157   Uzbekistan   7,378.3  2020   57.2\n",
       "158      Vanuatu   2,914.5  2020   60.7\n",
       "159      Vietnam   8,650.7  2020   58.8\n",
       "160       Zambia   3,449.6  2020   53.5\n",
       "161     Zimbabwe   2,895.4  2020   43.1\n",
       "\n",
       "[162 rows x 4 columns]"
      ]
     },
     "execution_count": 200,
     "metadata": {},
     "output_type": "execute_result"
    }
   ],
   "source": [
    "merged_data"
   ]
  },
  {
   "cell_type": "code",
   "execution_count": 201,
   "id": "b2a45a9a",
   "metadata": {},
   "outputs": [],
   "source": [
    "# Remove \"Index Year\" column; no longer needed\n",
    "merged_data = merged_data[[\"Country\", \"Value\", \"Score\"]]"
   ]
  },
  {
   "cell_type": "code",
   "execution_count": 202,
   "id": "13369a88",
   "metadata": {},
   "outputs": [
    {
     "data": {
      "text/html": [
       "<div>\n",
       "<style scoped>\n",
       "    .dataframe tbody tr th:only-of-type {\n",
       "        vertical-align: middle;\n",
       "    }\n",
       "\n",
       "    .dataframe tbody tr th {\n",
       "        vertical-align: top;\n",
       "    }\n",
       "\n",
       "    .dataframe thead th {\n",
       "        text-align: right;\n",
       "    }\n",
       "</style>\n",
       "<table border=\"1\" class=\"dataframe\">\n",
       "  <thead>\n",
       "    <tr style=\"text-align: right;\">\n",
       "      <th></th>\n",
       "      <th>Country</th>\n",
       "      <th>Value</th>\n",
       "      <th>Score</th>\n",
       "    </tr>\n",
       "  </thead>\n",
       "  <tbody>\n",
       "    <tr>\n",
       "      <th>0</th>\n",
       "      <td>Afghanistan</td>\n",
       "      <td>2,087.6</td>\n",
       "      <td>54.7</td>\n",
       "    </tr>\n",
       "    <tr>\n",
       "      <th>1</th>\n",
       "      <td>Albania</td>\n",
       "      <td>13,817.8</td>\n",
       "      <td>66.9</td>\n",
       "    </tr>\n",
       "    <tr>\n",
       "      <th>2</th>\n",
       "      <td>Algeria</td>\n",
       "      <td>11,268.3</td>\n",
       "      <td>46.9</td>\n",
       "    </tr>\n",
       "    <tr>\n",
       "      <th>3</th>\n",
       "      <td>Angola</td>\n",
       "      <td>6,538.5</td>\n",
       "      <td>52.2</td>\n",
       "    </tr>\n",
       "    <tr>\n",
       "      <th>4</th>\n",
       "      <td>Argentina</td>\n",
       "      <td>20,767.6</td>\n",
       "      <td>53.1</td>\n",
       "    </tr>\n",
       "    <tr>\n",
       "      <th>...</th>\n",
       "      <td>...</td>\n",
       "      <td>...</td>\n",
       "      <td>...</td>\n",
       "    </tr>\n",
       "    <tr>\n",
       "      <th>157</th>\n",
       "      <td>Uzbekistan</td>\n",
       "      <td>7,378.3</td>\n",
       "      <td>57.2</td>\n",
       "    </tr>\n",
       "    <tr>\n",
       "      <th>158</th>\n",
       "      <td>Vanuatu</td>\n",
       "      <td>2,914.5</td>\n",
       "      <td>60.7</td>\n",
       "    </tr>\n",
       "    <tr>\n",
       "      <th>159</th>\n",
       "      <td>Vietnam</td>\n",
       "      <td>8,650.7</td>\n",
       "      <td>58.8</td>\n",
       "    </tr>\n",
       "    <tr>\n",
       "      <th>160</th>\n",
       "      <td>Zambia</td>\n",
       "      <td>3,449.6</td>\n",
       "      <td>53.5</td>\n",
       "    </tr>\n",
       "    <tr>\n",
       "      <th>161</th>\n",
       "      <td>Zimbabwe</td>\n",
       "      <td>2,895.4</td>\n",
       "      <td>43.1</td>\n",
       "    </tr>\n",
       "  </tbody>\n",
       "</table>\n",
       "<p>157 rows × 3 columns</p>\n",
       "</div>"
      ],
      "text/plain": [
       "         Country     Value  Score\n",
       "0    Afghanistan   2,087.6   54.7\n",
       "1        Albania  13,817.8   66.9\n",
       "2        Algeria  11,268.3   46.9\n",
       "3         Angola   6,538.5   52.2\n",
       "4      Argentina  20,767.6   53.1\n",
       "..           ...       ...    ...\n",
       "157   Uzbekistan   7,378.3   57.2\n",
       "158      Vanuatu   2,914.5   60.7\n",
       "159      Vietnam   8,650.7   58.8\n",
       "160       Zambia   3,449.6   53.5\n",
       "161     Zimbabwe   2,895.4   43.1\n",
       "\n",
       "[157 rows x 3 columns]"
      ]
     },
     "execution_count": 202,
     "metadata": {},
     "output_type": "execute_result"
    }
   ],
   "source": [
    "merged_data.dropna()"
   ]
  },
  {
   "cell_type": "code",
   "execution_count": 205,
   "id": "2838677d",
   "metadata": {},
   "outputs": [],
   "source": [
    "use_merged_data = merged_data.copy()\n",
    "\n",
    "use_merged_data[\"Value\"] = use_merged_data.loc[:, \"Value\"].str.replace(\",\",\"\").astype(float)\n",
    "merged_data = use_merged_data\n",
    "\n"
   ]
  },
  {
   "cell_type": "code",
   "execution_count": 206,
   "id": "9f64d9ee",
   "metadata": {},
   "outputs": [
    {
     "data": {
      "text/html": [
       "<div>\n",
       "<style scoped>\n",
       "    .dataframe tbody tr th:only-of-type {\n",
       "        vertical-align: middle;\n",
       "    }\n",
       "\n",
       "    .dataframe tbody tr th {\n",
       "        vertical-align: top;\n",
       "    }\n",
       "\n",
       "    .dataframe thead th {\n",
       "        text-align: right;\n",
       "    }\n",
       "</style>\n",
       "<table border=\"1\" class=\"dataframe\">\n",
       "  <thead>\n",
       "    <tr style=\"text-align: right;\">\n",
       "      <th></th>\n",
       "      <th>Country</th>\n",
       "      <th>Value</th>\n",
       "      <th>Score</th>\n",
       "    </tr>\n",
       "  </thead>\n",
       "  <tbody>\n",
       "    <tr>\n",
       "      <th>0</th>\n",
       "      <td>Afghanistan</td>\n",
       "      <td>2087.6</td>\n",
       "      <td>54.7</td>\n",
       "    </tr>\n",
       "    <tr>\n",
       "      <th>1</th>\n",
       "      <td>Albania</td>\n",
       "      <td>13817.8</td>\n",
       "      <td>66.9</td>\n",
       "    </tr>\n",
       "    <tr>\n",
       "      <th>2</th>\n",
       "      <td>Algeria</td>\n",
       "      <td>11268.3</td>\n",
       "      <td>46.9</td>\n",
       "    </tr>\n",
       "    <tr>\n",
       "      <th>3</th>\n",
       "      <td>Angola</td>\n",
       "      <td>6538.5</td>\n",
       "      <td>52.2</td>\n",
       "    </tr>\n",
       "    <tr>\n",
       "      <th>4</th>\n",
       "      <td>Argentina</td>\n",
       "      <td>20767.6</td>\n",
       "      <td>53.1</td>\n",
       "    </tr>\n",
       "    <tr>\n",
       "      <th>...</th>\n",
       "      <td>...</td>\n",
       "      <td>...</td>\n",
       "      <td>...</td>\n",
       "    </tr>\n",
       "    <tr>\n",
       "      <th>157</th>\n",
       "      <td>Uzbekistan</td>\n",
       "      <td>7378.3</td>\n",
       "      <td>57.2</td>\n",
       "    </tr>\n",
       "    <tr>\n",
       "      <th>158</th>\n",
       "      <td>Vanuatu</td>\n",
       "      <td>2914.5</td>\n",
       "      <td>60.7</td>\n",
       "    </tr>\n",
       "    <tr>\n",
       "      <th>159</th>\n",
       "      <td>Vietnam</td>\n",
       "      <td>8650.7</td>\n",
       "      <td>58.8</td>\n",
       "    </tr>\n",
       "    <tr>\n",
       "      <th>160</th>\n",
       "      <td>Zambia</td>\n",
       "      <td>3449.6</td>\n",
       "      <td>53.5</td>\n",
       "    </tr>\n",
       "    <tr>\n",
       "      <th>161</th>\n",
       "      <td>Zimbabwe</td>\n",
       "      <td>2895.4</td>\n",
       "      <td>43.1</td>\n",
       "    </tr>\n",
       "  </tbody>\n",
       "</table>\n",
       "<p>162 rows × 3 columns</p>\n",
       "</div>"
      ],
      "text/plain": [
       "         Country    Value  Score\n",
       "0    Afghanistan   2087.6   54.7\n",
       "1        Albania  13817.8   66.9\n",
       "2        Algeria  11268.3   46.9\n",
       "3         Angola   6538.5   52.2\n",
       "4      Argentina  20767.6   53.1\n",
       "..           ...      ...    ...\n",
       "157   Uzbekistan   7378.3   57.2\n",
       "158      Vanuatu   2914.5   60.7\n",
       "159      Vietnam   8650.7   58.8\n",
       "160       Zambia   3449.6   53.5\n",
       "161     Zimbabwe   2895.4   43.1\n",
       "\n",
       "[162 rows x 3 columns]"
      ]
     },
     "execution_count": 206,
     "metadata": {},
     "output_type": "execute_result"
    }
   ],
   "source": [
    "merged_data"
   ]
  },
  {
   "cell_type": "code",
   "execution_count": 207,
   "id": "4017fd15",
   "metadata": {},
   "outputs": [
    {
     "data": {
      "text/plain": [
       "Country     object\n",
       "Value      float64\n",
       "Score      float64\n",
       "dtype: object"
      ]
     },
     "execution_count": 207,
     "metadata": {},
     "output_type": "execute_result"
    }
   ],
   "source": [
    "merged_data.dtypes"
   ]
  },
  {
   "cell_type": "code",
   "execution_count": 208,
   "id": "9c6188f3",
   "metadata": {},
   "outputs": [],
   "source": [
    "# Get rid of four Nan values in scores\n",
    "merged_data.dropna(axis=0, how='any', thresh=None, \n",
    "                   subset=None, inplace=True)"
   ]
  },
  {
   "cell_type": "code",
   "execution_count": 219,
   "id": "b9c46287",
   "metadata": {},
   "outputs": [
    {
     "data": {
      "image/png": "[encoded data removed]",
      "text/plain": [
       "<Figure size 720x720 with 1 Axes>"
      ]
     },
     "metadata": {
      "needs_background": "light"
     },
     "output_type": "display_data"
    }
   ],
   "source": [
    "fig, ax = plt.subplots(figsize=(10, 10))\n",
    "scatter = ax.scatter(x=merged_data.Score,\n",
    "                    y=merged_data.Value)"
   ]
  },
  {
   "cell_type": "code",
   "execution_count": 209,
   "id": "c4a4f866",
   "metadata": {},
   "outputs": [
    {
     "data": {
      "text/plain": [
       "<matplotlib.collections.PathCollection at 0x7fefd1261910>"
      ]
     },
     "execution_count": 209,
     "metadata": {},
     "output_type": "execute_result"
    },
    {
     "data": {
      "image/png": "[encoded data removed]",
      "text/plain": [
       "<Figure size 432x288 with 1 Axes>"
      ]
     },
     "metadata": {
      "needs_background": "light"
     },
     "output_type": "display_data"
    }
   ],
   "source": [
    "plt.scatter(merged_data.Score, merged_data.Value)"
   ]
  },
  {
   "cell_type": "markdown",
   "id": "94a82dc4",
   "metadata": {},
   "source": [
    "What that did was take the two data points (GDP and index) for each country and plot a dot at its intersection point. The higher a country’s index score, the further along to the right it’s dot will appear. And the higher its per capita GDP, the higher up the y-axis it’ll be."
   ]
  },
  {
   "cell_type": "code",
   "execution_count": 210,
   "id": "59f17cec",
   "metadata": {},
   "outputs": [
    {
     "data": {
      "text/plain": [
       "<matplotlib.collections.PathCollection at 0x7fefcf2177f0>"
      ]
     },
     "execution_count": 210,
     "metadata": {},
     "output_type": "execute_result"
    },
    {
     "data": {
      "image/png": "[encoded data removed]",
      "text/plain": [
       "<Figure size 432x288 with 1 Axes>"
      ]
     },
     "metadata": {
      "needs_background": "light"
     },
     "output_type": "display_data"
    }
   ],
   "source": [
    "# A second code snippet that'll generate the exact same output\n",
    "x = merged_data.Score\n",
    "y = merged_data.Value\n",
    "plt.scatter(x,y)"
   ]
  },
  {
   "cell_type": "markdown",
   "id": "cf59a79a",
   "metadata": {},
   "source": [
    "### Adding “Hover” Visibility\n",
    "\n",
    "Let's try visualizing anomalies in our data and better understanding the data as a whole"
   ]
  },
  {
   "cell_type": "code",
   "execution_count": 211,
   "id": "5c7f4da2",
   "metadata": {},
   "outputs": [],
   "source": [
    "import plotly.graph_objs as go\n",
    "import plotly.express as px"
   ]
  },
  {
   "cell_type": "code",
   "execution_count": 221,
   "id": "b1391624",
   "metadata": {},
   "outputs": [
    {
     "data": {
      "application/vnd.plotly.v1+json": {
       "config": {
        "plotlyServerURL": "https://plot.ly"
       },
       "data": [
        {
         "customdata": [
          [
           "Afghanistan"
          ],
          [
           "Albania"
          ],
          [
           "Algeria"
          ],
          [
           "Angola"
          ],
          [
           "Argentina"
          ],
          [
           "Armenia"
          ],
          [
           "Australia"
          ],
          [
           "Austria"
          ],
          [
           "Azerbaijan"
          ],
          [
           "Bahrain"
          ],
          [
           "Barbados"
          ],
          [
           "Belarus"
          ],
          [
           "Belgium"
          ],
          [
           "Belize"
          ],
          [
           "Benin"
          ],
          [
           "Bhutan"
          ],
          [
           "Bolivia"
          ],
          [
           "Bosnia and Herzegovina"
          ],
          [
           "Botswana"
          ],
          [
           "Brazil"
          ],
          [
           "Brunei Darussalam"
          ],
          [
           "Bulgaria"
          ],
          [
           "Burkina Faso"
          ],
          [
           "Burundi"
          ],
          [
           "Cabo Verde"
          ],
          [
           "Cambodia"
          ],
          [
           "Cameroon"
          ],
          [
           "Canada"
          ],
          [
           "Central African Republic"
          ],
          [
           "Chad"
          ],
          [
           "Chile"
          ],
          [
           "China"
          ],
          [
           "Colombia"
          ],
          [
           "Comoros"
          ],
          [
           "Costa Rica"
          ],
          [
           "Croatia"
          ],
          [
           "Cyprus"
          ],
          [
           "Czech Republic"
          ],
          [
           "Denmark"
          ],
          [
           "Djibouti"
          ],
          [
           "Dominica"
          ],
          [
           "Dominican Republic"
          ],
          [
           "Ecuador"
          ],
          [
           "El Salvador"
          ],
          [
           "Equatorial Guinea"
          ],
          [
           "Eritrea"
          ],
          [
           "Estonia"
          ],
          [
           "Eswatini"
          ],
          [
           "Ethiopia"
          ],
          [
           "Fiji"
          ],
          [
           "Finland"
          ],
          [
           "France"
          ],
          [
           "Gabon"
          ],
          [
           "Georgia"
          ],
          [
           "Germany"
          ],
          [
           "Ghana"
          ],
          [
           "Greece"
          ],
          [
           "Guatemala"
          ],
          [
           "Guinea"
          ],
          [
           "Guinea-Bissau"
          ],
          [
           "Guyana"
          ],
          [
           "Haiti"
          ],
          [
           "Honduras"
          ],
          [
           "Hungary"
          ],
          [
           "Iceland"
          ],
          [
           "India"
          ],
          [
           "Indonesia"
          ],
          [
           "Ireland"
          ],
          [
           "Israel"
          ],
          [
           "Italy"
          ],
          [
           "Jamaica"
          ],
          [
           "Japan"
          ],
          [
           "Jordan"
          ],
          [
           "Kazakhstan"
          ],
          [
           "Kenya"
          ],
          [
           "Kiribati"
          ],
          [
           "Kosovo"
          ],
          [
           "Kuwait"
          ],
          [
           "Kyrgyz Republic"
          ],
          [
           "Latvia"
          ],
          [
           "Lebanon"
          ],
          [
           "Lesotho"
          ],
          [
           "Liberia"
          ],
          [
           "Lithuania"
          ],
          [
           "Luxembourg"
          ],
          [
           "Madagascar"
          ],
          [
           "Malawi"
          ],
          [
           "Malaysia"
          ],
          [
           "Maldives"
          ],
          [
           "Mali"
          ],
          [
           "Malta"
          ],
          [
           "Mauritania"
          ],
          [
           "Mauritius"
          ],
          [
           "Mexico"
          ],
          [
           "Moldova"
          ],
          [
           "Mongolia"
          ],
          [
           "Montenegro"
          ],
          [
           "Morocco"
          ],
          [
           "Mozambique"
          ],
          [
           "Namibia"
          ],
          [
           "Nepal"
          ],
          [
           "Netherlands"
          ],
          [
           "New Zealand"
          ],
          [
           "Nicaragua"
          ],
          [
           "Niger"
          ],
          [
           "Nigeria"
          ],
          [
           "North Macedonia"
          ],
          [
           "Norway"
          ],
          [
           "Oman"
          ],
          [
           "Pakistan"
          ],
          [
           "Panama"
          ],
          [
           "Papua New Guinea"
          ],
          [
           "Paraguay"
          ],
          [
           "Peru"
          ],
          [
           "Philippines"
          ],
          [
           "Poland"
          ],
          [
           "Portugal"
          ],
          [
           "Qatar"
          ],
          [
           "Romania"
          ],
          [
           "Rwanda"
          ],
          [
           "Samoa"
          ],
          [
           "Saudi Arabia"
          ],
          [
           "Senegal"
          ],
          [
           "Seychelles"
          ],
          [
           "Sierra Leone"
          ],
          [
           "Singapore"
          ],
          [
           "Slovak Republic"
          ],
          [
           "Slovenia"
          ],
          [
           "Solomon Islands"
          ],
          [
           "South Africa"
          ],
          [
           "Spain"
          ],
          [
           "Sri Lanka"
          ],
          [
           "Sudan"
          ],
          [
           "Suriname"
          ],
          [
           "Sweden"
          ],
          [
           "Switzerland"
          ],
          [
           "Tajikistan"
          ],
          [
           "Tanzania"
          ],
          [
           "Thailand"
          ],
          [
           "Timor-Leste"
          ],
          [
           "Togo"
          ],
          [
           "Tonga"
          ],
          [
           "Trinidad and Tobago"
          ],
          [
           "Tunisia"
          ],
          [
           "Turkey"
          ],
          [
           "Turkmenistan"
          ],
          [
           "Uganda"
          ],
          [
           "Ukraine"
          ],
          [
           "United Arab Emirates"
          ],
          [
           "United Kingdom"
          ],
          [
           "United States"
          ],
          [
           "Uruguay"
          ],
          [
           "Uzbekistan"
          ],
          [
           "Vanuatu"
          ],
          [
           "Vietnam"
          ],
          [
           "Zambia"
          ],
          [
           "Zimbabwe"
          ]
         ],
         "hovertemplate": "Score=%{x}<br>Value=%{y}<br>Country=%{customdata[0]}<extra></extra>",
         "legendgroup": "",
         "marker": {
          "color": "#636efa",
          "symbol": "circle"
         },
         "mode": "markers",
         "name": "",
         "orientation": "v",
         "showlegend": false,
         "type": "scatter",
         "x": [
          54.7,
          66.9,
          46.9,
          52.2,
          53.1,
          70.6,
          82.6,
          73.3,
          69.3,
          66.3,
          61.4,
          61.7,
          68.9,
          57.4,
          55.2,
          62.1,
          42.8,
          62.6,
          69.6,
          53.7,
          66.6,
          70.2,
          56.7,
          49,
          63.6,
          57.3,
          53.6,
          78.2,
          50.7,
          50.2,
          76.8,
          59.5,
          69.2,
          53.7,
          65.8,
          62.2,
          70.1,
          74.8,
          78.3,
          52.9,
          60.8,
          60.9,
          51.3,
          61.6,
          48.3,
          38.5,
          77.7,
          55.3,
          53.6,
          63.4,
          75.7,
          66,
          56.7,
          77.1,
          73.5,
          59.4,
          59.9,
          64,
          56.5,
          53.3,
          56.2,
          52.3,
          61.1,
          66.4,
          77.1,
          56.5,
          67.2,
          80.9,
          74,
          63.8,
          68.5,
          73.3,
          66,
          69.6,
          55.3,
          45.2,
          67.4,
          63.2,
          62.9,
          71.9,
          51.7,
          54.5,
          49,
          76.7,
          75.8,
          60.5,
          52.8,
          74.7,
          56.5,
          55.9,
          69.5,
          55.3,
          74.9,
          66,
          62,
          55.9,
          61.5,
          63.3,
          50.5,
          60.9,
          54.2,
          77,
          84.1,
          57.2,
          54.7,
          57.2,
          69.5,
          73.4,
          63.6,
          54.8,
          67.2,
          58.4,
          63,
          67.9,
          64.5,
          69.1,
          67,
          72.3,
          69.7,
          70.9,
          62.1,
          62.4,
          58,
          64.3,
          48,
          89.4,
          66.8,
          67.8,
          52.9,
          58.8,
          66.9,
          57.4,
          45,
          49.5,
          74.9,
          82,
          52.2,
          61.7,
          69.4,
          45.9,
          54.1,
          58.8,
          58.3,
          55.8,
          64.4,
          46.5,
          59.5,
          54.9,
          76.2,
          79.3,
          76.6,
          69.1,
          57.2,
          60.7,
          58.8,
          53.5,
          43.1
         ],
         "xaxis": "x",
         "y": [
          2087.6,
          13817.8,
          11268.3,
          6538.5,
          20767.6,
          13284.2,
          52518.3,
          55097.5,
          14452,
          43181.2,
          13576.8,
          20199.7,
          51968.2,
          6456,
          3505.6,
          11508.2,
          8367.3,
          15611.8,
          16920.8,
          14836.3,
          65661.7,
          24367.3,
          2279.2,
          771.2,
          6377,
          4422,
          3772.7,
          48072.6,
          979.6,
          1603.4,
          25067.7,
          17312,
          14565.4,
          3313.2,
          21031.8,
          28503.9,
          38458.2,
          41737.4,
          60398.5,
          5782.1,
          10434.5,
          17936.7,
          10896.4,
          8499,
          17941.6,
          1625.5,
          38394.9,
          8853.6,
          2423,
          11601.4,
          51089.8,
          46227,
          15190.6,
          14863,
          53694.4,
          5596.3,
          28463.8,
          8854.2,
          2817.5,
          1948.9,
          19705.8,
          2925.4,
          5420.6,
          33084.1,
          55216,
          6454.3,
          12073.5,
          93612.2,
          41854.9,
          41840,
          9221.6,
          42197.3,
          10355.6,
          26728.5,
          4452.2,
          2417.8,
          11367.9,
          51962,
          4965,
          32019.2,
          12288.8,
          2405.1,
          1428.2,
          38734.7,
          118359.5,
          1593.1,
          1568.4,
          27886.9,
          13765.6,
          2338.5,
          42640.1,
          5256.9,
          20538.7,
          18833.1,
          13001.6,
          12100.6,
          20566.6,
          7296.2,
          1296.6,
          9382.2,
          4008.7,
          59228.8,
          44251.8,
          5570.1,
          1262.6,
          5186.7,
          16926.6,
          63198,
          28448.9,
          4876.6,
          26775.7,
          4326.4,
          13012.9,
          11879.2,
          8390.4,
          34264.8,
          34495.9,
          89948.6,
          31945.7,
          2214,
          6777.8,
          46762.5,
          3481.3,
          25699.7,
          1738.6,
          98526,
          31832.4,
          39593.3,
          2619.2,
          12095.9,
          38334.6,
          13225.4,
          4243.8,
          17016,
          54563.1,
          71352.4,
          3858.4,
          2780.1,
          18236.2,
          3355.8,
          2223.6,
          6647.9,
          25031.2,
          10261.7,
          28119.5,
          16195.5,
          2297.2,
          13056.7,
          69957.6,
          44916.2,
          63543.6,
          22795.1,
          7378.3,
          2914.5,
          8650.7,
          3449.6,
          2895.4
         ],
         "yaxis": "y"
        }
       ],
       "layout": {
        "legend": {
         "tracegroupgap": 0
        },
        "margin": {
         "t": 60
        },
        "template": {
         "data": {
          "bar": [
           {
            "error_x": {
             "color": "#2a3f5f"
            },
            "error_y": {
             "color": "#2a3f5f"
            },
            "marker": {
             "line": {
              "color": "#E5ECF6",
              "width": 0.5
             },
             "pattern": {
              "fillmode": "overlay",
              "size": 10,
              "solidity": 0.2
             }
            },
            "type": "bar"
           }
          ],
          "barpolar": [
           {
            "marker": {
             "line": {
              "color": "#E5ECF6",
              "width": 0.5
             },
             "pattern": {
              "fillmode": "overlay",
              "size": 10,
              "solidity": 0.2
             }
            },
            "type": "barpolar"
           }
          ],
          "carpet": [
           {
            "aaxis": {
             "endlinecolor": "#2a3f5f",
             "gridcolor": "white",
             "linecolor": "white",
             "minorgridcolor": "white",
             "startlinecolor": "#2a3f5f"
            },
            "baxis": {
             "endlinecolor": "#2a3f5f",
             "gridcolor": "white",
             "linecolor": "white",
             "minorgridcolor": "white",
             "startlinecolor": "#2a3f5f"
            },
            "type": "carpet"
           }
          ],
          "choropleth": [
           {
            "colorbar": {
             "outlinewidth": 0,
             "ticks": ""
            },
            "type": "choropleth"
           }
          ],
          "contour": [
           {
            "colorbar": {
             "outlinewidth": 0,
             "ticks": ""
            },
            "colorscale": [
             [
              0,
              "#0d0887"
             ],
             [
              0.1111111111111111,
              "#46039f"
             ],
             [
              0.2222222222222222,
              "#7201a8"
             ],
             [
              0.3333333333333333,
              "#9c179e"
             ],
             [
              0.4444444444444444,
              "#bd3786"
             ],
             [
              0.5555555555555556,
              "#d8576b"
             ],
             [
              0.6666666666666666,
              "#ed7953"
             ],
             [
              0.7777777777777778,
              "#fb9f3a"
             ],
             [
              0.8888888888888888,
              "#fdca26"
             ],
             [
              1,
              "#f0f921"
             ]
            ],
            "type": "contour"
           }
          ],
          "contourcarpet": [
           {
            "colorbar": {
             "outlinewidth": 0,
             "ticks": ""
            },
            "type": "contourcarpet"
           }
          ],
          "heatmap": [
           {
            "colorbar": {
             "outlinewidth": 0,
             "ticks": ""
            },
            "colorscale": [
             [
              0,
              "#0d0887"
             ],
             [
              0.1111111111111111,
              "#46039f"
             ],
             [
              0.2222222222222222,
              "#7201a8"
             ],
             [
              0.3333333333333333,
              "#9c179e"
             ],
             [
              0.4444444444444444,
              "#bd3786"
             ],
             [
              0.5555555555555556,
              "#d8576b"
             ],
             [
              0.6666666666666666,
              "#ed7953"
             ],
             [
              0.7777777777777778,
              "#fb9f3a"
             ],
             [
              0.8888888888888888,
              "#fdca26"
             ],
             [
              1,
              "#f0f921"
             ]
            ],
            "type": "heatmap"
           }
          ],
          "heatmapgl": [
           {
            "colorbar": {
             "outlinewidth": 0,
             "ticks": ""
            },
            "colorscale": [
             [
              0,
              "#0d0887"
             ],
             [
              0.1111111111111111,
              "#46039f"
             ],
             [
              0.2222222222222222,
              "#7201a8"
             ],
             [
              0.3333333333333333,
              "#9c179e"
             ],
             [
              0.4444444444444444,
              "#bd3786"
             ],
             [
              0.5555555555555556,
              "#d8576b"
             ],
             [
              0.6666666666666666,
              "#ed7953"
             ],
             [
              0.7777777777777778,
              "#fb9f3a"
             ],
             [
              0.8888888888888888,
              "#fdca26"
             ],
             [
              1,
              "#f0f921"
             ]
            ],
            "type": "heatmapgl"
           }
          ],
          "histogram": [
           {
            "marker": {
             "pattern": {
              "fillmode": "overlay",
              "size": 10,
              "solidity": 0.2
             }
            },
            "type": "histogram"
           }
          ],
          "histogram2d": [
           {
            "colorbar": {
             "outlinewidth": 0,
             "ticks": ""
            },
            "colorscale": [
             [
              0,
              "#0d0887"
             ],
             [
              0.1111111111111111,
              "#46039f"
             ],
             [
              0.2222222222222222,
              "#7201a8"
             ],
             [
              0.3333333333333333,
              "#9c179e"
             ],
             [
              0.4444444444444444,
              "#bd3786"
             ],
             [
              0.5555555555555556,
              "#d8576b"
             ],
             [
              0.6666666666666666,
              "#ed7953"
             ],
             [
              0.7777777777777778,
              "#fb9f3a"
             ],
             [
              0.8888888888888888,
              "#fdca26"
             ],
             [
              1,
              "#f0f921"
             ]
            ],
            "type": "histogram2d"
           }
          ],
          "histogram2dcontour": [
           {
            "colorbar": {
             "outlinewidth": 0,
             "ticks": ""
            },
            "colorscale": [
             [
              0,
              "#0d0887"
             ],
             [
              0.1111111111111111,
              "#46039f"
             ],
             [
              0.2222222222222222,
              "#7201a8"
             ],
             [
              0.3333333333333333,
              "#9c179e"
             ],
             [
              0.4444444444444444,
              "#bd3786"
             ],
             [
              0.5555555555555556,
              "#d8576b"
             ],
             [
              0.6666666666666666,
              "#ed7953"
             ],
             [
              0.7777777777777778,
              "#fb9f3a"
             ],
             [
              0.8888888888888888,
              "#fdca26"
             ],
             [
              1,
              "#f0f921"
             ]
            ],
            "type": "histogram2dcontour"
           }
          ],
          "mesh3d": [
           {
            "colorbar": {
             "outlinewidth": 0,
             "ticks": ""
            },
            "type": "mesh3d"
           }
          ],
          "parcoords": [
           {
            "line": {
             "colorbar": {
              "outlinewidth": 0,
              "ticks": ""
             }
            },
            "type": "parcoords"
           }
          ],
          "pie": [
           {
            "automargin": true,
            "type": "pie"
           }
          ],
          "scatter": [
           {
            "marker": {
             "colorbar": {
              "outlinewidth": 0,
              "ticks": ""
             }
            },
            "type": "scatter"
           }
          ],
          "scatter3d": [
           {
            "line": {
             "colorbar": {
              "outlinewidth": 0,
              "ticks": ""
             }
            },
            "marker": {
             "colorbar": {
              "outlinewidth": 0,
              "ticks": ""
             }
            },
            "type": "scatter3d"
           }
          ],
          "scattercarpet": [
           {
            "marker": {
             "colorbar": {
              "outlinewidth": 0,
              "ticks": ""
             }
            },
            "type": "scattercarpet"
           }
          ],
          "scattergeo": [
           {
            "marker": {
             "colorbar": {
              "outlinewidth": 0,
              "ticks": ""
             }
            },
            "type": "scattergeo"
           }
          ],
          "scattergl": [
           {
            "marker": {
             "colorbar": {
              "outlinewidth": 0,
              "ticks": ""
             }
            },
            "type": "scattergl"
           }
          ],
          "scattermapbox": [
           {
            "marker": {
             "colorbar": {
              "outlinewidth": 0,
              "ticks": ""
             }
            },
            "type": "scattermapbox"
           }
          ],
          "scatterpolar": [
           {
            "marker": {
             "colorbar": {
              "outlinewidth": 0,
              "ticks": ""
             }
            },
            "type": "scatterpolar"
           }
          ],
          "scatterpolargl": [
           {
            "marker": {
             "colorbar": {
              "outlinewidth": 0,
              "ticks": ""
             }
            },
            "type": "scatterpolargl"
           }
          ],
          "scatterternary": [
           {
            "marker": {
             "colorbar": {
              "outlinewidth": 0,
              "ticks": ""
             }
            },
            "type": "scatterternary"
           }
          ],
          "surface": [
           {
            "colorbar": {
             "outlinewidth": 0,
             "ticks": ""
            },
            "colorscale": [
             [
              0,
              "#0d0887"
             ],
             [
              0.1111111111111111,
              "#46039f"
             ],
             [
              0.2222222222222222,
              "#7201a8"
             ],
             [
              0.3333333333333333,
              "#9c179e"
             ],
             [
              0.4444444444444444,
              "#bd3786"
             ],
             [
              0.5555555555555556,
              "#d8576b"
             ],
             [
              0.6666666666666666,
              "#ed7953"
             ],
             [
              0.7777777777777778,
              "#fb9f3a"
             ],
             [
              0.8888888888888888,
              "#fdca26"
             ],
             [
              1,
              "#f0f921"
             ]
            ],
            "type": "surface"
           }
          ],
          "table": [
           {
            "cells": {
             "fill": {
              "color": "#EBF0F8"
             },
             "line": {
              "color": "white"
             }
            },
            "header": {
             "fill": {
              "color": "#C8D4E3"
             },
             "line": {
              "color": "white"
             }
            },
            "type": "table"
           }
          ]
         },
         "layout": {
          "annotationdefaults": {
           "arrowcolor": "#2a3f5f",
           "arrowhead": 0,
           "arrowwidth": 1
          },
          "autotypenumbers": "strict",
          "coloraxis": {
           "colorbar": {
            "outlinewidth": 0,
            "ticks": ""
           }
          },
          "colorscale": {
           "diverging": [
            [
             0,
             "#8e0152"
            ],
            [
             0.1,
             "#c51b7d"
            ],
            [
             0.2,
             "#de77ae"
            ],
            [
             0.3,
             "#f1b6da"
            ],
            [
             0.4,
             "#fde0ef"
            ],
            [
             0.5,
             "#f7f7f7"
            ],
            [
             0.6,
             "#e6f5d0"
            ],
            [
             0.7,
             "#b8e186"
            ],
            [
             0.8,
             "#7fbc41"
            ],
            [
             0.9,
             "#4d9221"
            ],
            [
             1,
             "#276419"
            ]
           ],
           "sequential": [
            [
             0,
             "#0d0887"
            ],
            [
             0.1111111111111111,
             "#46039f"
            ],
            [
             0.2222222222222222,
             "#7201a8"
            ],
            [
             0.3333333333333333,
             "#9c179e"
            ],
            [
             0.4444444444444444,
             "#bd3786"
            ],
            [
             0.5555555555555556,
             "#d8576b"
            ],
            [
             0.6666666666666666,
             "#ed7953"
            ],
            [
             0.7777777777777778,
             "#fb9f3a"
            ],
            [
             0.8888888888888888,
             "#fdca26"
            ],
            [
             1,
             "#f0f921"
            ]
           ],
           "sequentialminus": [
            [
             0,
             "#0d0887"
            ],
            [
             0.1111111111111111,
             "#46039f"
            ],
            [
             0.2222222222222222,
             "#7201a8"
            ],
            [
             0.3333333333333333,
             "#9c179e"
            ],
            [
             0.4444444444444444,
             "#bd3786"
            ],
            [
             0.5555555555555556,
             "#d8576b"
            ],
            [
             0.6666666666666666,
             "#ed7953"
            ],
            [
             0.7777777777777778,
             "#fb9f3a"
            ],
            [
             0.8888888888888888,
             "#fdca26"
            ],
            [
             1,
             "#f0f921"
            ]
           ]
          },
          "colorway": [
           "#636efa",
           "#EF553B",
           "#00cc96",
           "#ab63fa",
           "#FFA15A",
           "#19d3f3",
           "#FF6692",
           "#B6E880",
           "#FF97FF",
           "#FECB52"
          ],
          "font": {
           "color": "#2a3f5f"
          },
          "geo": {
           "bgcolor": "white",
           "lakecolor": "white",
           "landcolor": "#E5ECF6",
           "showlakes": true,
           "showland": true,
           "subunitcolor": "white"
          },
          "hoverlabel": {
           "align": "left"
          },
          "hovermode": "closest",
          "mapbox": {
           "style": "light"
          },
          "paper_bgcolor": "white",
          "plot_bgcolor": "#E5ECF6",
          "polar": {
           "angularaxis": {
            "gridcolor": "white",
            "linecolor": "white",
            "ticks": ""
           },
           "bgcolor": "#E5ECF6",
           "radialaxis": {
            "gridcolor": "white",
            "linecolor": "white",
            "ticks": ""
           }
          },
          "scene": {
           "xaxis": {
            "backgroundcolor": "#E5ECF6",
            "gridcolor": "white",
            "gridwidth": 2,
            "linecolor": "white",
            "showbackground": true,
            "ticks": "",
            "zerolinecolor": "white"
           },
           "yaxis": {
            "backgroundcolor": "#E5ECF6",
            "gridcolor": "white",
            "gridwidth": 2,
            "linecolor": "white",
            "showbackground": true,
            "ticks": "",
            "zerolinecolor": "white"
           },
           "zaxis": {
            "backgroundcolor": "#E5ECF6",
            "gridcolor": "white",
            "gridwidth": 2,
            "linecolor": "white",
            "showbackground": true,
            "ticks": "",
            "zerolinecolor": "white"
           }
          },
          "shapedefaults": {
           "line": {
            "color": "#2a3f5f"
           }
          },
          "ternary": {
           "aaxis": {
            "gridcolor": "white",
            "linecolor": "white",
            "ticks": ""
           },
           "baxis": {
            "gridcolor": "white",
            "linecolor": "white",
            "ticks": ""
           },
           "bgcolor": "#E5ECF6",
           "caxis": {
            "gridcolor": "white",
            "linecolor": "white",
            "ticks": ""
           }
          },
          "title": {
           "x": 0.05
          },
          "xaxis": {
           "automargin": true,
           "gridcolor": "white",
           "linecolor": "white",
           "ticks": "",
           "title": {
            "standoff": 15
           },
           "zerolinecolor": "white",
           "zerolinewidth": 2
          },
          "yaxis": {
           "automargin": true,
           "gridcolor": "white",
           "linecolor": "white",
           "ticks": "",
           "title": {
            "standoff": 15
           },
           "zerolinecolor": "white",
           "zerolinewidth": 2
          }
         }
        },
        "xaxis": {
         "anchor": "y",
         "domain": [
          0,
          1
         ],
         "title": {
          "text": "Score"
         },
         "type": "log"
        },
        "yaxis": {
         "anchor": "x",
         "domain": [
          0,
          1
         ],
         "title": {
          "text": "Value"
         }
        }
       }
      },
      "text/html": [
       "<div>                            <div id=\"f55567ea-70a1-43c9-b725-d3b981ff673d\" class=\"plotly-graph-div\" style=\"height:525px; width:100%;\"></div>            <script type=\"text/javascript\">                require([\"plotly\"], function(Plotly) {                    window.PLOTLYENV=window.PLOTLYENV || {};                                    if (document.getElementById(\"f55567ea-70a1-43c9-b725-d3b981ff673d\")) {                    Plotly.newPlot(                        \"f55567ea-70a1-43c9-b725-d3b981ff673d\",                        [{\"customdata\":[[\"Afghanistan\"],[\"Albania\"],[\"Algeria\"],[\"Angola\"],[\"Argentina\"],[\"Armenia\"],[\"Australia\"],[\"Austria\"],[\"Azerbaijan\"],[\"Bahrain\"],[\"Barbados\"],[\"Belarus\"],[\"Belgium\"],[\"Belize\"],[\"Benin\"],[\"Bhutan\"],[\"Bolivia\"],[\"Bosnia and Herzegovina\"],[\"Botswana\"],[\"Brazil\"],[\"Brunei Darussalam\"],[\"Bulgaria\"],[\"Burkina Faso\"],[\"Burundi\"],[\"Cabo Verde\"],[\"Cambodia\"],[\"Cameroon\"],[\"Canada\"],[\"Central African Republic\"],[\"Chad\"],[\"Chile\"],[\"China\"],[\"Colombia\"],[\"Comoros\"],[\"Costa Rica\"],[\"Croatia\"],[\"Cyprus\"],[\"Czech Republic\"],[\"Denmark\"],[\"Djibouti\"],[\"Dominica\"],[\"Dominican Republic\"],[\"Ecuador\"],[\"El Salvador\"],[\"Equatorial Guinea\"],[\"Eritrea\"],[\"Estonia\"],[\"Eswatini\"],[\"Ethiopia\"],[\"Fiji\"],[\"Finland\"],[\"France\"],[\"Gabon\"],[\"Georgia\"],[\"Germany\"],[\"Ghana\"],[\"Greece\"],[\"Guatemala\"],[\"Guinea\"],[\"Guinea-Bissau\"],[\"Guyana\"],[\"Haiti\"],[\"Honduras\"],[\"Hungary\"],[\"Iceland\"],[\"India\"],[\"Indonesia\"],[\"Ireland\"],[\"Israel\"],[\"Italy\"],[\"Jamaica\"],[\"Japan\"],[\"Jordan\"],[\"Kazakhstan\"],[\"Kenya\"],[\"Kiribati\"],[\"Kosovo\"],[\"Kuwait\"],[\"Kyrgyz Republic\"],[\"Latvia\"],[\"Lebanon\"],[\"Lesotho\"],[\"Liberia\"],[\"Lithuania\"],[\"Luxembourg\"],[\"Madagascar\"],[\"Malawi\"],[\"Malaysia\"],[\"Maldives\"],[\"Mali\"],[\"Malta\"],[\"Mauritania\"],[\"Mauritius\"],[\"Mexico\"],[\"Moldova\"],[\"Mongolia\"],[\"Montenegro\"],[\"Morocco\"],[\"Mozambique\"],[\"Namibia\"],[\"Nepal\"],[\"Netherlands\"],[\"New Zealand\"],[\"Nicaragua\"],[\"Niger\"],[\"Nigeria\"],[\"North Macedonia\"],[\"Norway\"],[\"Oman\"],[\"Pakistan\"],[\"Panama\"],[\"Papua New Guinea\"],[\"Paraguay\"],[\"Peru\"],[\"Philippines\"],[\"Poland\"],[\"Portugal\"],[\"Qatar\"],[\"Romania\"],[\"Rwanda\"],[\"Samoa\"],[\"Saudi Arabia\"],[\"Senegal\"],[\"Seychelles\"],[\"Sierra Leone\"],[\"Singapore\"],[\"Slovak Republic\"],[\"Slovenia\"],[\"Solomon Islands\"],[\"South Africa\"],[\"Spain\"],[\"Sri Lanka\"],[\"Sudan\"],[\"Suriname\"],[\"Sweden\"],[\"Switzerland\"],[\"Tajikistan\"],[\"Tanzania\"],[\"Thailand\"],[\"Timor-Leste\"],[\"Togo\"],[\"Tonga\"],[\"Trinidad and Tobago\"],[\"Tunisia\"],[\"Turkey\"],[\"Turkmenistan\"],[\"Uganda\"],[\"Ukraine\"],[\"United Arab Emirates\"],[\"United Kingdom\"],[\"United States\"],[\"Uruguay\"],[\"Uzbekistan\"],[\"Vanuatu\"],[\"Vietnam\"],[\"Zambia\"],[\"Zimbabwe\"]],\"hovertemplate\":\"Score=%{x}<br>Value=%{y}<br>Country=%{customdata[0]}<extra></extra>\",\"legendgroup\":\"\",\"marker\":{\"color\":\"#636efa\",\"symbol\":\"circle\"},\"mode\":\"markers\",\"name\":\"\",\"orientation\":\"v\",\"showlegend\":false,\"type\":\"scatter\",\"x\":[54.7,66.9,46.9,52.2,53.1,70.6,82.6,73.3,69.3,66.3,61.4,61.7,68.9,57.4,55.2,62.1,42.8,62.6,69.6,53.7,66.6,70.2,56.7,49.0,63.6,57.3,53.6,78.2,50.7,50.2,76.8,59.5,69.2,53.7,65.8,62.2,70.1,74.8,78.3,52.9,60.8,60.9,51.3,61.6,48.3,38.5,77.7,55.3,53.6,63.4,75.7,66.0,56.7,77.1,73.5,59.4,59.9,64.0,56.5,53.3,56.2,52.3,61.1,66.4,77.1,56.5,67.2,80.9,74.0,63.8,68.5,73.3,66.0,69.6,55.3,45.2,67.4,63.2,62.9,71.9,51.7,54.5,49.0,76.7,75.8,60.5,52.8,74.7,56.5,55.9,69.5,55.3,74.9,66.0,62.0,55.9,61.5,63.3,50.5,60.9,54.2,77.0,84.1,57.2,54.7,57.2,69.5,73.4,63.6,54.8,67.2,58.4,63.0,67.9,64.5,69.1,67.0,72.3,69.7,70.9,62.1,62.4,58.0,64.3,48.0,89.4,66.8,67.8,52.9,58.8,66.9,57.4,45.0,49.5,74.9,82.0,52.2,61.7,69.4,45.9,54.1,58.8,58.3,55.8,64.4,46.5,59.5,54.9,76.2,79.3,76.6,69.1,57.2,60.7,58.8,53.5,43.1],\"xaxis\":\"x\",\"y\":[2087.6,13817.8,11268.3,6538.5,20767.6,13284.2,52518.3,55097.5,14452.0,43181.2,13576.8,20199.7,51968.2,6456.0,3505.6,11508.2,8367.3,15611.8,16920.8,14836.3,65661.7,24367.3,2279.2,771.2,6377.0,4422.0,3772.7,48072.6,979.6,1603.4,25067.7,17312.0,14565.4,3313.2,21031.8,28503.9,38458.2,41737.4,60398.5,5782.1,10434.5,17936.7,10896.4,8499.0,17941.6,1625.5,38394.9,8853.6,2423.0,11601.4,51089.8,46227.0,15190.6,14863.0,53694.4,5596.3,28463.8,8854.2,2817.5,1948.9,19705.8,2925.4,5420.6,33084.1,55216.0,6454.3,12073.5,93612.2,41854.9,41840.0,9221.6,42197.3,10355.6,26728.5,4452.2,2417.8,11367.9,51962.0,4965.0,32019.2,12288.8,2405.1,1428.2,38734.7,118359.5,1593.1,1568.4,27886.9,13765.6,2338.5,42640.1,5256.9,20538.7,18833.1,13001.6,12100.6,20566.6,7296.2,1296.6,9382.2,4008.7,59228.8,44251.8,5570.1,1262.6,5186.7,16926.6,63198.0,28448.9,4876.6,26775.7,4326.4,13012.9,11879.2,8390.4,34264.8,34495.9,89948.6,31945.7,2214.0,6777.8,46762.5,3481.3,25699.7,1738.6,98526.0,31832.4,39593.3,2619.2,12095.9,38334.6,13225.4,4243.8,17016.0,54563.1,71352.4,3858.4,2780.1,18236.2,3355.8,2223.6,6647.9,25031.2,10261.7,28119.5,16195.5,2297.2,13056.7,69957.6,44916.2,63543.6,22795.1,7378.3,2914.5,8650.7,3449.6,2895.4],\"yaxis\":\"y\"}],                        {\"legend\":{\"tracegroupgap\":0},\"margin\":{\"t\":60},\"template\":{\"data\":{\"bar\":[{\"error_x\":{\"color\":\"#2a3f5f\"},\"error_y\":{\"color\":\"#2a3f5f\"},\"marker\":{\"line\":{\"color\":\"#E5ECF6\",\"width\":0.5},\"pattern\":{\"fillmode\":\"overlay\",\"size\":10,\"solidity\":0.2}},\"type\":\"bar\"}],\"barpolar\":[{\"marker\":{\"line\":{\"color\":\"#E5ECF6\",\"width\":0.5},\"pattern\":{\"fillmode\":\"overlay\",\"size\":10,\"solidity\":0.2}},\"type\":\"barpolar\"}],\"carpet\":[{\"aaxis\":{\"endlinecolor\":\"#2a3f5f\",\"gridcolor\":\"white\",\"linecolor\":\"white\",\"minorgridcolor\":\"white\",\"startlinecolor\":\"#2a3f5f\"},\"baxis\":{\"endlinecolor\":\"#2a3f5f\",\"gridcolor\":\"white\",\"linecolor\":\"white\",\"minorgridcolor\":\"white\",\"startlinecolor\":\"#2a3f5f\"},\"type\":\"carpet\"}],\"choropleth\":[{\"colorbar\":{\"outlinewidth\":0,\"ticks\":\"\"},\"type\":\"choropleth\"}],\"contour\":[{\"colorbar\":{\"outlinewidth\":0,\"ticks\":\"\"},\"colorscale\":[[0.0,\"#0d0887\"],[0.1111111111111111,\"#46039f\"],[0.2222222222222222,\"#7201a8\"],[0.3333333333333333,\"#9c179e\"],[0.4444444444444444,\"#bd3786\"],[0.5555555555555556,\"#d8576b\"],[0.6666666666666666,\"#ed7953\"],[0.7777777777777778,\"#fb9f3a\"],[0.8888888888888888,\"#fdca26\"],[1.0,\"#f0f921\"]],\"type\":\"contour\"}],\"contourcarpet\":[{\"colorbar\":{\"outlinewidth\":0,\"ticks\":\"\"},\"type\":\"contourcarpet\"}],\"heatmap\":[{\"colorbar\":{\"outlinewidth\":0,\"ticks\":\"\"},\"colorscale\":[[0.0,\"#0d0887\"],[0.1111111111111111,\"#46039f\"],[0.2222222222222222,\"#7201a8\"],[0.3333333333333333,\"#9c179e\"],[0.4444444444444444,\"#bd3786\"],[0.5555555555555556,\"#d8576b\"],[0.6666666666666666,\"#ed7953\"],[0.7777777777777778,\"#fb9f3a\"],[0.8888888888888888,\"#fdca26\"],[1.0,\"#f0f921\"]],\"type\":\"heatmap\"}],\"heatmapgl\":[{\"colorbar\":{\"outlinewidth\":0,\"ticks\":\"\"},\"colorscale\":[[0.0,\"#0d0887\"],[0.1111111111111111,\"#46039f\"],[0.2222222222222222,\"#7201a8\"],[0.3333333333333333,\"#9c179e\"],[0.4444444444444444,\"#bd3786\"],[0.5555555555555556,\"#d8576b\"],[0.6666666666666666,\"#ed7953\"],[0.7777777777777778,\"#fb9f3a\"],[0.8888888888888888,\"#fdca26\"],[1.0,\"#f0f921\"]],\"type\":\"heatmapgl\"}],\"histogram\":[{\"marker\":{\"pattern\":{\"fillmode\":\"overlay\",\"size\":10,\"solidity\":0.2}},\"type\":\"histogram\"}],\"histogram2d\":[{\"colorbar\":{\"outlinewidth\":0,\"ticks\":\"\"},\"colorscale\":[[0.0,\"#0d0887\"],[0.1111111111111111,\"#46039f\"],[0.2222222222222222,\"#7201a8\"],[0.3333333333333333,\"#9c179e\"],[0.4444444444444444,\"#bd3786\"],[0.5555555555555556,\"#d8576b\"],[0.6666666666666666,\"#ed7953\"],[0.7777777777777778,\"#fb9f3a\"],[0.8888888888888888,\"#fdca26\"],[1.0,\"#f0f921\"]],\"type\":\"histogram2d\"}],\"histogram2dcontour\":[{\"colorbar\":{\"outlinewidth\":0,\"ticks\":\"\"},\"colorscale\":[[0.0,\"#0d0887\"],[0.1111111111111111,\"#46039f\"],[0.2222222222222222,\"#7201a8\"],[0.3333333333333333,\"#9c179e\"],[0.4444444444444444,\"#bd3786\"],[0.5555555555555556,\"#d8576b\"],[0.6666666666666666,\"#ed7953\"],[0.7777777777777778,\"#fb9f3a\"],[0.8888888888888888,\"#fdca26\"],[1.0,\"#f0f921\"]],\"type\":\"histogram2dcontour\"}],\"mesh3d\":[{\"colorbar\":{\"outlinewidth\":0,\"ticks\":\"\"},\"type\":\"mesh3d\"}],\"parcoords\":[{\"line\":{\"colorbar\":{\"outlinewidth\":0,\"ticks\":\"\"}},\"type\":\"parcoords\"}],\"pie\":[{\"automargin\":true,\"type\":\"pie\"}],\"scatter\":[{\"marker\":{\"colorbar\":{\"outlinewidth\":0,\"ticks\":\"\"}},\"type\":\"scatter\"}],\"scatter3d\":[{\"line\":{\"colorbar\":{\"outlinewidth\":0,\"ticks\":\"\"}},\"marker\":{\"colorbar\":{\"outlinewidth\":0,\"ticks\":\"\"}},\"type\":\"scatter3d\"}],\"scattercarpet\":[{\"marker\":{\"colorbar\":{\"outlinewidth\":0,\"ticks\":\"\"}},\"type\":\"scattercarpet\"}],\"scattergeo\":[{\"marker\":{\"colorbar\":{\"outlinewidth\":0,\"ticks\":\"\"}},\"type\":\"scattergeo\"}],\"scattergl\":[{\"marker\":{\"colorbar\":{\"outlinewidth\":0,\"ticks\":\"\"}},\"type\":\"scattergl\"}],\"scattermapbox\":[{\"marker\":{\"colorbar\":{\"outlinewidth\":0,\"ticks\":\"\"}},\"type\":\"scattermapbox\"}],\"scatterpolar\":[{\"marker\":{\"colorbar\":{\"outlinewidth\":0,\"ticks\":\"\"}},\"type\":\"scatterpolar\"}],\"scatterpolargl\":[{\"marker\":{\"colorbar\":{\"outlinewidth\":0,\"ticks\":\"\"}},\"type\":\"scatterpolargl\"}],\"scatterternary\":[{\"marker\":{\"colorbar\":{\"outlinewidth\":0,\"ticks\":\"\"}},\"type\":\"scatterternary\"}],\"surface\":[{\"colorbar\":{\"outlinewidth\":0,\"ticks\":\"\"},\"colorscale\":[[0.0,\"#0d0887\"],[0.1111111111111111,\"#46039f\"],[0.2222222222222222,\"#7201a8\"],[0.3333333333333333,\"#9c179e\"],[0.4444444444444444,\"#bd3786\"],[0.5555555555555556,\"#d8576b\"],[0.6666666666666666,\"#ed7953\"],[0.7777777777777778,\"#fb9f3a\"],[0.8888888888888888,\"#fdca26\"],[1.0,\"#f0f921\"]],\"type\":\"surface\"}],\"table\":[{\"cells\":{\"fill\":{\"color\":\"#EBF0F8\"},\"line\":{\"color\":\"white\"}},\"header\":{\"fill\":{\"color\":\"#C8D4E3\"},\"line\":{\"color\":\"white\"}},\"type\":\"table\"}]},\"layout\":{\"annotationdefaults\":{\"arrowcolor\":\"#2a3f5f\",\"arrowhead\":0,\"arrowwidth\":1},\"autotypenumbers\":\"strict\",\"coloraxis\":{\"colorbar\":{\"outlinewidth\":0,\"ticks\":\"\"}},\"colorscale\":{\"diverging\":[[0,\"#8e0152\"],[0.1,\"#c51b7d\"],[0.2,\"#de77ae\"],[0.3,\"#f1b6da\"],[0.4,\"#fde0ef\"],[0.5,\"#f7f7f7\"],[0.6,\"#e6f5d0\"],[0.7,\"#b8e186\"],[0.8,\"#7fbc41\"],[0.9,\"#4d9221\"],[1,\"#276419\"]],\"sequential\":[[0.0,\"#0d0887\"],[0.1111111111111111,\"#46039f\"],[0.2222222222222222,\"#7201a8\"],[0.3333333333333333,\"#9c179e\"],[0.4444444444444444,\"#bd3786\"],[0.5555555555555556,\"#d8576b\"],[0.6666666666666666,\"#ed7953\"],[0.7777777777777778,\"#fb9f3a\"],[0.8888888888888888,\"#fdca26\"],[1.0,\"#f0f921\"]],\"sequentialminus\":[[0.0,\"#0d0887\"],[0.1111111111111111,\"#46039f\"],[0.2222222222222222,\"#7201a8\"],[0.3333333333333333,\"#9c179e\"],[0.4444444444444444,\"#bd3786\"],[0.5555555555555556,\"#d8576b\"],[0.6666666666666666,\"#ed7953\"],[0.7777777777777778,\"#fb9f3a\"],[0.8888888888888888,\"#fdca26\"],[1.0,\"#f0f921\"]]},\"colorway\":[\"#636efa\",\"#EF553B\",\"#00cc96\",\"#ab63fa\",\"#FFA15A\",\"#19d3f3\",\"#FF6692\",\"#B6E880\",\"#FF97FF\",\"#FECB52\"],\"font\":{\"color\":\"#2a3f5f\"},\"geo\":{\"bgcolor\":\"white\",\"lakecolor\":\"white\",\"landcolor\":\"#E5ECF6\",\"showlakes\":true,\"showland\":true,\"subunitcolor\":\"white\"},\"hoverlabel\":{\"align\":\"left\"},\"hovermode\":\"closest\",\"mapbox\":{\"style\":\"light\"},\"paper_bgcolor\":\"white\",\"plot_bgcolor\":\"#E5ECF6\",\"polar\":{\"angularaxis\":{\"gridcolor\":\"white\",\"linecolor\":\"white\",\"ticks\":\"\"},\"bgcolor\":\"#E5ECF6\",\"radialaxis\":{\"gridcolor\":\"white\",\"linecolor\":\"white\",\"ticks\":\"\"}},\"scene\":{\"xaxis\":{\"backgroundcolor\":\"#E5ECF6\",\"gridcolor\":\"white\",\"gridwidth\":2,\"linecolor\":\"white\",\"showbackground\":true,\"ticks\":\"\",\"zerolinecolor\":\"white\"},\"yaxis\":{\"backgroundcolor\":\"#E5ECF6\",\"gridcolor\":\"white\",\"gridwidth\":2,\"linecolor\":\"white\",\"showbackground\":true,\"ticks\":\"\",\"zerolinecolor\":\"white\"},\"zaxis\":{\"backgroundcolor\":\"#E5ECF6\",\"gridcolor\":\"white\",\"gridwidth\":2,\"linecolor\":\"white\",\"showbackground\":true,\"ticks\":\"\",\"zerolinecolor\":\"white\"}},\"shapedefaults\":{\"line\":{\"color\":\"#2a3f5f\"}},\"ternary\":{\"aaxis\":{\"gridcolor\":\"white\",\"linecolor\":\"white\",\"ticks\":\"\"},\"baxis\":{\"gridcolor\":\"white\",\"linecolor\":\"white\",\"ticks\":\"\"},\"bgcolor\":\"#E5ECF6\",\"caxis\":{\"gridcolor\":\"white\",\"linecolor\":\"white\",\"ticks\":\"\"}},\"title\":{\"x\":0.05},\"xaxis\":{\"automargin\":true,\"gridcolor\":\"white\",\"linecolor\":\"white\",\"ticks\":\"\",\"title\":{\"standoff\":15},\"zerolinecolor\":\"white\",\"zerolinewidth\":2},\"yaxis\":{\"automargin\":true,\"gridcolor\":\"white\",\"linecolor\":\"white\",\"ticks\":\"\",\"title\":{\"standoff\":15},\"zerolinecolor\":\"white\",\"zerolinewidth\":2}}},\"xaxis\":{\"anchor\":\"y\",\"domain\":[0.0,1.0],\"title\":{\"text\":\"Score\"},\"type\":\"log\"},\"yaxis\":{\"anchor\":\"x\",\"domain\":[0.0,1.0],\"title\":{\"text\":\"Value\"}}},                        {\"responsive\": true}                    ).then(function(){\n",
       "                            \n",
       "var gd = document.getElementById('f55567ea-70a1-43c9-b725-d3b981ff673d');\n",
       "var x = new MutationObserver(function (mutations, observer) {{\n",
       "        var display = window.getComputedStyle(gd).display;\n",
       "        if (!display || display === 'none') {{\n",
       "            console.log([gd, 'removed!']);\n",
       "            Plotly.purge(gd);\n",
       "            observer.disconnect();\n",
       "        }}\n",
       "}});\n",
       "\n",
       "// Listen for the removal of the full notebook cells\n",
       "var notebookContainer = gd.closest('#notebook-container');\n",
       "if (notebookContainer) {{\n",
       "    x.observe(notebookContainer, {childList: true});\n",
       "}}\n",
       "\n",
       "// Listen for the clearing of the current output cell\n",
       "var outputEl = gd.closest('.output');\n",
       "if (outputEl) {{\n",
       "    x.observe(outputEl, {childList: true});\n",
       "}}\n",
       "\n",
       "                        })                };                });            </script>        </div>"
      ]
     },
     "metadata": {},
     "output_type": "display_data"
    }
   ],
   "source": [
    "fig = px.scatter(merged_data, x=\"Score\", y=\"Value\", log_x=True,\n",
    "                hover_data=[\"Country\", \"Score\"])\n",
    "fig.show()"
   ]
  },
  {
   "cell_type": "markdown",
   "id": "c7efadf1",
   "metadata": {},
   "source": [
    "That’s an important functionality, particularly when it comes to quickly identifying statistical outliers like Luxembourg."
   ]
  },
  {
   "cell_type": "markdown",
   "id": "e9ddcf71",
   "metadata": {},
   "source": [
    "### Adding a Regression Line\n",
    "There’s one more important piece of information that’ll improve how we understand our data: its R-squared value."
   ]
  },
  {
   "cell_type": "code",
   "execution_count": null,
   "id": "da3efb8a",
   "metadata": {},
   "outputs": [],
   "source": [
    "def fit_line(x, y):\n",
    "\n",
    "    x = x.to_numpy() # convert into numpy arrays\n",
    "    y = y.to_numpy() # convert into numpy arrays\n",
    "\n",
    "    A = np.vstack([x, np.ones(len(x))]).T \n",
    "    m, c = np.linalg.lstsq(A, y, rcond=None)[0]\n",
    "\n",
    "    return m, c\n",
    "    \n",
    "fig = px.scatter(merged_data, x=\"Score\", y=\"Value\",\n",
    "                 log_x=True,\n",
    "                 hover_data=[\"Country\", \"Score\"])\n",
    "# fit a linear model \n",
    "m, c = fit_line(x = merged_data.Score, \n",
    "                y = merged_data.Value)\n",
    "\n",
    "# add the linear fit on top\n",
    "fig.add_trace(\n",
    "    go.Scatter(\n",
    "        x=merged_data.Score,\n",
    "        y=m*merged_data.Score + c,\n",
    "        mode=\"lines\",\n",
    "        line=go.scatter.Line(color=\"red\"),\n",
    "        showlegend=False)\n",
    ")\n",
    "\n",
    "fig.show()\n"
   ]
  },
  {
   "cell_type": "markdown",
   "id": "38e1cadd",
   "metadata": {},
   "source": [
    "# Preferred Approach\n",
    "\n",
    "Just add a trendline argument to the code we've already been using."
   ]
  },
  {
   "cell_type": "code",
   "execution_count": 213,
   "id": "7f176431",
   "metadata": {},
   "outputs": [
    {
     "data": {
      "application/vnd.plotly.v1+json": {
       "config": {
        "plotlyServerURL": "https://plot.ly"
       },
       "data": [
        {
         "customdata": [
          [
           "Afghanistan"
          ],
          [
           "Albania"
          ],
          [
           "Algeria"
          ],
          [
           "Angola"
          ],
          [
           "Argentina"
          ],
          [
           "Armenia"
          ],
          [
           "Australia"
          ],
          [
           "Austria"
          ],
          [
           "Azerbaijan"
          ],
          [
           "Bahrain"
          ],
          [
           "Barbados"
          ],
          [
           "Belarus"
          ],
          [
           "Belgium"
          ],
          [
           "Belize"
          ],
          [
           "Benin"
          ],
          [
           "Bhutan"
          ],
          [
           "Bolivia"
          ],
          [
           "Bosnia and Herzegovina"
          ],
          [
           "Botswana"
          ],
          [
           "Brazil"
          ],
          [
           "Brunei Darussalam"
          ],
          [
           "Bulgaria"
          ],
          [
           "Burkina Faso"
          ],
          [
           "Burundi"
          ],
          [
           "Cabo Verde"
          ],
          [
           "Cambodia"
          ],
          [
           "Cameroon"
          ],
          [
           "Canada"
          ],
          [
           "Central African Republic"
          ],
          [
           "Chad"
          ],
          [
           "Chile"
          ],
          [
           "China"
          ],
          [
           "Colombia"
          ],
          [
           "Comoros"
          ],
          [
           "Costa Rica"
          ],
          [
           "Croatia"
          ],
          [
           "Cyprus"
          ],
          [
           "Czech Republic"
          ],
          [
           "Denmark"
          ],
          [
           "Djibouti"
          ],
          [
           "Dominica"
          ],
          [
           "Dominican Republic"
          ],
          [
           "Ecuador"
          ],
          [
           "El Salvador"
          ],
          [
           "Equatorial Guinea"
          ],
          [
           "Eritrea"
          ],
          [
           "Estonia"
          ],
          [
           "Eswatini"
          ],
          [
           "Ethiopia"
          ],
          [
           "Fiji"
          ],
          [
           "Finland"
          ],
          [
           "France"
          ],
          [
           "Gabon"
          ],
          [
           "Georgia"
          ],
          [
           "Germany"
          ],
          [
           "Ghana"
          ],
          [
           "Greece"
          ],
          [
           "Guatemala"
          ],
          [
           "Guinea"
          ],
          [
           "Guinea-Bissau"
          ],
          [
           "Guyana"
          ],
          [
           "Haiti"
          ],
          [
           "Honduras"
          ],
          [
           "Hungary"
          ],
          [
           "Iceland"
          ],
          [
           "India"
          ],
          [
           "Indonesia"
          ],
          [
           "Ireland"
          ],
          [
           "Israel"
          ],
          [
           "Italy"
          ],
          [
           "Jamaica"
          ],
          [
           "Japan"
          ],
          [
           "Jordan"
          ],
          [
           "Kazakhstan"
          ],
          [
           "Kenya"
          ],
          [
           "Kiribati"
          ],
          [
           "Kosovo"
          ],
          [
           "Kuwait"
          ],
          [
           "Kyrgyz Republic"
          ],
          [
           "Latvia"
          ],
          [
           "Lebanon"
          ],
          [
           "Lesotho"
          ],
          [
           "Liberia"
          ],
          [
           "Lithuania"
          ],
          [
           "Luxembourg"
          ],
          [
           "Madagascar"
          ],
          [
           "Malawi"
          ],
          [
           "Malaysia"
          ],
          [
           "Maldives"
          ],
          [
           "Mali"
          ],
          [
           "Malta"
          ],
          [
           "Mauritania"
          ],
          [
           "Mauritius"
          ],
          [
           "Mexico"
          ],
          [
           "Moldova"
          ],
          [
           "Mongolia"
          ],
          [
           "Montenegro"
          ],
          [
           "Morocco"
          ],
          [
           "Mozambique"
          ],
          [
           "Namibia"
          ],
          [
           "Nepal"
          ],
          [
           "Netherlands"
          ],
          [
           "New Zealand"
          ],
          [
           "Nicaragua"
          ],
          [
           "Niger"
          ],
          [
           "Nigeria"
          ],
          [
           "North Macedonia"
          ],
          [
           "Norway"
          ],
          [
           "Oman"
          ],
          [
           "Pakistan"
          ],
          [
           "Panama"
          ],
          [
           "Papua New Guinea"
          ],
          [
           "Paraguay"
          ],
          [
           "Peru"
          ],
          [
           "Philippines"
          ],
          [
           "Poland"
          ],
          [
           "Portugal"
          ],
          [
           "Qatar"
          ],
          [
           "Romania"
          ],
          [
           "Rwanda"
          ],
          [
           "Samoa"
          ],
          [
           "Saudi Arabia"
          ],
          [
           "Senegal"
          ],
          [
           "Seychelles"
          ],
          [
           "Sierra Leone"
          ],
          [
           "Singapore"
          ],
          [
           "Slovak Republic"
          ],
          [
           "Slovenia"
          ],
          [
           "Solomon Islands"
          ],
          [
           "South Africa"
          ],
          [
           "Spain"
          ],
          [
           "Sri Lanka"
          ],
          [
           "Sudan"
          ],
          [
           "Suriname"
          ],
          [
           "Sweden"
          ],
          [
           "Switzerland"
          ],
          [
           "Tajikistan"
          ],
          [
           "Tanzania"
          ],
          [
           "Thailand"
          ],
          [
           "Timor-Leste"
          ],
          [
           "Togo"
          ],
          [
           "Tonga"
          ],
          [
           "Trinidad and Tobago"
          ],
          [
           "Tunisia"
          ],
          [
           "Turkey"
          ],
          [
           "Turkmenistan"
          ],
          [
           "Uganda"
          ],
          [
           "Ukraine"
          ],
          [
           "United Arab Emirates"
          ],
          [
           "United Kingdom"
          ],
          [
           "United States"
          ],
          [
           "Uruguay"
          ],
          [
           "Uzbekistan"
          ],
          [
           "Vanuatu"
          ],
          [
           "Vietnam"
          ],
          [
           "Zambia"
          ],
          [
           "Zimbabwe"
          ]
         ],
         "hovertemplate": "Score=%{x}<br>Value=%{y}<br>Country=%{customdata[0]}<extra></extra>",
         "legendgroup": "",
         "marker": {
          "color": "#636efa",
          "symbol": "circle"
         },
         "mode": "markers",
         "name": "",
         "orientation": "v",
         "showlegend": false,
         "type": "scatter",
         "x": [
          54.7,
          66.9,
          46.9,
          52.2,
          53.1,
          70.6,
          82.6,
          73.3,
          69.3,
          66.3,
          61.4,
          61.7,
          68.9,
          57.4,
          55.2,
          62.1,
          42.8,
          62.6,
          69.6,
          53.7,
          66.6,
          70.2,
          56.7,
          49,
          63.6,
          57.3,
          53.6,
          78.2,
          50.7,
          50.2,
          76.8,
          59.5,
          69.2,
          53.7,
          65.8,
          62.2,
          70.1,
          74.8,
          78.3,
          52.9,
          60.8,
          60.9,
          51.3,
          61.6,
          48.3,
          38.5,
          77.7,
          55.3,
          53.6,
          63.4,
          75.7,
          66,
          56.7,
          77.1,
          73.5,
          59.4,
          59.9,
          64,
          56.5,
          53.3,
          56.2,
          52.3,
          61.1,
          66.4,
          77.1,
          56.5,
          67.2,
          80.9,
          74,
          63.8,
          68.5,
          73.3,
          66,
          69.6,
          55.3,
          45.2,
          67.4,
          63.2,
          62.9,
          71.9,
          51.7,
          54.5,
          49,
          76.7,
          75.8,
          60.5,
          52.8,
          74.7,
          56.5,
          55.9,
          69.5,
          55.3,
          74.9,
          66,
          62,
          55.9,
          61.5,
          63.3,
          50.5,
          60.9,
          54.2,
          77,
          84.1,
          57.2,
          54.7,
          57.2,
          69.5,
          73.4,
          63.6,
          54.8,
          67.2,
          58.4,
          63,
          67.9,
          64.5,
          69.1,
          67,
          72.3,
          69.7,
          70.9,
          62.1,
          62.4,
          58,
          64.3,
          48,
          89.4,
          66.8,
          67.8,
          52.9,
          58.8,
          66.9,
          57.4,
          45,
          49.5,
          74.9,
          82,
          52.2,
          61.7,
          69.4,
          45.9,
          54.1,
          58.8,
          58.3,
          55.8,
          64.4,
          46.5,
          59.5,
          54.9,
          76.2,
          79.3,
          76.6,
          69.1,
          57.2,
          60.7,
          58.8,
          53.5,
          43.1
         ],
         "xaxis": "x",
         "y": [
          2087.6,
          13817.8,
          11268.3,
          6538.5,
          20767.6,
          13284.2,
          52518.3,
          55097.5,
          14452,
          43181.2,
          13576.8,
          20199.7,
          51968.2,
          6456,
          3505.6,
          11508.2,
          8367.3,
          15611.8,
          16920.8,
          14836.3,
          65661.7,
          24367.3,
          2279.2,
          771.2,
          6377,
          4422,
          3772.7,
          48072.6,
          979.6,
          1603.4,
          25067.7,
          17312,
          14565.4,
          3313.2,
          21031.8,
          28503.9,
          38458.2,
          41737.4,
          60398.5,
          5782.1,
          10434.5,
          17936.7,
          10896.4,
          8499,
          17941.6,
          1625.5,
          38394.9,
          8853.6,
          2423,
          11601.4,
          51089.8,
          46227,
          15190.6,
          14863,
          53694.4,
          5596.3,
          28463.8,
          8854.2,
          2817.5,
          1948.9,
          19705.8,
          2925.4,
          5420.6,
          33084.1,
          55216,
          6454.3,
          12073.5,
          93612.2,
          41854.9,
          41840,
          9221.6,
          42197.3,
          10355.6,
          26728.5,
          4452.2,
          2417.8,
          11367.9,
          51962,
          4965,
          32019.2,
          12288.8,
          2405.1,
          1428.2,
          38734.7,
          118359.5,
          1593.1,
          1568.4,
          27886.9,
          13765.6,
          2338.5,
          42640.1,
          5256.9,
          20538.7,
          18833.1,
          13001.6,
          12100.6,
          20566.6,
          7296.2,
          1296.6,
          9382.2,
          4008.7,
          59228.8,
          44251.8,
          5570.1,
          1262.6,
          5186.7,
          16926.6,
          63198,
          28448.9,
          4876.6,
          26775.7,
          4326.4,
          13012.9,
          11879.2,
          8390.4,
          34264.8,
          34495.9,
          89948.6,
          31945.7,
          2214,
          6777.8,
          46762.5,
          3481.3,
          25699.7,
          1738.6,
          98526,
          31832.4,
          39593.3,
          2619.2,
          12095.9,
          38334.6,
          13225.4,
          4243.8,
          17016,
          54563.1,
          71352.4,
          3858.4,
          2780.1,
          18236.2,
          3355.8,
          2223.6,
          6647.9,
          25031.2,
          10261.7,
          28119.5,
          16195.5,
          2297.2,
          13056.7,
          69957.6,
          44916.2,
          63543.6,
          22795.1,
          7378.3,
          2914.5,
          8650.7,
          3449.6,
          2895.4
         ],
         "yaxis": "y"
        },
        {
         "hovertemplate": "<b>OLS trendline</b><br>Value = 1686.13 * Score + -83919.2<br>R<sup>2</sup>=0.542176<br><br>Score=%{x}<br>Value=%{y} <b>(trend)</b><extra></extra>",
         "legendgroup": "",
         "marker": {
          "color": "#636efa",
          "symbol": "circle"
         },
         "mode": "lines",
         "name": "",
         "showlegend": false,
         "type": "scatter",
         "x": [
          38.5,
          42.8,
          43.1,
          45,
          45.2,
          45.9,
          46.5,
          46.9,
          48,
          48.3,
          49,
          49,
          49.5,
          50.2,
          50.5,
          50.7,
          51.3,
          51.7,
          52.2,
          52.2,
          52.3,
          52.8,
          52.9,
          52.9,
          53.1,
          53.3,
          53.5,
          53.6,
          53.6,
          53.7,
          53.7,
          54.1,
          54.2,
          54.5,
          54.7,
          54.7,
          54.8,
          54.9,
          55.2,
          55.3,
          55.3,
          55.3,
          55.8,
          55.9,
          55.9,
          56.2,
          56.5,
          56.5,
          56.5,
          56.7,
          56.7,
          57.2,
          57.2,
          57.2,
          57.3,
          57.4,
          57.4,
          58,
          58.3,
          58.4,
          58.8,
          58.8,
          58.8,
          59.4,
          59.5,
          59.5,
          59.9,
          60.5,
          60.7,
          60.8,
          60.9,
          60.9,
          61.1,
          61.4,
          61.5,
          61.6,
          61.7,
          61.7,
          62,
          62.1,
          62.1,
          62.2,
          62.4,
          62.6,
          62.9,
          63,
          63.2,
          63.3,
          63.4,
          63.6,
          63.6,
          63.8,
          64,
          64.3,
          64.4,
          64.5,
          65.8,
          66,
          66,
          66,
          66.3,
          66.4,
          66.6,
          66.8,
          66.9,
          66.9,
          67,
          67.2,
          67.2,
          67.4,
          67.8,
          67.9,
          68.5,
          68.9,
          69.1,
          69.1,
          69.2,
          69.3,
          69.4,
          69.5,
          69.5,
          69.6,
          69.6,
          69.7,
          70.1,
          70.2,
          70.6,
          70.9,
          71.9,
          72.3,
          73.3,
          73.3,
          73.4,
          73.5,
          74,
          74.7,
          74.8,
          74.9,
          74.9,
          75.7,
          75.8,
          76.2,
          76.6,
          76.7,
          76.8,
          77,
          77.1,
          77.1,
          77.7,
          78.2,
          78.3,
          79.3,
          80.9,
          82,
          82.6,
          84.1,
          89.4
         ],
         "xaxis": "x",
         "y": [
          -19003.228358787615,
          -11752.875192191554,
          -11247.036599173225,
          -8043.392176723806,
          -7706.166448044911,
          -6525.876397668821,
          -5514.199211632149,
          -4839.747754274387,
          -2985.0062465405063,
          -2479.1676535221777,
          -1298.877603146073,
          -1298.877603146073,
          -455.81328144886356,
          724.4767689272558,
          1230.3153619455697,
          1567.5410906244651,
          2579.218276661122,
          3253.6697340188985,
          4096.734055716108,
          4096.734055716108,
          4265.3469200555555,
          5108.411241752765,
          5277.024106092213,
          5277.024106092213,
          5614.249834771108,
          5951.475563449974,
          6288.70129212887,
          6457.314156468317,
          6457.314156468317,
          6625.927020807765,
          6625.927020807765,
          7300.378478165527,
          7468.991342504974,
          7974.829935523303,
          8312.055664202198,
          8312.055664202198,
          8480.668528541632,
          8649.28139288108,
          9155.119985899408,
          9323.732850238841,
          9323.732850238841,
          9323.732850238841,
          10166.797171936065,
          10335.410036275513,
          10335.410036275513,
          10841.248629293841,
          11347.08722231217,
          11347.08722231217,
          11347.08722231217,
          11684.312950991065,
          11684.312950991065,
          12527.377272688274,
          12527.377272688274,
          12527.377272688274,
          12695.990137027708,
          12864.603001367155,
          12864.603001367155,
          13876.280187403812,
          14382.11878042214,
          14550.731644761589,
          15225.183102119365,
          15225.183102119365,
          15225.183102119365,
          16236.860288156022,
          16405.47315249547,
          16405.47315249547,
          17079.92460985323,
          18091.601795889903,
          18428.827524568784,
          18597.440388908217,
          18766.053253247665,
          18766.053253247665,
          19103.27898192656,
          19609.11757494489,
          19777.730439284336,
          19946.343303623784,
          20114.956167963217,
          20114.956167963217,
          20620.794760981546,
          20789.407625320993,
          20789.407625320993,
          20958.02048966044,
          21295.24621833932,
          21632.471947018203,
          22138.31054003653,
          22306.92340437598,
          22644.149133054874,
          22812.761997394307,
          22981.374861733755,
          23318.600590412636,
          23318.600590412636,
          23655.826319091517,
          23993.052047770412,
          24498.89064078874,
          24667.50350512819,
          24836.11636946762,
          27028.083605880383,
          27365.30933455928,
          27365.30933455928,
          27365.30933455928,
          27871.147927577607,
          28039.760791917055,
          28376.98652059592,
          28714.212249274817,
          28882.82511361428,
          28882.82511361428,
          29051.437977953712,
          29388.663706632608,
          29388.663706632608,
          29725.88943531149,
          30400.34089266925,
          30568.953757008712,
          31580.630943045355,
          32255.082400403146,
          32592.308129082012,
          32592.308129082012,
          32760.92099342146,
          32929.53385776089,
          33098.146722100355,
          33266.75958643979,
          33266.75958643979,
          33435.37245077922,
          33435.37245077922,
          33603.98531511868,
          34278.436772476445,
          34447.04963681589,
          35121.501094173655,
          35627.33968719201,
          37313.46833058643,
          37987.91978794419,
          39674.048431338626,
          39674.048431338626,
          39842.66129567809,
          40011.27416001752,
          40854.33848171473,
          42034.62853209085,
          42203.24139643028,
          42371.85426076973,
          42371.85426076973,
          43720.75717548527,
          43889.37003982472,
          44563.82149718249,
          45238.272954540254,
          45406.8858188797,
          45575.498683219135,
          45912.72441189803,
          46081.337276237464,
          46081.337276237464,
          47093.014462274135,
          47936.078783971345,
          48104.69164831078,
          49790.820291705226,
          52488.62612113633,
          54343.36762887018,
          55355.04481490684,
          57884.23777999848,
          66820.71958998899
         ],
         "yaxis": "y"
        }
       ],
       "layout": {
        "legend": {
         "tracegroupgap": 0
        },
        "margin": {
         "t": 60
        },
        "template": {
         "data": {
          "bar": [
           {
            "error_x": {
             "color": "#2a3f5f"
            },
            "error_y": {
             "color": "#2a3f5f"
            },
            "marker": {
             "line": {
              "color": "#E5ECF6",
              "width": 0.5
             },
             "pattern": {
              "fillmode": "overlay",
              "size": 10,
              "solidity": 0.2
             }
            },
            "type": "bar"
           }
          ],
          "barpolar": [
           {
            "marker": {
             "line": {
              "color": "#E5ECF6",
              "width": 0.5
             },
             "pattern": {
              "fillmode": "overlay",
              "size": 10,
              "solidity": 0.2
             }
            },
            "type": "barpolar"
           }
          ],
          "carpet": [
           {
            "aaxis": {
             "endlinecolor": "#2a3f5f",
             "gridcolor": "white",
             "linecolor": "white",
             "minorgridcolor": "white",
             "startlinecolor": "#2a3f5f"
            },
            "baxis": {
             "endlinecolor": "#2a3f5f",
             "gridcolor": "white",
             "linecolor": "white",
             "minorgridcolor": "white",
             "startlinecolor": "#2a3f5f"
            },
            "type": "carpet"
           }
          ],
          "choropleth": [
           {
            "colorbar": {
             "outlinewidth": 0,
             "ticks": ""
            },
            "type": "choropleth"
           }
          ],
          "contour": [
           {
            "colorbar": {
             "outlinewidth": 0,
             "ticks": ""
            },
            "colorscale": [
             [
              0,
              "#0d0887"
             ],
             [
              0.1111111111111111,
              "#46039f"
             ],
             [
              0.2222222222222222,
              "#7201a8"
             ],
             [
              0.3333333333333333,
              "#9c179e"
             ],
             [
              0.4444444444444444,
              "#bd3786"
             ],
             [
              0.5555555555555556,
              "#d8576b"
             ],
             [
              0.6666666666666666,
              "#ed7953"
             ],
             [
              0.7777777777777778,
              "#fb9f3a"
             ],
             [
              0.8888888888888888,
              "#fdca26"
             ],
             [
              1,
              "#f0f921"
             ]
            ],
            "type": "contour"
           }
          ],
          "contourcarpet": [
           {
            "colorbar": {
             "outlinewidth": 0,
             "ticks": ""
            },
            "type": "contourcarpet"
           }
          ],
          "heatmap": [
           {
            "colorbar": {
             "outlinewidth": 0,
             "ticks": ""
            },
            "colorscale": [
             [
              0,
              "#0d0887"
             ],
             [
              0.1111111111111111,
              "#46039f"
             ],
             [
              0.2222222222222222,
              "#7201a8"
             ],
             [
              0.3333333333333333,
              "#9c179e"
             ],
             [
              0.4444444444444444,
              "#bd3786"
             ],
             [
              0.5555555555555556,
              "#d8576b"
             ],
             [
              0.6666666666666666,
              "#ed7953"
             ],
             [
              0.7777777777777778,
              "#fb9f3a"
             ],
             [
              0.8888888888888888,
              "#fdca26"
             ],
             [
              1,
              "#f0f921"
             ]
            ],
            "type": "heatmap"
           }
          ],
          "heatmapgl": [
           {
            "colorbar": {
             "outlinewidth": 0,
             "ticks": ""
            },
            "colorscale": [
             [
              0,
              "#0d0887"
             ],
             [
              0.1111111111111111,
              "#46039f"
             ],
             [
              0.2222222222222222,
              "#7201a8"
             ],
             [
              0.3333333333333333,
              "#9c179e"
             ],
             [
              0.4444444444444444,
              "#bd3786"
             ],
             [
              0.5555555555555556,
              "#d8576b"
             ],
             [
              0.6666666666666666,
              "#ed7953"
             ],
             [
              0.7777777777777778,
              "#fb9f3a"
             ],
             [
              0.8888888888888888,
              "#fdca26"
             ],
             [
              1,
              "#f0f921"
             ]
            ],
            "type": "heatmapgl"
           }
          ],
          "histogram": [
           {
            "marker": {
             "pattern": {
              "fillmode": "overlay",
              "size": 10,
              "solidity": 0.2
             }
            },
            "type": "histogram"
           }
          ],
          "histogram2d": [
           {
            "colorbar": {
             "outlinewidth": 0,
             "ticks": ""
            },
            "colorscale": [
             [
              0,
              "#0d0887"
             ],
             [
              0.1111111111111111,
              "#46039f"
             ],
             [
              0.2222222222222222,
              "#7201a8"
             ],
             [
              0.3333333333333333,
              "#9c179e"
             ],
             [
              0.4444444444444444,
              "#bd3786"
             ],
             [
              0.5555555555555556,
              "#d8576b"
             ],
             [
              0.6666666666666666,
              "#ed7953"
             ],
             [
              0.7777777777777778,
              "#fb9f3a"
             ],
             [
              0.8888888888888888,
              "#fdca26"
             ],
             [
              1,
              "#f0f921"
             ]
            ],
            "type": "histogram2d"
           }
          ],
          "histogram2dcontour": [
           {
            "colorbar": {
             "outlinewidth": 0,
             "ticks": ""
            },
            "colorscale": [
             [
              0,
              "#0d0887"
             ],
             [
              0.1111111111111111,
              "#46039f"
             ],
             [
              0.2222222222222222,
              "#7201a8"
             ],
             [
              0.3333333333333333,
              "#9c179e"
             ],
             [
              0.4444444444444444,
              "#bd3786"
             ],
             [
              0.5555555555555556,
              "#d8576b"
             ],
             [
              0.6666666666666666,
              "#ed7953"
             ],
             [
              0.7777777777777778,
              "#fb9f3a"
             ],
             [
              0.8888888888888888,
              "#fdca26"
             ],
             [
              1,
              "#f0f921"
             ]
            ],
            "type": "histogram2dcontour"
           }
          ],
          "mesh3d": [
           {
            "colorbar": {
             "outlinewidth": 0,
             "ticks": ""
            },
            "type": "mesh3d"
           }
          ],
          "parcoords": [
           {
            "line": {
             "colorbar": {
              "outlinewidth": 0,
              "ticks": ""
             }
            },
            "type": "parcoords"
           }
          ],
          "pie": [
           {
            "automargin": true,
            "type": "pie"
           }
          ],
          "scatter": [
           {
            "marker": {
             "colorbar": {
              "outlinewidth": 0,
              "ticks": ""
             }
            },
            "type": "scatter"
           }
          ],
          "scatter3d": [
           {
            "line": {
             "colorbar": {
              "outlinewidth": 0,
              "ticks": ""
             }
            },
            "marker": {
             "colorbar": {
              "outlinewidth": 0,
              "ticks": ""
             }
            },
            "type": "scatter3d"
           }
          ],
          "scattercarpet": [
           {
            "marker": {
             "colorbar": {
              "outlinewidth": 0,
              "ticks": ""
             }
            },
            "type": "scattercarpet"
           }
          ],
          "scattergeo": [
           {
            "marker": {
             "colorbar": {
              "outlinewidth": 0,
              "ticks": ""
             }
            },
            "type": "scattergeo"
           }
          ],
          "scattergl": [
           {
            "marker": {
             "colorbar": {
              "outlinewidth": 0,
              "ticks": ""
             }
            },
            "type": "scattergl"
           }
          ],
          "scattermapbox": [
           {
            "marker": {
             "colorbar": {
              "outlinewidth": 0,
              "ticks": ""
             }
            },
            "type": "scattermapbox"
           }
          ],
          "scatterpolar": [
           {
            "marker": {
             "colorbar": {
              "outlinewidth": 0,
              "ticks": ""
             }
            },
            "type": "scatterpolar"
           }
          ],
          "scatterpolargl": [
           {
            "marker": {
             "colorbar": {
              "outlinewidth": 0,
              "ticks": ""
             }
            },
            "type": "scatterpolargl"
           }
          ],
          "scatterternary": [
           {
            "marker": {
             "colorbar": {
              "outlinewidth": 0,
              "ticks": ""
             }
            },
            "type": "scatterternary"
           }
          ],
          "surface": [
           {
            "colorbar": {
             "outlinewidth": 0,
             "ticks": ""
            },
            "colorscale": [
             [
              0,
              "#0d0887"
             ],
             [
              0.1111111111111111,
              "#46039f"
             ],
             [
              0.2222222222222222,
              "#7201a8"
             ],
             [
              0.3333333333333333,
              "#9c179e"
             ],
             [
              0.4444444444444444,
              "#bd3786"
             ],
             [
              0.5555555555555556,
              "#d8576b"
             ],
             [
              0.6666666666666666,
              "#ed7953"
             ],
             [
              0.7777777777777778,
              "#fb9f3a"
             ],
             [
              0.8888888888888888,
              "#fdca26"
             ],
             [
              1,
              "#f0f921"
             ]
            ],
            "type": "surface"
           }
          ],
          "table": [
           {
            "cells": {
             "fill": {
              "color": "#EBF0F8"
             },
             "line": {
              "color": "white"
             }
            },
            "header": {
             "fill": {
              "color": "#C8D4E3"
             },
             "line": {
              "color": "white"
             }
            },
            "type": "table"
           }
          ]
         },
         "layout": {
          "annotationdefaults": {
           "arrowcolor": "#2a3f5f",
           "arrowhead": 0,
           "arrowwidth": 1
          },
          "autotypenumbers": "strict",
          "coloraxis": {
           "colorbar": {
            "outlinewidth": 0,
            "ticks": ""
           }
          },
          "colorscale": {
           "diverging": [
            [
             0,
             "#8e0152"
            ],
            [
             0.1,
             "#c51b7d"
            ],
            [
             0.2,
             "#de77ae"
            ],
            [
             0.3,
             "#f1b6da"
            ],
            [
             0.4,
             "#fde0ef"
            ],
            [
             0.5,
             "#f7f7f7"
            ],
            [
             0.6,
             "#e6f5d0"
            ],
            [
             0.7,
             "#b8e186"
            ],
            [
             0.8,
             "#7fbc41"
            ],
            [
             0.9,
             "#4d9221"
            ],
            [
             1,
             "#276419"
            ]
           ],
           "sequential": [
            [
             0,
             "#0d0887"
            ],
            [
             0.1111111111111111,
             "#46039f"
            ],
            [
             0.2222222222222222,
             "#7201a8"
            ],
            [
             0.3333333333333333,
             "#9c179e"
            ],
            [
             0.4444444444444444,
             "#bd3786"
            ],
            [
             0.5555555555555556,
             "#d8576b"
            ],
            [
             0.6666666666666666,
             "#ed7953"
            ],
            [
             0.7777777777777778,
             "#fb9f3a"
            ],
            [
             0.8888888888888888,
             "#fdca26"
            ],
            [
             1,
             "#f0f921"
            ]
           ],
           "sequentialminus": [
            [
             0,
             "#0d0887"
            ],
            [
             0.1111111111111111,
             "#46039f"
            ],
            [
             0.2222222222222222,
             "#7201a8"
            ],
            [
             0.3333333333333333,
             "#9c179e"
            ],
            [
             0.4444444444444444,
             "#bd3786"
            ],
            [
             0.5555555555555556,
             "#d8576b"
            ],
            [
             0.6666666666666666,
             "#ed7953"
            ],
            [
             0.7777777777777778,
             "#fb9f3a"
            ],
            [
             0.8888888888888888,
             "#fdca26"
            ],
            [
             1,
             "#f0f921"
            ]
           ]
          },
          "colorway": [
           "#636efa",
           "#EF553B",
           "#00cc96",
           "#ab63fa",
           "#FFA15A",
           "#19d3f3",
           "#FF6692",
           "#B6E880",
           "#FF97FF",
           "#FECB52"
          ],
          "font": {
           "color": "#2a3f5f"
          },
          "geo": {
           "bgcolor": "white",
           "lakecolor": "white",
           "landcolor": "#E5ECF6",
           "showlakes": true,
           "showland": true,
           "subunitcolor": "white"
          },
          "hoverlabel": {
           "align": "left"
          },
          "hovermode": "closest",
          "mapbox": {
           "style": "light"
          },
          "paper_bgcolor": "white",
          "plot_bgcolor": "#E5ECF6",
          "polar": {
           "angularaxis": {
            "gridcolor": "white",
            "linecolor": "white",
            "ticks": ""
           },
           "bgcolor": "#E5ECF6",
           "radialaxis": {
            "gridcolor": "white",
            "linecolor": "white",
            "ticks": ""
           }
          },
          "scene": {
           "xaxis": {
            "backgroundcolor": "#E5ECF6",
            "gridcolor": "white",
            "gridwidth": 2,
            "linecolor": "white",
            "showbackground": true,
            "ticks": "",
            "zerolinecolor": "white"
           },
           "yaxis": {
            "backgroundcolor": "#E5ECF6",
            "gridcolor": "white",
            "gridwidth": 2,
            "linecolor": "white",
            "showbackground": true,
            "ticks": "",
            "zerolinecolor": "white"
           },
           "zaxis": {
            "backgroundcolor": "#E5ECF6",
            "gridcolor": "white",
            "gridwidth": 2,
            "linecolor": "white",
            "showbackground": true,
            "ticks": "",
            "zerolinecolor": "white"
           }
          },
          "shapedefaults": {
           "line": {
            "color": "#2a3f5f"
           }
          },
          "ternary": {
           "aaxis": {
            "gridcolor": "white",
            "linecolor": "white",
            "ticks": ""
           },
           "baxis": {
            "gridcolor": "white",
            "linecolor": "white",
            "ticks": ""
           },
           "bgcolor": "#E5ECF6",
           "caxis": {
            "gridcolor": "white",
            "linecolor": "white",
            "ticks": ""
           }
          },
          "title": {
           "x": 0.05
          },
          "xaxis": {
           "automargin": true,
           "gridcolor": "white",
           "linecolor": "white",
           "ticks": "",
           "title": {
            "standoff": 15
           },
           "zerolinecolor": "white",
           "zerolinewidth": 2
          },
          "yaxis": {
           "automargin": true,
           "gridcolor": "white",
           "linecolor": "white",
           "ticks": "",
           "title": {
            "standoff": 15
           },
           "zerolinecolor": "white",
           "zerolinewidth": 2
          }
         }
        },
        "xaxis": {
         "anchor": "y",
         "domain": [
          0,
          1
         ],
         "title": {
          "text": "Score"
         },
         "type": "log"
        },
        "yaxis": {
         "anchor": "x",
         "domain": [
          0,
          1
         ],
         "title": {
          "text": "Value"
         }
        }
       }
      },
      "text/html": [
       "<div>                            <div id=\"8e90582f-9f1f-4eff-8e76-d262980053f4\" class=\"plotly-graph-div\" style=\"height:525px; width:100%;\"></div>            <script type=\"text/javascript\">                require([\"plotly\"], function(Plotly) {                    window.PLOTLYENV=window.PLOTLYENV || {};                                    if (document.getElementById(\"8e90582f-9f1f-4eff-8e76-d262980053f4\")) {                    Plotly.newPlot(                        \"8e90582f-9f1f-4eff-8e76-d262980053f4\",                        [{\"customdata\":[[\"Afghanistan\"],[\"Albania\"],[\"Algeria\"],[\"Angola\"],[\"Argentina\"],[\"Armenia\"],[\"Australia\"],[\"Austria\"],[\"Azerbaijan\"],[\"Bahrain\"],[\"Barbados\"],[\"Belarus\"],[\"Belgium\"],[\"Belize\"],[\"Benin\"],[\"Bhutan\"],[\"Bolivia\"],[\"Bosnia and Herzegovina\"],[\"Botswana\"],[\"Brazil\"],[\"Brunei Darussalam\"],[\"Bulgaria\"],[\"Burkina Faso\"],[\"Burundi\"],[\"Cabo Verde\"],[\"Cambodia\"],[\"Cameroon\"],[\"Canada\"],[\"Central African Republic\"],[\"Chad\"],[\"Chile\"],[\"China\"],[\"Colombia\"],[\"Comoros\"],[\"Costa Rica\"],[\"Croatia\"],[\"Cyprus\"],[\"Czech Republic\"],[\"Denmark\"],[\"Djibouti\"],[\"Dominica\"],[\"Dominican Republic\"],[\"Ecuador\"],[\"El Salvador\"],[\"Equatorial Guinea\"],[\"Eritrea\"],[\"Estonia\"],[\"Eswatini\"],[\"Ethiopia\"],[\"Fiji\"],[\"Finland\"],[\"France\"],[\"Gabon\"],[\"Georgia\"],[\"Germany\"],[\"Ghana\"],[\"Greece\"],[\"Guatemala\"],[\"Guinea\"],[\"Guinea-Bissau\"],[\"Guyana\"],[\"Haiti\"],[\"Honduras\"],[\"Hungary\"],[\"Iceland\"],[\"India\"],[\"Indonesia\"],[\"Ireland\"],[\"Israel\"],[\"Italy\"],[\"Jamaica\"],[\"Japan\"],[\"Jordan\"],[\"Kazakhstan\"],[\"Kenya\"],[\"Kiribati\"],[\"Kosovo\"],[\"Kuwait\"],[\"Kyrgyz Republic\"],[\"Latvia\"],[\"Lebanon\"],[\"Lesotho\"],[\"Liberia\"],[\"Lithuania\"],[\"Luxembourg\"],[\"Madagascar\"],[\"Malawi\"],[\"Malaysia\"],[\"Maldives\"],[\"Mali\"],[\"Malta\"],[\"Mauritania\"],[\"Mauritius\"],[\"Mexico\"],[\"Moldova\"],[\"Mongolia\"],[\"Montenegro\"],[\"Morocco\"],[\"Mozambique\"],[\"Namibia\"],[\"Nepal\"],[\"Netherlands\"],[\"New Zealand\"],[\"Nicaragua\"],[\"Niger\"],[\"Nigeria\"],[\"North Macedonia\"],[\"Norway\"],[\"Oman\"],[\"Pakistan\"],[\"Panama\"],[\"Papua New Guinea\"],[\"Paraguay\"],[\"Peru\"],[\"Philippines\"],[\"Poland\"],[\"Portugal\"],[\"Qatar\"],[\"Romania\"],[\"Rwanda\"],[\"Samoa\"],[\"Saudi Arabia\"],[\"Senegal\"],[\"Seychelles\"],[\"Sierra Leone\"],[\"Singapore\"],[\"Slovak Republic\"],[\"Slovenia\"],[\"Solomon Islands\"],[\"South Africa\"],[\"Spain\"],[\"Sri Lanka\"],[\"Sudan\"],[\"Suriname\"],[\"Sweden\"],[\"Switzerland\"],[\"Tajikistan\"],[\"Tanzania\"],[\"Thailand\"],[\"Timor-Leste\"],[\"Togo\"],[\"Tonga\"],[\"Trinidad and Tobago\"],[\"Tunisia\"],[\"Turkey\"],[\"Turkmenistan\"],[\"Uganda\"],[\"Ukraine\"],[\"United Arab Emirates\"],[\"United Kingdom\"],[\"United States\"],[\"Uruguay\"],[\"Uzbekistan\"],[\"Vanuatu\"],[\"Vietnam\"],[\"Zambia\"],[\"Zimbabwe\"]],\"hovertemplate\":\"Score=%{x}<br>Value=%{y}<br>Country=%{customdata[0]}<extra></extra>\",\"legendgroup\":\"\",\"marker\":{\"color\":\"#636efa\",\"symbol\":\"circle\"},\"mode\":\"markers\",\"name\":\"\",\"orientation\":\"v\",\"showlegend\":false,\"type\":\"scatter\",\"x\":[54.7,66.9,46.9,52.2,53.1,70.6,82.6,73.3,69.3,66.3,61.4,61.7,68.9,57.4,55.2,62.1,42.8,62.6,69.6,53.7,66.6,70.2,56.7,49.0,63.6,57.3,53.6,78.2,50.7,50.2,76.8,59.5,69.2,53.7,65.8,62.2,70.1,74.8,78.3,52.9,60.8,60.9,51.3,61.6,48.3,38.5,77.7,55.3,53.6,63.4,75.7,66.0,56.7,77.1,73.5,59.4,59.9,64.0,56.5,53.3,56.2,52.3,61.1,66.4,77.1,56.5,67.2,80.9,74.0,63.8,68.5,73.3,66.0,69.6,55.3,45.2,67.4,63.2,62.9,71.9,51.7,54.5,49.0,76.7,75.8,60.5,52.8,74.7,56.5,55.9,69.5,55.3,74.9,66.0,62.0,55.9,61.5,63.3,50.5,60.9,54.2,77.0,84.1,57.2,54.7,57.2,69.5,73.4,63.6,54.8,67.2,58.4,63.0,67.9,64.5,69.1,67.0,72.3,69.7,70.9,62.1,62.4,58.0,64.3,48.0,89.4,66.8,67.8,52.9,58.8,66.9,57.4,45.0,49.5,74.9,82.0,52.2,61.7,69.4,45.9,54.1,58.8,58.3,55.8,64.4,46.5,59.5,54.9,76.2,79.3,76.6,69.1,57.2,60.7,58.8,53.5,43.1],\"xaxis\":\"x\",\"y\":[2087.6,13817.8,11268.3,6538.5,20767.6,13284.2,52518.3,55097.5,14452.0,43181.2,13576.8,20199.7,51968.2,6456.0,3505.6,11508.2,8367.3,15611.8,16920.8,14836.3,65661.7,24367.3,2279.2,771.2,6377.0,4422.0,3772.7,48072.6,979.6,1603.4,25067.7,17312.0,14565.4,3313.2,21031.8,28503.9,38458.2,41737.4,60398.5,5782.1,10434.5,17936.7,10896.4,8499.0,17941.6,1625.5,38394.9,8853.6,2423.0,11601.4,51089.8,46227.0,15190.6,14863.0,53694.4,5596.3,28463.8,8854.2,2817.5,1948.9,19705.8,2925.4,5420.6,33084.1,55216.0,6454.3,12073.5,93612.2,41854.9,41840.0,9221.6,42197.3,10355.6,26728.5,4452.2,2417.8,11367.9,51962.0,4965.0,32019.2,12288.8,2405.1,1428.2,38734.7,118359.5,1593.1,1568.4,27886.9,13765.6,2338.5,42640.1,5256.9,20538.7,18833.1,13001.6,12100.6,20566.6,7296.2,1296.6,9382.2,4008.7,59228.8,44251.8,5570.1,1262.6,5186.7,16926.6,63198.0,28448.9,4876.6,26775.7,4326.4,13012.9,11879.2,8390.4,34264.8,34495.9,89948.6,31945.7,2214.0,6777.8,46762.5,3481.3,25699.7,1738.6,98526.0,31832.4,39593.3,2619.2,12095.9,38334.6,13225.4,4243.8,17016.0,54563.1,71352.4,3858.4,2780.1,18236.2,3355.8,2223.6,6647.9,25031.2,10261.7,28119.5,16195.5,2297.2,13056.7,69957.6,44916.2,63543.6,22795.1,7378.3,2914.5,8650.7,3449.6,2895.4],\"yaxis\":\"y\"},{\"hovertemplate\":\"<b>OLS trendline</b><br>Value = 1686.13 * Score + -83919.2<br>R<sup>2</sup>=0.542176<br><br>Score=%{x}<br>Value=%{y} <b>(trend)</b><extra></extra>\",\"legendgroup\":\"\",\"marker\":{\"color\":\"#636efa\",\"symbol\":\"circle\"},\"mode\":\"lines\",\"name\":\"\",\"showlegend\":false,\"type\":\"scatter\",\"x\":[38.5,42.8,43.1,45.0,45.2,45.9,46.5,46.9,48.0,48.3,49.0,49.0,49.5,50.2,50.5,50.7,51.3,51.7,52.2,52.2,52.3,52.8,52.9,52.9,53.1,53.3,53.5,53.6,53.6,53.7,53.7,54.1,54.2,54.5,54.7,54.7,54.8,54.9,55.2,55.3,55.3,55.3,55.8,55.9,55.9,56.2,56.5,56.5,56.5,56.7,56.7,57.2,57.2,57.2,57.3,57.4,57.4,58.0,58.3,58.4,58.8,58.8,58.8,59.4,59.5,59.5,59.9,60.5,60.7,60.8,60.9,60.9,61.1,61.4,61.5,61.6,61.7,61.7,62.0,62.1,62.1,62.2,62.4,62.6,62.9,63.0,63.2,63.3,63.4,63.6,63.6,63.8,64.0,64.3,64.4,64.5,65.8,66.0,66.0,66.0,66.3,66.4,66.6,66.8,66.9,66.9,67.0,67.2,67.2,67.4,67.8,67.9,68.5,68.9,69.1,69.1,69.2,69.3,69.4,69.5,69.5,69.6,69.6,69.7,70.1,70.2,70.6,70.9,71.9,72.3,73.3,73.3,73.4,73.5,74.0,74.7,74.8,74.9,74.9,75.7,75.8,76.2,76.6,76.7,76.8,77.0,77.1,77.1,77.7,78.2,78.3,79.3,80.9,82.0,82.6,84.1,89.4],\"xaxis\":\"x\",\"y\":[-19003.228358787615,-11752.875192191554,-11247.036599173225,-8043.392176723806,-7706.166448044911,-6525.876397668821,-5514.199211632149,-4839.747754274387,-2985.0062465405063,-2479.1676535221777,-1298.877603146073,-1298.877603146073,-455.81328144886356,724.4767689272558,1230.3153619455697,1567.5410906244651,2579.218276661122,3253.6697340188985,4096.734055716108,4096.734055716108,4265.3469200555555,5108.411241752765,5277.024106092213,5277.024106092213,5614.249834771108,5951.475563449974,6288.70129212887,6457.314156468317,6457.314156468317,6625.927020807765,6625.927020807765,7300.378478165527,7468.991342504974,7974.829935523303,8312.055664202198,8312.055664202198,8480.668528541632,8649.28139288108,9155.119985899408,9323.732850238841,9323.732850238841,9323.732850238841,10166.797171936065,10335.410036275513,10335.410036275513,10841.248629293841,11347.08722231217,11347.08722231217,11347.08722231217,11684.312950991065,11684.312950991065,12527.377272688274,12527.377272688274,12527.377272688274,12695.990137027708,12864.603001367155,12864.603001367155,13876.280187403812,14382.11878042214,14550.731644761589,15225.183102119365,15225.183102119365,15225.183102119365,16236.860288156022,16405.47315249547,16405.47315249547,17079.92460985323,18091.601795889903,18428.827524568784,18597.440388908217,18766.053253247665,18766.053253247665,19103.27898192656,19609.11757494489,19777.730439284336,19946.343303623784,20114.956167963217,20114.956167963217,20620.794760981546,20789.407625320993,20789.407625320993,20958.02048966044,21295.24621833932,21632.471947018203,22138.31054003653,22306.92340437598,22644.149133054874,22812.761997394307,22981.374861733755,23318.600590412636,23318.600590412636,23655.826319091517,23993.052047770412,24498.89064078874,24667.50350512819,24836.11636946762,27028.083605880383,27365.30933455928,27365.30933455928,27365.30933455928,27871.147927577607,28039.760791917055,28376.98652059592,28714.212249274817,28882.82511361428,28882.82511361428,29051.437977953712,29388.663706632608,29388.663706632608,29725.88943531149,30400.34089266925,30568.953757008712,31580.630943045355,32255.082400403146,32592.308129082012,32592.308129082012,32760.92099342146,32929.53385776089,33098.146722100355,33266.75958643979,33266.75958643979,33435.37245077922,33435.37245077922,33603.98531511868,34278.436772476445,34447.04963681589,35121.501094173655,35627.33968719201,37313.46833058643,37987.91978794419,39674.048431338626,39674.048431338626,39842.66129567809,40011.27416001752,40854.33848171473,42034.62853209085,42203.24139643028,42371.85426076973,42371.85426076973,43720.75717548527,43889.37003982472,44563.82149718249,45238.272954540254,45406.8858188797,45575.498683219135,45912.72441189803,46081.337276237464,46081.337276237464,47093.014462274135,47936.078783971345,48104.69164831078,49790.820291705226,52488.62612113633,54343.36762887018,55355.04481490684,57884.23777999848,66820.71958998899],\"yaxis\":\"y\"}],                        {\"legend\":{\"tracegroupgap\":0},\"margin\":{\"t\":60},\"template\":{\"data\":{\"bar\":[{\"error_x\":{\"color\":\"#2a3f5f\"},\"error_y\":{\"color\":\"#2a3f5f\"},\"marker\":{\"line\":{\"color\":\"#E5ECF6\",\"width\":0.5},\"pattern\":{\"fillmode\":\"overlay\",\"size\":10,\"solidity\":0.2}},\"type\":\"bar\"}],\"barpolar\":[{\"marker\":{\"line\":{\"color\":\"#E5ECF6\",\"width\":0.5},\"pattern\":{\"fillmode\":\"overlay\",\"size\":10,\"solidity\":0.2}},\"type\":\"barpolar\"}],\"carpet\":[{\"aaxis\":{\"endlinecolor\":\"#2a3f5f\",\"gridcolor\":\"white\",\"linecolor\":\"white\",\"minorgridcolor\":\"white\",\"startlinecolor\":\"#2a3f5f\"},\"baxis\":{\"endlinecolor\":\"#2a3f5f\",\"gridcolor\":\"white\",\"linecolor\":\"white\",\"minorgridcolor\":\"white\",\"startlinecolor\":\"#2a3f5f\"},\"type\":\"carpet\"}],\"choropleth\":[{\"colorbar\":{\"outlinewidth\":0,\"ticks\":\"\"},\"type\":\"choropleth\"}],\"contour\":[{\"colorbar\":{\"outlinewidth\":0,\"ticks\":\"\"},\"colorscale\":[[0.0,\"#0d0887\"],[0.1111111111111111,\"#46039f\"],[0.2222222222222222,\"#7201a8\"],[0.3333333333333333,\"#9c179e\"],[0.4444444444444444,\"#bd3786\"],[0.5555555555555556,\"#d8576b\"],[0.6666666666666666,\"#ed7953\"],[0.7777777777777778,\"#fb9f3a\"],[0.8888888888888888,\"#fdca26\"],[1.0,\"#f0f921\"]],\"type\":\"contour\"}],\"contourcarpet\":[{\"colorbar\":{\"outlinewidth\":0,\"ticks\":\"\"},\"type\":\"contourcarpet\"}],\"heatmap\":[{\"colorbar\":{\"outlinewidth\":0,\"ticks\":\"\"},\"colorscale\":[[0.0,\"#0d0887\"],[0.1111111111111111,\"#46039f\"],[0.2222222222222222,\"#7201a8\"],[0.3333333333333333,\"#9c179e\"],[0.4444444444444444,\"#bd3786\"],[0.5555555555555556,\"#d8576b\"],[0.6666666666666666,\"#ed7953\"],[0.7777777777777778,\"#fb9f3a\"],[0.8888888888888888,\"#fdca26\"],[1.0,\"#f0f921\"]],\"type\":\"heatmap\"}],\"heatmapgl\":[{\"colorbar\":{\"outlinewidth\":0,\"ticks\":\"\"},\"colorscale\":[[0.0,\"#0d0887\"],[0.1111111111111111,\"#46039f\"],[0.2222222222222222,\"#7201a8\"],[0.3333333333333333,\"#9c179e\"],[0.4444444444444444,\"#bd3786\"],[0.5555555555555556,\"#d8576b\"],[0.6666666666666666,\"#ed7953\"],[0.7777777777777778,\"#fb9f3a\"],[0.8888888888888888,\"#fdca26\"],[1.0,\"#f0f921\"]],\"type\":\"heatmapgl\"}],\"histogram\":[{\"marker\":{\"pattern\":{\"fillmode\":\"overlay\",\"size\":10,\"solidity\":0.2}},\"type\":\"histogram\"}],\"histogram2d\":[{\"colorbar\":{\"outlinewidth\":0,\"ticks\":\"\"},\"colorscale\":[[0.0,\"#0d0887\"],[0.1111111111111111,\"#46039f\"],[0.2222222222222222,\"#7201a8\"],[0.3333333333333333,\"#9c179e\"],[0.4444444444444444,\"#bd3786\"],[0.5555555555555556,\"#d8576b\"],[0.6666666666666666,\"#ed7953\"],[0.7777777777777778,\"#fb9f3a\"],[0.8888888888888888,\"#fdca26\"],[1.0,\"#f0f921\"]],\"type\":\"histogram2d\"}],\"histogram2dcontour\":[{\"colorbar\":{\"outlinewidth\":0,\"ticks\":\"\"},\"colorscale\":[[0.0,\"#0d0887\"],[0.1111111111111111,\"#46039f\"],[0.2222222222222222,\"#7201a8\"],[0.3333333333333333,\"#9c179e\"],[0.4444444444444444,\"#bd3786\"],[0.5555555555555556,\"#d8576b\"],[0.6666666666666666,\"#ed7953\"],[0.7777777777777778,\"#fb9f3a\"],[0.8888888888888888,\"#fdca26\"],[1.0,\"#f0f921\"]],\"type\":\"histogram2dcontour\"}],\"mesh3d\":[{\"colorbar\":{\"outlinewidth\":0,\"ticks\":\"\"},\"type\":\"mesh3d\"}],\"parcoords\":[{\"line\":{\"colorbar\":{\"outlinewidth\":0,\"ticks\":\"\"}},\"type\":\"parcoords\"}],\"pie\":[{\"automargin\":true,\"type\":\"pie\"}],\"scatter\":[{\"marker\":{\"colorbar\":{\"outlinewidth\":0,\"ticks\":\"\"}},\"type\":\"scatter\"}],\"scatter3d\":[{\"line\":{\"colorbar\":{\"outlinewidth\":0,\"ticks\":\"\"}},\"marker\":{\"colorbar\":{\"outlinewidth\":0,\"ticks\":\"\"}},\"type\":\"scatter3d\"}],\"scattercarpet\":[{\"marker\":{\"colorbar\":{\"outlinewidth\":0,\"ticks\":\"\"}},\"type\":\"scattercarpet\"}],\"scattergeo\":[{\"marker\":{\"colorbar\":{\"outlinewidth\":0,\"ticks\":\"\"}},\"type\":\"scattergeo\"}],\"scattergl\":[{\"marker\":{\"colorbar\":{\"outlinewidth\":0,\"ticks\":\"\"}},\"type\":\"scattergl\"}],\"scattermapbox\":[{\"marker\":{\"colorbar\":{\"outlinewidth\":0,\"ticks\":\"\"}},\"type\":\"scattermapbox\"}],\"scatterpolar\":[{\"marker\":{\"colorbar\":{\"outlinewidth\":0,\"ticks\":\"\"}},\"type\":\"scatterpolar\"}],\"scatterpolargl\":[{\"marker\":{\"colorbar\":{\"outlinewidth\":0,\"ticks\":\"\"}},\"type\":\"scatterpolargl\"}],\"scatterternary\":[{\"marker\":{\"colorbar\":{\"outlinewidth\":0,\"ticks\":\"\"}},\"type\":\"scatterternary\"}],\"surface\":[{\"colorbar\":{\"outlinewidth\":0,\"ticks\":\"\"},\"colorscale\":[[0.0,\"#0d0887\"],[0.1111111111111111,\"#46039f\"],[0.2222222222222222,\"#7201a8\"],[0.3333333333333333,\"#9c179e\"],[0.4444444444444444,\"#bd3786\"],[0.5555555555555556,\"#d8576b\"],[0.6666666666666666,\"#ed7953\"],[0.7777777777777778,\"#fb9f3a\"],[0.8888888888888888,\"#fdca26\"],[1.0,\"#f0f921\"]],\"type\":\"surface\"}],\"table\":[{\"cells\":{\"fill\":{\"color\":\"#EBF0F8\"},\"line\":{\"color\":\"white\"}},\"header\":{\"fill\":{\"color\":\"#C8D4E3\"},\"line\":{\"color\":\"white\"}},\"type\":\"table\"}]},\"layout\":{\"annotationdefaults\":{\"arrowcolor\":\"#2a3f5f\",\"arrowhead\":0,\"arrowwidth\":1},\"autotypenumbers\":\"strict\",\"coloraxis\":{\"colorbar\":{\"outlinewidth\":0,\"ticks\":\"\"}},\"colorscale\":{\"diverging\":[[0,\"#8e0152\"],[0.1,\"#c51b7d\"],[0.2,\"#de77ae\"],[0.3,\"#f1b6da\"],[0.4,\"#fde0ef\"],[0.5,\"#f7f7f7\"],[0.6,\"#e6f5d0\"],[0.7,\"#b8e186\"],[0.8,\"#7fbc41\"],[0.9,\"#4d9221\"],[1,\"#276419\"]],\"sequential\":[[0.0,\"#0d0887\"],[0.1111111111111111,\"#46039f\"],[0.2222222222222222,\"#7201a8\"],[0.3333333333333333,\"#9c179e\"],[0.4444444444444444,\"#bd3786\"],[0.5555555555555556,\"#d8576b\"],[0.6666666666666666,\"#ed7953\"],[0.7777777777777778,\"#fb9f3a\"],[0.8888888888888888,\"#fdca26\"],[1.0,\"#f0f921\"]],\"sequentialminus\":[[0.0,\"#0d0887\"],[0.1111111111111111,\"#46039f\"],[0.2222222222222222,\"#7201a8\"],[0.3333333333333333,\"#9c179e\"],[0.4444444444444444,\"#bd3786\"],[0.5555555555555556,\"#d8576b\"],[0.6666666666666666,\"#ed7953\"],[0.7777777777777778,\"#fb9f3a\"],[0.8888888888888888,\"#fdca26\"],[1.0,\"#f0f921\"]]},\"colorway\":[\"#636efa\",\"#EF553B\",\"#00cc96\",\"#ab63fa\",\"#FFA15A\",\"#19d3f3\",\"#FF6692\",\"#B6E880\",\"#FF97FF\",\"#FECB52\"],\"font\":{\"color\":\"#2a3f5f\"},\"geo\":{\"bgcolor\":\"white\",\"lakecolor\":\"white\",\"landcolor\":\"#E5ECF6\",\"showlakes\":true,\"showland\":true,\"subunitcolor\":\"white\"},\"hoverlabel\":{\"align\":\"left\"},\"hovermode\":\"closest\",\"mapbox\":{\"style\":\"light\"},\"paper_bgcolor\":\"white\",\"plot_bgcolor\":\"#E5ECF6\",\"polar\":{\"angularaxis\":{\"gridcolor\":\"white\",\"linecolor\":\"white\",\"ticks\":\"\"},\"bgcolor\":\"#E5ECF6\",\"radialaxis\":{\"gridcolor\":\"white\",\"linecolor\":\"white\",\"ticks\":\"\"}},\"scene\":{\"xaxis\":{\"backgroundcolor\":\"#E5ECF6\",\"gridcolor\":\"white\",\"gridwidth\":2,\"linecolor\":\"white\",\"showbackground\":true,\"ticks\":\"\",\"zerolinecolor\":\"white\"},\"yaxis\":{\"backgroundcolor\":\"#E5ECF6\",\"gridcolor\":\"white\",\"gridwidth\":2,\"linecolor\":\"white\",\"showbackground\":true,\"ticks\":\"\",\"zerolinecolor\":\"white\"},\"zaxis\":{\"backgroundcolor\":\"#E5ECF6\",\"gridcolor\":\"white\",\"gridwidth\":2,\"linecolor\":\"white\",\"showbackground\":true,\"ticks\":\"\",\"zerolinecolor\":\"white\"}},\"shapedefaults\":{\"line\":{\"color\":\"#2a3f5f\"}},\"ternary\":{\"aaxis\":{\"gridcolor\":\"white\",\"linecolor\":\"white\",\"ticks\":\"\"},\"baxis\":{\"gridcolor\":\"white\",\"linecolor\":\"white\",\"ticks\":\"\"},\"bgcolor\":\"#E5ECF6\",\"caxis\":{\"gridcolor\":\"white\",\"linecolor\":\"white\",\"ticks\":\"\"}},\"title\":{\"x\":0.05},\"xaxis\":{\"automargin\":true,\"gridcolor\":\"white\",\"linecolor\":\"white\",\"ticks\":\"\",\"title\":{\"standoff\":15},\"zerolinecolor\":\"white\",\"zerolinewidth\":2},\"yaxis\":{\"automargin\":true,\"gridcolor\":\"white\",\"linecolor\":\"white\",\"ticks\":\"\",\"title\":{\"standoff\":15},\"zerolinecolor\":\"white\",\"zerolinewidth\":2}}},\"xaxis\":{\"anchor\":\"y\",\"domain\":[0.0,1.0],\"title\":{\"text\":\"Score\"},\"type\":\"log\"},\"yaxis\":{\"anchor\":\"x\",\"domain\":[0.0,1.0],\"title\":{\"text\":\"Value\"}}},                        {\"responsive\": true}                    ).then(function(){\n",
       "                            \n",
       "var gd = document.getElementById('8e90582f-9f1f-4eff-8e76-d262980053f4');\n",
       "var x = new MutationObserver(function (mutations, observer) {{\n",
       "        var display = window.getComputedStyle(gd).display;\n",
       "        if (!display || display === 'none') {{\n",
       "            console.log([gd, 'removed!']);\n",
       "            Plotly.purge(gd);\n",
       "            observer.disconnect();\n",
       "        }}\n",
       "}});\n",
       "\n",
       "// Listen for the removal of the full notebook cells\n",
       "var notebookContainer = gd.closest('#notebook-container');\n",
       "if (notebookContainer) {{\n",
       "    x.observe(notebookContainer, {childList: true});\n",
       "}}\n",
       "\n",
       "// Listen for the clearing of the current output cell\n",
       "var outputEl = gd.closest('.output');\n",
       "if (outputEl) {{\n",
       "    x.observe(outputEl, {childList: true});\n",
       "}}\n",
       "\n",
       "                        })                };                });            </script>        </div>"
      ]
     },
     "metadata": {},
     "output_type": "display_data"
    }
   ],
   "source": [
    "fig = px.scatter(merged_data, x=\"Score\", y=\"Value\", trendline=\"ols\", \n",
    "                 log_x=True, hover_data=[\"Country\", \"Score\"])\n",
    "\n",
    "fig.show()"
   ]
  },
  {
   "cell_type": "code",
   "execution_count": null,
   "id": "1f238ebf",
   "metadata": {},
   "outputs": [],
   "source": []
  }
 ],
 "metadata": {
  "kernelspec": {
   "display_name": "Python 3",
   "language": "python",
   "name": "python3"
  },
  "language_info": {
   "codemirror_mode": {
    "name": "ipython",
    "version": 3
   },
   "file_extension": ".py",
   "mimetype": "text/x-python",
   "name": "python",
   "nbconvert_exporter": "python",
   "pygments_lexer": "ipython3",
   "version": "3.9.6"
  }
 },
 "nbformat": 4,
 "nbformat_minor": 5
}
