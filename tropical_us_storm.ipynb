{
 "cells": [
  {
   "cell_type": "markdown",
   "id": "14df36cd",
   "metadata": {},
   "source": [
    "## US Tropical Storm Data: 1852-1965, 1983-2019\n",
    "To develop insights from storm data. \n",
    "Some Questions: \n",
    "What does the data actually say?\n",
    "Are Tropical storms more common now than in the past?"
   ]
  },
  {
   "cell_type": "code",
   "execution_count": 173,
   "id": "30208233",
   "metadata": {},
   "outputs": [],
   "source": [
    "import pandas as pd\n",
    "from matplotlib import pyplot as plt\n",
    "import numpy as np\n",
    "df = pd.read_csv(\"data/tropical_storm_data.csv\")"
   ]
  },
  {
   "cell_type": "code",
   "execution_count": 174,
   "id": "1a5ecc85",
   "metadata": {},
   "outputs": [
    {
     "data": {
      "text/html": [
       "<div>\n",
       "<style scoped>\n",
       "    .dataframe tbody tr th:only-of-type {\n",
       "        vertical-align: middle;\n",
       "    }\n",
       "\n",
       "    .dataframe tbody tr th {\n",
       "        vertical-align: top;\n",
       "    }\n",
       "\n",
       "    .dataframe thead th {\n",
       "        text-align: right;\n",
       "    }\n",
       "</style>\n",
       "<table border=\"1\" class=\"dataframe\">\n",
       "  <thead>\n",
       "    <tr style=\"text-align: right;\">\n",
       "      <th></th>\n",
       "      <th>Storm #</th>\n",
       "      <th>Date</th>\n",
       "      <th>Time</th>\n",
       "      <th>Lat</th>\n",
       "      <th>Lon</th>\n",
       "      <th>Max</th>\n",
       "      <th>Landfall</th>\n",
       "      <th>Storm</th>\n",
       "    </tr>\n",
       "  </thead>\n",
       "  <tbody>\n",
       "    <tr>\n",
       "      <th>0</th>\n",
       "      <td>1850s</td>\n",
       "      <td>NaN</td>\n",
       "      <td>NaN</td>\n",
       "      <td>NaN</td>\n",
       "      <td>NaN</td>\n",
       "      <td>NaN</td>\n",
       "      <td>NaN</td>\n",
       "      <td>NaN</td>\n",
       "    </tr>\n",
       "    <tr>\n",
       "      <th>1</th>\n",
       "      <td>6</td>\n",
       "      <td>10/19/1851</td>\n",
       "      <td>1500Z</td>\n",
       "      <td>41.1N</td>\n",
       "      <td>71.7W</td>\n",
       "      <td>50.0</td>\n",
       "      <td>NY</td>\n",
       "      <td>NaN</td>\n",
       "    </tr>\n",
       "    <tr>\n",
       "      <th>2</th>\n",
       "      <td>1852</td>\n",
       "      <td>None</td>\n",
       "      <td>NaN</td>\n",
       "      <td>NaN</td>\n",
       "      <td>NaN</td>\n",
       "      <td>NaN</td>\n",
       "      <td>NaN</td>\n",
       "      <td>NaN</td>\n",
       "    </tr>\n",
       "    <tr>\n",
       "      <th>3</th>\n",
       "      <td>1853</td>\n",
       "      <td>None</td>\n",
       "      <td>NaN</td>\n",
       "      <td>NaN</td>\n",
       "      <td>NaN</td>\n",
       "      <td>NaN</td>\n",
       "      <td>NaN</td>\n",
       "      <td>NaN</td>\n",
       "    </tr>\n",
       "    <tr>\n",
       "      <th>4</th>\n",
       "      <td>1854</td>\n",
       "      <td>None</td>\n",
       "      <td>NaN</td>\n",
       "      <td>NaN</td>\n",
       "      <td>NaN</td>\n",
       "      <td>NaN</td>\n",
       "      <td>NaN</td>\n",
       "      <td>NaN</td>\n",
       "    </tr>\n",
       "    <tr>\n",
       "      <th>...</th>\n",
       "      <td>...</td>\n",
       "      <td>...</td>\n",
       "      <td>...</td>\n",
       "      <td>...</td>\n",
       "      <td>...</td>\n",
       "      <td>...</td>\n",
       "      <td>...</td>\n",
       "      <td>...</td>\n",
       "    </tr>\n",
       "    <tr>\n",
       "      <th>391</th>\n",
       "      <td>15</td>\n",
       "      <td>9/27/2017*</td>\n",
       "      <td>1800Z</td>\n",
       "      <td>36</td>\n",
       "      <td>72.6</td>\n",
       "      <td>45.0</td>\n",
       "      <td>NC</td>\n",
       "      <td>Maria</td>\n",
       "    </tr>\n",
       "    <tr>\n",
       "      <th>392</th>\n",
       "      <td>1</td>\n",
       "      <td>5/28/2018</td>\n",
       "      <td>2100Z</td>\n",
       "      <td>30.5</td>\n",
       "      <td>86</td>\n",
       "      <td>40.0</td>\n",
       "      <td>FL</td>\n",
       "      <td>Alberto</td>\n",
       "    </tr>\n",
       "    <tr>\n",
       "      <th>393</th>\n",
       "      <td>7</td>\n",
       "      <td>9/3/2018</td>\n",
       "      <td>1115Z</td>\n",
       "      <td>25</td>\n",
       "      <td>80.5</td>\n",
       "      <td>45.0</td>\n",
       "      <td>FL</td>\n",
       "      <td>Gordon</td>\n",
       "    </tr>\n",
       "    <tr>\n",
       "      <th>394</th>\n",
       "      <td>7</td>\n",
       "      <td>9/3/2018</td>\n",
       "      <td>1315Z</td>\n",
       "      <td>25.2</td>\n",
       "      <td>80.9</td>\n",
       "      <td>45.0</td>\n",
       "      <td>FL</td>\n",
       "      <td>Gordon</td>\n",
       "    </tr>\n",
       "    <tr>\n",
       "      <th>395</th>\n",
       "      <td>9</td>\n",
       "      <td>9/17/2019</td>\n",
       "      <td>1745Z</td>\n",
       "      <td>28.9</td>\n",
       "      <td>95.4</td>\n",
       "      <td>40.0</td>\n",
       "      <td>TX</td>\n",
       "      <td>Imelda</td>\n",
       "    </tr>\n",
       "  </tbody>\n",
       "</table>\n",
       "<p>396 rows × 8 columns</p>\n",
       "</div>"
      ],
      "text/plain": [
       "    Storm #        Date   Time    Lat    Lon   Max Landfall    Storm\n",
       "0     1850s         NaN    NaN    NaN    NaN   NaN      NaN      NaN\n",
       "1         6  10/19/1851  1500Z  41.1N  71.7W  50.0       NY      NaN\n",
       "2      1852        None    NaN    NaN    NaN   NaN      NaN      NaN\n",
       "3      1853        None    NaN    NaN    NaN   NaN      NaN      NaN\n",
       "4      1854        None    NaN    NaN    NaN   NaN      NaN      NaN\n",
       "..      ...         ...    ...    ...    ...   ...      ...      ...\n",
       "391      15  9/27/2017*  1800Z     36   72.6  45.0       NC    Maria\n",
       "392       1   5/28/2018  2100Z   30.5     86  40.0       FL  Alberto\n",
       "393       7    9/3/2018  1115Z     25   80.5  45.0       FL   Gordon\n",
       "394       7    9/3/2018  1315Z   25.2   80.9  45.0       FL   Gordon\n",
       "395       9   9/17/2019  1745Z   28.9   95.4  40.0       TX   Imelda\n",
       "\n",
       "[396 rows x 8 columns]"
      ]
     },
     "execution_count": 174,
     "metadata": {},
     "output_type": "execute_result"
    }
   ],
   "source": [
    "df"
   ]
  },
  {
   "cell_type": "markdown",
   "id": "b9652720",
   "metadata": {},
   "source": [
    "### Cleaning Up the Tropical Storm Data\n",
    "- The row representing years without events should be removed\n",
    "- Replace all such string like $, *, #, % and & in the Date column with nothing\n",
    "- Next, I'll reset the colunm headers. So it would be easier to work with.\n",
    "- Check the columns data types\n",
    "- Covert the Date to a new format"
   ]
  },
  {
   "cell_type": "code",
   "execution_count": 175,
   "id": "befff729",
   "metadata": {},
   "outputs": [
    {
     "data": {
      "text/html": [
       "<div>\n",
       "<style scoped>\n",
       "    .dataframe tbody tr th:only-of-type {\n",
       "        vertical-align: middle;\n",
       "    }\n",
       "\n",
       "    .dataframe tbody tr th {\n",
       "        vertical-align: top;\n",
       "    }\n",
       "\n",
       "    .dataframe thead th {\n",
       "        text-align: right;\n",
       "    }\n",
       "</style>\n",
       "<table border=\"1\" class=\"dataframe\">\n",
       "  <thead>\n",
       "    <tr style=\"text-align: right;\">\n",
       "      <th></th>\n",
       "      <th>Storm #</th>\n",
       "      <th>Date</th>\n",
       "      <th>Time</th>\n",
       "      <th>Lat</th>\n",
       "      <th>Lon</th>\n",
       "      <th>Max</th>\n",
       "      <th>Landfall</th>\n",
       "      <th>Storm</th>\n",
       "    </tr>\n",
       "  </thead>\n",
       "  <tbody>\n",
       "    <tr>\n",
       "      <th>1</th>\n",
       "      <td>6</td>\n",
       "      <td>10/19/1851</td>\n",
       "      <td>1500Z</td>\n",
       "      <td>41.1N</td>\n",
       "      <td>71.7W</td>\n",
       "      <td>50.0</td>\n",
       "      <td>NY</td>\n",
       "      <td>NaN</td>\n",
       "    </tr>\n",
       "    <tr>\n",
       "      <th>6</th>\n",
       "      <td>3</td>\n",
       "      <td>8/19/1856</td>\n",
       "      <td>1100Z</td>\n",
       "      <td>34.8</td>\n",
       "      <td>76.4</td>\n",
       "      <td>50.0</td>\n",
       "      <td>NC</td>\n",
       "      <td>NaN</td>\n",
       "    </tr>\n",
       "    <tr>\n",
       "      <th>7</th>\n",
       "      <td>4</td>\n",
       "      <td>9/30/1857$</td>\n",
       "      <td>1000Z</td>\n",
       "      <td>25.8</td>\n",
       "      <td>97</td>\n",
       "      <td>50.0</td>\n",
       "      <td>TX</td>\n",
       "      <td>NaN</td>\n",
       "    </tr>\n",
       "    <tr>\n",
       "      <th>8</th>\n",
       "      <td>3</td>\n",
       "      <td>9/14/1858$</td>\n",
       "      <td>1500Z</td>\n",
       "      <td>27.6</td>\n",
       "      <td>82.7</td>\n",
       "      <td>60.0</td>\n",
       "      <td>FL</td>\n",
       "      <td>NaN</td>\n",
       "    </tr>\n",
       "    <tr>\n",
       "      <th>9</th>\n",
       "      <td>3</td>\n",
       "      <td>9/16/1858*</td>\n",
       "      <td>0300Z</td>\n",
       "      <td>35.2</td>\n",
       "      <td>75.2</td>\n",
       "      <td>50.0</td>\n",
       "      <td>NC</td>\n",
       "      <td>NaN</td>\n",
       "    </tr>\n",
       "    <tr>\n",
       "      <th>...</th>\n",
       "      <td>...</td>\n",
       "      <td>...</td>\n",
       "      <td>...</td>\n",
       "      <td>...</td>\n",
       "      <td>...</td>\n",
       "      <td>...</td>\n",
       "      <td>...</td>\n",
       "      <td>...</td>\n",
       "    </tr>\n",
       "    <tr>\n",
       "      <th>391</th>\n",
       "      <td>15</td>\n",
       "      <td>9/27/2017*</td>\n",
       "      <td>1800Z</td>\n",
       "      <td>36</td>\n",
       "      <td>72.6</td>\n",
       "      <td>45.0</td>\n",
       "      <td>NC</td>\n",
       "      <td>Maria</td>\n",
       "    </tr>\n",
       "    <tr>\n",
       "      <th>392</th>\n",
       "      <td>1</td>\n",
       "      <td>5/28/2018</td>\n",
       "      <td>2100Z</td>\n",
       "      <td>30.5</td>\n",
       "      <td>86</td>\n",
       "      <td>40.0</td>\n",
       "      <td>FL</td>\n",
       "      <td>Alberto</td>\n",
       "    </tr>\n",
       "    <tr>\n",
       "      <th>393</th>\n",
       "      <td>7</td>\n",
       "      <td>9/3/2018</td>\n",
       "      <td>1115Z</td>\n",
       "      <td>25</td>\n",
       "      <td>80.5</td>\n",
       "      <td>45.0</td>\n",
       "      <td>FL</td>\n",
       "      <td>Gordon</td>\n",
       "    </tr>\n",
       "    <tr>\n",
       "      <th>394</th>\n",
       "      <td>7</td>\n",
       "      <td>9/3/2018</td>\n",
       "      <td>1315Z</td>\n",
       "      <td>25.2</td>\n",
       "      <td>80.9</td>\n",
       "      <td>45.0</td>\n",
       "      <td>FL</td>\n",
       "      <td>Gordon</td>\n",
       "    </tr>\n",
       "    <tr>\n",
       "      <th>395</th>\n",
       "      <td>9</td>\n",
       "      <td>9/17/2019</td>\n",
       "      <td>1745Z</td>\n",
       "      <td>28.9</td>\n",
       "      <td>95.4</td>\n",
       "      <td>40.0</td>\n",
       "      <td>TX</td>\n",
       "      <td>Imelda</td>\n",
       "    </tr>\n",
       "  </tbody>\n",
       "</table>\n",
       "<p>362 rows × 8 columns</p>\n",
       "</div>"
      ],
      "text/plain": [
       "    Storm #        Date   Time    Lat    Lon   Max Landfall    Storm\n",
       "1         6  10/19/1851  1500Z  41.1N  71.7W  50.0       NY      NaN\n",
       "6         3   8/19/1856  1100Z   34.8   76.4  50.0       NC      NaN\n",
       "7         4  9/30/1857$  1000Z   25.8     97  50.0       TX      NaN\n",
       "8         3  9/14/1858$  1500Z   27.6   82.7  60.0       FL      NaN\n",
       "9         3  9/16/1858*  0300Z   35.2   75.2  50.0       NC      NaN\n",
       "..      ...         ...    ...    ...    ...   ...      ...      ...\n",
       "391      15  9/27/2017*  1800Z     36   72.6  45.0       NC    Maria\n",
       "392       1   5/28/2018  2100Z   30.5     86  40.0       FL  Alberto\n",
       "393       7    9/3/2018  1115Z     25   80.5  45.0       FL   Gordon\n",
       "394       7    9/3/2018  1315Z   25.2   80.9  45.0       FL   Gordon\n",
       "395       9   9/17/2019  1745Z   28.9   95.4  40.0       TX   Imelda\n",
       "\n",
       "[362 rows x 8 columns]"
      ]
     },
     "execution_count": 175,
     "metadata": {},
     "output_type": "execute_result"
    }
   ],
   "source": [
    "# The row representing years without events should be dropped\n",
    "df = df[(df[\"Date\"].str.contains(\"None\")) == False]\n",
    "df\n"
   ]
  },
  {
   "cell_type": "code",
   "execution_count": 176,
   "id": "203b02db",
   "metadata": {},
   "outputs": [
    {
     "data": {
      "text/html": [
       "<div>\n",
       "<style scoped>\n",
       "    .dataframe tbody tr th:only-of-type {\n",
       "        vertical-align: middle;\n",
       "    }\n",
       "\n",
       "    .dataframe tbody tr th {\n",
       "        vertical-align: top;\n",
       "    }\n",
       "\n",
       "    .dataframe thead th {\n",
       "        text-align: right;\n",
       "    }\n",
       "</style>\n",
       "<table border=\"1\" class=\"dataframe\">\n",
       "  <thead>\n",
       "    <tr style=\"text-align: right;\">\n",
       "      <th></th>\n",
       "      <th>Storm #</th>\n",
       "      <th>Date</th>\n",
       "      <th>Time</th>\n",
       "      <th>Lat</th>\n",
       "      <th>Lon</th>\n",
       "      <th>Max</th>\n",
       "      <th>Landfall</th>\n",
       "      <th>Storm</th>\n",
       "    </tr>\n",
       "  </thead>\n",
       "  <tbody>\n",
       "    <tr>\n",
       "      <th>1</th>\n",
       "      <td>6</td>\n",
       "      <td>10/19/1851</td>\n",
       "      <td>1500Z</td>\n",
       "      <td>41.1N</td>\n",
       "      <td>71.7W</td>\n",
       "      <td>50.0</td>\n",
       "      <td>NY</td>\n",
       "      <td>NaN</td>\n",
       "    </tr>\n",
       "    <tr>\n",
       "      <th>6</th>\n",
       "      <td>3</td>\n",
       "      <td>8/19/1856</td>\n",
       "      <td>1100Z</td>\n",
       "      <td>34.8</td>\n",
       "      <td>76.4</td>\n",
       "      <td>50.0</td>\n",
       "      <td>NC</td>\n",
       "      <td>NaN</td>\n",
       "    </tr>\n",
       "    <tr>\n",
       "      <th>7</th>\n",
       "      <td>4</td>\n",
       "      <td>9/30/1857$</td>\n",
       "      <td>1000Z</td>\n",
       "      <td>25.8</td>\n",
       "      <td>97</td>\n",
       "      <td>50.0</td>\n",
       "      <td>TX</td>\n",
       "      <td>NaN</td>\n",
       "    </tr>\n",
       "    <tr>\n",
       "      <th>8</th>\n",
       "      <td>3</td>\n",
       "      <td>9/14/1858$</td>\n",
       "      <td>1500Z</td>\n",
       "      <td>27.6</td>\n",
       "      <td>82.7</td>\n",
       "      <td>60.0</td>\n",
       "      <td>FL</td>\n",
       "      <td>NaN</td>\n",
       "    </tr>\n",
       "    <tr>\n",
       "      <th>9</th>\n",
       "      <td>3</td>\n",
       "      <td>9/16/1858*</td>\n",
       "      <td>0300Z</td>\n",
       "      <td>35.2</td>\n",
       "      <td>75.2</td>\n",
       "      <td>50.0</td>\n",
       "      <td>NC</td>\n",
       "      <td>NaN</td>\n",
       "    </tr>\n",
       "  </tbody>\n",
       "</table>\n",
       "</div>"
      ],
      "text/plain": [
       "  Storm #        Date   Time    Lat    Lon   Max Landfall Storm\n",
       "1       6  10/19/1851  1500Z  41.1N  71.7W  50.0       NY   NaN\n",
       "6       3   8/19/1856  1100Z   34.8   76.4  50.0       NC   NaN\n",
       "7       4  9/30/1857$  1000Z   25.8     97  50.0       TX   NaN\n",
       "8       3  9/14/1858$  1500Z   27.6   82.7  60.0       FL   NaN\n",
       "9       3  9/16/1858*  0300Z   35.2   75.2  50.0       NC   NaN"
      ]
     },
     "execution_count": 176,
     "metadata": {},
     "output_type": "execute_result"
    }
   ],
   "source": [
    "# Replace all such string like $, *, #, % and & in \n",
    "# the Date column with nothing\n",
    "dfc = df.copy()\n",
    "\n",
    "# dfd[\"Date\"] = dfd.loc[:, \"Date\"].str.replace(\"\\$\", \"\", regex=True)\n",
    "# dfd[\"Date\"] = dfd.loc[:, \"Date\"].str.replace(\"\\*\", \"\", regex=True)\n",
    "# dfd[\"Date\"] = dfd.loc[:, \"Date\"].str.replace(\"\\#\", \"\", regex=True)\n",
    "# dfd[\"Date\"] = dfd.loc[:, \"Date\"].str.replace(\"\\%\", \"\", regex=True)\n",
    "# dfd[\"Date\"] = dfd.loc[:, \"Date\"].str.replace(\"\\&\", \"\", regex=True)\n",
    "\n",
    "# dfd[\"Date\"] = dfd.loc[:, \"Date\"]\n",
    "\n",
    "\n",
    "def replace_all_such_string(str):\n",
    "    special_chars = \"$*#%&\"\n",
    "    for special_char in special_chars:\n",
    "        replaced_string = str.str.replace(special_char, \"\", regex=True)\n",
    "    return replaced_string\n",
    "\n",
    "dfc[\"Date\"] = replace_all_such_string(dfc.loc[:, \"Date\"])\n",
    "df = dfc\n",
    "df.head()\n",
    "\n"
   ]
  },
  {
   "cell_type": "code",
   "execution_count": 164,
   "id": "afdfd3b4",
   "metadata": {},
   "outputs": [],
   "source": [
    "# Reset the Column headers\n",
    "df.columns = [\"Storm#\", \"Date\", \"Time\", \"Lat\", \"Lon\", \n",
    "              \"MaxWinds\", \"LandfallState\",\"StormName\"]"
   ]
  },
  {
   "cell_type": "code",
   "execution_count": 165,
   "id": "0b2915ff",
   "metadata": {},
   "outputs": [
    {
     "data": {
      "text/plain": [
       "Storm#            object\n",
       "Date              object\n",
       "Time              object\n",
       "Lat               object\n",
       "Lon               object\n",
       "MaxWinds         float64\n",
       "LandfallState     object\n",
       "StormName         object\n",
       "dtype: object"
      ]
     },
     "execution_count": 165,
     "metadata": {},
     "output_type": "execute_result"
    }
   ],
   "source": [
    "# Check the column Data types\n",
    "df.dtypes"
   ]
  },
  {
   "cell_type": "code",
   "execution_count": 166,
   "id": "983c2301",
   "metadata": {},
   "outputs": [
    {
     "data": {
      "text/html": [
       "<div>\n",
       "<style scoped>\n",
       "    .dataframe tbody tr th:only-of-type {\n",
       "        vertical-align: middle;\n",
       "    }\n",
       "\n",
       "    .dataframe tbody tr th {\n",
       "        vertical-align: top;\n",
       "    }\n",
       "\n",
       "    .dataframe thead th {\n",
       "        text-align: right;\n",
       "    }\n",
       "</style>\n",
       "<table border=\"1\" class=\"dataframe\">\n",
       "  <thead>\n",
       "    <tr style=\"text-align: right;\">\n",
       "      <th></th>\n",
       "      <th>Storm#</th>\n",
       "      <th>Date</th>\n",
       "      <th>Time</th>\n",
       "      <th>Lat</th>\n",
       "      <th>Lon</th>\n",
       "      <th>MaxWinds</th>\n",
       "      <th>LandfallState</th>\n",
       "      <th>StormName</th>\n",
       "    </tr>\n",
       "  </thead>\n",
       "  <tbody>\n",
       "    <tr>\n",
       "      <th>1</th>\n",
       "      <td>6</td>\n",
       "      <td>1851-10-19</td>\n",
       "      <td>1500Z</td>\n",
       "      <td>41.1N</td>\n",
       "      <td>71.7W</td>\n",
       "      <td>50.0</td>\n",
       "      <td>NY</td>\n",
       "      <td>NaN</td>\n",
       "    </tr>\n",
       "    <tr>\n",
       "      <th>6</th>\n",
       "      <td>3</td>\n",
       "      <td>1856-08-19</td>\n",
       "      <td>1100Z</td>\n",
       "      <td>34.8</td>\n",
       "      <td>76.4</td>\n",
       "      <td>50.0</td>\n",
       "      <td>NC</td>\n",
       "      <td>NaN</td>\n",
       "    </tr>\n",
       "    <tr>\n",
       "      <th>7</th>\n",
       "      <td>4</td>\n",
       "      <td>1857-09-30</td>\n",
       "      <td>1000Z</td>\n",
       "      <td>25.8</td>\n",
       "      <td>97</td>\n",
       "      <td>50.0</td>\n",
       "      <td>TX</td>\n",
       "      <td>NaN</td>\n",
       "    </tr>\n",
       "    <tr>\n",
       "      <th>8</th>\n",
       "      <td>3</td>\n",
       "      <td>1858-09-14</td>\n",
       "      <td>1500Z</td>\n",
       "      <td>27.6</td>\n",
       "      <td>82.7</td>\n",
       "      <td>60.0</td>\n",
       "      <td>FL</td>\n",
       "      <td>NaN</td>\n",
       "    </tr>\n",
       "    <tr>\n",
       "      <th>9</th>\n",
       "      <td>3</td>\n",
       "      <td>1858-09-16</td>\n",
       "      <td>0300Z</td>\n",
       "      <td>35.2</td>\n",
       "      <td>75.2</td>\n",
       "      <td>50.0</td>\n",
       "      <td>NC</td>\n",
       "      <td>NaN</td>\n",
       "    </tr>\n",
       "    <tr>\n",
       "      <th>...</th>\n",
       "      <td>...</td>\n",
       "      <td>...</td>\n",
       "      <td>...</td>\n",
       "      <td>...</td>\n",
       "      <td>...</td>\n",
       "      <td>...</td>\n",
       "      <td>...</td>\n",
       "      <td>...</td>\n",
       "    </tr>\n",
       "    <tr>\n",
       "      <th>391</th>\n",
       "      <td>15</td>\n",
       "      <td>2017-09-27</td>\n",
       "      <td>1800Z</td>\n",
       "      <td>36</td>\n",
       "      <td>72.6</td>\n",
       "      <td>45.0</td>\n",
       "      <td>NC</td>\n",
       "      <td>Maria</td>\n",
       "    </tr>\n",
       "    <tr>\n",
       "      <th>392</th>\n",
       "      <td>1</td>\n",
       "      <td>2018-05-28</td>\n",
       "      <td>2100Z</td>\n",
       "      <td>30.5</td>\n",
       "      <td>86</td>\n",
       "      <td>40.0</td>\n",
       "      <td>FL</td>\n",
       "      <td>Alberto</td>\n",
       "    </tr>\n",
       "    <tr>\n",
       "      <th>393</th>\n",
       "      <td>7</td>\n",
       "      <td>2018-09-03</td>\n",
       "      <td>1115Z</td>\n",
       "      <td>25</td>\n",
       "      <td>80.5</td>\n",
       "      <td>45.0</td>\n",
       "      <td>FL</td>\n",
       "      <td>Gordon</td>\n",
       "    </tr>\n",
       "    <tr>\n",
       "      <th>394</th>\n",
       "      <td>7</td>\n",
       "      <td>2018-09-03</td>\n",
       "      <td>1315Z</td>\n",
       "      <td>25.2</td>\n",
       "      <td>80.9</td>\n",
       "      <td>45.0</td>\n",
       "      <td>FL</td>\n",
       "      <td>Gordon</td>\n",
       "    </tr>\n",
       "    <tr>\n",
       "      <th>395</th>\n",
       "      <td>9</td>\n",
       "      <td>2019-09-17</td>\n",
       "      <td>1745Z</td>\n",
       "      <td>28.9</td>\n",
       "      <td>95.4</td>\n",
       "      <td>40.0</td>\n",
       "      <td>TX</td>\n",
       "      <td>Imelda</td>\n",
       "    </tr>\n",
       "  </tbody>\n",
       "</table>\n",
       "<p>362 rows × 8 columns</p>\n",
       "</div>"
      ],
      "text/plain": [
       "    Storm#       Date   Time    Lat    Lon  MaxWinds LandfallState StormName\n",
       "1        6 1851-10-19  1500Z  41.1N  71.7W      50.0            NY       NaN\n",
       "6        3 1856-08-19  1100Z   34.8   76.4      50.0            NC       NaN\n",
       "7        4 1857-09-30  1000Z   25.8     97      50.0            TX       NaN\n",
       "8        3 1858-09-14  1500Z   27.6   82.7      60.0            FL       NaN\n",
       "9        3 1858-09-16  0300Z   35.2   75.2      50.0            NC       NaN\n",
       "..     ...        ...    ...    ...    ...       ...           ...       ...\n",
       "391     15 2017-09-27  1800Z     36   72.6      45.0            NC     Maria\n",
       "392      1 2018-05-28  2100Z   30.5     86      40.0            FL   Alberto\n",
       "393      7 2018-09-03  1115Z     25   80.5      45.0            FL    Gordon\n",
       "394      7 2018-09-03  1315Z   25.2   80.9      45.0            FL    Gordon\n",
       "395      9 2019-09-17  1745Z   28.9   95.4      40.0            TX    Imelda\n",
       "\n",
       "[362 rows x 8 columns]"
      ]
     },
     "execution_count": 166,
     "metadata": {},
     "output_type": "execute_result"
    }
   ],
   "source": [
    "# Covert the date a new format\n",
    "df[\"Date\"] = pd.to_datetime(df[\"Date\"])\n",
    "df"
   ]
  },
  {
   "cell_type": "markdown",
   "id": "4c9d0f3c",
   "metadata": {},
   "source": [
    "### Presenting Tropical Storm Data\n",
    "For our purposes, the only data column that really matters is MaxWinds - as that, obviously, is what defines the intensity of the storm. This command will create a new dataframe made up of the Date and MaxWinds columns:\n"
   ]
  },
  {
   "cell_type": "code",
   "execution_count": 139,
   "id": "01ca9e11",
   "metadata": {},
   "outputs": [],
   "source": [
    "df1 = df[[\"Date\", \"MaxWinds\"]]"
   ]
  },
  {
   "cell_type": "code",
   "execution_count": 140,
   "id": "07960f6f",
   "metadata": {},
   "outputs": [
    {
     "data": {
      "text/plain": [
       "<AxesSubplot:>"
      ]
     },
     "execution_count": 140,
     "metadata": {},
     "output_type": "execute_result"
    },
    {
     "data": {
      "image/png": "[encoded data removed]",
      "text/plain": [
       "<Figure size 432x288 with 1 Axes>"
      ]
     },
     "metadata": {
      "needs_background": "light"
     },
     "output_type": "display_data"
    }
   ],
   "source": [
    "df1[\"Date\"].hist()"
   ]
  },
  {
   "cell_type": "code",
   "execution_count": 141,
   "id": "faba14b4",
   "metadata": {},
   "outputs": [
    {
     "data": {
      "text/plain": [
       "(362, 2)"
      ]
     },
     "execution_count": 141,
     "metadata": {},
     "output_type": "execute_result"
    }
   ],
   "source": [
    "df1.shape"
   ]
  },
  {
   "cell_type": "markdown",
   "id": "5db070fc",
   "metadata": {},
   "source": [
    "### More\n",
    "So let’s divide our data into four smaller sets as reasonable proxies for storms of various levels of intensity. I’ve created four dataframes and populated them with events falling in their narrower ranges (i.e., between 30 and 39 knots, 40 and 49, 50 and 59, and 60 and 79). This should give us a reasonable frame of reference for our events."
   ]
  },
  {
   "cell_type": "code",
   "execution_count": 142,
   "id": "a78965e3",
   "metadata": {},
   "outputs": [],
   "source": [
    "df_30 = df1[df1[\"MaxWinds\"].between(30, 39)]\n",
    "df_40 = df1[df1[\"MaxWinds\"].between(40, 49)]\n",
    "df_50 = df1[df1[\"MaxWinds\"].between(50, 59)]\n",
    "df_60 = df1[df1[\"MaxWinds\"].between(60, 79)]"
   ]
  },
  {
   "cell_type": "code",
   "execution_count": 143,
   "id": "692482d5",
   "metadata": {},
   "outputs": [
    {
     "name": "stdout",
     "output_type": "stream",
     "text": [
      "The number of storms between 30 and 39:  51\n",
      "The number of storms between 40 and 49:  113\n",
      "The number of storms between 50 and 59:  142\n",
      "The number of storms between 60 and 79:  56\n"
     ]
    }
   ],
   "source": [
    "st1 = len(df_30.index)\n",
    "print('The number of storms between 30 and 39: ', st1)\n",
    "st2 = len(df_40.index)\n",
    "print('The number of storms between 40 and 49: ', st2)\n",
    "st3 = len(df_50.index)\n",
    "print('The number of storms between 50 and 59: ', st3)\n",
    "st4 = len(df_60.index)\n",
    "print('The number of storms between 60 and 79: ', st4)\n"
   ]
  },
  {
   "cell_type": "code",
   "execution_count": 144,
   "id": "24585287",
   "metadata": {},
   "outputs": [
    {
     "data": {
      "text/plain": [
       "40.0    71\n",
       "45.0    42\n",
       "Name: MaxWinds, dtype: int64"
      ]
     },
     "execution_count": 144,
     "metadata": {},
     "output_type": "execute_result"
    }
   ],
   "source": [
    "df_40[\"MaxWinds\"].value_counts()"
   ]
  },
  {
   "cell_type": "code",
   "execution_count": 145,
   "id": "8c6149b6",
   "metadata": {},
   "outputs": [
    {
     "data": {
      "text/plain": [
       "<matplotlib.legend.Legend at 0x7fa02d324a30>"
      ]
     },
     "execution_count": 145,
     "metadata": {},
     "output_type": "execute_result"
    },
    {
     "data": {
      "image/png": "[encoded data removed]",
      "text/plain": [
       "<Figure size 432x288 with 1 Axes>"
      ]
     },
     "metadata": {
      "needs_background": "light"
     },
     "output_type": "display_data"
    }
   ],
   "source": [
    "# Plot a single line graph to dispaly all four of our subsset together.\n",
    "# The subplot(111) value controls the size of the figure\n",
    "fig = plt.figure()\n",
    "ax = plt.subplot(111)\n",
    "df_30[\"MaxWinds\"].plot(ax=ax, label=\"df_30\")\n",
    "df_40[\"MaxWinds\"].plot(ax=ax, label=\"df_40\")\n",
    "df_50[\"MaxWinds\"].plot(ax=ax, label=\"df_50\")\n",
    "df_60[\"MaxWinds\"].plot(ax=ax, label=\"df_60\")\n",
    "ax.set_ylabel(\"Wind Speed In Knots\")\n",
    "ax.set_xlabel(\"Time Between 1851 and 2019\")\n",
    "plt.title(\"Tropical Storms by Maximum Wind Speeds (knots)\")\n",
    "ax.legend()\n"
   ]
  },
  {
   "cell_type": "markdown",
   "id": "4515c2b9",
   "metadata": {},
   "source": [
    "This can be helpful for confirming that we’re not making a mess of the data itself. Checking visually will show, for instance, that there was, indeed, only a single 30 knot event in our dataset and that it took place towards the end of our time frame in 2016. But it’s not a great way to show us changes in event frequency."
   ]
  },
  {
   "cell_type": "code",
   "execution_count": 146,
   "id": "91619642",
   "metadata": {},
   "outputs": [
    {
     "data": {
      "text/plain": [
       "<AxesSubplot:>"
      ]
     },
     "execution_count": 146,
     "metadata": {},
     "output_type": "execute_result"
    },
    {
     "data": {
      "image/png": "[encoded data removed]",
      "text/plain": [
       "<Figure size 432x288 with 1 Axes>"
      ]
     },
     "metadata": {
      "needs_background": "light"
     },
     "output_type": "display_data"
    }
   ],
   "source": [
    "df_30[\"Date\"].hist(bins=20)"
   ]
  },
  {
   "cell_type": "code",
   "execution_count": 147,
   "id": "2faea52a",
   "metadata": {},
   "outputs": [
    {
     "data": {
      "text/plain": [
       "<AxesSubplot:>"
      ]
     },
     "execution_count": 147,
     "metadata": {},
     "output_type": "execute_result"
    },
    {
     "data": {
      "image/png": "[encoded data removed]",
      "text/plain": [
       "<Figure size 432x288 with 1 Axes>"
      ]
     },
     "metadata": {
      "needs_background": "light"
     },
     "output_type": "display_data"
    }
   ],
   "source": [
    "df_40[\"Date\"].hist(bins=20)"
   ]
  },
  {
   "cell_type": "code",
   "execution_count": 148,
   "id": "84d7cae9",
   "metadata": {},
   "outputs": [
    {
     "data": {
      "text/plain": [
       "<AxesSubplot:>"
      ]
     },
     "execution_count": 148,
     "metadata": {},
     "output_type": "execute_result"
    },
    {
     "data": {
      "image/png": "[encoded data removed]",
      "text/plain": [
       "<Figure size 432x288 with 1 Axes>"
      ]
     },
     "metadata": {
      "needs_background": "light"
     },
     "output_type": "display_data"
    }
   ],
   "source": [
    "df_50[\"Date\"].hist(bins=20)"
   ]
  },
  {
   "cell_type": "code",
   "execution_count": 149,
   "id": "6e7fb40a",
   "metadata": {},
   "outputs": [
    {
     "data": {
      "text/plain": [
       "<AxesSubplot:>"
      ]
     },
     "execution_count": 149,
     "metadata": {},
     "output_type": "execute_result"
    },
    {
     "data": {
      "image/png": "[encoded data removed]",
      "text/plain": [
       "<Figure size 432x288 with 1 Axes>"
      ]
     },
     "metadata": {
      "needs_background": "light"
     },
     "output_type": "display_data"
    }
   ],
   "source": [
    "df_60[\"Date\"].hist(bins=20)"
   ]
  },
  {
   "cell_type": "markdown",
   "id": "821e9b51",
   "metadata": {},
   "source": [
    "A quick glance through those four plots shows us fairly consistent event frequency through the 150 years or so of our data. Again, try it yourself using different numbers of bins to make sure we’re not missing some important trends."
   ]
  },
  {
   "cell_type": "code",
   "execution_count": 150,
   "id": "276ebf6b",
   "metadata": {},
   "outputs": [
    {
     "data": {
      "text/html": [
       "<div>\n",
       "<style scoped>\n",
       "    .dataframe tbody tr th:only-of-type {\n",
       "        vertical-align: middle;\n",
       "    }\n",
       "\n",
       "    .dataframe tbody tr th {\n",
       "        vertical-align: top;\n",
       "    }\n",
       "\n",
       "    .dataframe thead th {\n",
       "        text-align: right;\n",
       "    }\n",
       "</style>\n",
       "<table border=\"1\" class=\"dataframe\">\n",
       "  <thead>\n",
       "    <tr style=\"text-align: right;\">\n",
       "      <th></th>\n",
       "      <th>Storm#</th>\n",
       "      <th>Date</th>\n",
       "      <th>Time</th>\n",
       "      <th>Lat</th>\n",
       "      <th>Lon</th>\n",
       "      <th>MaxWinds</th>\n",
       "      <th>LandfallState</th>\n",
       "      <th>StormName</th>\n",
       "    </tr>\n",
       "  </thead>\n",
       "  <tbody>\n",
       "    <tr>\n",
       "      <th>1</th>\n",
       "      <td>6</td>\n",
       "      <td>1851-10-19</td>\n",
       "      <td>1500Z</td>\n",
       "      <td>41.1N</td>\n",
       "      <td>71.7W</td>\n",
       "      <td>50.0</td>\n",
       "      <td>NY</td>\n",
       "      <td>NaN</td>\n",
       "    </tr>\n",
       "    <tr>\n",
       "      <th>6</th>\n",
       "      <td>3</td>\n",
       "      <td>1856-08-19</td>\n",
       "      <td>1100Z</td>\n",
       "      <td>34.8</td>\n",
       "      <td>76.4</td>\n",
       "      <td>50.0</td>\n",
       "      <td>NC</td>\n",
       "      <td>NaN</td>\n",
       "    </tr>\n",
       "    <tr>\n",
       "      <th>7</th>\n",
       "      <td>4</td>\n",
       "      <td>1857-09-30</td>\n",
       "      <td>1000Z</td>\n",
       "      <td>25.8</td>\n",
       "      <td>97</td>\n",
       "      <td>50.0</td>\n",
       "      <td>TX</td>\n",
       "      <td>NaN</td>\n",
       "    </tr>\n",
       "    <tr>\n",
       "      <th>8</th>\n",
       "      <td>3</td>\n",
       "      <td>1858-09-14</td>\n",
       "      <td>1500Z</td>\n",
       "      <td>27.6</td>\n",
       "      <td>82.7</td>\n",
       "      <td>60.0</td>\n",
       "      <td>FL</td>\n",
       "      <td>NaN</td>\n",
       "    </tr>\n",
       "    <tr>\n",
       "      <th>9</th>\n",
       "      <td>3</td>\n",
       "      <td>1858-09-16</td>\n",
       "      <td>0300Z</td>\n",
       "      <td>35.2</td>\n",
       "      <td>75.2</td>\n",
       "      <td>50.0</td>\n",
       "      <td>NC</td>\n",
       "      <td>NaN</td>\n",
       "    </tr>\n",
       "    <tr>\n",
       "      <th>...</th>\n",
       "      <td>...</td>\n",
       "      <td>...</td>\n",
       "      <td>...</td>\n",
       "      <td>...</td>\n",
       "      <td>...</td>\n",
       "      <td>...</td>\n",
       "      <td>...</td>\n",
       "      <td>...</td>\n",
       "    </tr>\n",
       "    <tr>\n",
       "      <th>391</th>\n",
       "      <td>15</td>\n",
       "      <td>2017-09-27</td>\n",
       "      <td>1800Z</td>\n",
       "      <td>36</td>\n",
       "      <td>72.6</td>\n",
       "      <td>45.0</td>\n",
       "      <td>NC</td>\n",
       "      <td>Maria</td>\n",
       "    </tr>\n",
       "    <tr>\n",
       "      <th>392</th>\n",
       "      <td>1</td>\n",
       "      <td>2018-05-28</td>\n",
       "      <td>2100Z</td>\n",
       "      <td>30.5</td>\n",
       "      <td>86</td>\n",
       "      <td>40.0</td>\n",
       "      <td>FL</td>\n",
       "      <td>Alberto</td>\n",
       "    </tr>\n",
       "    <tr>\n",
       "      <th>393</th>\n",
       "      <td>7</td>\n",
       "      <td>2018-09-03</td>\n",
       "      <td>1115Z</td>\n",
       "      <td>25</td>\n",
       "      <td>80.5</td>\n",
       "      <td>45.0</td>\n",
       "      <td>FL</td>\n",
       "      <td>Gordon</td>\n",
       "    </tr>\n",
       "    <tr>\n",
       "      <th>394</th>\n",
       "      <td>7</td>\n",
       "      <td>2018-09-03</td>\n",
       "      <td>1315Z</td>\n",
       "      <td>25.2</td>\n",
       "      <td>80.9</td>\n",
       "      <td>45.0</td>\n",
       "      <td>FL</td>\n",
       "      <td>Gordon</td>\n",
       "    </tr>\n",
       "    <tr>\n",
       "      <th>395</th>\n",
       "      <td>9</td>\n",
       "      <td>2019-09-17</td>\n",
       "      <td>1745Z</td>\n",
       "      <td>28.9</td>\n",
       "      <td>95.4</td>\n",
       "      <td>40.0</td>\n",
       "      <td>TX</td>\n",
       "      <td>Imelda</td>\n",
       "    </tr>\n",
       "  </tbody>\n",
       "</table>\n",
       "<p>362 rows × 8 columns</p>\n",
       "</div>"
      ],
      "text/plain": [
       "    Storm#       Date   Time    Lat    Lon  MaxWinds LandfallState StormName\n",
       "1        6 1851-10-19  1500Z  41.1N  71.7W      50.0            NY       NaN\n",
       "6        3 1856-08-19  1100Z   34.8   76.4      50.0            NC       NaN\n",
       "7        4 1857-09-30  1000Z   25.8     97      50.0            TX       NaN\n",
       "8        3 1858-09-14  1500Z   27.6   82.7      60.0            FL       NaN\n",
       "9        3 1858-09-16  0300Z   35.2   75.2      50.0            NC       NaN\n",
       "..     ...        ...    ...    ...    ...       ...           ...       ...\n",
       "391     15 2017-09-27  1800Z     36   72.6      45.0            NC     Maria\n",
       "392      1 2018-05-28  2100Z   30.5     86      40.0            FL   Alberto\n",
       "393      7 2018-09-03  1115Z     25   80.5      45.0            FL    Gordon\n",
       "394      7 2018-09-03  1315Z   25.2   80.9      45.0            FL    Gordon\n",
       "395      9 2019-09-17  1745Z   28.9   95.4      40.0            TX    Imelda\n",
       "\n",
       "[362 rows x 8 columns]"
      ]
     },
     "execution_count": 150,
     "metadata": {},
     "output_type": "execute_result"
    }
   ],
   "source": [
    "df"
   ]
  },
  {
   "cell_type": "code",
   "execution_count": null,
   "id": "d1450e84",
   "metadata": {},
   "outputs": [],
   "source": []
  }
 ],
 "metadata": {
  "kernelspec": {
   "display_name": "Python 3",
   "language": "python",
   "name": "python3"
  },
  "language_info": {
   "codemirror_mode": {
    "name": "ipython",
    "version": 3
   },
   "file_extension": ".py",
   "mimetype": "text/x-python",
   "name": "python",
   "nbconvert_exporter": "python",
   "pygments_lexer": "ipython3",
   "version": "3.9.6"
  }
 },
 "nbformat": 4,
 "nbformat_minor": 5
}
