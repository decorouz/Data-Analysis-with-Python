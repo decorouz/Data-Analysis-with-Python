{
 "cells": [
  {
   "cell_type": "markdown",
   "id": "2857ef25",
   "metadata": {},
   "source": [
    "### Test Scores\n",
    "\n",
    "Create a series of 10 elements, random integers from 70-100, representing scores on a monthly exam. Set the index to be the month names, starting in September and ending in June."
   ]
  },
  {
   "cell_type": "code",
   "execution_count": 66,
   "id": "d922bbb7",
   "metadata": {},
   "outputs": [],
   "source": [
    "import pandas as pd\n",
    "import numpy as np\n",
    "np.random.seed(0)\n",
    "import math"
   ]
  },
  {
   "cell_type": "code",
   "execution_count": 67,
   "id": "86e1c9b5",
   "metadata": {},
   "outputs": [],
   "source": [
    "months = \"Sep Oct Nov Dec Jan Feb Mar Apr May Jun\".split()\n"
   ]
  },
  {
   "cell_type": "code",
   "execution_count": 68,
   "id": "8d79c5ae",
   "metadata": {},
   "outputs": [
    {
     "data": {
      "text/plain": [
       "Sep    82\n",
       "Oct    85\n",
       "Nov    91\n",
       "Dec    70\n",
       "Jan    73\n",
       "Feb    97\n",
       "Mar    73\n",
       "Apr    77\n",
       "May    79\n",
       "Jun    89\n",
       "dtype: int64"
      ]
     },
     "execution_count": 68,
     "metadata": {},
     "output_type": "execute_result"
    }
   ],
   "source": [
    "monthly_exam_scores = pd.Series(np.random.randint(70, 100, 10), index = months)\n",
    "monthly_exam_scores"
   ]
  },
  {
   "cell_type": "code",
   "execution_count": 69,
   "id": "c5d1a3d1",
   "metadata": {},
   "outputs": [],
   "source": [
    "# What is the student average scores\n",
    "student_avg_score = f'Student Yearly Average: {monthly_exam_scores.mean()}'"
   ]
  },
  {
   "cell_type": "code",
   "execution_count": 70,
   "id": "c5c21565",
   "metadata": {},
   "outputs": [
    {
     "data": {
      "text/plain": [
       "'Student Yearly Average: 81.6'"
      ]
     },
     "execution_count": 70,
     "metadata": {},
     "output_type": "execute_result"
    }
   ],
   "source": [
    "student_avg_score"
   ]
  },
  {
   "cell_type": "code",
   "execution_count": 71,
   "id": "db5ce016",
   "metadata": {},
   "outputs": [
    {
     "data": {
      "text/plain": [
       "80.2"
      ]
     },
     "execution_count": 71,
     "metadata": {},
     "output_type": "execute_result"
    }
   ],
   "source": [
    "# What is the student’s average test score during the first \n",
    "# half of the year (i.e., the first five months)?\n",
    "\n",
    "student_first_half_avg = monthly_exam_scores[\"Sep\" : \"Jan\"].mean()\n",
    "student_first_half_avg "
   ]
  },
  {
   "cell_type": "code",
   "execution_count": 72,
   "id": "547e6b0e",
   "metadata": {},
   "outputs": [
    {
     "data": {
      "text/plain": [
       "83.0"
      ]
     },
     "execution_count": 72,
     "metadata": {},
     "output_type": "execute_result"
    }
   ],
   "source": [
    "# What is the student’s average test score \n",
    "# during the second half of the year?\n",
    "student_second_half_avg = monthly_exam_scores[\"Feb\" : \"Jun\"].mean()\n",
    "student_second_half_avg"
   ]
  },
  {
   "cell_type": "code",
   "execution_count": 73,
   "id": "5ce26ff4",
   "metadata": {},
   "outputs": [
    {
     "data": {
      "text/plain": [
       "'Improvement: 2.799999999999997'"
      ]
     },
     "execution_count": 73,
     "metadata": {},
     "output_type": "execute_result"
    }
   ],
   "source": [
    "# Did the student improve their performance in the second half? \n",
    "# If so, then by how much?\n",
    "\n",
    "performance_improvement = student_second_half_avg - student_first_half_avg\n",
    "performance_improvement = f\"Improvement: {performance_improvement}\"\n",
    "performance_improvement"
   ]
  },
  {
   "cell_type": "markdown",
   "id": "891e02f7",
   "metadata": {},
   "source": [
    "#### Beyond the exercise\n",
    "Retrieving both individual elements and slices from series is a critical skill when working with pandas. Here are three additional exercises to help you understand them better"
   ]
  },
  {
   "cell_type": "code",
   "execution_count": 119,
   "id": "6f8306b0",
   "metadata": {},
   "outputs": [
    {
     "data": {
      "text/plain": [
       "Feb    97\n",
       "dtype: int64"
      ]
     },
     "execution_count": 119,
     "metadata": {},
     "output_type": "execute_result"
    }
   ],
   "source": [
    "#In which month did this student get their highest score? \n",
    "# Note that there are at least two ways to accomplish this: \n",
    "# You can sort the values, taking the largest one, or you \n",
    "# can use a boolean (\"mask\") index to find those rows that \n",
    "# match the value of s.max(), the highest value.\n",
    "\n",
    "# month_with_highest_score = monthly_exam_scores.max()\n",
    "\n",
    "month_with_highest_score = monthly_exam_scores[\n",
    "    monthly_exam_scores == monthly_exam_scores.max()]\n",
    "month_with_highest_score\n"
   ]
  },
  {
   "cell_type": "code",
   "execution_count": 105,
   "id": "143fb943",
   "metadata": {},
   "outputs": [
    {
     "data": {
      "text/plain": [
       "Feb    97\n",
       "Nov    91\n",
       "Jun    89\n",
       "Oct    85\n",
       "Sep    82\n",
       "dtype: int64"
      ]
     },
     "execution_count": 105,
     "metadata": {},
     "output_type": "execute_result"
    }
   ],
   "source": [
    "# What were this student’s five highest scores in the year?\n",
    "\n",
    "first_five_high_scores = monthly_exam_scores.sort_values(ascending=False).head(5)\n",
    "first_five_high_scores\n"
   ]
  },
  {
   "cell_type": "code",
   "execution_count": 116,
   "id": "29988730",
   "metadata": {},
   "outputs": [
    {
     "data": {
      "text/plain": [
       "Sep    82\n",
       "Oct    85\n",
       "Nov    91\n",
       "Dec    70\n",
       "Jan    73\n",
       "Feb    97\n",
       "Mar    73\n",
       "Apr    77\n",
       "May    79\n",
       "Jun    89\n",
       "dtype: int64"
      ]
     },
     "execution_count": 116,
     "metadata": {},
     "output_type": "execute_result"
    }
   ],
   "source": [
    "monthly_exam_scores"
   ]
  },
  {
   "cell_type": "code",
   "execution_count": 118,
   "id": "c0da3ed9",
   "metadata": {},
   "outputs": [
    {
     "data": {
      "text/plain": [
       "Sep     80\n",
       "Oct     80\n",
       "Nov     90\n",
       "Dec     70\n",
       "Jan     70\n",
       "Feb    100\n",
       "Mar     70\n",
       "Apr     80\n",
       "May     80\n",
       "Jun     90\n",
       "dtype: int64"
      ]
     },
     "execution_count": 118,
     "metadata": {},
     "output_type": "execute_result"
    }
   ],
   "source": [
    "# Round the student’s scores to the nearest 10. \n",
    "# So a score of 82 would be rounded down to 80, \n",
    "# but a score of 87 would be rounded up to 90.\n",
    "monthly_exam_scores_copy = monthly_exam_scores.copy()\n",
    "def custom_round(x, base=10):\n",
    "    return int(base * round(float(x)/base))\n",
    "monthly_exam_scores_copy.apply(lambda x: custom_round(x))"
   ]
  },
  {
   "cell_type": "code",
   "execution_count": 122,
   "id": "588c845d",
   "metadata": {},
   "outputs": [
    {
     "data": {
      "text/plain": [
       "count    10.000000\n",
       "mean     81.600000\n",
       "std       8.834277\n",
       "min      70.000000\n",
       "25%      74.000000\n",
       "50%      80.500000\n",
       "75%      88.000000\n",
       "max      97.000000\n",
       "dtype: float64"
      ]
     },
     "execution_count": 122,
     "metadata": {},
     "output_type": "execute_result"
    }
   ],
   "source": [
    "monthly_exam_scores.describe()"
   ]
  },
  {
   "cell_type": "markdown",
   "id": "1e199afa",
   "metadata": {},
   "source": [
    "### Standard Deviation\n",
    "The measure of how much the valies in our data set vary from one another. \n",
    "In a data set with 0 standard deviation, the values all all identical to one\n",
    "another. By contrast, a data set with a very large standard deviation will\n",
    "have values that varyes greatly from th mean value."
   ]
  },
  {
   "cell_type": "code",
   "execution_count": null,
   "id": "71893f44",
   "metadata": {},
   "outputs": [],
   "source": []
  }
 ],
 "metadata": {
  "kernelspec": {
   "display_name": "Python 3",
   "language": "python",
   "name": "python3"
  },
  "language_info": {
   "codemirror_mode": {
    "name": "ipython",
    "version": 3
   },
   "file_extension": ".py",
   "mimetype": "text/x-python",
   "name": "python",
   "nbconvert_exporter": "python",
   "pygments_lexer": "ipython3",
   "version": "3.9.6"
  }
 },
 "nbformat": 4,
 "nbformat_minor": 5
}
