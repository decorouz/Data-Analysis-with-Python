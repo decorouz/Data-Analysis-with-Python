{
 "cells": [
  {
   "cell_type": "markdown",
   "id": "aa03029c",
   "metadata": {},
   "source": [
    "# Pandas Data Structures"
   ]
  },
  {
   "cell_type": "code",
   "execution_count": 231,
   "id": "8978591c",
   "metadata": {},
   "outputs": [],
   "source": [
    "import numpy as np\n",
    "import pandas as pd\n",
    "import datetime as dt\n",
    "\n",
    "# Set maximum column display\n",
    "pd.set_option('display.max_columns', 30)"
   ]
  },
  {
   "cell_type": "code",
   "execution_count": 4,
   "id": "8f0d405f",
   "metadata": {},
   "outputs": [
    {
     "data": {
      "text/plain": [
       "dtype([('time', '<U23'), ('place', '<U37'), ('magType', '<U3'), ('mag', '<f8'), ('alert', '<U5'), ('tsunami', '<i8')])"
      ]
     },
     "execution_count": 4,
     "metadata": {},
     "output_type": "execute_result"
    }
   ],
   "source": [
    "data = np.genfromtxt(\"data/example_data.csv\", delimiter=\";\",\n",
    "                    names=True, dtype=None, encoding=\"UTF\")\n",
    "\n",
    "data.dtype"
   ]
  },
  {
   "cell_type": "code",
   "execution_count": 9,
   "id": "e617f36d",
   "metadata": {},
   "outputs": [
    {
     "name": "stdout",
     "output_type": "stream",
     "text": [
      "CPU times: user 31 µs, sys: 1 µs, total: 32 µs\n",
      "Wall time: 39.3 µs\n"
     ]
    },
    {
     "data": {
      "text/plain": [
       "6.7"
      ]
     },
     "execution_count": 9,
     "metadata": {},
     "output_type": "execute_result"
    }
   ],
   "source": [
    "%%time\n",
    "# Say we want to find the maximum magnitude `mww`\n",
    "max([row[3]for row in data])"
   ]
  },
  {
   "cell_type": "code",
   "execution_count": 30,
   "id": "f2c96862",
   "metadata": {},
   "outputs": [
    {
     "data": {
      "text/plain": [
       "{'time': array(['2018-10-13 11:10:23.560', '2018-10-13 04:34:15.580',\n",
       "        '2018-10-13 00:13:46.220', '2018-10-12 21:09:49.240',\n",
       "        '2018-10-12 02:52:03.620'], dtype='<U23'),\n",
       " 'place': array(['262km NW of Ozernovskiy, Russia', '25km E of Bitung, Indonesia',\n",
       "        '42km WNW of Sola, Vanuatu',\n",
       "        '13km E of Nueva Concepcion, Guatemala',\n",
       "        '128km SE of Kimbe, Papua New Guinea'], dtype='<U37'),\n",
       " 'magType': array(['mww', 'mww', 'mww', 'mww', 'mww'], dtype='<U3'),\n",
       " 'mag': array([6.7, 5.2, 5.7, 5.7, 5.6]),\n",
       " 'alert': array(['green', 'green', 'green', 'green', 'green'], dtype='<U5'),\n",
       " 'tsunami': array([1, 0, 0, 0, 1])}"
      ]
     },
     "execution_count": 30,
     "metadata": {},
     "output_type": "execute_result"
    }
   ],
   "source": [
    "# Create a Numpy array for each column\n",
    "dict_array = {col: np.array([row[i] for row in data]) for i,\n",
    "              col in enumerate(data.dtype.names)}\n",
    "dict_array"
   ]
  },
  {
   "cell_type": "code",
   "execution_count": 32,
   "id": "85d18d3c",
   "metadata": {},
   "outputs": [
    {
     "name": "stdout",
     "output_type": "stream",
     "text": [
      "CPU times: user 39 µs, sys: 1e+03 ns, total: 40 µs\n",
      "Wall time: 42.9 µs\n"
     ]
    },
    {
     "data": {
      "text/plain": [
       "6.7"
      ]
     },
     "execution_count": 32,
     "metadata": {},
     "output_type": "execute_result"
    }
   ],
   "source": [
    "%%time\n",
    "# Grabbing the maximum magnitude \n",
    "dict_array[\"mag\"].max()"
   ]
  },
  {
   "cell_type": "code",
   "execution_count": 40,
   "id": "1b93ce7a",
   "metadata": {},
   "outputs": [
    {
     "name": "stdout",
     "output_type": "stream",
     "text": [
      "['2018-10-13 11:10:23.560' '2018-10-13 04:34:15.580'\n",
      " '2018-10-13 00:13:46.220' '2018-10-12 21:09:49.240'\n",
      " '2018-10-12 02:52:03.620']\n",
      "['262km NW of Ozernovskiy, Russia' '25km E of Bitung, Indonesia'\n",
      " '42km WNW of Sola, Vanuatu' '13km E of Nueva Concepcion, Guatemala'\n",
      " '128km SE of Kimbe, Papua New Guinea']\n",
      "['mww' 'mww' 'mww' 'mww' 'mww']\n",
      "[6.7 5.2 5.7 5.7 5.6]\n",
      "['green' 'green' 'green' 'green' 'green']\n",
      "[1 0 0 0 1]\n"
     ]
    }
   ],
   "source": [
    "# Get all the information about the earth with max magnitude\n",
    "for key, value in dict_array.items():\n",
    "    print(value)"
   ]
  },
  {
   "cell_type": "code",
   "execution_count": 44,
   "id": "c8b0638b",
   "metadata": {},
   "outputs": [
    {
     "data": {
      "text/plain": [
       "array(['2018-10-13 11:10:23.560', '262km NW of Ozernovskiy, Russia',\n",
       "       'mww', '6.7', 'green', '1'], dtype='<U32')"
      ]
     },
     "execution_count": 44,
     "metadata": {},
     "output_type": "execute_result"
    }
   ],
   "source": [
    "np.array([value[dict_array[\"mag\"].argmax()] for key, value in dict_array.items()])"
   ]
  },
  {
   "cell_type": "markdown",
   "id": "e3ef5f87",
   "metadata": {},
   "source": [
    "## Series\n",
    "The series class provides a data structure for arrays of a single type, just like the Nupy array"
   ]
  },
  {
   "cell_type": "code",
   "execution_count": 48,
   "id": "2d324324",
   "metadata": {},
   "outputs": [
    {
     "data": {
      "text/plain": [
       "0          262km NW of Ozernovskiy, Russia\n",
       "1              25km E of Bitung, Indonesia\n",
       "2                42km WNW of Sola, Vanuatu\n",
       "3    13km E of Nueva Concepcion, Guatemala\n",
       "4      128km SE of Kimbe, Papua New Guinea\n",
       "Name: place, dtype: object"
      ]
     },
     "execution_count": 48,
     "metadata": {},
     "output_type": "execute_result"
    }
   ],
   "source": [
    "import pandas as pd\n",
    "\n",
    "place = pd.Series(data=dict_array[\"place\"], name=\"place\")\n",
    "place"
   ]
  },
  {
   "cell_type": "markdown",
   "id": "5923aa99",
   "metadata": {},
   "source": [
    "### Index\n",
    "The additon of the Index class makes the Series class significanly more powerful than a numpy array. The Index class gives us row lables, which enables selection by row. "
   ]
  },
  {
   "cell_type": "code",
   "execution_count": 62,
   "id": "4fa18cd7",
   "metadata": {},
   "outputs": [
    {
     "data": {
      "text/plain": [
       "True"
      ]
     },
     "execution_count": 62,
     "metadata": {},
     "output_type": "execute_result"
    }
   ],
   "source": [
    "place_index = place.index\n",
    "place_index.is_unique"
   ]
  },
  {
   "cell_type": "markdown",
   "id": "9b1ce4c7",
   "metadata": {},
   "source": [
    "## DataFrame\n",
    "\n",
    "THis build upon the Series class and can have manay columns, each with its own data type; we can think of it representing the spreadshet as a whole."
   ]
  },
  {
   "cell_type": "code",
   "execution_count": 64,
   "id": "c57015fe",
   "metadata": {},
   "outputs": [
    {
     "data": {
      "text/html": [
       "<div>\n",
       "<style scoped>\n",
       "    .dataframe tbody tr th:only-of-type {\n",
       "        vertical-align: middle;\n",
       "    }\n",
       "\n",
       "    .dataframe tbody tr th {\n",
       "        vertical-align: top;\n",
       "    }\n",
       "\n",
       "    .dataframe thead th {\n",
       "        text-align: right;\n",
       "    }\n",
       "</style>\n",
       "<table border=\"1\" class=\"dataframe\">\n",
       "  <thead>\n",
       "    <tr style=\"text-align: right;\">\n",
       "      <th></th>\n",
       "      <th>time</th>\n",
       "      <th>place</th>\n",
       "      <th>magType</th>\n",
       "      <th>mag</th>\n",
       "      <th>alert</th>\n",
       "      <th>tsunami</th>\n",
       "    </tr>\n",
       "  </thead>\n",
       "  <tbody>\n",
       "    <tr>\n",
       "      <th>0</th>\n",
       "      <td>2018-10-13 11:10:23.560</td>\n",
       "      <td>262km NW of Ozernovskiy, Russia</td>\n",
       "      <td>mww</td>\n",
       "      <td>6.7</td>\n",
       "      <td>green</td>\n",
       "      <td>1</td>\n",
       "    </tr>\n",
       "    <tr>\n",
       "      <th>1</th>\n",
       "      <td>2018-10-13 04:34:15.580</td>\n",
       "      <td>25km E of Bitung, Indonesia</td>\n",
       "      <td>mww</td>\n",
       "      <td>5.2</td>\n",
       "      <td>green</td>\n",
       "      <td>0</td>\n",
       "    </tr>\n",
       "    <tr>\n",
       "      <th>2</th>\n",
       "      <td>2018-10-13 00:13:46.220</td>\n",
       "      <td>42km WNW of Sola, Vanuatu</td>\n",
       "      <td>mww</td>\n",
       "      <td>5.7</td>\n",
       "      <td>green</td>\n",
       "      <td>0</td>\n",
       "    </tr>\n",
       "    <tr>\n",
       "      <th>3</th>\n",
       "      <td>2018-10-12 21:09:49.240</td>\n",
       "      <td>13km E of Nueva Concepcion, Guatemala</td>\n",
       "      <td>mww</td>\n",
       "      <td>5.7</td>\n",
       "      <td>green</td>\n",
       "      <td>0</td>\n",
       "    </tr>\n",
       "    <tr>\n",
       "      <th>4</th>\n",
       "      <td>2018-10-12 02:52:03.620</td>\n",
       "      <td>128km SE of Kimbe, Papua New Guinea</td>\n",
       "      <td>mww</td>\n",
       "      <td>5.6</td>\n",
       "      <td>green</td>\n",
       "      <td>1</td>\n",
       "    </tr>\n",
       "  </tbody>\n",
       "</table>\n",
       "</div>"
      ],
      "text/plain": [
       "                      time                                  place magType  \\\n",
       "0  2018-10-13 11:10:23.560        262km NW of Ozernovskiy, Russia     mww   \n",
       "1  2018-10-13 04:34:15.580            25km E of Bitung, Indonesia     mww   \n",
       "2  2018-10-13 00:13:46.220              42km WNW of Sola, Vanuatu     mww   \n",
       "3  2018-10-12 21:09:49.240  13km E of Nueva Concepcion, Guatemala     mww   \n",
       "4  2018-10-12 02:52:03.620    128km SE of Kimbe, Papua New Guinea     mww   \n",
       "\n",
       "   mag  alert  tsunami  \n",
       "0  6.7  green        1  \n",
       "1  5.2  green        0  \n",
       "2  5.7  green        0  \n",
       "3  5.7  green        0  \n",
       "4  5.6  green        1  "
      ]
     },
     "execution_count": 64,
     "metadata": {},
     "output_type": "execute_result"
    }
   ],
   "source": [
    "df = pd.DataFrame(dict_array)\n",
    "df"
   ]
  },
  {
   "cell_type": "code",
   "execution_count": 68,
   "id": "0a18a039",
   "metadata": {},
   "outputs": [
    {
     "data": {
      "text/plain": [
       "RangeIndex(start=0, stop=5, step=1)"
      ]
     },
     "execution_count": 68,
     "metadata": {},
     "output_type": "execute_result"
    }
   ],
   "source": [
    "df.index"
   ]
  },
  {
   "cell_type": "markdown",
   "id": "4a28927c",
   "metadata": {},
   "source": [
    "### Creating a Pandas DataFrame\n"
   ]
  },
  {
   "cell_type": "markdown",
   "id": "199ca475",
   "metadata": {},
   "source": [
    "#### From Python Object"
   ]
  },
  {
   "cell_type": "code",
   "execution_count": 71,
   "id": "5dbafe9b",
   "metadata": {},
   "outputs": [
    {
     "data": {
      "text/plain": [
       "0    0.548814\n",
       "1    0.715189\n",
       "2    0.602763\n",
       "3    0.544883\n",
       "4    0.423655\n",
       "Name: random_num, dtype: float64"
      ]
     },
     "execution_count": 71,
     "metadata": {},
     "output_type": "execute_result"
    }
   ],
   "source": [
    "np.random.seed(0)\n",
    "pd.Series(np.random.rand(5), name=\"random_num\")"
   ]
  },
  {
   "cell_type": "code",
   "execution_count": 81,
   "id": "12e0b13f",
   "metadata": {},
   "outputs": [
    {
     "data": {
      "text/html": [
       "<div>\n",
       "<style scoped>\n",
       "    .dataframe tbody tr th:only-of-type {\n",
       "        vertical-align: middle;\n",
       "    }\n",
       "\n",
       "    .dataframe tbody tr th {\n",
       "        vertical-align: top;\n",
       "    }\n",
       "\n",
       "    .dataframe thead th {\n",
       "        text-align: right;\n",
       "    }\n",
       "</style>\n",
       "<table border=\"1\" class=\"dataframe\">\n",
       "  <thead>\n",
       "    <tr style=\"text-align: right;\">\n",
       "      <th></th>\n",
       "      <th>random</th>\n",
       "      <th>text</th>\n",
       "      <th>truth</th>\n",
       "    </tr>\n",
       "    <tr>\n",
       "      <th>date</th>\n",
       "      <th></th>\n",
       "      <th></th>\n",
       "      <th></th>\n",
       "    </tr>\n",
       "  </thead>\n",
       "  <tbody>\n",
       "    <tr>\n",
       "      <th>2024-03-20</th>\n",
       "      <td>0.055715</td>\n",
       "      <td>Random_0</td>\n",
       "      <td>False</td>\n",
       "    </tr>\n",
       "    <tr>\n",
       "      <th>2024-03-21</th>\n",
       "      <td>0.451159</td>\n",
       "      <td>Random_1</td>\n",
       "      <td>False</td>\n",
       "    </tr>\n",
       "    <tr>\n",
       "      <th>2024-03-22</th>\n",
       "      <td>0.019988</td>\n",
       "      <td>Random_2</td>\n",
       "      <td>False</td>\n",
       "    </tr>\n",
       "    <tr>\n",
       "      <th>2024-03-23</th>\n",
       "      <td>0.441711</td>\n",
       "      <td>Random_3</td>\n",
       "      <td>True</td>\n",
       "    </tr>\n",
       "    <tr>\n",
       "      <th>2024-03-24</th>\n",
       "      <td>0.979587</td>\n",
       "      <td>Random_4</td>\n",
       "      <td>False</td>\n",
       "    </tr>\n",
       "  </tbody>\n",
       "</table>\n",
       "</div>"
      ],
      "text/plain": [
       "              random      text  truth\n",
       "date                                 \n",
       "2024-03-20  0.055715  Random_0  False\n",
       "2024-03-21  0.451159  Random_1  False\n",
       "2024-03-22  0.019988  Random_2  False\n",
       "2024-03-23  0.441711  Random_3   True\n",
       "2024-03-24  0.979587  Random_4  False"
      ]
     },
     "execution_count": 81,
     "metadata": {},
     "output_type": "execute_result"
    }
   ],
   "source": [
    "pd.DataFrame(\n",
    "    {\n",
    "    \"random\": np.random.rand(5),\n",
    "    \"text\": [f\"Random_{i}\" for i in range(5)],\n",
    "    \"truth\": [np.random.choice([True, False]) for _ in range(5)]\n",
    "    },index=pd.date_range(start=dt.date(2024,3,20),periods=5, freq=\"1D\", name=\"date\")\n",
    ")"
   ]
  },
  {
   "cell_type": "markdown",
   "id": "c1a932d9",
   "metadata": {},
   "source": [
    "#### From a file"
   ]
  },
  {
   "cell_type": "code",
   "execution_count": 83,
   "id": "ffb434de",
   "metadata": {},
   "outputs": [
    {
     "name": "stdout",
     "output_type": "stream",
     "text": [
      "    9333 data/earthquakes.csv\n"
     ]
    }
   ],
   "source": [
    "# Check the number of lines\n",
    "!wc -l data/earthquakes.csv"
   ]
  },
  {
   "cell_type": "code",
   "execution_count": 88,
   "id": "7f382e77",
   "metadata": {},
   "outputs": [
    {
     "name": "stdout",
     "output_type": "stream",
     "text": [
      "-rw-r--r--  1 user  staff   3.4M Apr 12  2023 earthquakes.csv\n"
     ]
    }
   ],
   "source": [
    "# Check the file size\n",
    "!ls -lh data | grep earthquakes.csv"
   ]
  },
  {
   "cell_type": "code",
   "execution_count": 89,
   "id": "762f38ea",
   "metadata": {},
   "outputs": [
    {
     "name": "stdout",
     "output_type": "stream",
     "text": [
      "alert,cdi,code,detail,dmin,felt,gap,ids,mag,magType,mmi,net,nst,place,rms,sig,sources,status,time,title,tsunami,type,types,tz,updated,url\n",
      ",,37389218,https://earthquake.usgs.gov/fdsnws/event/1/query?eventid=ci37389218&format=geojson,0.008693,,85.0,\",ci37389218,\",1.35,ml,,ci,26.0,\"9km NE of Aguanga, CA\",0.19,28,\",ci,\",automatic,1539475168010,\"M 1.4 - 9km NE of Aguanga, CA\",0,earthquake,\",geoserve,nearby-cities,origin,phase-data,\",-480.0,1539475395144,https://earthquake.usgs.gov/earthquakes/eventpage/ci37389218\n"
     ]
    }
   ],
   "source": [
    "# Check the fitst few rows of the file\n",
    "!head -n 2 data/earthquakes.csv"
   ]
  },
  {
   "cell_type": "code",
   "execution_count": 91,
   "id": "663d32bf",
   "metadata": {},
   "outputs": [
    {
     "name": "stdout",
     "output_type": "stream",
     "text": [
      "26\n"
     ]
    }
   ],
   "source": [
    "# Check the column count in our data\n",
    "!awk -F',' '{print NF; exit}' data/earthquakes.csv"
   ]
  },
  {
   "cell_type": "markdown",
   "id": "2975657f",
   "metadata": {},
   "source": [
    "#### From a database\n",
    "Pandas can interact with SQLite databases without the need for us to install any additional packages; however the SQLAlchemy package need to be install in order to interact with other database flavor."
   ]
  },
  {
   "cell_type": "code",
   "execution_count": 94,
   "id": "5053898f",
   "metadata": {},
   "outputs": [],
   "source": [
    "import sqlite3\n",
    "\n",
    "with sqlite3.connect(\"data/quakes.db\") as connection:\n",
    "    pd.read_csv(\"data/tsunamis.csv\").to_sql(\n",
    "    \"tsunamis\", connection, index=False, if_exists=\"replace\")"
   ]
  },
  {
   "cell_type": "code",
   "execution_count": 97,
   "id": "185d1170",
   "metadata": {},
   "outputs": [
    {
     "data": {
      "text/html": [
       "<div>\n",
       "<style scoped>\n",
       "    .dataframe tbody tr th:only-of-type {\n",
       "        vertical-align: middle;\n",
       "    }\n",
       "\n",
       "    .dataframe tbody tr th {\n",
       "        vertical-align: top;\n",
       "    }\n",
       "\n",
       "    .dataframe thead th {\n",
       "        text-align: right;\n",
       "    }\n",
       "</style>\n",
       "<table border=\"1\" class=\"dataframe\">\n",
       "  <thead>\n",
       "    <tr style=\"text-align: right;\">\n",
       "      <th></th>\n",
       "      <th>alert</th>\n",
       "      <th>type</th>\n",
       "      <th>title</th>\n",
       "      <th>place</th>\n",
       "      <th>magType</th>\n",
       "      <th>mag</th>\n",
       "      <th>time</th>\n",
       "    </tr>\n",
       "  </thead>\n",
       "  <tbody>\n",
       "    <tr>\n",
       "      <th>0</th>\n",
       "      <td>None</td>\n",
       "      <td>earthquake</td>\n",
       "      <td>M 5.0 - 165km NNW of Flying Fish Cove, Christm...</td>\n",
       "      <td>165km NNW of Flying Fish Cove, Christmas Island</td>\n",
       "      <td>mww</td>\n",
       "      <td>5.0</td>\n",
       "      <td>1539459504090</td>\n",
       "    </tr>\n",
       "    <tr>\n",
       "      <th>1</th>\n",
       "      <td>green</td>\n",
       "      <td>earthquake</td>\n",
       "      <td>M 6.7 - 262km NW of Ozernovskiy, Russia</td>\n",
       "      <td>262km NW of Ozernovskiy, Russia</td>\n",
       "      <td>mww</td>\n",
       "      <td>6.7</td>\n",
       "      <td>1539429023560</td>\n",
       "    </tr>\n",
       "    <tr>\n",
       "      <th>2</th>\n",
       "      <td>green</td>\n",
       "      <td>earthquake</td>\n",
       "      <td>M 5.6 - 128km SE of Kimbe, Papua New Guinea</td>\n",
       "      <td>128km SE of Kimbe, Papua New Guinea</td>\n",
       "      <td>mww</td>\n",
       "      <td>5.6</td>\n",
       "      <td>1539312723620</td>\n",
       "    </tr>\n",
       "    <tr>\n",
       "      <th>3</th>\n",
       "      <td>green</td>\n",
       "      <td>earthquake</td>\n",
       "      <td>M 6.5 - 148km S of Severo-Kuril'sk, Russia</td>\n",
       "      <td>148km S of Severo-Kuril'sk, Russia</td>\n",
       "      <td>mww</td>\n",
       "      <td>6.5</td>\n",
       "      <td>1539213362130</td>\n",
       "    </tr>\n",
       "    <tr>\n",
       "      <th>4</th>\n",
       "      <td>green</td>\n",
       "      <td>earthquake</td>\n",
       "      <td>M 6.2 - 94km SW of Kokopo, Papua New Guinea</td>\n",
       "      <td>94km SW of Kokopo, Papua New Guinea</td>\n",
       "      <td>mww</td>\n",
       "      <td>6.2</td>\n",
       "      <td>1539208835130</td>\n",
       "    </tr>\n",
       "  </tbody>\n",
       "</table>\n",
       "</div>"
      ],
      "text/plain": [
       "   alert        type                                              title  \\\n",
       "0   None  earthquake  M 5.0 - 165km NNW of Flying Fish Cove, Christm...   \n",
       "1  green  earthquake            M 6.7 - 262km NW of Ozernovskiy, Russia   \n",
       "2  green  earthquake        M 5.6 - 128km SE of Kimbe, Papua New Guinea   \n",
       "3  green  earthquake         M 6.5 - 148km S of Severo-Kuril'sk, Russia   \n",
       "4  green  earthquake        M 6.2 - 94km SW of Kokopo, Papua New Guinea   \n",
       "\n",
       "                                             place magType  mag           time  \n",
       "0  165km NNW of Flying Fish Cove, Christmas Island     mww  5.0  1539459504090  \n",
       "1                  262km NW of Ozernovskiy, Russia     mww  6.7  1539429023560  \n",
       "2              128km SE of Kimbe, Papua New Guinea     mww  5.6  1539312723620  \n",
       "3               148km S of Severo-Kuril'sk, Russia     mww  6.5  1539213362130  \n",
       "4              94km SW of Kokopo, Papua New Guinea     mww  6.2  1539208835130  "
      ]
     },
     "execution_count": 97,
     "metadata": {},
     "output_type": "execute_result"
    }
   ],
   "source": [
    "with sqlite3.connect(\"data/quakes.db\") as connection:\n",
    "    tsunamis = pd.read_sql(\"SELECT * FROM tsunamis\", con=connection)\n",
    "    \n",
    "tsunamis.head()"
   ]
  },
  {
   "cell_type": "markdown",
   "id": "8a49e0a9",
   "metadata": {},
   "source": [
    "#### From API\n"
   ]
  },
  {
   "cell_type": "code",
   "execution_count": 98,
   "id": "afd26e26",
   "metadata": {},
   "outputs": [],
   "source": [
    "import requests"
   ]
  },
  {
   "cell_type": "code",
   "execution_count": 181,
   "id": "1045834b",
   "metadata": {},
   "outputs": [],
   "source": [
    "endtime = dt.date.today() - dt.timedelta(days=1)\n",
    "starttime = endtime - dt.timedelta(days=30)\n",
    "api = \"https://earthquake.usgs.gov/fdsnws/event/1/query\"\n",
    "payload = {\"format\": \"geojson\",\n",
    "          \"starttime\": yesterday - dt.timedelta(days=30),\n",
    "          \"endtime\": endtime}\n",
    "\n",
    "\n",
    "response = requests.get(api, params=payload)"
   ]
  },
  {
   "cell_type": "code",
   "execution_count": 182,
   "id": "d928ece4",
   "metadata": {},
   "outputs": [
    {
     "data": {
      "text/plain": [
       "200"
      ]
     },
     "execution_count": 182,
     "metadata": {},
     "output_type": "execute_result"
    }
   ],
   "source": [
    "response.status_code"
   ]
  },
  {
   "cell_type": "code",
   "execution_count": 183,
   "id": "20469465",
   "metadata": {},
   "outputs": [],
   "source": [
    "earthquake_json = response.json()"
   ]
  },
  {
   "cell_type": "code",
   "execution_count": 184,
   "id": "0ffbf622",
   "metadata": {},
   "outputs": [
    {
     "data": {
      "text/plain": [
       "dict_keys(['type', 'metadata', 'features', 'bbox'])"
      ]
     },
     "execution_count": 184,
     "metadata": {},
     "output_type": "execute_result"
    }
   ],
   "source": [
    "earthquake_json.keys()"
   ]
  },
  {
   "cell_type": "code",
   "execution_count": 185,
   "id": "9ae55f96",
   "metadata": {},
   "outputs": [
    {
     "data": {
      "text/plain": [
       "{'generated': 1710348017000,\n",
       " 'url': 'https://earthquake.usgs.gov/fdsnws/event/1/query?format=geojson&starttime=2024-02-12&endtime=2024-03-12',\n",
       " 'title': 'USGS Earthquakes',\n",
       " 'status': 200,\n",
       " 'api': '1.14.0',\n",
       " 'count': 10279}"
      ]
     },
     "execution_count": 185,
     "metadata": {},
     "output_type": "execute_result"
    }
   ],
   "source": [
    "earthquake_json[\"metadata\"]"
   ]
  },
  {
   "cell_type": "code",
   "execution_count": 186,
   "id": "f6dba6af",
   "metadata": {},
   "outputs": [
    {
     "data": {
      "text/plain": [
       "{'type': 'Feature',\n",
       " 'properties': {'mag': -0.51,\n",
       "  'place': '63 km ENE of Pedro Bay, Alaska',\n",
       "  'time': 1710201228230,\n",
       "  'updated': 1710287403300,\n",
       "  'tz': None,\n",
       "  'url': 'https://earthquake.usgs.gov/earthquakes/eventpage/av92228806',\n",
       "  'detail': 'https://earthquake.usgs.gov/fdsnws/event/1/query?eventid=av92228806&format=geojson',\n",
       "  'felt': None,\n",
       "  'cdi': None,\n",
       "  'mmi': None,\n",
       "  'alert': None,\n",
       "  'status': 'reviewed',\n",
       "  'tsunami': 0,\n",
       "  'sig': 0,\n",
       "  'net': 'av',\n",
       "  'code': '92228806',\n",
       "  'ids': ',av92228806,',\n",
       "  'sources': ',av,',\n",
       "  'types': ',origin,phase-data,',\n",
       "  'nst': 4,\n",
       "  'dmin': None,\n",
       "  'rms': 0.07,\n",
       "  'gap': 198,\n",
       "  'magType': 'ml',\n",
       "  'type': 'earthquake',\n",
       "  'title': 'M -0.5 - 63 km ENE of Pedro Bay, Alaska'},\n",
       " 'geometry': {'type': 'Point',\n",
       "  'coordinates': [-153.087666666667, 60.0448333333333, 0.34]},\n",
       " 'id': 'av92228806'}"
      ]
     },
     "execution_count": 186,
     "metadata": {},
     "output_type": "execute_result"
    }
   ],
   "source": [
    "earthquake_json[\"features\"][0]"
   ]
  },
  {
   "cell_type": "code",
   "execution_count": 187,
   "id": "5a03cf00",
   "metadata": {},
   "outputs": [
    {
     "data": {
      "text/plain": [
       "[-179.8811, -63.7026, -3.48, 179.9894, 85.4033, 645.729]"
      ]
     },
     "execution_count": 187,
     "metadata": {},
     "output_type": "execute_result"
    }
   ],
   "source": [
    "earthquake_json[\"bbox\"]"
   ]
  },
  {
   "cell_type": "code",
   "execution_count": 188,
   "id": "cb97347f",
   "metadata": {},
   "outputs": [],
   "source": [
    "earthquake_properties_data = [quake[\"properties\"]for quake in earthquake_json[\"features\"]]"
   ]
  },
  {
   "cell_type": "code",
   "execution_count": 194,
   "id": "7863da7c",
   "metadata": {},
   "outputs": [],
   "source": [
    "df = pd.DataFrame(earthquake_properties_data)"
   ]
  },
  {
   "cell_type": "code",
   "execution_count": 198,
   "id": "a15a9b73",
   "metadata": {},
   "outputs": [],
   "source": [
    "# Write the dataframe to csv file\n",
    "\n",
    "df.to_csv(\"data/earthquake_1.csv\", index=False)"
   ]
  },
  {
   "cell_type": "markdown",
   "id": "0edc96ea",
   "metadata": {},
   "source": [
    "### Inspecting a DataFrame object"
   ]
  },
  {
   "cell_type": "code",
   "execution_count": 199,
   "id": "64acbb8a",
   "metadata": {},
   "outputs": [],
   "source": [
    "# Read the saved df \n",
    "\n",
    "df = pd.read_csv(\"data/earthquake_1.csv\")"
   ]
  },
  {
   "cell_type": "code",
   "execution_count": 200,
   "id": "da99fd32",
   "metadata": {},
   "outputs": [
    {
     "data": {
      "text/plain": [
       "(10279, 26)"
      ]
     },
     "execution_count": 200,
     "metadata": {},
     "output_type": "execute_result"
    }
   ],
   "source": [
    "df.shape"
   ]
  },
  {
   "cell_type": "code",
   "execution_count": 205,
   "id": "e78375cf",
   "metadata": {},
   "outputs": [
    {
     "data": {
      "text/html": [
       "<div>\n",
       "<style scoped>\n",
       "    .dataframe tbody tr th:only-of-type {\n",
       "        vertical-align: middle;\n",
       "    }\n",
       "\n",
       "    .dataframe tbody tr th {\n",
       "        vertical-align: top;\n",
       "    }\n",
       "\n",
       "    .dataframe thead th {\n",
       "        text-align: right;\n",
       "    }\n",
       "</style>\n",
       "<table border=\"1\" class=\"dataframe\">\n",
       "  <thead>\n",
       "    <tr style=\"text-align: right;\">\n",
       "      <th></th>\n",
       "      <th>mag</th>\n",
       "      <th>place</th>\n",
       "      <th>time</th>\n",
       "      <th>updated</th>\n",
       "      <th>tz</th>\n",
       "      <th>url</th>\n",
       "      <th>detail</th>\n",
       "      <th>felt</th>\n",
       "      <th>cdi</th>\n",
       "      <th>mmi</th>\n",
       "      <th>...</th>\n",
       "      <th>ids</th>\n",
       "      <th>sources</th>\n",
       "      <th>types</th>\n",
       "      <th>nst</th>\n",
       "      <th>dmin</th>\n",
       "      <th>rms</th>\n",
       "      <th>gap</th>\n",
       "      <th>magType</th>\n",
       "      <th>type</th>\n",
       "      <th>title</th>\n",
       "    </tr>\n",
       "  </thead>\n",
       "  <tbody>\n",
       "    <tr>\n",
       "      <th>0</th>\n",
       "      <td>-0.51</td>\n",
       "      <td>63 km ENE of Pedro Bay, Alaska</td>\n",
       "      <td>1710201228230</td>\n",
       "      <td>1710287403300</td>\n",
       "      <td>NaN</td>\n",
       "      <td>https://earthquake.usgs.gov/earthquakes/eventp...</td>\n",
       "      <td>https://earthquake.usgs.gov/fdsnws/event/1/que...</td>\n",
       "      <td>NaN</td>\n",
       "      <td>NaN</td>\n",
       "      <td>NaN</td>\n",
       "      <td>...</td>\n",
       "      <td>,av92228806,</td>\n",
       "      <td>,av,</td>\n",
       "      <td>,origin,phase-data,</td>\n",
       "      <td>4.0</td>\n",
       "      <td>NaN</td>\n",
       "      <td>0.07</td>\n",
       "      <td>198.0</td>\n",
       "      <td>ml</td>\n",
       "      <td>earthquake</td>\n",
       "      <td>M -0.5 - 63 km ENE of Pedro Bay, Alaska</td>\n",
       "    </tr>\n",
       "    <tr>\n",
       "      <th>1</th>\n",
       "      <td>0.48</td>\n",
       "      <td>6 km W of Cobb, CA</td>\n",
       "      <td>1710199954540</td>\n",
       "      <td>1710202607643</td>\n",
       "      <td>NaN</td>\n",
       "      <td>https://earthquake.usgs.gov/earthquakes/eventp...</td>\n",
       "      <td>https://earthquake.usgs.gov/fdsnws/event/1/que...</td>\n",
       "      <td>NaN</td>\n",
       "      <td>NaN</td>\n",
       "      <td>NaN</td>\n",
       "      <td>...</td>\n",
       "      <td>,nc74015986,</td>\n",
       "      <td>,nc,</td>\n",
       "      <td>,nearby-cities,origin,phase-data,</td>\n",
       "      <td>18.0</td>\n",
       "      <td>0.009049</td>\n",
       "      <td>0.02</td>\n",
       "      <td>55.0</td>\n",
       "      <td>md</td>\n",
       "      <td>earthquake</td>\n",
       "      <td>M 0.5 - 6 km W of Cobb, CA</td>\n",
       "    </tr>\n",
       "    <tr>\n",
       "      <th>2</th>\n",
       "      <td>-0.04</td>\n",
       "      <td>86 km NW of Karluk, Alaska</td>\n",
       "      <td>1710199897370</td>\n",
       "      <td>1710290998210</td>\n",
       "      <td>NaN</td>\n",
       "      <td>https://earthquake.usgs.gov/earthquakes/eventp...</td>\n",
       "      <td>https://earthquake.usgs.gov/fdsnws/event/1/que...</td>\n",
       "      <td>NaN</td>\n",
       "      <td>NaN</td>\n",
       "      <td>NaN</td>\n",
       "      <td>...</td>\n",
       "      <td>,av91136228,</td>\n",
       "      <td>,av,</td>\n",
       "      <td>,origin,phase-data,</td>\n",
       "      <td>8.0</td>\n",
       "      <td>NaN</td>\n",
       "      <td>0.09</td>\n",
       "      <td>194.0</td>\n",
       "      <td>ml</td>\n",
       "      <td>earthquake</td>\n",
       "      <td>M 0.0 - 86 km NW of Karluk, Alaska</td>\n",
       "    </tr>\n",
       "  </tbody>\n",
       "</table>\n",
       "<p>3 rows × 26 columns</p>\n",
       "</div>"
      ],
      "text/plain": [
       "    mag                           place           time        updated  tz  \\\n",
       "0 -0.51  63 km ENE of Pedro Bay, Alaska  1710201228230  1710287403300 NaN   \n",
       "1  0.48              6 km W of Cobb, CA  1710199954540  1710202607643 NaN   \n",
       "2 -0.04      86 km NW of Karluk, Alaska  1710199897370  1710290998210 NaN   \n",
       "\n",
       "                                                 url  \\\n",
       "0  https://earthquake.usgs.gov/earthquakes/eventp...   \n",
       "1  https://earthquake.usgs.gov/earthquakes/eventp...   \n",
       "2  https://earthquake.usgs.gov/earthquakes/eventp...   \n",
       "\n",
       "                                              detail  felt  cdi  mmi  ...  \\\n",
       "0  https://earthquake.usgs.gov/fdsnws/event/1/que...   NaN  NaN  NaN  ...   \n",
       "1  https://earthquake.usgs.gov/fdsnws/event/1/que...   NaN  NaN  NaN  ...   \n",
       "2  https://earthquake.usgs.gov/fdsnws/event/1/que...   NaN  NaN  NaN  ...   \n",
       "\n",
       "            ids sources                              types   nst      dmin  \\\n",
       "0  ,av92228806,    ,av,                ,origin,phase-data,   4.0       NaN   \n",
       "1  ,nc74015986,    ,nc,  ,nearby-cities,origin,phase-data,  18.0  0.009049   \n",
       "2  ,av91136228,    ,av,                ,origin,phase-data,   8.0       NaN   \n",
       "\n",
       "    rms    gap magType        type                                    title  \n",
       "0  0.07  198.0      ml  earthquake  M -0.5 - 63 km ENE of Pedro Bay, Alaska  \n",
       "1  0.02   55.0      md  earthquake               M 0.5 - 6 km W of Cobb, CA  \n",
       "2  0.09  194.0      ml  earthquake       M 0.0 - 86 km NW of Karluk, Alaska  \n",
       "\n",
       "[3 rows x 26 columns]"
      ]
     },
     "execution_count": 205,
     "metadata": {},
     "output_type": "execute_result"
    }
   ],
   "source": [
    "df.head(3)"
   ]
  },
  {
   "cell_type": "code",
   "execution_count": 207,
   "id": "2a638334",
   "metadata": {},
   "outputs": [
    {
     "data": {
      "text/plain": [
       "Index(['mag', 'place', 'time', 'updated', 'tz', 'url', 'detail', 'felt', 'cdi',\n",
       "       'mmi', 'alert', 'status', 'tsunami', 'sig', 'net', 'code', 'ids',\n",
       "       'sources', 'types', 'nst', 'dmin', 'rms', 'gap', 'magType', 'type',\n",
       "       'title'],\n",
       "      dtype='object')"
      ]
     },
     "execution_count": 207,
     "metadata": {},
     "output_type": "execute_result"
    }
   ],
   "source": [
    "df.columns"
   ]
  },
  {
   "cell_type": "markdown",
   "id": "15d53906",
   "metadata": {},
   "source": [
    "### Selecting a subset of data"
   ]
  },
  {
   "cell_type": "code",
   "execution_count": 210,
   "id": "d93686f9",
   "metadata": {},
   "outputs": [
    {
     "data": {
      "text/html": [
       "<div>\n",
       "<style scoped>\n",
       "    .dataframe tbody tr th:only-of-type {\n",
       "        vertical-align: middle;\n",
       "    }\n",
       "\n",
       "    .dataframe tbody tr th {\n",
       "        vertical-align: top;\n",
       "    }\n",
       "\n",
       "    .dataframe thead th {\n",
       "        text-align: right;\n",
       "    }\n",
       "</style>\n",
       "<table border=\"1\" class=\"dataframe\">\n",
       "  <thead>\n",
       "    <tr style=\"text-align: right;\">\n",
       "      <th></th>\n",
       "      <th>title</th>\n",
       "      <th>time</th>\n",
       "      <th>mag</th>\n",
       "      <th>magType</th>\n",
       "    </tr>\n",
       "  </thead>\n",
       "  <tbody>\n",
       "    <tr>\n",
       "      <th>0</th>\n",
       "      <td>M -0.5 - 63 km ENE of Pedro Bay, Alaska</td>\n",
       "      <td>1710201228230</td>\n",
       "      <td>-0.51</td>\n",
       "      <td>ml</td>\n",
       "    </tr>\n",
       "    <tr>\n",
       "      <th>1</th>\n",
       "      <td>M 0.5 - 6 km W of Cobb, CA</td>\n",
       "      <td>1710199954540</td>\n",
       "      <td>0.48</td>\n",
       "      <td>md</td>\n",
       "    </tr>\n",
       "    <tr>\n",
       "      <th>2</th>\n",
       "      <td>M 0.0 - 86 km NW of Karluk, Alaska</td>\n",
       "      <td>1710199897370</td>\n",
       "      <td>-0.04</td>\n",
       "      <td>ml</td>\n",
       "    </tr>\n",
       "    <tr>\n",
       "      <th>3</th>\n",
       "      <td>M 1.1 - 7 km WNW of Cobb, CA</td>\n",
       "      <td>1710199672020</td>\n",
       "      <td>1.14</td>\n",
       "      <td>md</td>\n",
       "    </tr>\n",
       "    <tr>\n",
       "      <th>4</th>\n",
       "      <td>M -0.1 - 86 km NNW of Karluk, Alaska</td>\n",
       "      <td>1710198843270</td>\n",
       "      <td>-0.12</td>\n",
       "      <td>ml</td>\n",
       "    </tr>\n",
       "    <tr>\n",
       "      <th>...</th>\n",
       "      <td>...</td>\n",
       "      <td>...</td>\n",
       "      <td>...</td>\n",
       "      <td>...</td>\n",
       "    </tr>\n",
       "    <tr>\n",
       "      <th>10274</th>\n",
       "      <td>M 1.3 - 42 km SE of Goldfield, Nevada</td>\n",
       "      <td>1707697140485</td>\n",
       "      <td>1.30</td>\n",
       "      <td>ml</td>\n",
       "    </tr>\n",
       "    <tr>\n",
       "      <th>10275</th>\n",
       "      <td>M 1.2 - 7 km S of Houston, Alaska</td>\n",
       "      <td>1707697004323</td>\n",
       "      <td>1.20</td>\n",
       "      <td>ml</td>\n",
       "    </tr>\n",
       "    <tr>\n",
       "      <th>10276</th>\n",
       "      <td>M 0.8 - 5 km NNW of The Geysers, CA</td>\n",
       "      <td>1707696985110</td>\n",
       "      <td>0.76</td>\n",
       "      <td>md</td>\n",
       "    </tr>\n",
       "    <tr>\n",
       "      <th>10277</th>\n",
       "      <td>M 1.2 - 78 km S of Deering, Alaska</td>\n",
       "      <td>1707696731061</td>\n",
       "      <td>1.20</td>\n",
       "      <td>ml</td>\n",
       "    </tr>\n",
       "    <tr>\n",
       "      <th>10278</th>\n",
       "      <td>M 1.3 - 12 km SSE of Sunnyside, Utah</td>\n",
       "      <td>1707696728780</td>\n",
       "      <td>1.29</td>\n",
       "      <td>ml</td>\n",
       "    </tr>\n",
       "  </tbody>\n",
       "</table>\n",
       "<p>10279 rows × 4 columns</p>\n",
       "</div>"
      ],
      "text/plain": [
       "                                         title           time   mag magType\n",
       "0      M -0.5 - 63 km ENE of Pedro Bay, Alaska  1710201228230 -0.51      ml\n",
       "1                   M 0.5 - 6 km W of Cobb, CA  1710199954540  0.48      md\n",
       "2           M 0.0 - 86 km NW of Karluk, Alaska  1710199897370 -0.04      ml\n",
       "3                 M 1.1 - 7 km WNW of Cobb, CA  1710199672020  1.14      md\n",
       "4         M -0.1 - 86 km NNW of Karluk, Alaska  1710198843270 -0.12      ml\n",
       "...                                        ...            ...   ...     ...\n",
       "10274    M 1.3 - 42 km SE of Goldfield, Nevada  1707697140485  1.30      ml\n",
       "10275        M 1.2 - 7 km S of Houston, Alaska  1707697004323  1.20      ml\n",
       "10276      M 0.8 - 5 km NNW of The Geysers, CA  1707696985110  0.76      md\n",
       "10277       M 1.2 - 78 km S of Deering, Alaska  1707696731061  1.20      ml\n",
       "10278     M 1.3 - 12 km SSE of Sunnyside, Utah  1707696728780  1.29      ml\n",
       "\n",
       "[10279 rows x 4 columns]"
      ]
     },
     "execution_count": 210,
     "metadata": {},
     "output_type": "execute_result"
    }
   ],
   "source": [
    "df[[\"title\", \"time\"] + [col for col in df.columns if col.startswith(\"mag\")]]"
   ]
  },
  {
   "cell_type": "markdown",
   "id": "459c76ba",
   "metadata": {},
   "source": [
    "#### Slicing\n",
    "\n",
    "When we want to extract certain rows from our dataframe"
   ]
  },
  {
   "cell_type": "code",
   "execution_count": 212,
   "id": "27f8b54c",
   "metadata": {},
   "outputs": [
    {
     "data": {
      "text/html": [
       "<div>\n",
       "<style scoped>\n",
       "    .dataframe tbody tr th:only-of-type {\n",
       "        vertical-align: middle;\n",
       "    }\n",
       "\n",
       "    .dataframe tbody tr th {\n",
       "        vertical-align: top;\n",
       "    }\n",
       "\n",
       "    .dataframe thead th {\n",
       "        text-align: right;\n",
       "    }\n",
       "</style>\n",
       "<table border=\"1\" class=\"dataframe\">\n",
       "  <thead>\n",
       "    <tr style=\"text-align: right;\">\n",
       "      <th></th>\n",
       "      <th>mag</th>\n",
       "      <th>place</th>\n",
       "      <th>time</th>\n",
       "      <th>updated</th>\n",
       "      <th>tz</th>\n",
       "      <th>url</th>\n",
       "      <th>detail</th>\n",
       "      <th>felt</th>\n",
       "      <th>cdi</th>\n",
       "      <th>mmi</th>\n",
       "      <th>...</th>\n",
       "      <th>ids</th>\n",
       "      <th>sources</th>\n",
       "      <th>types</th>\n",
       "      <th>nst</th>\n",
       "      <th>dmin</th>\n",
       "      <th>rms</th>\n",
       "      <th>gap</th>\n",
       "      <th>magType</th>\n",
       "      <th>type</th>\n",
       "      <th>title</th>\n",
       "    </tr>\n",
       "  </thead>\n",
       "  <tbody>\n",
       "    <tr>\n",
       "      <th>0</th>\n",
       "      <td>-0.51</td>\n",
       "      <td>63 km ENE of Pedro Bay, Alaska</td>\n",
       "      <td>1710201228230</td>\n",
       "      <td>1710287403300</td>\n",
       "      <td>NaN</td>\n",
       "      <td>https://earthquake.usgs.gov/earthquakes/eventp...</td>\n",
       "      <td>https://earthquake.usgs.gov/fdsnws/event/1/que...</td>\n",
       "      <td>NaN</td>\n",
       "      <td>NaN</td>\n",
       "      <td>NaN</td>\n",
       "      <td>...</td>\n",
       "      <td>,av92228806,</td>\n",
       "      <td>,av,</td>\n",
       "      <td>,origin,phase-data,</td>\n",
       "      <td>4.0</td>\n",
       "      <td>NaN</td>\n",
       "      <td>0.07</td>\n",
       "      <td>198.0</td>\n",
       "      <td>ml</td>\n",
       "      <td>earthquake</td>\n",
       "      <td>M -0.5 - 63 km ENE of Pedro Bay, Alaska</td>\n",
       "    </tr>\n",
       "    <tr>\n",
       "      <th>1</th>\n",
       "      <td>0.48</td>\n",
       "      <td>6 km W of Cobb, CA</td>\n",
       "      <td>1710199954540</td>\n",
       "      <td>1710202607643</td>\n",
       "      <td>NaN</td>\n",
       "      <td>https://earthquake.usgs.gov/earthquakes/eventp...</td>\n",
       "      <td>https://earthquake.usgs.gov/fdsnws/event/1/que...</td>\n",
       "      <td>NaN</td>\n",
       "      <td>NaN</td>\n",
       "      <td>NaN</td>\n",
       "      <td>...</td>\n",
       "      <td>,nc74015986,</td>\n",
       "      <td>,nc,</td>\n",
       "      <td>,nearby-cities,origin,phase-data,</td>\n",
       "      <td>18.0</td>\n",
       "      <td>0.009049</td>\n",
       "      <td>0.02</td>\n",
       "      <td>55.0</td>\n",
       "      <td>md</td>\n",
       "      <td>earthquake</td>\n",
       "      <td>M 0.5 - 6 km W of Cobb, CA</td>\n",
       "    </tr>\n",
       "  </tbody>\n",
       "</table>\n",
       "<p>2 rows × 26 columns</p>\n",
       "</div>"
      ],
      "text/plain": [
       "    mag                           place           time        updated  tz  \\\n",
       "0 -0.51  63 km ENE of Pedro Bay, Alaska  1710201228230  1710287403300 NaN   \n",
       "1  0.48              6 km W of Cobb, CA  1710199954540  1710202607643 NaN   \n",
       "\n",
       "                                                 url  \\\n",
       "0  https://earthquake.usgs.gov/earthquakes/eventp...   \n",
       "1  https://earthquake.usgs.gov/earthquakes/eventp...   \n",
       "\n",
       "                                              detail  felt  cdi  mmi  ...  \\\n",
       "0  https://earthquake.usgs.gov/fdsnws/event/1/que...   NaN  NaN  NaN  ...   \n",
       "1  https://earthquake.usgs.gov/fdsnws/event/1/que...   NaN  NaN  NaN  ...   \n",
       "\n",
       "            ids sources                              types   nst      dmin  \\\n",
       "0  ,av92228806,    ,av,                ,origin,phase-data,   4.0       NaN   \n",
       "1  ,nc74015986,    ,nc,  ,nearby-cities,origin,phase-data,  18.0  0.009049   \n",
       "\n",
       "    rms    gap magType        type                                    title  \n",
       "0  0.07  198.0      ml  earthquake  M -0.5 - 63 km ENE of Pedro Bay, Alaska  \n",
       "1  0.02   55.0      md  earthquake               M 0.5 - 6 km W of Cobb, CA  \n",
       "\n",
       "[2 rows x 26 columns]"
      ]
     },
     "execution_count": 212,
     "metadata": {},
     "output_type": "execute_result"
    }
   ],
   "source": [
    "df[0: 2]"
   ]
  },
  {
   "cell_type": "markdown",
   "id": "b7091a74",
   "metadata": {},
   "source": [
    "We can combine our row and column selection by using what is known as **chaining**"
   ]
  },
  {
   "cell_type": "code",
   "execution_count": 214,
   "id": "72d6266e",
   "metadata": {},
   "outputs": [
    {
     "data": {
      "text/html": [
       "<div>\n",
       "<style scoped>\n",
       "    .dataframe tbody tr th:only-of-type {\n",
       "        vertical-align: middle;\n",
       "    }\n",
       "\n",
       "    .dataframe tbody tr th {\n",
       "        vertical-align: top;\n",
       "    }\n",
       "\n",
       "    .dataframe thead th {\n",
       "        text-align: right;\n",
       "    }\n",
       "</style>\n",
       "<table border=\"1\" class=\"dataframe\">\n",
       "  <thead>\n",
       "    <tr style=\"text-align: right;\">\n",
       "      <th></th>\n",
       "      <th>title</th>\n",
       "      <th>time</th>\n",
       "    </tr>\n",
       "  </thead>\n",
       "  <tbody>\n",
       "    <tr>\n",
       "      <th>100</th>\n",
       "      <td>M 0.7 - 7 km WNW of Cobb, CA</td>\n",
       "      <td>1710172377420</td>\n",
       "    </tr>\n",
       "    <tr>\n",
       "      <th>101</th>\n",
       "      <td>M 1.0 - 7 km WNW of Cobb, CA</td>\n",
       "      <td>1710172284350</td>\n",
       "    </tr>\n",
       "    <tr>\n",
       "      <th>102</th>\n",
       "      <td>M 1.2 - 7 km WNW of Cobb, CA</td>\n",
       "      <td>1710172259760</td>\n",
       "    </tr>\n",
       "  </tbody>\n",
       "</table>\n",
       "</div>"
      ],
      "text/plain": [
       "                            title           time\n",
       "100  M 0.7 - 7 km WNW of Cobb, CA  1710172377420\n",
       "101  M 1.0 - 7 km WNW of Cobb, CA  1710172284350\n",
       "102  M 1.2 - 7 km WNW of Cobb, CA  1710172259760"
      ]
     },
     "execution_count": 214,
     "metadata": {},
     "output_type": "execute_result"
    }
   ],
   "source": [
    "df[[\"title\", \"time\"]][100:103]"
   ]
  },
  {
   "cell_type": "markdown",
   "id": "fb5b75be",
   "metadata": {},
   "source": [
    "#### **Indexing**\n",
    "\n",
    "Pandas indexing opeation provide us with a one-method way to select both the rows and the columns we want. We use `loc` and `iloc` to subset our dataframe using label-based or integer-based lookups respectively.\n",
    "\n",
    "`df.loc[row_indexer, column_indexer]`"
   ]
  },
  {
   "cell_type": "code",
   "execution_count": 215,
   "id": "04f0cc7e",
   "metadata": {},
   "outputs": [],
   "source": [
    "df.loc[110:112, \"title\"] = df.loc[110:112, \"title\"].str.lower()"
   ]
  },
  {
   "cell_type": "markdown",
   "id": "2fc3f7c0",
   "metadata": {},
   "source": [
    "#### **Filtering**"
   ]
  },
  {
   "cell_type": "markdown",
   "id": "ed5a92b1",
   "metadata": {},
   "source": [
    "Let's select all the earthquakes in **Alaska** where we have a **non-null** value for the **alert**"
   ]
  },
  {
   "cell_type": "code",
   "execution_count": 234,
   "id": "7b0827a5",
   "metadata": {},
   "outputs": [
    {
     "data": {
      "text/html": [
       "<div>\n",
       "<style scoped>\n",
       "    .dataframe tbody tr th:only-of-type {\n",
       "        vertical-align: middle;\n",
       "    }\n",
       "\n",
       "    .dataframe tbody tr th {\n",
       "        vertical-align: top;\n",
       "    }\n",
       "\n",
       "    .dataframe thead th {\n",
       "        text-align: right;\n",
       "    }\n",
       "</style>\n",
       "<table border=\"1\" class=\"dataframe\">\n",
       "  <thead>\n",
       "    <tr style=\"text-align: right;\">\n",
       "      <th></th>\n",
       "      <th>mag</th>\n",
       "      <th>place</th>\n",
       "      <th>time</th>\n",
       "      <th>updated</th>\n",
       "      <th>tz</th>\n",
       "      <th>url</th>\n",
       "      <th>detail</th>\n",
       "      <th>felt</th>\n",
       "      <th>cdi</th>\n",
       "      <th>mmi</th>\n",
       "      <th>alert</th>\n",
       "      <th>status</th>\n",
       "      <th>tsunami</th>\n",
       "      <th>sig</th>\n",
       "      <th>net</th>\n",
       "      <th>code</th>\n",
       "      <th>ids</th>\n",
       "      <th>sources</th>\n",
       "      <th>types</th>\n",
       "      <th>nst</th>\n",
       "      <th>dmin</th>\n",
       "      <th>rms</th>\n",
       "      <th>gap</th>\n",
       "      <th>magType</th>\n",
       "      <th>type</th>\n",
       "      <th>title</th>\n",
       "    </tr>\n",
       "  </thead>\n",
       "  <tbody>\n",
       "    <tr>\n",
       "      <th>1683</th>\n",
       "      <td>4.1</td>\n",
       "      <td>50 km NNE of Chickaloon, Alaska</td>\n",
       "      <td>1709715725462</td>\n",
       "      <td>1709878415844</td>\n",
       "      <td>NaN</td>\n",
       "      <td>https://earthquake.usgs.gov/earthquakes/eventp...</td>\n",
       "      <td>https://earthquake.usgs.gov/fdsnws/event/1/que...</td>\n",
       "      <td>88.0</td>\n",
       "      <td>3.8</td>\n",
       "      <td>3.121</td>\n",
       "      <td>green</td>\n",
       "      <td>reviewed</td>\n",
       "      <td>0</td>\n",
       "      <td>292</td>\n",
       "      <td>ak</td>\n",
       "      <td>02431au8tv</td>\n",
       "      <td>,ak02431au8tv,us7000m3na,</td>\n",
       "      <td>,ak,us,</td>\n",
       "      <td>,dyfi,losspager,moment-tensor,origin,phase-dat...</td>\n",
       "      <td>NaN</td>\n",
       "      <td>NaN</td>\n",
       "      <td>0.60</td>\n",
       "      <td>NaN</td>\n",
       "      <td>ml</td>\n",
       "      <td>earthquake</td>\n",
       "      <td>M 4.1 - 50 km NNE of Chickaloon, Alaska</td>\n",
       "    </tr>\n",
       "    <tr>\n",
       "      <th>3775</th>\n",
       "      <td>5.5</td>\n",
       "      <td>259 km W of Adak, Alaska</td>\n",
       "      <td>1709135421839</td>\n",
       "      <td>1710345631851</td>\n",
       "      <td>NaN</td>\n",
       "      <td>https://earthquake.usgs.gov/earthquakes/eventp...</td>\n",
       "      <td>https://earthquake.usgs.gov/fdsnws/event/1/que...</td>\n",
       "      <td>NaN</td>\n",
       "      <td>NaN</td>\n",
       "      <td>3.772</td>\n",
       "      <td>green</td>\n",
       "      <td>reviewed</td>\n",
       "      <td>0</td>\n",
       "      <td>465</td>\n",
       "      <td>us</td>\n",
       "      <td>6000mflq</td>\n",
       "      <td>,usauto6000mflq,us6000mflq,ak0242ptxqql,</td>\n",
       "      <td>,usauto,us,ak,</td>\n",
       "      <td>,internal-moment-tensor,losspager,moment-tenso...</td>\n",
       "      <td>118.0</td>\n",
       "      <td>0.053</td>\n",
       "      <td>0.79</td>\n",
       "      <td>33.0</td>\n",
       "      <td>mww</td>\n",
       "      <td>earthquake</td>\n",
       "      <td>M 5.5 - 259 km W of Adak, Alaska</td>\n",
       "    </tr>\n",
       "    <tr>\n",
       "      <th>5318</th>\n",
       "      <td>4.4</td>\n",
       "      <td>52 km NE of Chase, Alaska</td>\n",
       "      <td>1708713836246</td>\n",
       "      <td>1710264274856</td>\n",
       "      <td>NaN</td>\n",
       "      <td>https://earthquake.usgs.gov/earthquakes/eventp...</td>\n",
       "      <td>https://earthquake.usgs.gov/fdsnws/event/1/que...</td>\n",
       "      <td>171.0</td>\n",
       "      <td>4.1</td>\n",
       "      <td>3.216</td>\n",
       "      <td>green</td>\n",
       "      <td>reviewed</td>\n",
       "      <td>0</td>\n",
       "      <td>368</td>\n",
       "      <td>ak</td>\n",
       "      <td>0242hlzvp5</td>\n",
       "      <td>,ak0242hlzvp5,us7000m16s,</td>\n",
       "      <td>,ak,us,</td>\n",
       "      <td>,dyfi,losspager,moment-tensor,origin,phase-dat...</td>\n",
       "      <td>NaN</td>\n",
       "      <td>NaN</td>\n",
       "      <td>0.79</td>\n",
       "      <td>NaN</td>\n",
       "      <td>mwr</td>\n",
       "      <td>earthquake</td>\n",
       "      <td>M 4.4 - 52 km NE of Chase, Alaska</td>\n",
       "    </tr>\n",
       "  </tbody>\n",
       "</table>\n",
       "</div>"
      ],
      "text/plain": [
       "      mag                            place           time        updated  tz  \\\n",
       "1683  4.1  50 km NNE of Chickaloon, Alaska  1709715725462  1709878415844 NaN   \n",
       "3775  5.5         259 km W of Adak, Alaska  1709135421839  1710345631851 NaN   \n",
       "5318  4.4        52 km NE of Chase, Alaska  1708713836246  1710264274856 NaN   \n",
       "\n",
       "                                                    url  \\\n",
       "1683  https://earthquake.usgs.gov/earthquakes/eventp...   \n",
       "3775  https://earthquake.usgs.gov/earthquakes/eventp...   \n",
       "5318  https://earthquake.usgs.gov/earthquakes/eventp...   \n",
       "\n",
       "                                                 detail   felt  cdi    mmi  \\\n",
       "1683  https://earthquake.usgs.gov/fdsnws/event/1/que...   88.0  3.8  3.121   \n",
       "3775  https://earthquake.usgs.gov/fdsnws/event/1/que...    NaN  NaN  3.772   \n",
       "5318  https://earthquake.usgs.gov/fdsnws/event/1/que...  171.0  4.1  3.216   \n",
       "\n",
       "      alert    status  tsunami  sig net        code  \\\n",
       "1683  green  reviewed        0  292  ak  02431au8tv   \n",
       "3775  green  reviewed        0  465  us    6000mflq   \n",
       "5318  green  reviewed        0  368  ak  0242hlzvp5   \n",
       "\n",
       "                                           ids         sources  \\\n",
       "1683                 ,ak02431au8tv,us7000m3na,         ,ak,us,   \n",
       "3775  ,usauto6000mflq,us6000mflq,ak0242ptxqql,  ,usauto,us,ak,   \n",
       "5318                 ,ak0242hlzvp5,us7000m16s,         ,ak,us,   \n",
       "\n",
       "                                                  types    nst   dmin   rms  \\\n",
       "1683  ,dyfi,losspager,moment-tensor,origin,phase-dat...    NaN    NaN  0.60   \n",
       "3775  ,internal-moment-tensor,losspager,moment-tenso...  118.0  0.053  0.79   \n",
       "5318  ,dyfi,losspager,moment-tensor,origin,phase-dat...    NaN    NaN  0.79   \n",
       "\n",
       "       gap magType        type                                    title  \n",
       "1683   NaN      ml  earthquake  M 4.1 - 50 km NNE of Chickaloon, Alaska  \n",
       "3775  33.0     mww  earthquake         M 5.5 - 259 km W of Adak, Alaska  \n",
       "5318   NaN     mwr  earthquake        M 4.4 - 52 km NE of Chase, Alaska  "
      ]
     },
     "execution_count": 234,
     "metadata": {},
     "output_type": "execute_result"
    }
   ],
   "source": [
    "df.loc[df[\"place\"].str.contains(\"Alaska\") & df[\"alert\"].notnull()]"
   ]
  },
  {
   "cell_type": "markdown",
   "id": "af4de3f9",
   "metadata": {},
   "source": [
    "Let's utilize this to filter on the `magType` column, which indicates the measurement technique that was used to quantify the earthquake's magnitude. We will take a look at earthquakes measured with either the\n",
    "_mw_ or _mwb_ magnitude type:"
   ]
  },
  {
   "cell_type": "code",
   "execution_count": 237,
   "id": "ee73fea4",
   "metadata": {},
   "outputs": [
    {
     "data": {
      "text/html": [
       "<div>\n",
       "<style scoped>\n",
       "    .dataframe tbody tr th:only-of-type {\n",
       "        vertical-align: middle;\n",
       "    }\n",
       "\n",
       "    .dataframe tbody tr th {\n",
       "        vertical-align: top;\n",
       "    }\n",
       "\n",
       "    .dataframe thead th {\n",
       "        text-align: right;\n",
       "    }\n",
       "</style>\n",
       "<table border=\"1\" class=\"dataframe\">\n",
       "  <thead>\n",
       "    <tr style=\"text-align: right;\">\n",
       "      <th></th>\n",
       "      <th>alert</th>\n",
       "      <th>mag</th>\n",
       "      <th>magType</th>\n",
       "      <th>title</th>\n",
       "      <th>tsunami</th>\n",
       "      <th>type</th>\n",
       "    </tr>\n",
       "  </thead>\n",
       "  <tbody>\n",
       "    <tr>\n",
       "      <th>2387</th>\n",
       "      <td>green</td>\n",
       "      <td>5.20</td>\n",
       "      <td>mwb</td>\n",
       "      <td>M 5.2 - 225 km S of Bengkulu, Indonesia</td>\n",
       "      <td>0</td>\n",
       "      <td>earthquake</td>\n",
       "    </tr>\n",
       "    <tr>\n",
       "      <th>3622</th>\n",
       "      <td>NaN</td>\n",
       "      <td>3.49</td>\n",
       "      <td>mw</td>\n",
       "      <td>M 3.5 - 2 km NNE of Byron, CA</td>\n",
       "      <td>0</td>\n",
       "      <td>earthquake</td>\n",
       "    </tr>\n",
       "    <tr>\n",
       "      <th>6139</th>\n",
       "      <td>NaN</td>\n",
       "      <td>3.48</td>\n",
       "      <td>mw</td>\n",
       "      <td>M 3.5 - 4 km SSE of Parkfield, CA</td>\n",
       "      <td>0</td>\n",
       "      <td>earthquake</td>\n",
       "    </tr>\n",
       "    <tr>\n",
       "      <th>8959</th>\n",
       "      <td>green</td>\n",
       "      <td>4.04</td>\n",
       "      <td>mw</td>\n",
       "      <td>M 4.0 - 10 km N of Westmorland, CA</td>\n",
       "      <td>1</td>\n",
       "      <td>earthquake</td>\n",
       "    </tr>\n",
       "    <tr>\n",
       "      <th>9510</th>\n",
       "      <td>NaN</td>\n",
       "      <td>3.55</td>\n",
       "      <td>mw</td>\n",
       "      <td>M 3.6 - 4 km E of Round Valley, CA</td>\n",
       "      <td>0</td>\n",
       "      <td>earthquake</td>\n",
       "    </tr>\n",
       "    <tr>\n",
       "      <th>9713</th>\n",
       "      <td>NaN</td>\n",
       "      <td>3.48</td>\n",
       "      <td>mw</td>\n",
       "      <td>M 3.5 - 1 km SE of El Centro, CA</td>\n",
       "      <td>0</td>\n",
       "      <td>earthquake</td>\n",
       "    </tr>\n",
       "    <tr>\n",
       "      <th>10076</th>\n",
       "      <td>NaN</td>\n",
       "      <td>3.90</td>\n",
       "      <td>mw</td>\n",
       "      <td>M 3.9 - 1 km NNW of El Centro, CA</td>\n",
       "      <td>0</td>\n",
       "      <td>earthquake</td>\n",
       "    </tr>\n",
       "    <tr>\n",
       "      <th>10103</th>\n",
       "      <td>green</td>\n",
       "      <td>4.56</td>\n",
       "      <td>mw</td>\n",
       "      <td>M 4.6 - 2 km NNW of El Centro, CA</td>\n",
       "      <td>0</td>\n",
       "      <td>earthquake</td>\n",
       "    </tr>\n",
       "    <tr>\n",
       "      <th>10113</th>\n",
       "      <td>green</td>\n",
       "      <td>4.05</td>\n",
       "      <td>mw</td>\n",
       "      <td>M 4.1 - 4 km SSW of Imperial, CA</td>\n",
       "      <td>0</td>\n",
       "      <td>earthquake</td>\n",
       "    </tr>\n",
       "    <tr>\n",
       "      <th>10118</th>\n",
       "      <td>green</td>\n",
       "      <td>4.81</td>\n",
       "      <td>mw</td>\n",
       "      <td>M 4.8 - 3 km NNW of El Centro, CA</td>\n",
       "      <td>1</td>\n",
       "      <td>earthquake</td>\n",
       "    </tr>\n",
       "  </tbody>\n",
       "</table>\n",
       "</div>"
      ],
      "text/plain": [
       "       alert   mag magType                                    title  tsunami  \\\n",
       "2387   green  5.20     mwb  M 5.2 - 225 km S of Bengkulu, Indonesia        0   \n",
       "3622     NaN  3.49      mw            M 3.5 - 2 km NNE of Byron, CA        0   \n",
       "6139     NaN  3.48      mw        M 3.5 - 4 km SSE of Parkfield, CA        0   \n",
       "8959   green  4.04      mw       M 4.0 - 10 km N of Westmorland, CA        1   \n",
       "9510     NaN  3.55      mw       M 3.6 - 4 km E of Round Valley, CA        0   \n",
       "9713     NaN  3.48      mw         M 3.5 - 1 km SE of El Centro, CA        0   \n",
       "10076    NaN  3.90      mw        M 3.9 - 1 km NNW of El Centro, CA        0   \n",
       "10103  green  4.56      mw        M 4.6 - 2 km NNW of El Centro, CA        0   \n",
       "10113  green  4.05      mw         M 4.1 - 4 km SSW of Imperial, CA        0   \n",
       "10118  green  4.81      mw        M 4.8 - 3 km NNW of El Centro, CA        1   \n",
       "\n",
       "             type  \n",
       "2387   earthquake  \n",
       "3622   earthquake  \n",
       "6139   earthquake  \n",
       "8959   earthquake  \n",
       "9510   earthquake  \n",
       "9713   earthquake  \n",
       "10076  earthquake  \n",
       "10103  earthquake  \n",
       "10113  earthquake  \n",
       "10118  earthquake  "
      ]
     },
     "execution_count": 237,
     "metadata": {},
     "output_type": "execute_result"
    }
   ],
   "source": [
    "df.loc[df[\"magType\"].isin([\"mw\", \"mwb\"]),\n",
    "      ['alert', 'mag', 'magType', 'title', 'tsunami', 'type']]"
   ]
  },
  {
   "cell_type": "markdown",
   "id": "e794ee97",
   "metadata": {},
   "source": [
    "Suppose we wanted to see all the data for the lowest-magnitude and highest-magnitude earthquakes. Rather than finding the minimum and maximum of the mag column first and then creating a Boolean mask, we can ask pandas to give us the index where these values occur, and easily filter to grab the full rows. We can use `idxmin()` and `idxmax()` for the indices of the minimum and maximum, respectively. Let's grab the row numbers for the lowest-magnitude and highest-magnitude earthquakes:"
   ]
  },
  {
   "cell_type": "code",
   "execution_count": 244,
   "id": "e8ce76d3",
   "metadata": {},
   "outputs": [
    {
     "data": {
      "text/plain": [
       "[2520, 2442]"
      ]
     },
     "execution_count": 244,
     "metadata": {},
     "output_type": "execute_result"
    }
   ],
   "source": [
    "lowest_highest_mag = [df[\"mag\"].idxmax(), df[\"mag\"].idxmin()]\n",
    "lowest_highest_mag"
   ]
  },
  {
   "cell_type": "code",
   "execution_count": 243,
   "id": "5d15d526",
   "metadata": {},
   "outputs": [
    {
     "data": {
      "text/html": [
       "<div>\n",
       "<style scoped>\n",
       "    .dataframe tbody tr th:only-of-type {\n",
       "        vertical-align: middle;\n",
       "    }\n",
       "\n",
       "    .dataframe tbody tr th {\n",
       "        vertical-align: top;\n",
       "    }\n",
       "\n",
       "    .dataframe thead th {\n",
       "        text-align: right;\n",
       "    }\n",
       "</style>\n",
       "<table border=\"1\" class=\"dataframe\">\n",
       "  <thead>\n",
       "    <tr style=\"text-align: right;\">\n",
       "      <th></th>\n",
       "      <th>alert</th>\n",
       "      <th>mag</th>\n",
       "      <th>magType</th>\n",
       "      <th>title</th>\n",
       "      <th>tsunami</th>\n",
       "      <th>type</th>\n",
       "    </tr>\n",
       "  </thead>\n",
       "  <tbody>\n",
       "    <tr>\n",
       "      <th>2520</th>\n",
       "      <td>green</td>\n",
       "      <td>6.70</td>\n",
       "      <td>mww</td>\n",
       "      <td>M 6.7 - Macquarie Island region</td>\n",
       "      <td>1</td>\n",
       "      <td>earthquake</td>\n",
       "    </tr>\n",
       "    <tr>\n",
       "      <th>2442</th>\n",
       "      <td>NaN</td>\n",
       "      <td>-1.19</td>\n",
       "      <td>ml</td>\n",
       "      <td>M -1.2 - 61 km ENE of Pedro Bay, Alaska</td>\n",
       "      <td>0</td>\n",
       "      <td>earthquake</td>\n",
       "    </tr>\n",
       "  </tbody>\n",
       "</table>\n",
       "</div>"
      ],
      "text/plain": [
       "      alert   mag magType                                    title  tsunami  \\\n",
       "2520  green  6.70     mww          M 6.7 - Macquarie Island region        1   \n",
       "2442    NaN -1.19      ml  M -1.2 - 61 km ENE of Pedro Bay, Alaska        0   \n",
       "\n",
       "            type  \n",
       "2520  earthquake  \n",
       "2442  earthquake  "
      ]
     },
     "execution_count": 243,
     "metadata": {},
     "output_type": "execute_result"
    }
   ],
   "source": [
    "df.loc[lowest_highest_mag, ['alert', 'mag', 'magType', 'title', 'tsunami', 'type']]"
   ]
  },
  {
   "cell_type": "markdown",
   "id": "33fbc864",
   "metadata": {},
   "source": [
    "## Adding and Removing values"
   ]
  },
  {
   "cell_type": "code",
   "execution_count": 247,
   "id": "1bffcc71",
   "metadata": {},
   "outputs": [],
   "source": [
    "# Select only columns to be used for this section\n",
    "df = df.loc[:, ['time', 'title', 'place', 'magType', 'mag', 'alert', \"tsunami\"]]"
   ]
  },
  {
   "cell_type": "markdown",
   "id": "07c2627b",
   "metadata": {},
   "source": [
    "Exploring the `place` column"
   ]
  },
  {
   "cell_type": "code",
   "execution_count": 248,
   "id": "821a0218",
   "metadata": {},
   "outputs": [
    {
     "data": {
      "text/plain": [
       "0        63 km ENE of Pedro Bay, Alaska\n",
       "1                    6 km W of Cobb, CA\n",
       "2            86 km NW of Karluk, Alaska\n",
       "3                  7 km WNW of Cobb, CA\n",
       "4           86 km NNW of Karluk, Alaska\n",
       "                      ...              \n",
       "10274     42 km SE of Goldfield, Nevada\n",
       "10275         7 km S of Houston, Alaska\n",
       "10276       5 km NNW of The Geysers, CA\n",
       "10277        78 km S of Deering, Alaska\n",
       "10278      12 km SSE of Sunnyside, Utah\n",
       "Name: place, Length: 10279, dtype: object"
      ]
     },
     "execution_count": 248,
     "metadata": {},
     "output_type": "execute_result"
    }
   ],
   "source": [
    "df[\"place\"]"
   ]
  },
  {
   "cell_type": "code",
   "execution_count": 251,
   "id": "f82c19e7",
   "metadata": {},
   "outputs": [
    {
     "data": {
      "text/plain": [
       "array(['Afghanistan', 'Alabama', 'Alaska', 'Aleutian Islands, Alaska',\n",
       "       'Algeria', 'Anguilla', 'Argentina', 'Arkansas', 'Australia',\n",
       "       'B.C., MX', 'Bolivia', 'Bosnia and Herzegovina', 'CA',\n",
       "       'California', 'Canada', 'Chile', 'China', 'Colombia', 'Colorado',\n",
       "       'Connecticut', 'Costa Rica', 'Croatia', 'Dominican Republic',\n",
       "       'Ecuador', 'El Salvador', 'Fiji', 'Georgia', 'Greece', 'Guam',\n",
       "       'Guatemala', 'Hawaii', 'Idaho', 'Illinois', 'India', 'Indonesia',\n",
       "       'Iran', 'Iraq', 'Italy', 'Japan', 'Japan region', 'Kazakhstan',\n",
       "       'Kentucky', 'Kyrgyzstan', 'Maine', 'Mexico', 'Micronesia',\n",
       "       'Missouri', 'Mongolia', 'Montana', 'Myanmar', 'NV', 'Nebraska',\n",
       "       'Nevada', 'New Caledonia', 'New Mexico', 'New Zealand',\n",
       "       'Nicaragua', 'North Carolina', 'Northern Mariana Islands', 'Ohio',\n",
       "       'Oklahoma', 'Oregon', 'Pakistan', 'Papua New Guinea', 'Peru',\n",
       "       'Philippines', 'Puerto Rico', 'Russia', 'Saint Helena',\n",
       "       'Sakha, Russia', 'Saudi Arabia', 'Solomon Islands', 'Somalia',\n",
       "       'South Africa', 'South Carolina', 'Taiwan', 'Tajikistan',\n",
       "       'Tennessee', 'Texas', 'Timor Leste', 'Tonga', 'Turkey',\n",
       "       'U.S. Virgin Islands', 'Utah', 'Uzbekistan', 'Vanuatu',\n",
       "       'Venezuela', 'Vietnam', 'Washington', 'Wyoming', 'Zambia', nan],\n",
       "      dtype=object)"
      ]
     },
     "execution_count": 251,
     "metadata": {},
     "output_type": "execute_result"
    }
   ],
   "source": [
    "df[\"place\"].str.extract(r', (.*$)')[0].sort_values().unique()"
   ]
  },
  {
   "cell_type": "code",
   "execution_count": 273,
   "id": "73f6f7e3",
   "metadata": {},
   "outputs": [],
   "source": [
    "df[\"parsed_place\"] = df[\"place\"].str.replace(\n",
    "    r'.* of ', '', regex=True\n",
    ").str.replace(\n",
    "    'the ', ''\n",
    ").str.replace(\n",
    "    r'CA$', 'California', regex=True\n",
    ").str.replace(\n",
    "    r'MX$', 'Mexico', regex=True\n",
    ").str.replace(\n",
    "    r'NV$', 'Nevada', regex=True\n",
    ").str.replace(\n",
    "    r'Russia$', 'Russia', regex=True\n",
    ").str.replace(\n",
    "    r' region', '', regex=True\n",
    ").str.replace(\n",
    "    r'southern ', '', regex=True\n",
    ").str.replace(\n",
    "    r'western ', '', regex=True\n",
    ").str.replace(\n",
    "    r'southeast ', '', regex=True\n",
    ").str.replace(\n",
    "    r'northern ', '', regex=True\n",
    ").str.replace(\n",
    "    r'central ', '', regex=True\n",
    ").str.replace(\n",
    "    r'^.*, ', '', regex=True # remove anything else extraneous from start\n",
    ").str.strip()"
   ]
  },
  {
   "cell_type": "markdown",
   "id": "9de11c7e",
   "metadata": {},
   "source": [
    "Pandas provides us with a way to make many new columns at once in one method call.\n",
    "With `assign()` method, the arguement are the names of the columns we want to create\n",
    "and the values are the data for the columns.\n",
    "\n",
    "Let's create two new columns; one will tell us if the earthquake happened in California, and the other will tell us if it happened in Alaska. Rather than just show the first five entries (which are all in California), we will use sample() to randomly select five rows:"
   ]
  },
  {
   "cell_type": "code",
   "execution_count": 279,
   "id": "5fc50476",
   "metadata": {},
   "outputs": [
    {
     "data": {
      "text/html": [
       "<div>\n",
       "<style scoped>\n",
       "    .dataframe tbody tr th:only-of-type {\n",
       "        vertical-align: middle;\n",
       "    }\n",
       "\n",
       "    .dataframe tbody tr th {\n",
       "        vertical-align: top;\n",
       "    }\n",
       "\n",
       "    .dataframe thead th {\n",
       "        text-align: right;\n",
       "    }\n",
       "</style>\n",
       "<table border=\"1\" class=\"dataframe\">\n",
       "  <thead>\n",
       "    <tr style=\"text-align: right;\">\n",
       "      <th></th>\n",
       "      <th>time</th>\n",
       "      <th>title</th>\n",
       "      <th>place</th>\n",
       "      <th>magType</th>\n",
       "      <th>mag</th>\n",
       "      <th>alert</th>\n",
       "      <th>tsunami</th>\n",
       "      <th>parsed_place</th>\n",
       "      <th>in_ca</th>\n",
       "      <th>in_alaska</th>\n",
       "    </tr>\n",
       "  </thead>\n",
       "  <tbody>\n",
       "    <tr>\n",
       "      <th>6909</th>\n",
       "      <td>1708342123784</td>\n",
       "      <td>M 4.0 - 69 km SSW of Atka, Alaska</td>\n",
       "      <td>69 km SSW of Atka, Alaska</td>\n",
       "      <td>mb</td>\n",
       "      <td>4.00</td>\n",
       "      <td>NaN</td>\n",
       "      <td>0</td>\n",
       "      <td>Alaska</td>\n",
       "      <td>False</td>\n",
       "      <td>True</td>\n",
       "    </tr>\n",
       "    <tr>\n",
       "      <th>6155</th>\n",
       "      <td>1708521581510</td>\n",
       "      <td>M 0.7 - 14 km NE of Milford, Utah</td>\n",
       "      <td>14 km NE of Milford, Utah</td>\n",
       "      <td>md</td>\n",
       "      <td>0.67</td>\n",
       "      <td>NaN</td>\n",
       "      <td>0</td>\n",
       "      <td>Utah</td>\n",
       "      <td>False</td>\n",
       "      <td>False</td>\n",
       "    </tr>\n",
       "    <tr>\n",
       "      <th>334</th>\n",
       "      <td>1710098176810</td>\n",
       "      <td>M 2.2 - 13 km W of Graysville, Tennessee</td>\n",
       "      <td>13 km W of Graysville, Tennessee</td>\n",
       "      <td>md</td>\n",
       "      <td>2.15</td>\n",
       "      <td>NaN</td>\n",
       "      <td>0</td>\n",
       "      <td>Tennessee</td>\n",
       "      <td>False</td>\n",
       "      <td>False</td>\n",
       "    </tr>\n",
       "    <tr>\n",
       "      <th>5981</th>\n",
       "      <td>1708556833510</td>\n",
       "      <td>M -0.2 - 15 km NE of Milford, Utah</td>\n",
       "      <td>15 km NE of Milford, Utah</td>\n",
       "      <td>md</td>\n",
       "      <td>-0.15</td>\n",
       "      <td>NaN</td>\n",
       "      <td>0</td>\n",
       "      <td>Utah</td>\n",
       "      <td>False</td>\n",
       "      <td>False</td>\n",
       "    </tr>\n",
       "    <tr>\n",
       "      <th>3184</th>\n",
       "      <td>1709282379691</td>\n",
       "      <td>M 1.8 - 6 km WSW of Trapper Creek, Alaska</td>\n",
       "      <td>6 km WSW of Trapper Creek, Alaska</td>\n",
       "      <td>ml</td>\n",
       "      <td>1.80</td>\n",
       "      <td>NaN</td>\n",
       "      <td>0</td>\n",
       "      <td>Alaska</td>\n",
       "      <td>False</td>\n",
       "      <td>True</td>\n",
       "    </tr>\n",
       "  </tbody>\n",
       "</table>\n",
       "</div>"
      ],
      "text/plain": [
       "               time                                      title  \\\n",
       "6909  1708342123784          M 4.0 - 69 km SSW of Atka, Alaska   \n",
       "6155  1708521581510          M 0.7 - 14 km NE of Milford, Utah   \n",
       "334   1710098176810   M 2.2 - 13 km W of Graysville, Tennessee   \n",
       "5981  1708556833510         M -0.2 - 15 km NE of Milford, Utah   \n",
       "3184  1709282379691  M 1.8 - 6 km WSW of Trapper Creek, Alaska   \n",
       "\n",
       "                                  place magType   mag alert  tsunami  \\\n",
       "6909          69 km SSW of Atka, Alaska      mb  4.00   NaN        0   \n",
       "6155          14 km NE of Milford, Utah      md  0.67   NaN        0   \n",
       "334    13 km W of Graysville, Tennessee      md  2.15   NaN        0   \n",
       "5981          15 km NE of Milford, Utah      md -0.15   NaN        0   \n",
       "3184  6 km WSW of Trapper Creek, Alaska      ml  1.80   NaN        0   \n",
       "\n",
       "     parsed_place  in_ca  in_alaska  \n",
       "6909       Alaska  False       True  \n",
       "6155         Utah  False      False  \n",
       "334     Tennessee  False      False  \n",
       "5981         Utah  False      False  \n",
       "3184       Alaska  False       True  "
      ]
     },
     "execution_count": 279,
     "metadata": {},
     "output_type": "execute_result"
    }
   ],
   "source": [
    "df.assign(\n",
    "    in_ca=df[\"parsed_place\"].str.endswith(\"California\"),\n",
    "    in_alaska=df[\"parsed_place\"].str.endswith(\"Alaska\")\n",
    ").sample(5, random_state=0)"
   ]
  },
  {
   "cell_type": "markdown",
   "id": "86e9f2fc",
   "metadata": {},
   "source": [
    "Let's once again create the `in_ca` and `in_alaska` columns, but this time also create a new column,` neither`, which is True if both `in_ca` and `in_alaska` are False:"
   ]
  },
  {
   "cell_type": "code",
   "execution_count": 280,
   "id": "7640dc15",
   "metadata": {},
   "outputs": [
    {
     "data": {
      "text/html": [
       "<div>\n",
       "<style scoped>\n",
       "    .dataframe tbody tr th:only-of-type {\n",
       "        vertical-align: middle;\n",
       "    }\n",
       "\n",
       "    .dataframe tbody tr th {\n",
       "        vertical-align: top;\n",
       "    }\n",
       "\n",
       "    .dataframe thead th {\n",
       "        text-align: right;\n",
       "    }\n",
       "</style>\n",
       "<table border=\"1\" class=\"dataframe\">\n",
       "  <thead>\n",
       "    <tr style=\"text-align: right;\">\n",
       "      <th></th>\n",
       "      <th>time</th>\n",
       "      <th>title</th>\n",
       "      <th>place</th>\n",
       "      <th>magType</th>\n",
       "      <th>mag</th>\n",
       "      <th>alert</th>\n",
       "      <th>tsunami</th>\n",
       "      <th>parsed_place</th>\n",
       "      <th>in_ca</th>\n",
       "      <th>in_alaska</th>\n",
       "      <th>neither_alaska_or_ca</th>\n",
       "    </tr>\n",
       "  </thead>\n",
       "  <tbody>\n",
       "    <tr>\n",
       "      <th>6909</th>\n",
       "      <td>1708342123784</td>\n",
       "      <td>M 4.0 - 69 km SSW of Atka, Alaska</td>\n",
       "      <td>69 km SSW of Atka, Alaska</td>\n",
       "      <td>mb</td>\n",
       "      <td>4.00</td>\n",
       "      <td>NaN</td>\n",
       "      <td>0</td>\n",
       "      <td>Alaska</td>\n",
       "      <td>False</td>\n",
       "      <td>True</td>\n",
       "      <td>False</td>\n",
       "    </tr>\n",
       "    <tr>\n",
       "      <th>6155</th>\n",
       "      <td>1708521581510</td>\n",
       "      <td>M 0.7 - 14 km NE of Milford, Utah</td>\n",
       "      <td>14 km NE of Milford, Utah</td>\n",
       "      <td>md</td>\n",
       "      <td>0.67</td>\n",
       "      <td>NaN</td>\n",
       "      <td>0</td>\n",
       "      <td>Utah</td>\n",
       "      <td>False</td>\n",
       "      <td>False</td>\n",
       "      <td>True</td>\n",
       "    </tr>\n",
       "    <tr>\n",
       "      <th>334</th>\n",
       "      <td>1710098176810</td>\n",
       "      <td>M 2.2 - 13 km W of Graysville, Tennessee</td>\n",
       "      <td>13 km W of Graysville, Tennessee</td>\n",
       "      <td>md</td>\n",
       "      <td>2.15</td>\n",
       "      <td>NaN</td>\n",
       "      <td>0</td>\n",
       "      <td>Tennessee</td>\n",
       "      <td>False</td>\n",
       "      <td>False</td>\n",
       "      <td>True</td>\n",
       "    </tr>\n",
       "    <tr>\n",
       "      <th>5981</th>\n",
       "      <td>1708556833510</td>\n",
       "      <td>M -0.2 - 15 km NE of Milford, Utah</td>\n",
       "      <td>15 km NE of Milford, Utah</td>\n",
       "      <td>md</td>\n",
       "      <td>-0.15</td>\n",
       "      <td>NaN</td>\n",
       "      <td>0</td>\n",
       "      <td>Utah</td>\n",
       "      <td>False</td>\n",
       "      <td>False</td>\n",
       "      <td>True</td>\n",
       "    </tr>\n",
       "    <tr>\n",
       "      <th>3184</th>\n",
       "      <td>1709282379691</td>\n",
       "      <td>M 1.8 - 6 km WSW of Trapper Creek, Alaska</td>\n",
       "      <td>6 km WSW of Trapper Creek, Alaska</td>\n",
       "      <td>ml</td>\n",
       "      <td>1.80</td>\n",
       "      <td>NaN</td>\n",
       "      <td>0</td>\n",
       "      <td>Alaska</td>\n",
       "      <td>False</td>\n",
       "      <td>True</td>\n",
       "      <td>False</td>\n",
       "    </tr>\n",
       "  </tbody>\n",
       "</table>\n",
       "</div>"
      ],
      "text/plain": [
       "               time                                      title  \\\n",
       "6909  1708342123784          M 4.0 - 69 km SSW of Atka, Alaska   \n",
       "6155  1708521581510          M 0.7 - 14 km NE of Milford, Utah   \n",
       "334   1710098176810   M 2.2 - 13 km W of Graysville, Tennessee   \n",
       "5981  1708556833510         M -0.2 - 15 km NE of Milford, Utah   \n",
       "3184  1709282379691  M 1.8 - 6 km WSW of Trapper Creek, Alaska   \n",
       "\n",
       "                                  place magType   mag alert  tsunami  \\\n",
       "6909          69 km SSW of Atka, Alaska      mb  4.00   NaN        0   \n",
       "6155          14 km NE of Milford, Utah      md  0.67   NaN        0   \n",
       "334    13 km W of Graysville, Tennessee      md  2.15   NaN        0   \n",
       "5981          15 km NE of Milford, Utah      md -0.15   NaN        0   \n",
       "3184  6 km WSW of Trapper Creek, Alaska      ml  1.80   NaN        0   \n",
       "\n",
       "     parsed_place  in_ca  in_alaska  neither_alaska_or_ca  \n",
       "6909       Alaska  False       True                 False  \n",
       "6155         Utah  False      False                  True  \n",
       "334     Tennessee  False      False                  True  \n",
       "5981         Utah  False      False                  True  \n",
       "3184       Alaska  False       True                 False  "
      ]
     },
     "execution_count": 280,
     "metadata": {},
     "output_type": "execute_result"
    }
   ],
   "source": [
    "df.assign(in_ca=df[\"parsed_place\"] == \"California\",\n",
    "         in_alaska=df[\"parsed_place\"] == \"Alaska\",\n",
    "         neither_alaska_or_ca=lambda x: ~x.in_ca & ~x.in_alaska\n",
    "         ).sample(5, random_state=0)"
   ]
  },
  {
   "cell_type": "code",
   "execution_count": null,
   "id": "252d9b22",
   "metadata": {},
   "outputs": [],
   "source": []
  }
 ],
 "metadata": {
  "kernelspec": {
   "display_name": "Python 3 (ipykernel)",
   "language": "python",
   "name": "python3"
  },
  "language_info": {
   "codemirror_mode": {
    "name": "ipython",
    "version": 3
   },
   "file_extension": ".py",
   "mimetype": "text/x-python",
   "name": "python",
   "nbconvert_exporter": "python",
   "pygments_lexer": "ipython3",
   "version": "3.11.1"
  }
 },
 "nbformat": 4,
 "nbformat_minor": 5
}
