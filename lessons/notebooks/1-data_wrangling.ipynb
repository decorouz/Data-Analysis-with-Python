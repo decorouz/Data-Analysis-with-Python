{
 "cells": [
  {
   "cell_type": "markdown",
   "id": "5f6ee07e",
   "metadata": {},
   "source": [
    "# Data Wrangling with Pandas\n",
    "\n",
    "In the previous [session](./0-Lessons_on_pandas_datastructures.ipynb), I meaned about the main pandas data structures, how to create DataFrame and object sample data and API and various ways to inspect, summarize, ,filter, select, and work with DataFrame objects. Now, let venture into the world of data wrangling\n",
    "\n",
    "There are three common tasks involved in the data wrangling process\n",
    "* Data cleaning\n",
    "* Data transformation\n",
    "* Data enrichment\n"
   ]
  },
  {
   "cell_type": "markdown",
   "id": "8079ef16",
   "metadata": {},
   "source": [
    "## Datasets\n",
    "\n",
    "I will use some collected data set set for initial exploration of this topic\n",
    "\n",
    "\n",
    "**1. National Centers for Environmental Information (NCEI)** API for climate data and walking through the process of collecting temperature data from it using the **requests** library.\n",
    "The data can be found at this [url](https://www.ncdc.noaa.gov/cdo-web/webservices/).\n",
    "\n",
    "_The NCEI is part of the National Oceanic and Atmospheric Administration (NOAA). As indicated by the URL for the API, this resource was created when\n",
    "the NCEI was called the NCDC. Should the URL for this resource change in\n",
    "the future, search for NCEI weather API to find the updated one\n",
    "To use the NCEI API, you will have to request a token by filling out this [form](https://www.ncdc.noaa.gov/cdo-web/token.) with your email address_.\n",
    "\n",
    "**2. Global Historical Climatology Network – Daily (GHCND)** The data can be found at this [url](https://www1.ncdc.noaa.gov/pub/data/cdo/documentation/GHCND_documentation.pdf)"
   ]
  },
  {
   "cell_type": "code",
   "execution_count": 2,
   "id": "b09dbbc4",
   "metadata": {},
   "outputs": [],
   "source": [
    "import matplotlib.pyplot as plt\n",
    "import pandas as pd\n",
    "import datetime as dt\n",
    "\n",
    "import dotenv\n",
    "import os\n",
    "\n",
    "\n",
    "\n",
    "import requests"
   ]
  },
  {
   "cell_type": "code",
   "execution_count": 3,
   "id": "9eef3fdc",
   "metadata": {},
   "outputs": [],
   "source": [
    "wide_df = pd.read_csv(\"data/wide_data.csv\", parse_dates=[\"date\"])\n",
    "\n",
    "long_df = pd.read_csv(\"data/long_data.csv\",\n",
    "                      usecols=[\"date\", \"datatype\", \"value\"],\n",
    "                      parse_dates=[\"date\"])"
   ]
  },
  {
   "cell_type": "code",
   "execution_count": 4,
   "id": "9807ca59",
   "metadata": {},
   "outputs": [
    {
     "data": {
      "text/html": [
       "<div>\n",
       "<style scoped>\n",
       "    .dataframe tbody tr th:only-of-type {\n",
       "        vertical-align: middle;\n",
       "    }\n",
       "\n",
       "    .dataframe tbody tr th {\n",
       "        vertical-align: top;\n",
       "    }\n",
       "\n",
       "    .dataframe thead th {\n",
       "        text-align: right;\n",
       "    }\n",
       "</style>\n",
       "<table border=\"1\" class=\"dataframe\">\n",
       "  <thead>\n",
       "    <tr style=\"text-align: right;\">\n",
       "      <th></th>\n",
       "      <th>date</th>\n",
       "      <th>TMAX</th>\n",
       "      <th>TMIN</th>\n",
       "      <th>TOBS</th>\n",
       "    </tr>\n",
       "  </thead>\n",
       "  <tbody>\n",
       "    <tr>\n",
       "      <th>0</th>\n",
       "      <td>2018-10-01</td>\n",
       "      <td>21.1</td>\n",
       "      <td>8.9</td>\n",
       "      <td>13.9</td>\n",
       "    </tr>\n",
       "    <tr>\n",
       "      <th>1</th>\n",
       "      <td>2018-10-02</td>\n",
       "      <td>23.9</td>\n",
       "      <td>13.9</td>\n",
       "      <td>17.2</td>\n",
       "    </tr>\n",
       "    <tr>\n",
       "      <th>2</th>\n",
       "      <td>2018-10-03</td>\n",
       "      <td>25.0</td>\n",
       "      <td>15.6</td>\n",
       "      <td>16.1</td>\n",
       "    </tr>\n",
       "    <tr>\n",
       "      <th>3</th>\n",
       "      <td>2018-10-04</td>\n",
       "      <td>22.8</td>\n",
       "      <td>11.7</td>\n",
       "      <td>11.7</td>\n",
       "    </tr>\n",
       "    <tr>\n",
       "      <th>4</th>\n",
       "      <td>2018-10-05</td>\n",
       "      <td>23.3</td>\n",
       "      <td>11.7</td>\n",
       "      <td>18.9</td>\n",
       "    </tr>\n",
       "  </tbody>\n",
       "</table>\n",
       "</div>"
      ],
      "text/plain": [
       "        date  TMAX  TMIN  TOBS\n",
       "0 2018-10-01  21.1   8.9  13.9\n",
       "1 2018-10-02  23.9  13.9  17.2\n",
       "2 2018-10-03  25.0  15.6  16.1\n",
       "3 2018-10-04  22.8  11.7  11.7\n",
       "4 2018-10-05  23.3  11.7  18.9"
      ]
     },
     "execution_count": 4,
     "metadata": {},
     "output_type": "execute_result"
    }
   ],
   "source": [
    "wide_df.head()"
   ]
  },
  {
   "cell_type": "code",
   "execution_count": 5,
   "id": "f3ad19ee",
   "metadata": {},
   "outputs": [
    {
     "data": {
      "text/html": [
       "<div>\n",
       "<style scoped>\n",
       "    .dataframe tbody tr th:only-of-type {\n",
       "        vertical-align: middle;\n",
       "    }\n",
       "\n",
       "    .dataframe tbody tr th {\n",
       "        vertical-align: top;\n",
       "    }\n",
       "\n",
       "    .dataframe thead th {\n",
       "        text-align: right;\n",
       "    }\n",
       "</style>\n",
       "<table border=\"1\" class=\"dataframe\">\n",
       "  <thead>\n",
       "    <tr style=\"text-align: right;\">\n",
       "      <th></th>\n",
       "      <th>datatype</th>\n",
       "      <th>date</th>\n",
       "      <th>value</th>\n",
       "    </tr>\n",
       "  </thead>\n",
       "  <tbody>\n",
       "    <tr>\n",
       "      <th>0</th>\n",
       "      <td>TMAX</td>\n",
       "      <td>2018-10-01</td>\n",
       "      <td>21.1</td>\n",
       "    </tr>\n",
       "    <tr>\n",
       "      <th>1</th>\n",
       "      <td>TMIN</td>\n",
       "      <td>2018-10-01</td>\n",
       "      <td>8.9</td>\n",
       "    </tr>\n",
       "    <tr>\n",
       "      <th>2</th>\n",
       "      <td>TOBS</td>\n",
       "      <td>2018-10-01</td>\n",
       "      <td>13.9</td>\n",
       "    </tr>\n",
       "    <tr>\n",
       "      <th>3</th>\n",
       "      <td>TMAX</td>\n",
       "      <td>2018-10-02</td>\n",
       "      <td>23.9</td>\n",
       "    </tr>\n",
       "    <tr>\n",
       "      <th>4</th>\n",
       "      <td>TMIN</td>\n",
       "      <td>2018-10-02</td>\n",
       "      <td>13.9</td>\n",
       "    </tr>\n",
       "  </tbody>\n",
       "</table>\n",
       "</div>"
      ],
      "text/plain": [
       "  datatype       date  value\n",
       "0     TMAX 2018-10-01   21.1\n",
       "1     TMIN 2018-10-01    8.9\n",
       "2     TOBS 2018-10-01   13.9\n",
       "3     TMAX 2018-10-02   23.9\n",
       "4     TMIN 2018-10-02   13.9"
      ]
     },
     "execution_count": 5,
     "metadata": {},
     "output_type": "execute_result"
    }
   ],
   "source": [
    "long_df.head()"
   ]
  },
  {
   "cell_type": "code",
   "execution_count": 6,
   "id": "91029dfc",
   "metadata": {},
   "outputs": [
    {
     "data": {
      "text/html": [
       "<div>\n",
       "<style scoped>\n",
       "    .dataframe tbody tr th:only-of-type {\n",
       "        vertical-align: middle;\n",
       "    }\n",
       "\n",
       "    .dataframe tbody tr th {\n",
       "        vertical-align: top;\n",
       "    }\n",
       "\n",
       "    .dataframe thead th {\n",
       "        text-align: right;\n",
       "    }\n",
       "</style>\n",
       "<table border=\"1\" class=\"dataframe\">\n",
       "  <thead>\n",
       "    <tr style=\"text-align: right;\">\n",
       "      <th></th>\n",
       "      <th>date</th>\n",
       "      <th>TMAX</th>\n",
       "      <th>TMIN</th>\n",
       "      <th>TOBS</th>\n",
       "    </tr>\n",
       "  </thead>\n",
       "  <tbody>\n",
       "    <tr>\n",
       "      <th>count</th>\n",
       "      <td>31</td>\n",
       "      <td>31.000000</td>\n",
       "      <td>31.000000</td>\n",
       "      <td>31.000000</td>\n",
       "    </tr>\n",
       "    <tr>\n",
       "      <th>mean</th>\n",
       "      <td>2018-10-16 00:00:00</td>\n",
       "      <td>16.829032</td>\n",
       "      <td>7.561290</td>\n",
       "      <td>10.022581</td>\n",
       "    </tr>\n",
       "    <tr>\n",
       "      <th>min</th>\n",
       "      <td>2018-10-01 00:00:00</td>\n",
       "      <td>7.800000</td>\n",
       "      <td>-1.100000</td>\n",
       "      <td>-1.100000</td>\n",
       "    </tr>\n",
       "    <tr>\n",
       "      <th>25%</th>\n",
       "      <td>2018-10-08 12:00:00</td>\n",
       "      <td>12.750000</td>\n",
       "      <td>2.500000</td>\n",
       "      <td>5.550000</td>\n",
       "    </tr>\n",
       "    <tr>\n",
       "      <th>50%</th>\n",
       "      <td>2018-10-16 00:00:00</td>\n",
       "      <td>16.100000</td>\n",
       "      <td>6.700000</td>\n",
       "      <td>8.300000</td>\n",
       "    </tr>\n",
       "    <tr>\n",
       "      <th>75%</th>\n",
       "      <td>2018-10-23 12:00:00</td>\n",
       "      <td>21.950000</td>\n",
       "      <td>13.600000</td>\n",
       "      <td>16.100000</td>\n",
       "    </tr>\n",
       "    <tr>\n",
       "      <th>max</th>\n",
       "      <td>2018-10-31 00:00:00</td>\n",
       "      <td>26.700000</td>\n",
       "      <td>17.800000</td>\n",
       "      <td>21.700000</td>\n",
       "    </tr>\n",
       "    <tr>\n",
       "      <th>std</th>\n",
       "      <td>NaN</td>\n",
       "      <td>5.714962</td>\n",
       "      <td>6.513252</td>\n",
       "      <td>6.596550</td>\n",
       "    </tr>\n",
       "  </tbody>\n",
       "</table>\n",
       "</div>"
      ],
      "text/plain": [
       "                      date       TMAX       TMIN       TOBS\n",
       "count                   31  31.000000  31.000000  31.000000\n",
       "mean   2018-10-16 00:00:00  16.829032   7.561290  10.022581\n",
       "min    2018-10-01 00:00:00   7.800000  -1.100000  -1.100000\n",
       "25%    2018-10-08 12:00:00  12.750000   2.500000   5.550000\n",
       "50%    2018-10-16 00:00:00  16.100000   6.700000   8.300000\n",
       "75%    2018-10-23 12:00:00  21.950000  13.600000  16.100000\n",
       "max    2018-10-31 00:00:00  26.700000  17.800000  21.700000\n",
       "std                    NaN   5.714962   6.513252   6.596550"
      ]
     },
     "execution_count": 6,
     "metadata": {},
     "output_type": "execute_result"
    }
   ],
   "source": [
    "wide_df.describe()"
   ]
  },
  {
   "cell_type": "code",
   "execution_count": 7,
   "id": "cca0645e",
   "metadata": {},
   "outputs": [
    {
     "data": {
      "text/html": [
       "<div>\n",
       "<style scoped>\n",
       "    .dataframe tbody tr th:only-of-type {\n",
       "        vertical-align: middle;\n",
       "    }\n",
       "\n",
       "    .dataframe tbody tr th {\n",
       "        vertical-align: top;\n",
       "    }\n",
       "\n",
       "    .dataframe thead th {\n",
       "        text-align: right;\n",
       "    }\n",
       "</style>\n",
       "<table border=\"1\" class=\"dataframe\">\n",
       "  <thead>\n",
       "    <tr style=\"text-align: right;\">\n",
       "      <th></th>\n",
       "      <th>date</th>\n",
       "      <th>value</th>\n",
       "    </tr>\n",
       "  </thead>\n",
       "  <tbody>\n",
       "    <tr>\n",
       "      <th>count</th>\n",
       "      <td>93</td>\n",
       "      <td>93.000000</td>\n",
       "    </tr>\n",
       "    <tr>\n",
       "      <th>mean</th>\n",
       "      <td>2018-10-16 00:00:00</td>\n",
       "      <td>11.470968</td>\n",
       "    </tr>\n",
       "    <tr>\n",
       "      <th>min</th>\n",
       "      <td>2018-10-01 00:00:00</td>\n",
       "      <td>-1.100000</td>\n",
       "    </tr>\n",
       "    <tr>\n",
       "      <th>25%</th>\n",
       "      <td>2018-10-08 00:00:00</td>\n",
       "      <td>6.700000</td>\n",
       "    </tr>\n",
       "    <tr>\n",
       "      <th>50%</th>\n",
       "      <td>2018-10-16 00:00:00</td>\n",
       "      <td>11.700000</td>\n",
       "    </tr>\n",
       "    <tr>\n",
       "      <th>75%</th>\n",
       "      <td>2018-10-24 00:00:00</td>\n",
       "      <td>17.200000</td>\n",
       "    </tr>\n",
       "    <tr>\n",
       "      <th>max</th>\n",
       "      <td>2018-10-31 00:00:00</td>\n",
       "      <td>26.700000</td>\n",
       "    </tr>\n",
       "    <tr>\n",
       "      <th>std</th>\n",
       "      <td>NaN</td>\n",
       "      <td>7.362354</td>\n",
       "    </tr>\n",
       "  </tbody>\n",
       "</table>\n",
       "</div>"
      ],
      "text/plain": [
       "                      date      value\n",
       "count                   93  93.000000\n",
       "mean   2018-10-16 00:00:00  11.470968\n",
       "min    2018-10-01 00:00:00  -1.100000\n",
       "25%    2018-10-08 00:00:00   6.700000\n",
       "50%    2018-10-16 00:00:00  11.700000\n",
       "75%    2018-10-24 00:00:00  17.200000\n",
       "max    2018-10-31 00:00:00  26.700000\n",
       "std                    NaN   7.362354"
      ]
     },
     "execution_count": 7,
     "metadata": {},
     "output_type": "execute_result"
    }
   ],
   "source": [
    "long_df.describe()"
   ]
  },
  {
   "cell_type": "markdown",
   "id": "b2e81141",
   "metadata": {},
   "source": [
    "## Exploring an API to find and collect temperature data\n",
    "\n",
    "Let's explore the weather API that's provided by the NCEI"
   ]
  },
  {
   "cell_type": "code",
   "execution_count": 16,
   "id": "8c8a447b",
   "metadata": {},
   "outputs": [],
   "source": [
    "\n",
    "\n",
    "def make_request(endpoint, payload=None):\n",
    "    \"\"\"\n",
    "    Make a request to a specific endpoint on the\n",
    "    weather API passing headers and optional payload\n",
    "    \n",
    "    Parameters\n",
    "    ==========\n",
    "    endpoint: str\n",
    "        The endpoint of the API you want to make a GET request to.\n",
    "    payload: dict\n",
    "        A dictionary of data to pass along with the request\n",
    "        \n",
    "    Returns\n",
    "    =======\n",
    "        A response object\n",
    "    \"\"\"\n",
    "    api = \"https://www.ncdc.noaa.gov/cdo-web/api/v2\"\n",
    "    \n",
    "    return requests.get(\n",
    "        f\"{api}/{endpoint}\",\n",
    "        headers={\"token\":TOKEN},\n",
    "        params=payload\n",
    "    )"
   ]
  },
  {
   "cell_type": "code",
   "execution_count": 17,
   "id": "2f73cb77",
   "metadata": {},
   "outputs": [
    {
     "data": {
      "text/plain": [
       "datetime.date(2023, 3, 20)"
      ]
     },
     "execution_count": 17,
     "metadata": {},
     "output_type": "execute_result"
    }
   ],
   "source": [
    "endtime = dt.date.today() - dt.timedelta(days=1)\n",
    "startdate = endtime - dt.timedelta(days=365)\n",
    "startdate"
   ]
  },
  {
   "cell_type": "code",
   "execution_count": 18,
   "id": "1365ae86",
   "metadata": {},
   "outputs": [],
   "source": [
    "response = make_request(\"datasets\", payload={\"startdate\": startdate})"
   ]
  },
  {
   "cell_type": "code",
   "execution_count": 19,
   "id": "16999bae",
   "metadata": {},
   "outputs": [
    {
     "data": {
      "text/plain": [
       "200"
      ]
     },
     "execution_count": 19,
     "metadata": {},
     "output_type": "execute_result"
    }
   ],
   "source": [
    "response.status_code"
   ]
  },
  {
   "cell_type": "code",
   "execution_count": 15,
   "id": "0960eb87",
   "metadata": {},
   "outputs": [
    {
     "data": {
      "text/plain": [
       "dict_keys(['metadata', 'results'])"
      ]
     },
     "execution_count": 15,
     "metadata": {},
     "output_type": "execute_result"
    }
   ],
   "source": [
    "payload = response.json()\n",
    "payload.keys()"
   ]
  },
  {
   "cell_type": "code",
   "execution_count": 56,
   "id": "a190d0d8",
   "metadata": {},
   "outputs": [
    {
     "data": {
      "text/plain": [
       "11"
      ]
     },
     "execution_count": 56,
     "metadata": {},
     "output_type": "execute_result"
    }
   ],
   "source": [
    "payload[\"metadata\"][\"resultset\"][\"count\"]"
   ]
  },
  {
   "cell_type": "markdown",
   "id": "4f8ded12",
   "metadata": {},
   "source": [
    "We got back 11 rows, so lets see what field are in the results portion of the JSON payload. The `results` key contaisn a list of dictionaries"
   ]
  },
  {
   "cell_type": "code",
   "execution_count": 37,
   "id": "89f75216",
   "metadata": {},
   "outputs": [
    {
     "data": {
      "text/plain": [
       "dict_keys(['uid', 'mindate', 'maxdate', 'name', 'datacoverage', 'id'])"
      ]
     },
     "execution_count": 37,
     "metadata": {},
     "output_type": "execute_result"
    }
   ],
   "source": [
    "payload[\"results\"][0].keys()"
   ]
  },
  {
   "cell_type": "markdown",
   "id": "7b8a5eb2",
   "metadata": {},
   "source": [
    "I want to look at the IDs and names of the datasets"
   ]
  },
  {
   "cell_type": "code",
   "execution_count": 31,
   "id": "57fdd2e0",
   "metadata": {},
   "outputs": [
    {
     "data": {
      "text/plain": [
       "[('GHCND', 'Daily Summaries'),\n",
       " ('GSOM', 'Global Summary of the Month'),\n",
       " ('GSOY', 'Global Summary of the Year'),\n",
       " ('NEXRAD2', 'Weather Radar (Level II)'),\n",
       " ('NEXRAD3', 'Weather Radar (Level III)'),\n",
       " ('NORMAL_ANN', 'Normals Annual/Seasonal'),\n",
       " ('NORMAL_DLY', 'Normals Daily'),\n",
       " ('NORMAL_HLY', 'Normals Hourly'),\n",
       " ('NORMAL_MLY', 'Normals Monthly'),\n",
       " ('PRECIP_15', 'Precipitation 15 Minute'),\n",
       " ('PRECIP_HLY', 'Precipitation Hourly')]"
      ]
     },
     "execution_count": 31,
     "metadata": {},
     "output_type": "execute_result"
    }
   ],
   "source": [
    "[(data[\"id\"], data[\"name\"]) for data in payload[\"results\"]]"
   ]
  },
  {
   "cell_type": "markdown",
   "id": "5344644a",
   "metadata": {},
   "source": [
    "The first entry in the result is what we are looking for. \n",
    "Now that we have a value for `datasetid (GHCND)`, we proceed to identify one for `datacategoryid`, which we need to request temperature data. We do so using the datacategories endpoint. Here, we can print the JSON payload since it isn't that large (only nine entries):"
   ]
  },
  {
   "cell_type": "code",
   "execution_count": 39,
   "id": "905cdbed",
   "metadata": {},
   "outputs": [],
   "source": [
    "response = make_request(\"datacategories\", payload={\"datasetid\": \"GHCND\"})"
   ]
  },
  {
   "cell_type": "code",
   "execution_count": 40,
   "id": "9c6ba347",
   "metadata": {},
   "outputs": [
    {
     "data": {
      "text/plain": [
       "True"
      ]
     },
     "execution_count": 40,
     "metadata": {},
     "output_type": "execute_result"
    }
   ],
   "source": [
    "response.ok"
   ]
  },
  {
   "cell_type": "code",
   "execution_count": 42,
   "id": "a31a7cb3",
   "metadata": {},
   "outputs": [
    {
     "data": {
      "text/plain": [
       "[{'name': 'Evaporation', 'id': 'EVAP'},\n",
       " {'name': 'Land', 'id': 'LAND'},\n",
       " {'name': 'Precipitation', 'id': 'PRCP'},\n",
       " {'name': 'Sky cover & clouds', 'id': 'SKY'},\n",
       " {'name': 'Sunshine', 'id': 'SUN'},\n",
       " {'name': 'Air Temperature', 'id': 'TEMP'},\n",
       " {'name': 'Water', 'id': 'WATER'},\n",
       " {'name': 'Wind', 'id': 'WIND'},\n",
       " {'name': 'Weather Type', 'id': 'WXTYPE'}]"
      ]
     },
     "execution_count": 42,
     "metadata": {},
     "output_type": "execute_result"
    }
   ],
   "source": [
    "response.json()[\"results\"]"
   ]
  },
  {
   "cell_type": "markdown",
   "id": "53d34d9f",
   "metadata": {},
   "source": [
    "Based on the previous result, we know that we want a value of `TEMP` for\n",
    "`datacategoryid`. Next, we use this to identify the data types we want by using the\n",
    "datatypes endpoint. We will use a list comprehension once again to only print the\n",
    "names and IDs; this is still a rather large list, so the output has been abbreviated:"
   ]
  },
  {
   "cell_type": "code",
   "execution_count": 43,
   "id": "b49b1c5b",
   "metadata": {},
   "outputs": [],
   "source": [
    "response = make_request(\"datatypes\", \n",
    "                        payload={\"datacategoryid\": \"TEMP\", \"limit\":100}\n",
    "                       )"
   ]
  },
  {
   "cell_type": "code",
   "execution_count": 52,
   "id": "8dc81c53",
   "metadata": {},
   "outputs": [
    {
     "data": {
      "text/plain": [
       "[('CDSD', 'Cooling Degree Days Season to Date'),\n",
       " ('DATN',\n",
       "  'Number of days included in the multiday minimum temperature (MDTN)'),\n",
       " ('DATX',\n",
       "  'Number of days included in the multiday maximum temperature (MDTX)'),\n",
       " ('DLY-DUTR-NORMAL', 'Long-term averages of daily diurnal temperature range'),\n",
       " ('DLY-DUTR-STDDEV',\n",
       "  'Long-term standard deviations of daily diurnal temperature range'),\n",
       " ('DLY-TAVG-NORMAL', 'Long-term averages of daily average temperature'),\n",
       " ('DLY-TAVG-STDDEV',\n",
       "  'Long-term standard deviations of daily average temperature'),\n",
       " ('DLY-TMAX-NORMAL', 'Long-term averages of daily maximum temperature'),\n",
       " ('DLY-TMAX-STDDEV',\n",
       "  'Long-term standard deviations of daily maximum temperature'),\n",
       " ('DLY-TMIN-NORMAL', 'Long-term averages of daily minimum temperature'),\n",
       " ('DLY-TMIN-STDDEV',\n",
       "  'Long-term standard deviations of daily minimum temperature'),\n",
       " ('EMNT', 'Extreme minimum temperature for the period.'),\n",
       " ('EMXT', 'Extreme maximum temperature for the period.'),\n",
       " ('HDSD', 'Heating Degree Days Season to Date'),\n",
       " ('HLY-DEWP-10PCTL', 'Dew point 10th percentile'),\n",
       " ('HLY-DEWP-90PCTL', 'Dew point 90th percentile'),\n",
       " ('HLY-DEWP-NORMAL', 'Dew point mean'),\n",
       " ('HLY-HIDX-NORMAL', 'Heat index mean'),\n",
       " ('HLY-TEMP-10PCTL', 'Temperature 10th percentile'),\n",
       " ('HLY-TEMP-90PCTL', 'Temperature 90th percentile'),\n",
       " ('HLY-TEMP-NORMAL', 'Temperature mean'),\n",
       " ('HLY-WCHL-NORMAL', 'Wind chill mean'),\n",
       " ('HTMN', 'Highest minimum temperature'),\n",
       " ('HTMX', 'Highest maximum temperature'),\n",
       " ('LTMN', 'Lowest minimum temperature'),\n",
       " ('LTMX', 'Lowest maximum temperature'),\n",
       " ('MDTN', 'Multiday minimum temperature (use with DATN)'),\n",
       " ('MDTX', 'Multiday maximum temperature (use with DATX)'),\n",
       " ('MLY-DUTR-NORMAL',\n",
       "  'Long-term averages of monthly diurnal temperature range'),\n",
       " ('MLY-DUTR-STDDEV',\n",
       "  'Long-term standard deviations of monthly diurnal temperature range'),\n",
       " ('MLY-TAVG-NORMAL', 'Long-term averages of monthly average temperature'),\n",
       " ('MLY-TAVG-STDDEV',\n",
       "  'Long-term standard deviations of monthly average temperature'),\n",
       " ('MLY-TMAX-AVGNDS-GRTH040',\n",
       "  'Long-term average number of days per month where tmax is greater than or equal to 40F'),\n",
       " ('MLY-TMAX-AVGNDS-GRTH050',\n",
       "  'Long-term average number of days per month where tmax is greater than or equal to 50F'),\n",
       " ('MLY-TMAX-AVGNDS-GRTH060',\n",
       "  'Long-term average number of days per month where tmax is greater than or equal to 60F'),\n",
       " ('MLY-TMAX-AVGNDS-GRTH070',\n",
       "  'Long-term average number of days per month where tmax is greater than or equal to 70F'),\n",
       " ('MLY-TMAX-AVGNDS-GRTH080',\n",
       "  'Long-term average number of days per month where tmax is greater than or equal to 80F'),\n",
       " ('MLY-TMAX-AVGNDS-GRTH090',\n",
       "  'Long-term average number of days per month where tmax is greater than or equal to 90F'),\n",
       " ('MLY-TMAX-AVGNDS-GRTH100',\n",
       "  'Long-term average number of days per month where tmax is greater than or equal to 100F'),\n",
       " ('MLY-TMAX-AVGNDS-LSTH032',\n",
       "  'Long-term average number of days per month where tmax is less than or equal to 32F'),\n",
       " ('MLY-TMAX-NORMAL', 'Long-term averages of monthly maximum temperature'),\n",
       " ('MLY-TMAX-STDDEV',\n",
       "  'Long-term standard deviations of monthly maximum temperature'),\n",
       " ('MLY-TMIN-AVGNDS-LSTH000',\n",
       "  'Long-term average number of days per month where tmin is less than or equal to 0F'),\n",
       " ('MLY-TMIN-AVGNDS-LSTH010',\n",
       "  'Long-term average number of days per month where tmin is less than or equal to 10F'),\n",
       " ('MLY-TMIN-AVGNDS-LSTH020',\n",
       "  'Long-term average number of days per month where tmin is less than or equal to 20F'),\n",
       " ('MLY-TMIN-AVGNDS-LSTH032',\n",
       "  'Long-term average number of days per month where tmin is less than or equal to 32F'),\n",
       " ('MLY-TMIN-AVGNDS-LSTH040',\n",
       "  'Long-term average number of days per month where tmin is less than or equal to 40F'),\n",
       " ('MLY-TMIN-AVGNDS-LSTH050',\n",
       "  'Long-term average number of days per month where tmin is less than or equal to 50F'),\n",
       " ('MLY-TMIN-AVGNDS-LSTH060',\n",
       "  'Long-term average number of days per month where tmin is less than or equal to 60F'),\n",
       " ('MLY-TMIN-AVGNDS-LSTH070',\n",
       "  'Long-term average number of days per month where tmin is less than or equal to 70F'),\n",
       " ('MLY-TMIN-NORMAL', 'Long-term averages of monthly minimum temperature'),\n",
       " ('MLY-TMIN-STDDEV',\n",
       "  'Long-term standard deviations of monthly minimum temperature'),\n",
       " ('MMNT', 'Monthly Mean minimum temperature'),\n",
       " ('MMXT', 'Monthly Mean maximum temperature'),\n",
       " ('MNTM', 'Monthly mean temperature'),\n",
       " ('TAVG', 'Average Temperature.'),\n",
       " ('TMAX', 'Maximum temperature'),\n",
       " ('TMIN', 'Minimum temperature'),\n",
       " ('TOBS', 'Temperature at the time of observation')]"
      ]
     },
     "execution_count": 52,
     "metadata": {},
     "output_type": "execute_result"
    }
   ],
   "source": [
    "[(data[\"id\"], data[\"name\"]) for data in response.json()[\"results\"]]"
   ]
  },
  {
   "cell_type": "markdown",
   "id": "f6c611bd",
   "metadata": {},
   "source": [
    "I am looking for **TAVG, TMAX, TMIN** data types.\n",
    "\n",
    "Now that we have everything we need to request temperature data foe all locations, I will narrow it down to a spedific location."
   ]
  },
  {
   "cell_type": "code",
   "execution_count": 53,
   "id": "529a6db7",
   "metadata": {},
   "outputs": [],
   "source": [
    "response = make_request(\"locationcategories\", payload={\"datasetid\": \"GHCND\"})"
   ]
  },
  {
   "cell_type": "code",
   "execution_count": 56,
   "id": "6d63793d",
   "metadata": {},
   "outputs": [
    {
     "name": "stdout",
     "output_type": "stream",
     "text": [
      "{'metadata': {'resultset': {'count': 12, 'limit': 25, 'offset': 1}},\n",
      " 'results': [{'id': 'CITY', 'name': 'City'},\n",
      "             {'id': 'CLIM_DIV', 'name': 'Climate Division'},\n",
      "             {'id': 'CLIM_REG', 'name': 'Climate Region'},\n",
      "             {'id': 'CNTRY', 'name': 'Country'},\n",
      "             {'id': 'CNTY', 'name': 'County'},\n",
      "             {'id': 'HYD_ACC', 'name': 'Hydrologic Accounting Unit'},\n",
      "             {'id': 'HYD_CAT', 'name': 'Hydrologic Cataloging Unit'},\n",
      "             {'id': 'HYD_REG', 'name': 'Hydrologic Region'},\n",
      "             {'id': 'HYD_SUB', 'name': 'Hydrologic Subregion'},\n",
      "             {'id': 'ST', 'name': 'State'},\n",
      "             {'id': 'US_TERR', 'name': 'US Territory'},\n",
      "             {'id': 'ZIP', 'name': 'Zip Code'}]}\n"
     ]
    }
   ],
   "source": [
    "import pprint as pp\n",
    "pp.pprint(response.json())"
   ]
  },
  {
   "cell_type": "markdown",
   "id": "3454b706",
   "metadata": {},
   "source": [
    "I want to look at Lagos City, so for the location `locationcategoryid` filter, `CITY` is the proper value."
   ]
  },
  {
   "cell_type": "code",
   "execution_count": 94,
   "id": "8b55b6e1",
   "metadata": {},
   "outputs": [],
   "source": [
    "def get_item(name:str, what:dict, endpoint:str, start=1, end: Optional[int]=None):\n",
    "    \"\"\"Compute the payload using binary search\n",
    "    \n",
    "    Parameters\n",
    "    ==========\n",
    "    name: The item to look for\n",
    "    what: Dictionary specifying what item `name` is.\n",
    "    endpoint: Where to look for the item.\n",
    "    start: The position to start at.\n",
    "    end: The last position of the items. Used to find\n",
    "    the midpoint\n",
    "    \n",
    "    Returns\n",
    "    =======\n",
    "    Dictionary of the information for the item if found\n",
    "        otherwise an empty dictionary\n",
    "        \n",
    "    \"\"\"\n",
    "    name = name.lower()\n",
    "    \n",
    "    # find the midpoint to cut the data into half each time\n",
    "    mid = (start + (end or 1))//2\n",
    "    \n",
    "    # Define the payload we will send with each request\n",
    "    payload = {\n",
    "        \"datasetid\": \"GHCND\",\n",
    "        \"sortedfield\": \"name\",\n",
    "        \"offset\": mid,\n",
    "        \"limit\": 1 # We only want one value back\n",
    "    }\n",
    "    \n",
    "    #make request adding additonal filters from `what`\n",
    "    response = make_request(endpoint, {**payload, **what})\n",
    "    \n",
    "    if response.ok:\n",
    "        payload = response.json()\n",
    "        print(payload)\n",
    "        \n",
    "        # Grab the end index from the response\n",
    "        # metadata the first time through\n",
    "        end = end or payload[\"metadata\"][\"resultset\"][\"count\"]\n",
    "        # grab the lowercase version of the current name\n",
    "        current_name = payload[\"results\"][0][\"name\"].lower()\n",
    "        \n",
    "        # if what we are searching for is in the current name,\n",
    "        # we have found out item\n",
    "        if name in current_name:\n",
    "            return payload[\"results\"][0]\n",
    "\n",
    "        if start >= end:\n",
    "            return {}\n",
    "        elif name < current_name: # Search to the left\n",
    "            return get_item(name, what, endpoint, start, mid-1)\n",
    "        elif name > current_name: # search to the right\n",
    "            return get_item(name, what, endpoint, mid+1, end)\n",
    "    else:\n",
    "        print(f\"Reponse not OK, status {response.status_code}\")\n",
    "                "
   ]
  },
  {
   "cell_type": "code",
   "execution_count": null,
   "id": "aa798519",
   "metadata": {},
   "outputs": [],
   "source": []
  }
 ],
 "metadata": {
  "kernelspec": {
   "display_name": "Python 3 (ipykernel)",
   "language": "python",
   "name": "python3"
  },
  "language_info": {
   "codemirror_mode": {
    "name": "ipython",
    "version": 3
   },
   "file_extension": ".py",
   "mimetype": "text/x-python",
   "name": "python",
   "nbconvert_exporter": "python",
   "pygments_lexer": "ipython3",
   "version": "3.10.9"
  }
 },
 "nbformat": 4,
 "nbformat_minor": 5
}
