{
 "cells": [
  {
   "cell_type": "markdown",
   "id": "3e013a7f",
   "metadata": {},
   "source": [
    "## Exploring an API to find and collect temperature data\n",
    "\n",
    "Let's explore the weather API that's provided by the [NCDC](https://www.ncdc.noaa.gov/cdo-web/webservices/v2#gettingStarted).\n",
    "\n",
    "NCDC offers web services that provide access to current data. This API is for developers looking to create their own scripts that use the CDO database of the weather and climage data.\n"
   ]
  },
  {
   "cell_type": "code",
   "execution_count": 8,
   "id": "2d9703e4",
   "metadata": {},
   "outputs": [],
   "source": [
    "# Import the neccessary packages\n",
    "import pandas as pd\n",
    "import numpy as np\n",
    "import seaborn as sns\n",
    "import matplotlib.pyplot as plt\n",
    "\n",
    "import os\n",
    "import requests\n",
    "\n",
    "import datetime as dt\n",
    "\n",
    "from dotenv import load_dotenv"
   ]
  },
  {
   "cell_type": "code",
   "execution_count": 52,
   "id": "e40f6c05",
   "metadata": {},
   "outputs": [],
   "source": [
    "# Load the secret keys\n",
    "load_dotenv(\".env\")\n",
    "token = os.environ.get(\"Token\")"
   ]
  },
  {
   "cell_type": "code",
   "execution_count": 58,
   "id": "cdfe7adc",
   "metadata": {},
   "outputs": [],
   "source": [
    "def make_request(endpoint, payload=None):\n",
    "    \"\"\"\n",
    "    Make a request to a specific endpoint on the weather API\n",
    "    passing headers and option payload\n",
    "    \n",
    "    :endpoint: API endpoint in string format\n",
    "    :type endpoint: str\n",
    "    :payload: dict\n",
    "    :returns: A response object\n",
    "    :rtype: object\n",
    "    \"\"\"\n",
    "    api = \"https://www.ncdc.noaa.gov/cdo-web/api/v2\"\n",
    "    \n",
    "    return requests.get(\n",
    "        f\"{api}/{endpoint}\",\n",
    "        headers={\"token\":token},\n",
    "        params=payload\n",
    "    )"
   ]
  },
  {
   "cell_type": "code",
   "execution_count": 59,
   "id": "e83a301b",
   "metadata": {},
   "outputs": [
    {
     "data": {
      "text/plain": [
       "datetime.date(2023, 3, 20)"
      ]
     },
     "execution_count": 59,
     "metadata": {},
     "output_type": "execute_result"
    }
   ],
   "source": [
    "# Define the params\n",
    "# Not this date will change depend on when u run this code \n",
    "end_date= dt.date.today() - dt.timedelta(days=1)\n",
    "start_date = end_date - dt.timedelta(days=365)\n",
    "\n",
    "start_date"
   ]
  },
  {
   "cell_type": "code",
   "execution_count": 130,
   "id": "7601c138",
   "metadata": {},
   "outputs": [],
   "source": [
    "# Get list of avialable datasets.\n",
    "# Use with paramets to filter result\n",
    "# filter by `start_date`\n",
    "\n",
    "response = make_request(\"datasets\", {\"startdate\": start_date})"
   ]
  },
  {
   "cell_type": "code",
   "execution_count": 131,
   "id": "52fc24eb",
   "metadata": {},
   "outputs": [
    {
     "data": {
      "text/plain": [
       "200"
      ]
     },
     "execution_count": 131,
     "metadata": {},
     "output_type": "execute_result"
    }
   ],
   "source": [
    "response.status_code"
   ]
  },
  {
   "cell_type": "code",
   "execution_count": 132,
   "id": "aca4953a",
   "metadata": {},
   "outputs": [
    {
     "data": {
      "text/plain": [
       "'https://www.ncdc.noaa.gov/cdo-web/api/v2/datasets?startdate=2023-03-20'"
      ]
     },
     "execution_count": 132,
     "metadata": {},
     "output_type": "execute_result"
    }
   ],
   "source": [
    "response.url"
   ]
  },
  {
   "cell_type": "code",
   "execution_count": 134,
   "id": "aa0e7dbb",
   "metadata": {},
   "outputs": [],
   "source": [
    "payload = response.json()"
   ]
  },
  {
   "cell_type": "markdown",
   "id": "b5abb7a9",
   "metadata": {},
   "source": [
    "We got 11 rows back, lets see what fields are in the `resultsets` portion of the payload"
   ]
  },
  {
   "cell_type": "code",
   "execution_count": 135,
   "id": "0dd11ef4",
   "metadata": {},
   "outputs": [
    {
     "data": {
      "text/plain": [
       "dict_keys(['uid', 'mindate', 'maxdate', 'name', 'datacoverage', 'id'])"
      ]
     },
     "execution_count": 135,
     "metadata": {},
     "output_type": "execute_result"
    }
   ],
   "source": [
    "payload[\"results\"][0].keys()"
   ]
  },
  {
   "cell_type": "markdown",
   "id": "25e5493e",
   "metadata": {},
   "source": [
    "We want to look at `ids` and `names` of the dataset"
   ]
  },
  {
   "cell_type": "code",
   "execution_count": 139,
   "id": "2510d35f",
   "metadata": {},
   "outputs": [
    {
     "data": {
      "text/plain": [
       "[('GHCND', 'Daily Summaries'),\n",
       " ('GSOM', 'Global Summary of the Month'),\n",
       " ('GSOY', 'Global Summary of the Year'),\n",
       " ('NEXRAD2', 'Weather Radar (Level II)'),\n",
       " ('NEXRAD3', 'Weather Radar (Level III)'),\n",
       " ('NORMAL_ANN', 'Normals Annual/Seasonal'),\n",
       " ('NORMAL_DLY', 'Normals Daily'),\n",
       " ('NORMAL_HLY', 'Normals Hourly'),\n",
       " ('NORMAL_MLY', 'Normals Monthly'),\n",
       " ('PRECIP_15', 'Precipitation 15 Minute'),\n",
       " ('PRECIP_HLY', 'Precipitation Hourly')]"
      ]
     },
     "execution_count": 139,
     "metadata": {},
     "output_type": "execute_result"
    }
   ],
   "source": [
    "[ (result[\"id\"], result[\"name\"]) for result in payload[\"results\"]]"
   ]
  },
  {
   "cell_type": "markdown",
   "id": "c47dfef5",
   "metadata": {},
   "source": [
    "The first entry in the result is what we are looking for `('GHCND', 'Daily Summaries')`\n",
    "Now that we have a value for `datasetid (GHCND)`, we proceed to identify one for `datacategoryid`, \n",
    "which we need to request temperature data. We do so using the datacategories endpoint. \n",
    "Here, we can print the JSON payload since it isn't that large (only nine entries):"
   ]
  },
  {
   "cell_type": "code",
   "execution_count": 142,
   "id": "f697a418",
   "metadata": {},
   "outputs": [
    {
     "data": {
      "text/plain": [
       "{'metadata': {'resultset': {'offset': 1, 'count': 9, 'limit': 25}},\n",
       " 'results': [{'name': 'Evaporation', 'id': 'EVAP'},\n",
       "  {'name': 'Land', 'id': 'LAND'},\n",
       "  {'name': 'Precipitation', 'id': 'PRCP'},\n",
       "  {'name': 'Sky cover & clouds', 'id': 'SKY'},\n",
       "  {'name': 'Sunshine', 'id': 'SUN'},\n",
       "  {'name': 'Air Temperature', 'id': 'TEMP'},\n",
       "  {'name': 'Water', 'id': 'WATER'},\n",
       "  {'name': 'Wind', 'id': 'WIND'},\n",
       "  {'name': 'Weather Type', 'id': 'WXTYPE'}]}"
      ]
     },
     "execution_count": 142,
     "metadata": {},
     "output_type": "execute_result"
    }
   ],
   "source": [
    "response = make_request(\"datacategories\", payload={\"datasetid\": \"GHCND\"})\n",
    "payload = response.json()\n",
    "payload"
   ]
  },
  {
   "cell_type": "markdown",
   "id": "8c1c07c1",
   "metadata": {},
   "source": [
    "Based on the previous result, we know that we want a value of `TEMP` for\n",
    "datacategoryid. Next, we use this to identify the data types we want by using the\n",
    "datatypes endpoint. We will use a list comprehension once again to only print the\n",
    "`names` and IDs; this is still a rather large list, so the output has been abbreviated:"
   ]
  },
  {
   "cell_type": "code",
   "execution_count": 162,
   "id": "e8d80e27",
   "metadata": {},
   "outputs": [
    {
     "data": {
      "text/plain": [
       "[('CDSD', 'Cooling Degree Days Season to Date'),\n",
       " ('DATN',\n",
       "  'Number of days included in the multiday minimum temperature (MDTN)'),\n",
       " ('DATX',\n",
       "  'Number of days included in the multiday maximum temperature (MDTX)'),\n",
       " ('DLY-DUTR-NORMAL', 'Long-term averages of daily diurnal temperature range'),\n",
       " ('DLY-DUTR-STDDEV',\n",
       "  'Long-term standard deviations of daily diurnal temperature range'),\n",
       " ('DLY-TAVG-NORMAL', 'Long-term averages of daily average temperature'),\n",
       " ('DLY-TAVG-STDDEV',\n",
       "  'Long-term standard deviations of daily average temperature'),\n",
       " ('DLY-TMAX-NORMAL', 'Long-term averages of daily maximum temperature'),\n",
       " ('DLY-TMAX-STDDEV',\n",
       "  'Long-term standard deviations of daily maximum temperature'),\n",
       " ('DLY-TMIN-NORMAL', 'Long-term averages of daily minimum temperature'),\n",
       " ('DLY-TMIN-STDDEV',\n",
       "  'Long-term standard deviations of daily minimum temperature'),\n",
       " ('EMNT', 'Extreme minimum temperature for the period.'),\n",
       " ('EMXT', 'Extreme maximum temperature for the period.'),\n",
       " ('HDSD', 'Heating Degree Days Season to Date'),\n",
       " ('HLY-DEWP-10PCTL', 'Dew point 10th percentile'),\n",
       " ('HLY-DEWP-90PCTL', 'Dew point 90th percentile'),\n",
       " ('HLY-DEWP-NORMAL', 'Dew point mean'),\n",
       " ('HLY-HIDX-NORMAL', 'Heat index mean'),\n",
       " ('HLY-TEMP-10PCTL', 'Temperature 10th percentile'),\n",
       " ('HLY-TEMP-90PCTL', 'Temperature 90th percentile'),\n",
       " ('HLY-TEMP-NORMAL', 'Temperature mean'),\n",
       " ('HLY-WCHL-NORMAL', 'Wind chill mean'),\n",
       " ('HTMN', 'Highest minimum temperature'),\n",
       " ('HTMX', 'Highest maximum temperature'),\n",
       " ('LTMN', 'Lowest minimum temperature'),\n",
       " ('LTMX', 'Lowest maximum temperature'),\n",
       " ('MDTN', 'Multiday minimum temperature (use with DATN)'),\n",
       " ('MDTX', 'Multiday maximum temperature (use with DATX)'),\n",
       " ('MLY-DUTR-NORMAL',\n",
       "  'Long-term averages of monthly diurnal temperature range'),\n",
       " ('MLY-DUTR-STDDEV',\n",
       "  'Long-term standard deviations of monthly diurnal temperature range'),\n",
       " ('MLY-TAVG-NORMAL', 'Long-term averages of monthly average temperature'),\n",
       " ('MLY-TAVG-STDDEV',\n",
       "  'Long-term standard deviations of monthly average temperature'),\n",
       " ('MLY-TMAX-AVGNDS-GRTH040',\n",
       "  'Long-term average number of days per month where tmax is greater than or equal to 40F'),\n",
       " ('MLY-TMAX-AVGNDS-GRTH050',\n",
       "  'Long-term average number of days per month where tmax is greater than or equal to 50F'),\n",
       " ('MLY-TMAX-AVGNDS-GRTH060',\n",
       "  'Long-term average number of days per month where tmax is greater than or equal to 60F'),\n",
       " ('MLY-TMAX-AVGNDS-GRTH070',\n",
       "  'Long-term average number of days per month where tmax is greater than or equal to 70F'),\n",
       " ('MLY-TMAX-AVGNDS-GRTH080',\n",
       "  'Long-term average number of days per month where tmax is greater than or equal to 80F'),\n",
       " ('MLY-TMAX-AVGNDS-GRTH090',\n",
       "  'Long-term average number of days per month where tmax is greater than or equal to 90F'),\n",
       " ('MLY-TMAX-AVGNDS-GRTH100',\n",
       "  'Long-term average number of days per month where tmax is greater than or equal to 100F'),\n",
       " ('MLY-TMAX-AVGNDS-LSTH032',\n",
       "  'Long-term average number of days per month where tmax is less than or equal to 32F'),\n",
       " ('MLY-TMAX-NORMAL', 'Long-term averages of monthly maximum temperature'),\n",
       " ('MLY-TMAX-STDDEV',\n",
       "  'Long-term standard deviations of monthly maximum temperature'),\n",
       " ('MLY-TMIN-AVGNDS-LSTH000',\n",
       "  'Long-term average number of days per month where tmin is less than or equal to 0F'),\n",
       " ('MLY-TMIN-AVGNDS-LSTH010',\n",
       "  'Long-term average number of days per month where tmin is less than or equal to 10F'),\n",
       " ('MLY-TMIN-AVGNDS-LSTH020',\n",
       "  'Long-term average number of days per month where tmin is less than or equal to 20F'),\n",
       " ('MLY-TMIN-AVGNDS-LSTH032',\n",
       "  'Long-term average number of days per month where tmin is less than or equal to 32F'),\n",
       " ('MLY-TMIN-AVGNDS-LSTH040',\n",
       "  'Long-term average number of days per month where tmin is less than or equal to 40F'),\n",
       " ('MLY-TMIN-AVGNDS-LSTH050',\n",
       "  'Long-term average number of days per month where tmin is less than or equal to 50F'),\n",
       " ('MLY-TMIN-AVGNDS-LSTH060',\n",
       "  'Long-term average number of days per month where tmin is less than or equal to 60F'),\n",
       " ('MLY-TMIN-AVGNDS-LSTH070',\n",
       "  'Long-term average number of days per month where tmin is less than or equal to 70F'),\n",
       " ('MLY-TMIN-NORMAL', 'Long-term averages of monthly minimum temperature'),\n",
       " ('MLY-TMIN-STDDEV',\n",
       "  'Long-term standard deviations of monthly minimum temperature'),\n",
       " ('MMNT', 'Monthly Mean minimum temperature'),\n",
       " ('MMXT', 'Monthly Mean maximum temperature'),\n",
       " ('MNTM', 'Monthly mean temperature'),\n",
       " ('TAVG', 'Average Temperature.'),\n",
       " ('TMAX', 'Maximum temperature'),\n",
       " ('TMIN', 'Minimum temperature'),\n",
       " ('TOBS', 'Temperature at the time of observation')]"
      ]
     },
     "execution_count": 162,
     "metadata": {},
     "output_type": "execute_result"
    }
   ],
   "source": [
    "response = make_request(\"datatypes\", payload={\"datacategoryid\": \"TEMP\", \"limit\": 70})\n",
    "datatypes = response.json()\n",
    "[(datatype[\"id\"], datatype[\"name\"]) for datatype in datatypes[\"results\"]]"
   ]
  },
  {
   "cell_type": "code",
   "execution_count": 184,
   "id": "3674e182",
   "metadata": {},
   "outputs": [
    {
     "data": {
      "text/plain": [
       "200"
      ]
     },
     "execution_count": 184,
     "metadata": {},
     "output_type": "execute_result"
    }
   ],
   "source": [
    "response = make_request(\"locationcategories\", payload={\"datasetid\":\"GHCND\"})\n",
    "response.status_code"
   ]
  },
  {
   "cell_type": "code",
   "execution_count": 185,
   "id": "e391e323",
   "metadata": {},
   "outputs": [
    {
     "name": "stdout",
     "output_type": "stream",
     "text": [
      "{'metadata': {'resultset': {'count': 12, 'limit': 25, 'offset': 1}},\n",
      " 'results': [{'id': 'CITY', 'name': 'City'},\n",
      "             {'id': 'CLIM_DIV', 'name': 'Climate Division'},\n",
      "             {'id': 'CLIM_REG', 'name': 'Climate Region'},\n",
      "             {'id': 'CNTRY', 'name': 'Country'},\n",
      "             {'id': 'CNTY', 'name': 'County'},\n",
      "             {'id': 'HYD_ACC', 'name': 'Hydrologic Accounting Unit'},\n",
      "             {'id': 'HYD_CAT', 'name': 'Hydrologic Cataloging Unit'},\n",
      "             {'id': 'HYD_REG', 'name': 'Hydrologic Region'},\n",
      "             {'id': 'HYD_SUB', 'name': 'Hydrologic Subregion'},\n",
      "             {'id': 'ST', 'name': 'State'},\n",
      "             {'id': 'US_TERR', 'name': 'US Territory'},\n",
      "             {'id': 'ZIP', 'name': 'Zip Code'}]}\n"
     ]
    }
   ],
   "source": [
    "import pprint as pp\n",
    "\n",
    "pp.pprint(response.json())\n"
   ]
  },
  {
   "cell_type": "markdown",
   "id": "c019d5fd",
   "metadata": {},
   "source": [
    "I want look at Lagos, so for the `locationcategory` filter, `CITY` is the proper value."
   ]
  },
  {
   "cell_type": "code",
   "execution_count": 175,
   "id": "01affb21",
   "metadata": {},
   "outputs": [],
   "source": [
    "response = make_request(\"locations\", payload={\"locationcategoryid\": \"CITY\"})"
   ]
  },
  {
   "cell_type": "code",
   "execution_count": 176,
   "id": "baf90b12",
   "metadata": {},
   "outputs": [
    {
     "data": {
      "text/plain": [
       "200"
      ]
     },
     "execution_count": 176,
     "metadata": {},
     "output_type": "execute_result"
    }
   ],
   "source": [
    "response.status_code"
   ]
  },
  {
   "cell_type": "code",
   "execution_count": 183,
   "id": "db94b991",
   "metadata": {},
   "outputs": [
    {
     "data": {
      "text/plain": [
       "[{'mindate': '1983-01-01',\n",
       "  'maxdate': '2024-03-17',\n",
       "  'name': 'Abu Dhabi, AE',\n",
       "  'datacoverage': 0.9978,\n",
       "  'id': 'CITY:AE000001'},\n",
       " {'mindate': '1944-03-01',\n",
       "  'maxdate': '2024-03-17',\n",
       "  'name': 'Ajman, AE',\n",
       "  'datacoverage': 1,\n",
       "  'id': 'CITY:AE000002'}]"
      ]
     },
     "execution_count": 183,
     "metadata": {},
     "output_type": "execute_result"
    }
   ],
   "source": [
    "response.json()[\"results\"][:2]"
   ]
  },
  {
   "cell_type": "markdown",
   "id": "3c98ea3f",
   "metadata": {},
   "source": [
    "The result returns 1989 rows. From where we are to search for a particular `city`, say Lagos or New York city. The naive way would be search the entire list with a simple for loop. However, this is not the most efficient way to go about it. A better approach would be to implement a `binary search` for this purpose."
   ]
  },
  {
   "cell_type": "code",
   "execution_count": 285,
   "id": "583fad3d",
   "metadata": {},
   "outputs": [],
   "source": [
    "def get_item(endpoint:str, target:str, params: dict, \n",
    "             start:int=1, end:int|None=None)->dict:\n",
    "    \"\"\"Grab the JSON payload using binary search\n",
    "    Parameters:\n",
    "        - target: The item to look for.\n",
    "        - params: Dictionary specifying what item `target` is.\n",
    "        - endpoint: Where to look for the item.\n",
    "        - start: The position to start at. \n",
    "        - end: The last position of the items.\n",
    "    Returns: Dictionary of information of the item if found\n",
    "        otherwise an empty dictionary\n",
    "    \"\"\"\n",
    "    # Lower case the name to be case insentive\n",
    "    target = target.lower()\n",
    "    \n",
    "    # Define the offset\n",
    "    mid = (start + (end or 1))//2\n",
    "    \n",
    "    # Defined the payload to be sent with each request\n",
    "    payload = {\"datasetid\": \"GHCND\",\n",
    "              \"sortfield\": \"name\",\n",
    "              \"offset\": mid, # we change this each time\n",
    "              \"limit\": 1 # we only want one value\n",
    "              }\n",
    "    \n",
    "    # make request adding additional paramters from `params\n",
    "    response = make_request(endpoint, {**payload, **params})\n",
    "    if response.ok:\n",
    "        payload = response.json()\n",
    "        \n",
    "        # Grab the end index from the response meta for the first time\n",
    "        end = end or payload[\"metadata\"][\"resultset\"][\"count\"]\n",
    "        \n",
    "        # Grad the lowercase version of the current name\n",
    "        current_name = payload[\"results\"][0][\"name\"].lower()\n",
    "        \n",
    "        # If what we are searching for is in the current name, we found the item\n",
    "        if target in current_name:\n",
    "            return payload[\"results\"][0]\n",
    "        else:\n",
    "            if start >= end: # We have reached the end of the list\n",
    "                return {}\n",
    "            elif target < current_name:\n",
    "                # Search to the left\n",
    "                return get_item(endpoint, target, params, start, mid-1)\n",
    "            elif target > current_name:\n",
    "                # Search to the right\n",
    "                return get_item(endpoint, target, params, mid+1, end)\n",
    "    \n",
    "    else:\n",
    "        print(f\"Response not ok. {response.status_code}\")\n",
    "                \n",
    "    \n",
    "    \n",
    "    "
   ]
  },
  {
   "cell_type": "code",
   "execution_count": 286,
   "id": "63636d92",
   "metadata": {},
   "outputs": [],
   "source": [
    "city = get_item(\"locations\", 'New York', params={\"locationcategoryid\": \"CITY\"})"
   ]
  },
  {
   "cell_type": "markdown",
   "id": "4ff68f37",
   "metadata": {},
   "source": [
    "Alternatively we can drill down to the ID of the station that is collection the data"
   ]
  },
  {
   "cell_type": "code",
   "execution_count": 287,
   "id": "bd1fd859",
   "metadata": {},
   "outputs": [],
   "source": [
    "station = get_item(\"stations\", 'NY City Central Park', {'locationid': city['id']},)"
   ]
  },
  {
   "cell_type": "code",
   "execution_count": 288,
   "id": "aec8aeea",
   "metadata": {},
   "outputs": [
    {
     "data": {
      "text/plain": [
       "{'elevation': 42.7,\n",
       " 'mindate': '1869-01-01',\n",
       " 'maxdate': '2024-03-18',\n",
       " 'latitude': 40.77898,\n",
       " 'name': 'NY CITY CENTRAL PARK, NY US',\n",
       " 'datacoverage': 1,\n",
       " 'id': 'GHCND:USW00094728',\n",
       " 'elevationUnit': 'METERS',\n",
       " 'longitude': -73.96925}"
      ]
     },
     "execution_count": 288,
     "metadata": {},
     "output_type": "execute_result"
    }
   ],
   "source": [
    "station"
   ]
  },
  {
   "cell_type": "markdown",
   "id": "27b0b338",
   "metadata": {},
   "source": [
    "Now, let's request City temperature data in Celsius for October 2024, recorded from\n",
    "specific stations. \n",
    "For this, we will use the data endpoint and provide all the parameters we\n",
    "picked up throughout our exploration of the API:"
   ]
  },
  {
   "cell_type": "code",
   "execution_count": 320,
   "id": "b89b64d9",
   "metadata": {},
   "outputs": [],
   "source": [
    "start_date = dt.datetime(2023,2,20)\n",
    "end_date = start_date + dt.timedelta(days=30)\n",
    "\n",
    "# Convert datetime to string\n",
    "start_date = start_date.strftime('%Y-%m-%d')\n",
    "end_date = end_date.strftime('%Y-%m-%d')\n"
   ]
  },
  {
   "cell_type": "code",
   "execution_count": 321,
   "id": "66fb616b",
   "metadata": {},
   "outputs": [],
   "source": [
    "params = {\"datasetid\": \"GHCND\",\n",
    "         \"stationid\":station[\"id\"],\n",
    "         \"locationid\": city[\"id\"],\n",
    "         \"startdate\": start_date,\n",
    "         \"enddate\": end_date,\n",
    "         \"datatypeid\": [\"TAVG\", \"TMAX\", \"TMIN\", \"TOBS\"], \n",
    "         \"units\": \"metric\", \n",
    "         \"limit\": 1000}\n",
    "response = make_request(\"data\", payload=params)"
   ]
  },
  {
   "cell_type": "markdown",
   "id": "efed3e55",
   "metadata": {},
   "source": [
    "Lastly, we will create a DataFrame object; since the results portion of the JSON\n",
    "payload is a list of dictionaries, we can pass it directly to pd.DataFrame():"
   ]
  },
  {
   "cell_type": "code",
   "execution_count": 325,
   "id": "3f8e7290",
   "metadata": {},
   "outputs": [
    {
     "data": {
      "text/html": [
       "<div>\n",
       "<style scoped>\n",
       "    .dataframe tbody tr th:only-of-type {\n",
       "        vertical-align: middle;\n",
       "    }\n",
       "\n",
       "    .dataframe tbody tr th {\n",
       "        vertical-align: top;\n",
       "    }\n",
       "\n",
       "    .dataframe thead th {\n",
       "        text-align: right;\n",
       "    }\n",
       "</style>\n",
       "<table border=\"1\" class=\"dataframe\">\n",
       "  <thead>\n",
       "    <tr style=\"text-align: right;\">\n",
       "      <th></th>\n",
       "      <th>date</th>\n",
       "      <th>datatype</th>\n",
       "      <th>station</th>\n",
       "      <th>attributes</th>\n",
       "      <th>value</th>\n",
       "    </tr>\n",
       "  </thead>\n",
       "  <tbody>\n",
       "    <tr>\n",
       "      <th>0</th>\n",
       "      <td>2023-02-20T00:00:00</td>\n",
       "      <td>TMAX</td>\n",
       "      <td>GHCND:USW00094728</td>\n",
       "      <td>,,W,2400</td>\n",
       "      <td>16.1</td>\n",
       "    </tr>\n",
       "    <tr>\n",
       "      <th>1</th>\n",
       "      <td>2023-02-20T00:00:00</td>\n",
       "      <td>TMIN</td>\n",
       "      <td>GHCND:USW00094728</td>\n",
       "      <td>,,W,2400</td>\n",
       "      <td>8.3</td>\n",
       "    </tr>\n",
       "    <tr>\n",
       "      <th>2</th>\n",
       "      <td>2023-02-21T00:00:00</td>\n",
       "      <td>TMAX</td>\n",
       "      <td>GHCND:USW00094728</td>\n",
       "      <td>,,W,2400</td>\n",
       "      <td>10.0</td>\n",
       "    </tr>\n",
       "    <tr>\n",
       "      <th>3</th>\n",
       "      <td>2023-02-21T00:00:00</td>\n",
       "      <td>TMIN</td>\n",
       "      <td>GHCND:USW00094728</td>\n",
       "      <td>,,W,2400</td>\n",
       "      <td>2.8</td>\n",
       "    </tr>\n",
       "    <tr>\n",
       "      <th>4</th>\n",
       "      <td>2023-02-22T00:00:00</td>\n",
       "      <td>TMAX</td>\n",
       "      <td>GHCND:USW00094728</td>\n",
       "      <td>,,W,2400</td>\n",
       "      <td>6.7</td>\n",
       "    </tr>\n",
       "  </tbody>\n",
       "</table>\n",
       "</div>"
      ],
      "text/plain": [
       "                  date datatype            station attributes  value\n",
       "0  2023-02-20T00:00:00     TMAX  GHCND:USW00094728   ,,W,2400   16.1\n",
       "1  2023-02-20T00:00:00     TMIN  GHCND:USW00094728   ,,W,2400    8.3\n",
       "2  2023-02-21T00:00:00     TMAX  GHCND:USW00094728   ,,W,2400   10.0\n",
       "3  2023-02-21T00:00:00     TMIN  GHCND:USW00094728   ,,W,2400    2.8\n",
       "4  2023-02-22T00:00:00     TMAX  GHCND:USW00094728   ,,W,2400    6.7"
      ]
     },
     "execution_count": 325,
     "metadata": {},
     "output_type": "execute_result"
    }
   ],
   "source": [
    "df= pd.DataFrame(response.json()[\"results\"])\n",
    "df.head()"
   ]
  },
  {
   "cell_type": "code",
   "execution_count": 326,
   "id": "8829abf6",
   "metadata": {},
   "outputs": [
    {
     "data": {
      "text/plain": [
       "array(['TMAX', 'TMIN'], dtype=object)"
      ]
     },
     "execution_count": 326,
     "metadata": {},
     "output_type": "execute_result"
    }
   ],
   "source": [
    "df[\"datatype\"].unique()"
   ]
  },
  {
   "cell_type": "markdown",
   "id": "05e30553-36bc-4cc4-9ff3-b05efa7aff75",
   "metadata": {},
   "source": [
    "We asked for `TAVG`, `TMAX`, `TOBS` and `TMIN`, but notice that we didn't get `TAVG` and `TOBS`. This is because\n",
    "the `Central Park` station isn't recording average temperature, despite being listed in the\n",
    "API as offering it—real-world data is dirty:"
   ]
  },
  {
   "cell_type": "code",
   "execution_count": null,
   "id": "52996aa6-9fef-4018-925c-0a6dc2eb58f6",
   "metadata": {},
   "outputs": [],
   "source": []
  }
 ],
 "metadata": {
  "kernelspec": {
   "display_name": "Python 3 (ipykernel)",
   "language": "python",
   "name": "python3"
  },
  "language_info": {
   "codemirror_mode": {
    "name": "ipython",
    "version": 3
   },
   "file_extension": ".py",
   "mimetype": "text/x-python",
   "name": "python",
   "nbconvert_exporter": "python",
   "pygments_lexer": "ipython3",
   "version": "3.11.1"
  }
 },
 "nbformat": 4,
 "nbformat_minor": 5
}
