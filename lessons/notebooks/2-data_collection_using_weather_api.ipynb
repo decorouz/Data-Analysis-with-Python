{
 "cells": [
  {
   "cell_type": "markdown",
   "id": "3e013a7f",
   "metadata": {},
   "source": [
    "## Exploring an API to find and collect temperature data\n",
    "\n",
    "Let's explore the weather API that's provided by the [NCDC](https://www.ncdc.noaa.gov/cdo-web/webservices/v2#gettingStarted).\n",
    "\n",
    "NCDC offers web services that provide access to current data. This API is for developers looking to create their own scripts that use the CDO database of the weather and climage data.\n"
   ]
  },
  {
   "cell_type": "code",
   "execution_count": 1,
   "id": "2d9703e4",
   "metadata": {},
   "outputs": [],
   "source": [
    "# Import the neccessary packages\n",
    "import pandas as pd\n",
    "import numpy as np\n",
    "import seaborn as sns\n",
    "import matplotlib.pyplot as plt\n",
    "\n",
    "import os\n",
    "import requests\n",
    "\n",
    "import datetime as dt\n",
    "\n",
    "from dotenv import load_dotenv"
   ]
  },
  {
   "cell_type": "code",
   "execution_count": 2,
   "id": "e40f6c05",
   "metadata": {},
   "outputs": [],
   "source": [
    "# Load the secret keys\n",
    "load_dotenv(\"../../.env\")\n",
    "token = os.environ.get(\"Token\")"
   ]
  },
  {
   "cell_type": "code",
   "execution_count": 3,
   "id": "cdfe7adc",
   "metadata": {},
   "outputs": [],
   "source": [
    "def make_request(endpoint, payload=None):\n",
    "    \"\"\"\n",
    "    Make a request to a specific endpoint on the weather API\n",
    "    passing headers and option payload\n",
    "    \n",
    "    :endpoint: API endpoint in string format\n",
    "    :type endpoint: str\n",
    "    :payload: dict\n",
    "    :returns: A response object\n",
    "    :rtype: object\n",
    "    \"\"\"\n",
    "    api = \"https://www.ncdc.noaa.gov/cdo-web/api/v2\"\n",
    "    \n",
    "    return requests.get(\n",
    "        f\"{api}/{endpoint}\",\n",
    "        headers={\"token\":token},\n",
    "        params=payload\n",
    "    )"
   ]
  },
  {
   "cell_type": "code",
   "execution_count": 7,
   "id": "e83a301b",
   "metadata": {},
   "outputs": [],
   "source": [
    "# Define the params\n",
    "# Not this date will change depend on when u run this code \n",
    "start_date = dt.datetime(2023,3,1)\n",
    "end_date = start_date + dt.timedelta(days=30)\n",
    "\n",
    "# # Convert datetime to string\n",
    "# start_date = start_date.strftime('%Y-%m-%d')\n",
    "# end_date = end_date.strftime('%Y-%m-%d')"
   ]
  },
  {
   "cell_type": "code",
   "execution_count": 8,
   "id": "7601c138",
   "metadata": {},
   "outputs": [],
   "source": [
    "# Get list of avialable datasets.\n",
    "# Use with paramets to filter result\n",
    "# filter by `start_date`\n",
    "\n",
    "response = make_request(\"datasets\", {\"startdate\": start_date})"
   ]
  },
  {
   "cell_type": "code",
   "execution_count": 9,
   "id": "52fc24eb",
   "metadata": {},
   "outputs": [
    {
     "data": {
      "text/plain": [
       "200"
      ]
     },
     "execution_count": 9,
     "metadata": {},
     "output_type": "execute_result"
    }
   ],
   "source": [
    "response.status_code"
   ]
  },
  {
   "cell_type": "code",
   "execution_count": 10,
   "id": "aca4953a",
   "metadata": {},
   "outputs": [
    {
     "data": {
      "text/plain": [
       "'https://www.ncdc.noaa.gov/cdo-web/api/v2/datasets?startdate=2023-03-01+00%3A00%3A00'"
      ]
     },
     "execution_count": 10,
     "metadata": {},
     "output_type": "execute_result"
    }
   ],
   "source": [
    "response.url"
   ]
  },
  {
   "cell_type": "code",
   "execution_count": 11,
   "id": "aa0e7dbb",
   "metadata": {},
   "outputs": [],
   "source": [
    "payload = response.json()"
   ]
  },
  {
   "cell_type": "markdown",
   "id": "b5abb7a9",
   "metadata": {},
   "source": [
    "We got 11 rows back, lets see what fields are in the `resultsets` portion of the payload"
   ]
  },
  {
   "cell_type": "code",
   "execution_count": 12,
   "id": "0dd11ef4",
   "metadata": {},
   "outputs": [
    {
     "data": {
      "text/plain": [
       "dict_keys(['uid', 'mindate', 'maxdate', 'name', 'datacoverage', 'id'])"
      ]
     },
     "execution_count": 12,
     "metadata": {},
     "output_type": "execute_result"
    }
   ],
   "source": [
    "payload[\"results\"][0].keys()"
   ]
  },
  {
   "cell_type": "markdown",
   "id": "25e5493e",
   "metadata": {},
   "source": [
    "We want to look at `ids` and `names` of the dataset"
   ]
  },
  {
   "cell_type": "code",
   "execution_count": 13,
   "id": "2510d35f",
   "metadata": {},
   "outputs": [
    {
     "data": {
      "text/plain": [
       "[('GHCND', 'Daily Summaries'),\n",
       " ('GSOM', 'Global Summary of the Month'),\n",
       " ('GSOY', 'Global Summary of the Year'),\n",
       " ('NEXRAD2', 'Weather Radar (Level II)'),\n",
       " ('NEXRAD3', 'Weather Radar (Level III)'),\n",
       " ('NORMAL_ANN', 'Normals Annual/Seasonal'),\n",
       " ('NORMAL_DLY', 'Normals Daily'),\n",
       " ('NORMAL_HLY', 'Normals Hourly'),\n",
       " ('NORMAL_MLY', 'Normals Monthly'),\n",
       " ('PRECIP_15', 'Precipitation 15 Minute'),\n",
       " ('PRECIP_HLY', 'Precipitation Hourly')]"
      ]
     },
     "execution_count": 13,
     "metadata": {},
     "output_type": "execute_result"
    }
   ],
   "source": [
    "[ (result[\"id\"], result[\"name\"]) for result in payload[\"results\"]]"
   ]
  },
  {
   "cell_type": "markdown",
   "id": "c47dfef5",
   "metadata": {},
   "source": [
    "The first entry in the result is what we are looking for `('GHCND', 'Daily Summaries')`\n",
    "Now that we have a value for `datasetid (GHCND)`, we proceed to identify one for `datacategoryid`, \n",
    "which we need to request temperature data. We do so using the datacategories endpoint. \n",
    "Here, we can print the JSON payload since it isn't that large (only nine entries):"
   ]
  },
  {
   "cell_type": "code",
   "execution_count": 14,
   "id": "f697a418",
   "metadata": {},
   "outputs": [
    {
     "data": {
      "text/plain": [
       "{'metadata': {'resultset': {'offset': 1, 'count': 9, 'limit': 25}},\n",
       " 'results': [{'name': 'Evaporation', 'id': 'EVAP'},\n",
       "  {'name': 'Land', 'id': 'LAND'},\n",
       "  {'name': 'Precipitation', 'id': 'PRCP'},\n",
       "  {'name': 'Sky cover & clouds', 'id': 'SKY'},\n",
       "  {'name': 'Sunshine', 'id': 'SUN'},\n",
       "  {'name': 'Air Temperature', 'id': 'TEMP'},\n",
       "  {'name': 'Water', 'id': 'WATER'},\n",
       "  {'name': 'Wind', 'id': 'WIND'},\n",
       "  {'name': 'Weather Type', 'id': 'WXTYPE'}]}"
      ]
     },
     "execution_count": 14,
     "metadata": {},
     "output_type": "execute_result"
    }
   ],
   "source": [
    "response = make_request(\"datacategories\", payload={\"datasetid\": \"GHCND\"})\n",
    "payload = response.json()\n",
    "payload"
   ]
  },
  {
   "cell_type": "markdown",
   "id": "8c1c07c1",
   "metadata": {},
   "source": [
    "Based on the previous result, we know that we want a value of `TEMP` for\n",
    "datacategoryid. Next, we use this to identify the data types we want by using the\n",
    "datatypes endpoint. We will use a list comprehension once again to only print the\n",
    "`names` and IDs; this is still a rather large list, so the output has been abbreviated:"
   ]
  },
  {
   "cell_type": "code",
   "execution_count": 15,
   "id": "e8d80e27",
   "metadata": {},
   "outputs": [
    {
     "data": {
      "text/html": [
       "<div>\n",
       "<style scoped>\n",
       "    .dataframe tbody tr th:only-of-type {\n",
       "        vertical-align: middle;\n",
       "    }\n",
       "\n",
       "    .dataframe tbody tr th {\n",
       "        vertical-align: top;\n",
       "    }\n",
       "\n",
       "    .dataframe thead th {\n",
       "        text-align: right;\n",
       "    }\n",
       "</style>\n",
       "<table border=\"1\" class=\"dataframe\">\n",
       "  <thead>\n",
       "    <tr style=\"text-align: right;\">\n",
       "      <th></th>\n",
       "      <th>id</th>\n",
       "      <th>name</th>\n",
       "    </tr>\n",
       "  </thead>\n",
       "  <tbody>\n",
       "    <tr>\n",
       "      <th>54</th>\n",
       "      <td>MNTM</td>\n",
       "      <td>Monthly mean temperature</td>\n",
       "    </tr>\n",
       "    <tr>\n",
       "      <th>55</th>\n",
       "      <td>TAVG</td>\n",
       "      <td>Average Temperature.</td>\n",
       "    </tr>\n",
       "    <tr>\n",
       "      <th>56</th>\n",
       "      <td>TMAX</td>\n",
       "      <td>Maximum temperature</td>\n",
       "    </tr>\n",
       "    <tr>\n",
       "      <th>57</th>\n",
       "      <td>TMIN</td>\n",
       "      <td>Minimum temperature</td>\n",
       "    </tr>\n",
       "    <tr>\n",
       "      <th>58</th>\n",
       "      <td>TOBS</td>\n",
       "      <td>Temperature at the time of observation</td>\n",
       "    </tr>\n",
       "  </tbody>\n",
       "</table>\n",
       "</div>"
      ],
      "text/plain": [
       "      id                                    name\n",
       "54  MNTM                Monthly mean temperature\n",
       "55  TAVG                    Average Temperature.\n",
       "56  TMAX                     Maximum temperature\n",
       "57  TMIN                     Minimum temperature\n",
       "58  TOBS  Temperature at the time of observation"
      ]
     },
     "execution_count": 15,
     "metadata": {},
     "output_type": "execute_result"
    }
   ],
   "source": [
    "response = make_request(\"datatypes\", \n",
    "                        payload={\"datacategoryid\": \"TEMP\", \"limit\": 60})\n",
    "datatypes = response.json()\n",
    "\n",
    "# Get the id and names of the datatypes\n",
    "datatypes_output = [(datatype[\"id\"], datatype[\"name\"]) for datatype in datatypes[\"results\"]]\n",
    "\n",
    "# Turn the output into a dataframe\n",
    "datatypes_df = pd.DataFrame(datatypes_output, columns=[\"id\", \"name\"])\n",
    "datatypes_df.tail()"
   ]
  },
  {
   "cell_type": "code",
   "execution_count": 18,
   "id": "3674e182",
   "metadata": {},
   "outputs": [
    {
     "data": {
      "text/plain": [
       "200"
      ]
     },
     "execution_count": 18,
     "metadata": {},
     "output_type": "execute_result"
    }
   ],
   "source": [
    "response = make_request(\"locationcategories\", payload={\"datasetid\":\"GHCND\"})\n",
    "response.status_code"
   ]
  },
  {
   "cell_type": "code",
   "execution_count": 19,
   "id": "e391e323",
   "metadata": {},
   "outputs": [
    {
     "name": "stdout",
     "output_type": "stream",
     "text": [
      "{'metadata': {'resultset': {'count': 12, 'limit': 25, 'offset': 1}},\n",
      " 'results': [{'id': 'CITY', 'name': 'City'},\n",
      "             {'id': 'CLIM_DIV', 'name': 'Climate Division'},\n",
      "             {'id': 'CLIM_REG', 'name': 'Climate Region'},\n",
      "             {'id': 'CNTRY', 'name': 'Country'},\n",
      "             {'id': 'CNTY', 'name': 'County'},\n",
      "             {'id': 'HYD_ACC', 'name': 'Hydrologic Accounting Unit'},\n",
      "             {'id': 'HYD_CAT', 'name': 'Hydrologic Cataloging Unit'},\n",
      "             {'id': 'HYD_REG', 'name': 'Hydrologic Region'},\n",
      "             {'id': 'HYD_SUB', 'name': 'Hydrologic Subregion'},\n",
      "             {'id': 'ST', 'name': 'State'},\n",
      "             {'id': 'US_TERR', 'name': 'US Territory'},\n",
      "             {'id': 'ZIP', 'name': 'Zip Code'}]}\n"
     ]
    }
   ],
   "source": [
    "import pprint as pp\n",
    "\n",
    "pp.pprint(response.json())\n"
   ]
  },
  {
   "cell_type": "markdown",
   "id": "c019d5fd",
   "metadata": {},
   "source": [
    "I want look at any city, so for the `locationcategory` filter, `CITY` is the proper value."
   ]
  },
  {
   "cell_type": "code",
   "execution_count": 20,
   "id": "01affb21",
   "metadata": {},
   "outputs": [],
   "source": [
    "response = make_request(\"locations\", payload={\"locationcategoryid\": \"CITY\"})"
   ]
  },
  {
   "cell_type": "code",
   "execution_count": 21,
   "id": "baf90b12",
   "metadata": {},
   "outputs": [
    {
     "data": {
      "text/plain": [
       "200"
      ]
     },
     "execution_count": 21,
     "metadata": {},
     "output_type": "execute_result"
    }
   ],
   "source": [
    "response.status_code"
   ]
  },
  {
   "cell_type": "code",
   "execution_count": 22,
   "id": "db94b991",
   "metadata": {},
   "outputs": [
    {
     "data": {
      "text/plain": [
       "[{'mindate': '1983-01-01',\n",
       "  'maxdate': '2024-03-18',\n",
       "  'name': 'Abu Dhabi, AE',\n",
       "  'datacoverage': 0.9978,\n",
       "  'id': 'CITY:AE000001'},\n",
       " {'mindate': '1944-03-01',\n",
       "  'maxdate': '2024-03-18',\n",
       "  'name': 'Ajman, AE',\n",
       "  'datacoverage': 1,\n",
       "  'id': 'CITY:AE000002'}]"
      ]
     },
     "execution_count": 22,
     "metadata": {},
     "output_type": "execute_result"
    }
   ],
   "source": [
    "response.json()[\"results\"][:2]"
   ]
  },
  {
   "cell_type": "code",
   "execution_count": 23,
   "id": "3fd3893d-3b1e-4d41-8ed7-a2a65f9c77ba",
   "metadata": {},
   "outputs": [
    {
     "data": {
      "text/plain": [
       "{'resultset': {'offset': 1, 'count': 1989, 'limit': 25}}"
      ]
     },
     "execution_count": 23,
     "metadata": {},
     "output_type": "execute_result"
    }
   ],
   "source": [
    "response.json()[\"metadata\"]"
   ]
  },
  {
   "cell_type": "markdown",
   "id": "3c98ea3f",
   "metadata": {},
   "source": [
    "The result returns 1989 rows as shown by `count`. From where we are to search for a particular `city`, say Lagos or New York city. The naive way would be search the entire list with a simple for loop. However, this is not the most efficient way to go about it. A better approach would be to implement a `binary search` for this purpose."
   ]
  },
  {
   "cell_type": "code",
   "execution_count": 24,
   "id": "583fad3d",
   "metadata": {},
   "outputs": [],
   "source": [
    "def get_item(endpoint:str, target:str, params: dict, \n",
    "             start:int=1, end:int|None=None)->dict:\n",
    "    \"\"\"Grab the JSON payload using binary search\n",
    "    Parameters:\n",
    "        - target: The item to look for.\n",
    "        - params: Dictionary specifying what item `target` is.\n",
    "        - endpoint: Where to look for the item.\n",
    "        - start: The position to start at. \n",
    "        - end: The last position of the items.\n",
    "    Returns: Dictionary of information of the item if found\n",
    "        otherwise an empty dictionary\n",
    "    \"\"\"\n",
    "    # Lower case the name to be case insentive\n",
    "    target = target.lower()\n",
    "    \n",
    "    # Define the offset\n",
    "    mid = (start + (end or 1))//2\n",
    "    \n",
    "    # Defined the payload to be sent with each request\n",
    "    payload = {\"datasetid\": \"GHCND\",\n",
    "              \"sortfield\": \"name\",\n",
    "              \"offset\": mid, # we change this each time\n",
    "              \"limit\": 1 # we only want one value\n",
    "              }\n",
    "    \n",
    "    # make request adding additional paramters from `params\n",
    "    response = make_request(endpoint, {**payload, **params})\n",
    "    if response.ok:\n",
    "        payload = response.json()\n",
    "        \n",
    "        # Grab the end index from the response meta for the first time\n",
    "        end = end or payload[\"metadata\"][\"resultset\"][\"count\"]\n",
    "        \n",
    "        # Grad the lowercase version of the current name\n",
    "        current_name = payload[\"results\"][0][\"name\"].lower()\n",
    "        \n",
    "        # If what we are searching for is in the current name, we found the item\n",
    "        if target in current_name:\n",
    "            return payload[\"results\"][0]\n",
    "        else:\n",
    "            if start >= end: # We have reached the end of the list\n",
    "                return {}\n",
    "            elif target < current_name:\n",
    "                # Search to the left\n",
    "                return get_item(endpoint, target, params, start, mid-1)\n",
    "            elif target > current_name:\n",
    "                # Search to the right\n",
    "                return get_item(endpoint, target, params, mid+1, end)\n",
    "    \n",
    "    else:\n",
    "        print(f\"Response not ok. {response.status_code}\")\n",
    "                \n",
    "    \n",
    "    \n",
    "    "
   ]
  },
  {
   "cell_type": "code",
   "execution_count": 25,
   "id": "63636d92",
   "metadata": {},
   "outputs": [],
   "source": [
    "nyc = get_item(\"locations\", 'New York', params={\"locationcategoryid\": \"CITY\"})"
   ]
  },
  {
   "cell_type": "markdown",
   "id": "4ff68f37",
   "metadata": {},
   "source": [
    "Alternatively we can drill down to the ID of the station that is collection the data"
   ]
  },
  {
   "cell_type": "code",
   "execution_count": 26,
   "id": "bd1fd859",
   "metadata": {},
   "outputs": [],
   "source": [
    "nyc_central_pack_station = get_item(\"stations\", \n",
    "                            'NY City Central Park', \n",
    "                            {'locationid': nyc['id']},)"
   ]
  },
  {
   "cell_type": "code",
   "execution_count": 27,
   "id": "aec8aeea",
   "metadata": {},
   "outputs": [
    {
     "data": {
      "text/plain": [
       "{'elevation': 42.7,\n",
       " 'mindate': '1869-01-01',\n",
       " 'maxdate': '2024-03-18',\n",
       " 'latitude': 40.77898,\n",
       " 'name': 'NY CITY CENTRAL PARK, NY US',\n",
       " 'datacoverage': 1,\n",
       " 'id': 'GHCND:USW00094728',\n",
       " 'elevationUnit': 'METERS',\n",
       " 'longitude': -73.96925}"
      ]
     },
     "execution_count": 27,
     "metadata": {},
     "output_type": "execute_result"
    }
   ],
   "source": [
    "nyc_central_pack_station"
   ]
  },
  {
   "cell_type": "markdown",
   "id": "27b0b338",
   "metadata": {},
   "source": [
    "Now, let's request NY central park temperature data in Celsius for October 2024, recorded from specific stations. \n",
    "For this, we will use the data endpoint and provide all the parameters we\n",
    "picked up throughout our exploration of the API:"
   ]
  },
  {
   "cell_type": "code",
   "execution_count": 32,
   "id": "b89b64d9",
   "metadata": {},
   "outputs": [],
   "source": [
    "start_date = dt.datetime(2023,3,1)\n",
    "end_date = start_date + dt.timedelta(days=30)\n",
    "\n",
    "# Convert datetime to string\n",
    "start_date = start_date.strftime('%Y-%m-%d')\n",
    "end_date = end_date.strftime('%Y-%m-%d')\n"
   ]
  },
  {
   "cell_type": "code",
   "execution_count": 33,
   "id": "66fb616b",
   "metadata": {},
   "outputs": [],
   "source": [
    "def get_temp_measure(station, city):\n",
    "    \"\"\"Get the temp. measure at a particular station in a city\"\"\"\n",
    "    params = {\"datasetid\": \"GHCND\",\n",
    "                 \"stationid\":station[\"id\"],\n",
    "                 \"locationid\": city[\"id\"],\n",
    "                 \"startdate\": start_date,\n",
    "                 \"enddate\": end_date,\n",
    "                 \"datatypeid\": [\"TAVG\", \"TMAX\", \"TMIN\", \"TOBS\"], \n",
    "                 \"units\": \"metric\", \n",
    "                 \"limit\": 1000}\n",
    "    \n",
    "    response = make_request(\"data\", payload=params)\n",
    "    return response\n"
   ]
  },
  {
   "cell_type": "code",
   "execution_count": 34,
   "id": "06a87c57-30bb-4a4e-af07-4282f06e7af9",
   "metadata": {},
   "outputs": [],
   "source": [
    "# Get the temperation for nyc and central pack station\n",
    "response = get_temp_measure(nyc_central_pack_station, nyc)"
   ]
  },
  {
   "cell_type": "markdown",
   "id": "efed3e55",
   "metadata": {},
   "source": [
    "Lastly, we will create a DataFrame object; since the results portion of the JSON\n",
    "payload is a list of dictionaries, we can pass it directly to pd.DataFrame():"
   ]
  },
  {
   "cell_type": "code",
   "execution_count": 35,
   "id": "3f8e7290",
   "metadata": {},
   "outputs": [
    {
     "data": {
      "text/html": [
       "<div>\n",
       "<style scoped>\n",
       "    .dataframe tbody tr th:only-of-type {\n",
       "        vertical-align: middle;\n",
       "    }\n",
       "\n",
       "    .dataframe tbody tr th {\n",
       "        vertical-align: top;\n",
       "    }\n",
       "\n",
       "    .dataframe thead th {\n",
       "        text-align: right;\n",
       "    }\n",
       "</style>\n",
       "<table border=\"1\" class=\"dataframe\">\n",
       "  <thead>\n",
       "    <tr style=\"text-align: right;\">\n",
       "      <th></th>\n",
       "      <th>date</th>\n",
       "      <th>datatype</th>\n",
       "      <th>station</th>\n",
       "      <th>attributes</th>\n",
       "      <th>value</th>\n",
       "    </tr>\n",
       "  </thead>\n",
       "  <tbody>\n",
       "    <tr>\n",
       "      <th>0</th>\n",
       "      <td>2023-03-01T00:00:00</td>\n",
       "      <td>TMAX</td>\n",
       "      <td>GHCND:USW00094728</td>\n",
       "      <td>,,W,2400</td>\n",
       "      <td>6.7</td>\n",
       "    </tr>\n",
       "    <tr>\n",
       "      <th>1</th>\n",
       "      <td>2023-03-01T00:00:00</td>\n",
       "      <td>TMIN</td>\n",
       "      <td>GHCND:USW00094728</td>\n",
       "      <td>,,W,2400</td>\n",
       "      <td>0.6</td>\n",
       "    </tr>\n",
       "    <tr>\n",
       "      <th>2</th>\n",
       "      <td>2023-03-02T00:00:00</td>\n",
       "      <td>TMAX</td>\n",
       "      <td>GHCND:USW00094728</td>\n",
       "      <td>,,W,2400</td>\n",
       "      <td>12.2</td>\n",
       "    </tr>\n",
       "    <tr>\n",
       "      <th>3</th>\n",
       "      <td>2023-03-02T00:00:00</td>\n",
       "      <td>TMIN</td>\n",
       "      <td>GHCND:USW00094728</td>\n",
       "      <td>,,W,2400</td>\n",
       "      <td>3.9</td>\n",
       "    </tr>\n",
       "    <tr>\n",
       "      <th>4</th>\n",
       "      <td>2023-03-03T00:00:00</td>\n",
       "      <td>TMAX</td>\n",
       "      <td>GHCND:USW00094728</td>\n",
       "      <td>,,W,2400</td>\n",
       "      <td>8.3</td>\n",
       "    </tr>\n",
       "  </tbody>\n",
       "</table>\n",
       "</div>"
      ],
      "text/plain": [
       "                  date datatype            station attributes  value\n",
       "0  2023-03-01T00:00:00     TMAX  GHCND:USW00094728   ,,W,2400    6.7\n",
       "1  2023-03-01T00:00:00     TMIN  GHCND:USW00094728   ,,W,2400    0.6\n",
       "2  2023-03-02T00:00:00     TMAX  GHCND:USW00094728   ,,W,2400   12.2\n",
       "3  2023-03-02T00:00:00     TMIN  GHCND:USW00094728   ,,W,2400    3.9\n",
       "4  2023-03-03T00:00:00     TMAX  GHCND:USW00094728   ,,W,2400    8.3"
      ]
     },
     "execution_count": 35,
     "metadata": {},
     "output_type": "execute_result"
    }
   ],
   "source": [
    "df= pd.DataFrame(response.json()[\"results\"])\n",
    "df.head()"
   ]
  },
  {
   "cell_type": "code",
   "execution_count": 36,
   "id": "8829abf6",
   "metadata": {},
   "outputs": [
    {
     "data": {
      "text/plain": [
       "array(['TMAX', 'TMIN'], dtype=object)"
      ]
     },
     "execution_count": 36,
     "metadata": {},
     "output_type": "execute_result"
    }
   ],
   "source": [
    "df[\"datatype\"].unique()"
   ]
  },
  {
   "cell_type": "markdown",
   "id": "05e30553-36bc-4cc4-9ff3-b05efa7aff75",
   "metadata": {},
   "source": [
    "We asked for `TAVG`, `TMAX`, `TOBS` and `TMIN`, but notice that we didn't get `TAVG` and `TOBS`. This is because\n",
    "the `Central Park` station isn't recording average temperature, despite being listed in the\n",
    "API as offering it—real-world data is dirty:"
   ]
  },
  {
   "cell_type": "markdown",
   "id": "7410e395-a768-4b35-a75e-d572a185885c",
   "metadata": {},
   "source": [
    "Lets use a different location as station instead of Central Pack. In this instance we will use **LaGuardia**"
   ]
  },
  {
   "cell_type": "code",
   "execution_count": 39,
   "id": "bedce9f7-faf9-4d63-8b41-60def1fce253",
   "metadata": {},
   "outputs": [],
   "source": [
    "la_guadia_station = get_item(\"stations\", 'LaGuardia', {'locationid': nyc['id']},)"
   ]
  },
  {
   "cell_type": "code",
   "execution_count": 40,
   "id": "a45041bf-d291-4794-87b8-c50fdcb1cbe3",
   "metadata": {
    "scrolled": true
   },
   "outputs": [
    {
     "data": {
      "text/plain": [
       "{'elevation': 3,\n",
       " 'mindate': '1939-10-07',\n",
       " 'maxdate': '2024-03-19',\n",
       " 'latitude': 40.77945,\n",
       " 'name': 'LAGUARDIA AIRPORT, NY US',\n",
       " 'datacoverage': 1,\n",
       " 'id': 'GHCND:USW00014732',\n",
       " 'elevationUnit': 'METERS',\n",
       " 'longitude': -73.88027}"
      ]
     },
     "execution_count": 40,
     "metadata": {},
     "output_type": "execute_result"
    }
   ],
   "source": [
    "la_guadia_station"
   ]
  },
  {
   "cell_type": "code",
   "execution_count": 41,
   "id": "62e9ea9d-b222-4f6b-9b6e-65bf67faf291",
   "metadata": {},
   "outputs": [],
   "source": [
    "# Get the temperation for nyc and central pack station\n",
    "response = get_temp_measure(la_guadia_station, nyc)"
   ]
  },
  {
   "cell_type": "code",
   "execution_count": 42,
   "id": "e198d2fb-994b-4539-a864-f5bb8302e349",
   "metadata": {},
   "outputs": [
    {
     "data": {
      "text/html": [
       "<div>\n",
       "<style scoped>\n",
       "    .dataframe tbody tr th:only-of-type {\n",
       "        vertical-align: middle;\n",
       "    }\n",
       "\n",
       "    .dataframe tbody tr th {\n",
       "        vertical-align: top;\n",
       "    }\n",
       "\n",
       "    .dataframe thead th {\n",
       "        text-align: right;\n",
       "    }\n",
       "</style>\n",
       "<table border=\"1\" class=\"dataframe\">\n",
       "  <thead>\n",
       "    <tr style=\"text-align: right;\">\n",
       "      <th></th>\n",
       "      <th>date</th>\n",
       "      <th>datatype</th>\n",
       "      <th>station</th>\n",
       "      <th>attributes</th>\n",
       "      <th>value</th>\n",
       "    </tr>\n",
       "  </thead>\n",
       "  <tbody>\n",
       "    <tr>\n",
       "      <th>0</th>\n",
       "      <td>2023-03-01T00:00:00</td>\n",
       "      <td>TAVG</td>\n",
       "      <td>GHCND:USW00014732</td>\n",
       "      <td>H,,S,</td>\n",
       "      <td>3.9</td>\n",
       "    </tr>\n",
       "    <tr>\n",
       "      <th>1</th>\n",
       "      <td>2023-03-01T00:00:00</td>\n",
       "      <td>TMAX</td>\n",
       "      <td>GHCND:USW00014732</td>\n",
       "      <td>,,W,2400</td>\n",
       "      <td>6.7</td>\n",
       "    </tr>\n",
       "    <tr>\n",
       "      <th>2</th>\n",
       "      <td>2023-03-01T00:00:00</td>\n",
       "      <td>TMIN</td>\n",
       "      <td>GHCND:USW00014732</td>\n",
       "      <td>,,W,2400</td>\n",
       "      <td>0.6</td>\n",
       "    </tr>\n",
       "    <tr>\n",
       "      <th>3</th>\n",
       "      <td>2023-03-02T00:00:00</td>\n",
       "      <td>TAVG</td>\n",
       "      <td>GHCND:USW00014732</td>\n",
       "      <td>H,,S,</td>\n",
       "      <td>6.3</td>\n",
       "    </tr>\n",
       "    <tr>\n",
       "      <th>4</th>\n",
       "      <td>2023-03-02T00:00:00</td>\n",
       "      <td>TMAX</td>\n",
       "      <td>GHCND:USW00014732</td>\n",
       "      <td>,,W,2400</td>\n",
       "      <td>11.7</td>\n",
       "    </tr>\n",
       "  </tbody>\n",
       "</table>\n",
       "</div>"
      ],
      "text/plain": [
       "                  date datatype            station attributes  value\n",
       "0  2023-03-01T00:00:00     TAVG  GHCND:USW00014732      H,,S,    3.9\n",
       "1  2023-03-01T00:00:00     TMAX  GHCND:USW00014732   ,,W,2400    6.7\n",
       "2  2023-03-01T00:00:00     TMIN  GHCND:USW00014732   ,,W,2400    0.6\n",
       "3  2023-03-02T00:00:00     TAVG  GHCND:USW00014732      H,,S,    6.3\n",
       "4  2023-03-02T00:00:00     TMAX  GHCND:USW00014732   ,,W,2400   11.7"
      ]
     },
     "execution_count": 42,
     "metadata": {},
     "output_type": "execute_result"
    }
   ],
   "source": [
    "# Store result in dataframe\n",
    "df= pd.DataFrame(response.json()[\"results\"])\n",
    "df.head()"
   ]
  },
  {
   "cell_type": "code",
   "execution_count": 43,
   "id": "e7199902-e26b-4c19-b0ad-9d03c196c621",
   "metadata": {},
   "outputs": [
    {
     "data": {
      "text/plain": [
       "array(['TAVG', 'TMAX', 'TMIN'], dtype=object)"
      ]
     },
     "execution_count": 43,
     "metadata": {},
     "output_type": "execute_result"
    }
   ],
   "source": [
    "df[\"datatype\"].unique()"
   ]
  },
  {
   "cell_type": "code",
   "execution_count": 44,
   "id": "52996aa6-9fef-4018-925c-0a6dc2eb58f6",
   "metadata": {},
   "outputs": [],
   "source": [
    "# Lets save the result into a csv\n",
    "df.to_csv(\"../data/temp_nyc_laguadia_station_2023_02_20.csv\", index=False)"
   ]
  },
  {
   "cell_type": "code",
   "execution_count": null,
   "id": "20775249-27fb-41a5-9ffb-d4661b50f63e",
   "metadata": {},
   "outputs": [],
   "source": []
  }
 ],
 "metadata": {
  "kernelspec": {
   "display_name": "Python 3 (ipykernel)",
   "language": "python",
   "name": "python3"
  },
  "language_info": {
   "codemirror_mode": {
    "name": "ipython",
    "version": 3
   },
   "file_extension": ".py",
   "mimetype": "text/x-python",
   "name": "python",
   "nbconvert_exporter": "python",
   "pygments_lexer": "ipython3",
   "version": "3.10.9"
  }
 },
 "nbformat": 4,
 "nbformat_minor": 5
}
