{
 "cells": [
  {
   "cell_type": "code",
   "execution_count": 109,
   "id": "7b073015",
   "metadata": {},
   "outputs": [],
   "source": [
    "import pandas as pd\n",
    "from collections import Counter\n",
    "import numpy as np\n",
    "from matplotlib import pyplot as plt\n"
   ]
  },
  {
   "cell_type": "markdown",
   "id": "a9159e8f",
   "metadata": {},
   "source": [
    "## US Hurricane Data: 1851-2020"
   ]
  },
  {
   "cell_type": "code",
   "execution_count": 59,
   "id": "e56c459e",
   "metadata": {},
   "outputs": [
    {
     "data": {
      "text/html": [
       "<div>\n",
       "<style scoped>\n",
       "    .dataframe tbody tr th:only-of-type {\n",
       "        vertical-align: middle;\n",
       "    }\n",
       "\n",
       "    .dataframe tbody tr th {\n",
       "        vertical-align: top;\n",
       "    }\n",
       "\n",
       "    .dataframe thead th {\n",
       "        text-align: right;\n",
       "    }\n",
       "</style>\n",
       "<table border=\"1\" class=\"dataframe\">\n",
       "  <thead>\n",
       "    <tr style=\"text-align: right;\">\n",
       "      <th></th>\n",
       "      <th>Year</th>\n",
       "      <th>Month</th>\n",
       "      <th>States Affected and Category by States</th>\n",
       "      <th>Highest Saffir-Simpson U.S. Category</th>\n",
       "      <th>Central Pressure (mb)</th>\n",
       "      <th>Max Wind (kt)</th>\n",
       "      <th>Name</th>\n",
       "    </tr>\n",
       "  </thead>\n",
       "  <tbody>\n",
       "    <tr>\n",
       "      <th>0</th>\n",
       "      <td>1850s</td>\n",
       "      <td>NaN</td>\n",
       "      <td>NaN</td>\n",
       "      <td>NaN</td>\n",
       "      <td>NaN</td>\n",
       "      <td>NaN</td>\n",
       "      <td>NaN</td>\n",
       "    </tr>\n",
       "    <tr>\n",
       "      <th>1</th>\n",
       "      <td>1851</td>\n",
       "      <td>Jun</td>\n",
       "      <td>TX, C1</td>\n",
       "      <td>1.0</td>\n",
       "      <td>974.0</td>\n",
       "      <td>80</td>\n",
       "      <td>-----</td>\n",
       "    </tr>\n",
       "    <tr>\n",
       "      <th>2</th>\n",
       "      <td>1851</td>\n",
       "      <td>Aug</td>\n",
       "      <td>FL, NW3; I-GA, 1</td>\n",
       "      <td>3.0</td>\n",
       "      <td>955.0</td>\n",
       "      <td>100</td>\n",
       "      <td>\"Great Middle Florida\"</td>\n",
       "    </tr>\n",
       "    <tr>\n",
       "      <th>3</th>\n",
       "      <td>1852</td>\n",
       "      <td>Aug</td>\n",
       "      <td>AL, 3; MS, 3; LA, 2; FL, SW2, NW1</td>\n",
       "      <td>3.0</td>\n",
       "      <td>961.0</td>\n",
       "      <td>100</td>\n",
       "      <td>\"Great Mobile\"</td>\n",
       "    </tr>\n",
       "    <tr>\n",
       "      <th>4</th>\n",
       "      <td>1852</td>\n",
       "      <td>Sep</td>\n",
       "      <td>FL, SW1</td>\n",
       "      <td>1.0</td>\n",
       "      <td>982.0</td>\n",
       "      <td>70</td>\n",
       "      <td>-----</td>\n",
       "    </tr>\n",
       "    <tr>\n",
       "      <th>...</th>\n",
       "      <td>...</td>\n",
       "      <td>...</td>\n",
       "      <td>...</td>\n",
       "      <td>...</td>\n",
       "      <td>...</td>\n",
       "      <td>...</td>\n",
       "      <td>...</td>\n",
       "    </tr>\n",
       "    <tr>\n",
       "      <th>350</th>\n",
       "      <td>2020</td>\n",
       "      <td>Aug</td>\n",
       "      <td>NC, 1; SC, 1</td>\n",
       "      <td>1.0</td>\n",
       "      <td>986.0</td>\n",
       "      <td>80</td>\n",
       "      <td>Isaias</td>\n",
       "    </tr>\n",
       "    <tr>\n",
       "      <th>351</th>\n",
       "      <td>2020</td>\n",
       "      <td>Aug</td>\n",
       "      <td>LA, 4; TX, N1</td>\n",
       "      <td>4.0</td>\n",
       "      <td>938.0</td>\n",
       "      <td>130</td>\n",
       "      <td>Laura</td>\n",
       "    </tr>\n",
       "    <tr>\n",
       "      <th>352</th>\n",
       "      <td>2020</td>\n",
       "      <td>Sep</td>\n",
       "      <td>AL, 2; FL, NW2</td>\n",
       "      <td>2.0</td>\n",
       "      <td>965.0</td>\n",
       "      <td>95</td>\n",
       "      <td>Sally</td>\n",
       "    </tr>\n",
       "    <tr>\n",
       "      <th>353</th>\n",
       "      <td>2020</td>\n",
       "      <td>Oct</td>\n",
       "      <td>LA,2</td>\n",
       "      <td>2.0</td>\n",
       "      <td>970.0</td>\n",
       "      <td>85</td>\n",
       "      <td>Delta</td>\n",
       "    </tr>\n",
       "    <tr>\n",
       "      <th>354</th>\n",
       "      <td>2020</td>\n",
       "      <td>Oct</td>\n",
       "      <td>LA,3; MS, 2; I-AL, 1</td>\n",
       "      <td>2.0</td>\n",
       "      <td>973.0</td>\n",
       "      <td>90</td>\n",
       "      <td>Zeta</td>\n",
       "    </tr>\n",
       "  </tbody>\n",
       "</table>\n",
       "<p>355 rows × 7 columns</p>\n",
       "</div>"
      ],
      "text/plain": [
       "      Year Month States Affected and Category by States  \\\n",
       "0    1850s   NaN                                    NaN   \n",
       "1     1851   Jun                                 TX, C1   \n",
       "2     1851   Aug                       FL, NW3; I-GA, 1   \n",
       "3     1852   Aug      AL, 3; MS, 3; LA, 2; FL, SW2, NW1   \n",
       "4     1852   Sep                                FL, SW1   \n",
       "..     ...   ...                                    ...   \n",
       "350   2020   Aug                           NC, 1; SC, 1   \n",
       "351   2020   Aug                          LA, 4; TX, N1   \n",
       "352   2020   Sep                         AL, 2; FL, NW2   \n",
       "353   2020   Oct                                   LA,2   \n",
       "354   2020   Oct                   LA,3; MS, 2; I-AL, 1   \n",
       "\n",
       "     Highest Saffir-Simpson U.S. Category  Central Pressure (mb)  \\\n",
       "0                                     NaN                    NaN   \n",
       "1                                     1.0                  974.0   \n",
       "2                                     3.0                  955.0   \n",
       "3                                     3.0                  961.0   \n",
       "4                                     1.0                  982.0   \n",
       "..                                    ...                    ...   \n",
       "350                                   1.0                  986.0   \n",
       "351                                   4.0                  938.0   \n",
       "352                                   2.0                  965.0   \n",
       "353                                   2.0                  970.0   \n",
       "354                                   2.0                  973.0   \n",
       "\n",
       "    Max Wind (kt)                    Name  \n",
       "0             NaN                     NaN  \n",
       "1              80                   -----  \n",
       "2             100  \"Great Middle Florida\"  \n",
       "3             100          \"Great Mobile\"  \n",
       "4              70                   -----  \n",
       "..            ...                     ...  \n",
       "350            80                  Isaias  \n",
       "351           130                   Laura  \n",
       "352            95                   Sally  \n",
       "353            85                   Delta  \n",
       "354            90                    Zeta  \n",
       "\n",
       "[355 rows x 7 columns]"
      ]
     },
     "execution_count": 59,
     "metadata": {},
     "output_type": "execute_result"
    }
   ],
   "source": [
    "df = pd.read_csv(\"data/hurricane_data.csv\")\n",
    "df"
   ]
  },
  {
   "cell_type": "code",
   "execution_count": 60,
   "id": "16970f3f",
   "metadata": {},
   "outputs": [
    {
     "data": {
      "text/plain": [
       "Year                                       object\n",
       "Month                                      object\n",
       "States Affected and Category by States     object\n",
       "Highest Saffir-Simpson U.S. Category      float64\n",
       "Central Pressure (mb)                     float64\n",
       "Max Wind (kt)                              object\n",
       "Name                                       object\n",
       "dtype: object"
      ]
     },
     "execution_count": 60,
     "metadata": {},
     "output_type": "execute_result"
    }
   ],
   "source": [
    "df.dtypes"
   ]
  },
  {
   "cell_type": "code",
   "execution_count": 61,
   "id": "945726e4",
   "metadata": {},
   "outputs": [],
   "source": [
    "# \n",
    "df = df[(df.Year.str.contains(\"s\")) == False]\n",
    "df = df[(df.Month.str.contains(\"None\")) == False]\n",
    "df = df.replace(\"Sp-Oc\", \"Sep\")\n",
    "df = df.replace(\"Jl-Au\", \"Jul\")"
   ]
  },
  {
   "cell_type": "code",
   "execution_count": 62,
   "id": "a3f48835",
   "metadata": {},
   "outputs": [],
   "source": [
    "# Use the handy Pandas to-datetime method to convert the three\n",
    "# letter month abbreviations to numbers between 1 and 12\n",
    "df.Month = pd.to_datetime(df.Month, format=\"%b\").dt.month"
   ]
  },
  {
   "cell_type": "code",
   "execution_count": 63,
   "id": "cdab0d64",
   "metadata": {},
   "outputs": [],
   "source": [
    "# Tighten up the heades a bit so they're a bit easier to both read\n",
    "# and reference in our code\n",
    "\n",
    "df.columns = [\"Year\", \"Month\", \"States\", \"Category\", \"Pressure\", \"Max Wind\", \"Name\"]"
   ]
  },
  {
   "cell_type": "code",
   "execution_count": 64,
   "id": "24577231",
   "metadata": {},
   "outputs": [],
   "source": [
    "# Convert the Year data from string objects to integers, \n",
    "# why? Python won't know how to work with them appropiately. \n",
    "\n",
    "# Convert the null(----) values in Max Wind to NaN - which numpy will read as \"Not a number\"\n",
    "# Conver the data in Max Wind from object to float\n",
    "\n",
    "df = df.astype({\"Year\": \"int\"})\n",
    "df = df.replace(\"-----\", np.NAN)\n",
    "df = df.astype({\"Max Wind\": \"float\"})"
   ]
  },
  {
   "cell_type": "code",
   "execution_count": 65,
   "id": "dd63e043",
   "metadata": {},
   "outputs": [
    {
     "data": {
      "text/plain": [
       "Year          int64\n",
       "Month         int64\n",
       "States       object\n",
       "Category    float64\n",
       "Pressure    float64\n",
       "Max Wind    float64\n",
       "Name         object\n",
       "dtype: object"
      ]
     },
     "execution_count": 65,
     "metadata": {},
     "output_type": "execute_result"
    }
   ],
   "source": [
    "df.dtypes\n"
   ]
  },
  {
   "cell_type": "markdown",
   "id": "deaa0a47",
   "metadata": {},
   "source": [
    "### Presenting Hurrican Data"
   ]
  },
  {
   "cell_type": "code",
   "execution_count": 75,
   "id": "590eb93a",
   "metadata": {},
   "outputs": [
    {
     "data": {
      "text/plain": [
       "1.0    124\n",
       "2.0     85\n",
       "3.0     62\n",
       "4.0     26\n",
       "5.0      4\n",
       "Name: Category, dtype: int64"
      ]
     },
     "execution_count": 75,
     "metadata": {},
     "output_type": "execute_result"
    }
   ],
   "source": [
    "df[\"Category\"].value_counts()"
   ]
  },
  {
   "cell_type": "code",
   "execution_count": 73,
   "id": "4102b975",
   "metadata": {},
   "outputs": [
    {
     "data": {
      "text/plain": [
       "array([[<AxesSubplot:title={'center':'Year'}>]], dtype=object)"
      ]
     },
     "execution_count": 73,
     "metadata": {},
     "output_type": "execute_result"
    },
    {
     "data": {
      "image/png": "[encoded data removed]",
      "text/plain": [
       "<Figure size 432x288 with 1 Axes>"
      ]
     },
     "metadata": {
      "needs_background": "light"
     },
     "output_type": "display_data"
    }
   ],
   "source": [
    "# tdf.hist(column=\"Year\", bins=25)"
   ]
  },
  {
   "cell_type": "code",
   "execution_count": 118,
   "id": "3e571b38",
   "metadata": {},
   "outputs": [],
   "source": [
    "# To allow us to focus on each metrics, we shall plot three seperate graphs\n",
    "# Create 3 new data frames and populate each one with the contents of Year and their respective dat columns\n",
    "\n",
    "\n",
    "df_category = df[[\"Year\", \"Category\"]]\n",
    "df_wind = df[[\"Year\", \"Max Wind\"]]\n",
    "df_pressure = df[[\"Year\", \"Pressure\"]]\n",
    "df_month = df[[\"Year\", \"Month\"]]"
   ]
  },
  {
   "cell_type": "code",
   "execution_count": 93,
   "id": "348d11f0",
   "metadata": {},
   "outputs": [
    {
     "data": {
      "image/png": "[encoded data removed]",
      "text/plain": [
       "<Figure size 432x288 with 1 Axes>"
      ]
     },
     "metadata": {
      "needs_background": "light"
     },
     "output_type": "display_data"
    },
    {
     "data": {
      "image/png": "[encoded data removed]",
      "text/plain": [
       "<Figure size 432x288 with 1 Axes>"
      ]
     },
     "metadata": {
      "needs_background": "light"
     },
     "output_type": "display_data"
    },
    {
     "data": {
      "image/png": "[encoded data removed]",
      "text/plain": [
       "<Figure size 432x288 with 1 Axes>"
      ]
     },
     "metadata": {
      "needs_background": "light"
     },
     "output_type": "display_data"
    },
    {
     "data": {
      "image/png": "[encoded data removed]",
      "text/plain": [
       "<Figure size 432x288 with 1 Axes>"
      ]
     },
     "metadata": {
      "needs_background": "light"
     },
     "output_type": "display_data"
    },
    {
     "data": {
      "image/png": "[encoded data removed]",
      "text/plain": [
       "<Figure size 432x288 with 1 Axes>"
      ]
     },
     "metadata": {
      "needs_background": "light"
     },
     "output_type": "display_data"
    }
   ],
   "source": [
    "for x in range(1,6):\n",
    "    cat_num = x\n",
    "    converted_num = str(cat_num)\n",
    "    dfcat = df_category[\"Category\"] == (x)\n",
    "    df1 = df_category[dfcat]\n",
    "    df1.hist(column=\"Year\", bins=20)\n",
    "    plt.title(\"Total Category\" + (converted_num) + \" Events\")"
   ]
  },
  {
   "cell_type": "markdown",
   "id": "888bc672",
   "metadata": {},
   "source": [
    "     As can be observed, there's not noticeable evidence of significantly rising storm frequency over tome "
   ]
  },
  {
   "cell_type": "code",
   "execution_count": 147,
   "id": "e5e1809f",
   "metadata": {},
   "outputs": [
    {
     "data": {
      "text/plain": [
       "1       6\n",
       "2       8\n",
       "3       8\n",
       "4       9\n",
       "5      10\n",
       "       ..\n",
       "350     8\n",
       "351     8\n",
       "352     9\n",
       "353    10\n",
       "354    10\n",
       "Name: Month, Length: 301, dtype: int64"
      ]
     },
     "execution_count": 147,
     "metadata": {},
     "output_type": "execute_result"
    }
   ],
   "source": [
    "df_months = df[[\"Month\"]]\n",
    "df_months[\"Month\"]\n"
   ]
  },
  {
   "cell_type": "code",
   "execution_count": 148,
   "id": "1a5e09bd",
   "metadata": {},
   "outputs": [
    {
     "data": {
      "text/plain": [
       "Counter({6: 19, 8: 80, 9: 110, 10: 60, 11: 3, 7: 29})"
      ]
     },
     "execution_count": 148,
     "metadata": {},
     "output_type": "execute_result"
    }
   ],
   "source": [
    "month_with_hurricane = Counter(df_months[\"Month\"])\n",
    "month_with_hurricane"
   ]
  },
  {
   "cell_type": "code",
   "execution_count": 124,
   "id": "ee1daa88",
   "metadata": {},
   "outputs": [
    {
     "data": {
      "text/html": [
       "<div>\n",
       "<style scoped>\n",
       "    .dataframe tbody tr th:only-of-type {\n",
       "        vertical-align: middle;\n",
       "    }\n",
       "\n",
       "    .dataframe tbody tr th {\n",
       "        vertical-align: top;\n",
       "    }\n",
       "\n",
       "    .dataframe thead th {\n",
       "        text-align: right;\n",
       "    }\n",
       "</style>\n",
       "<table border=\"1\" class=\"dataframe\">\n",
       "  <thead>\n",
       "    <tr style=\"text-align: right;\">\n",
       "      <th></th>\n",
       "      <th>Year</th>\n",
       "      <th>Month</th>\n",
       "      <th>States</th>\n",
       "      <th>Category</th>\n",
       "      <th>Pressure</th>\n",
       "      <th>Max Wind</th>\n",
       "      <th>Name</th>\n",
       "    </tr>\n",
       "  </thead>\n",
       "  <tbody>\n",
       "    <tr>\n",
       "      <th>1</th>\n",
       "      <td>1851</td>\n",
       "      <td>6</td>\n",
       "      <td>TX, C1</td>\n",
       "      <td>1.0</td>\n",
       "      <td>974.0</td>\n",
       "      <td>80.0</td>\n",
       "      <td>NaN</td>\n",
       "    </tr>\n",
       "    <tr>\n",
       "      <th>2</th>\n",
       "      <td>1851</td>\n",
       "      <td>8</td>\n",
       "      <td>FL, NW3; I-GA, 1</td>\n",
       "      <td>3.0</td>\n",
       "      <td>955.0</td>\n",
       "      <td>100.0</td>\n",
       "      <td>\"Great Middle Florida\"</td>\n",
       "    </tr>\n",
       "    <tr>\n",
       "      <th>3</th>\n",
       "      <td>1852</td>\n",
       "      <td>8</td>\n",
       "      <td>AL, 3; MS, 3; LA, 2; FL, SW2, NW1</td>\n",
       "      <td>3.0</td>\n",
       "      <td>961.0</td>\n",
       "      <td>100.0</td>\n",
       "      <td>\"Great Mobile\"</td>\n",
       "    </tr>\n",
       "    <tr>\n",
       "      <th>4</th>\n",
       "      <td>1852</td>\n",
       "      <td>9</td>\n",
       "      <td>FL, SW1</td>\n",
       "      <td>1.0</td>\n",
       "      <td>982.0</td>\n",
       "      <td>70.0</td>\n",
       "      <td>NaN</td>\n",
       "    </tr>\n",
       "    <tr>\n",
       "      <th>5</th>\n",
       "      <td>1852</td>\n",
       "      <td>10</td>\n",
       "      <td>FL, NW2; I-GA, 1</td>\n",
       "      <td>2.0</td>\n",
       "      <td>965.0</td>\n",
       "      <td>90.0</td>\n",
       "      <td>\"Middle Florida\"</td>\n",
       "    </tr>\n",
       "    <tr>\n",
       "      <th>...</th>\n",
       "      <td>...</td>\n",
       "      <td>...</td>\n",
       "      <td>...</td>\n",
       "      <td>...</td>\n",
       "      <td>...</td>\n",
       "      <td>...</td>\n",
       "      <td>...</td>\n",
       "    </tr>\n",
       "    <tr>\n",
       "      <th>350</th>\n",
       "      <td>2020</td>\n",
       "      <td>8</td>\n",
       "      <td>NC, 1; SC, 1</td>\n",
       "      <td>1.0</td>\n",
       "      <td>986.0</td>\n",
       "      <td>80.0</td>\n",
       "      <td>Isaias</td>\n",
       "    </tr>\n",
       "    <tr>\n",
       "      <th>351</th>\n",
       "      <td>2020</td>\n",
       "      <td>8</td>\n",
       "      <td>LA, 4; TX, N1</td>\n",
       "      <td>4.0</td>\n",
       "      <td>938.0</td>\n",
       "      <td>130.0</td>\n",
       "      <td>Laura</td>\n",
       "    </tr>\n",
       "    <tr>\n",
       "      <th>352</th>\n",
       "      <td>2020</td>\n",
       "      <td>9</td>\n",
       "      <td>AL, 2; FL, NW2</td>\n",
       "      <td>2.0</td>\n",
       "      <td>965.0</td>\n",
       "      <td>95.0</td>\n",
       "      <td>Sally</td>\n",
       "    </tr>\n",
       "    <tr>\n",
       "      <th>353</th>\n",
       "      <td>2020</td>\n",
       "      <td>10</td>\n",
       "      <td>LA,2</td>\n",
       "      <td>2.0</td>\n",
       "      <td>970.0</td>\n",
       "      <td>85.0</td>\n",
       "      <td>Delta</td>\n",
       "    </tr>\n",
       "    <tr>\n",
       "      <th>354</th>\n",
       "      <td>2020</td>\n",
       "      <td>10</td>\n",
       "      <td>LA,3; MS, 2; I-AL, 1</td>\n",
       "      <td>2.0</td>\n",
       "      <td>973.0</td>\n",
       "      <td>90.0</td>\n",
       "      <td>Zeta</td>\n",
       "    </tr>\n",
       "  </tbody>\n",
       "</table>\n",
       "<p>301 rows × 7 columns</p>\n",
       "</div>"
      ],
      "text/plain": [
       "     Year  Month                             States  Category  Pressure  \\\n",
       "1    1851      6                             TX, C1       1.0     974.0   \n",
       "2    1851      8                   FL, NW3; I-GA, 1       3.0     955.0   \n",
       "3    1852      8  AL, 3; MS, 3; LA, 2; FL, SW2, NW1       3.0     961.0   \n",
       "4    1852      9                            FL, SW1       1.0     982.0   \n",
       "5    1852     10                   FL, NW2; I-GA, 1       2.0     965.0   \n",
       "..    ...    ...                                ...       ...       ...   \n",
       "350  2020      8                       NC, 1; SC, 1       1.0     986.0   \n",
       "351  2020      8                      LA, 4; TX, N1       4.0     938.0   \n",
       "352  2020      9                     AL, 2; FL, NW2       2.0     965.0   \n",
       "353  2020     10                               LA,2       2.0     970.0   \n",
       "354  2020     10               LA,3; MS, 2; I-AL, 1       2.0     973.0   \n",
       "\n",
       "     Max Wind                    Name  \n",
       "1        80.0                     NaN  \n",
       "2       100.0  \"Great Middle Florida\"  \n",
       "3       100.0          \"Great Mobile\"  \n",
       "4        70.0                     NaN  \n",
       "5        90.0        \"Middle Florida\"  \n",
       "..        ...                     ...  \n",
       "350      80.0                  Isaias  \n",
       "351     130.0                   Laura  \n",
       "352      95.0                   Sally  \n",
       "353      85.0                   Delta  \n",
       "354      90.0                    Zeta  \n",
       "\n",
       "[301 rows x 7 columns]"
      ]
     },
     "execution_count": 124,
     "metadata": {},
     "output_type": "execute_result"
    }
   ],
   "source": [
    "df"
   ]
  },
  {
   "cell_type": "code",
   "execution_count": 151,
   "id": "88b033ad",
   "metadata": {},
   "outputs": [
    {
     "data": {
      "text/html": [
       "<div>\n",
       "<style scoped>\n",
       "    .dataframe tbody tr th:only-of-type {\n",
       "        vertical-align: middle;\n",
       "    }\n",
       "\n",
       "    .dataframe tbody tr th {\n",
       "        vertical-align: top;\n",
       "    }\n",
       "\n",
       "    .dataframe thead th {\n",
       "        text-align: right;\n",
       "    }\n",
       "</style>\n",
       "<table border=\"1\" class=\"dataframe\">\n",
       "  <thead>\n",
       "    <tr style=\"text-align: right;\">\n",
       "      <th>Year</th>\n",
       "      <th>1851</th>\n",
       "      <th>1852</th>\n",
       "      <th>1853</th>\n",
       "      <th>1854</th>\n",
       "      <th>1855</th>\n",
       "      <th>1856</th>\n",
       "      <th>1857</th>\n",
       "      <th>1858</th>\n",
       "      <th>1859</th>\n",
       "      <th>1860</th>\n",
       "      <th>...</th>\n",
       "      <th>2007</th>\n",
       "      <th>2008</th>\n",
       "      <th>2011</th>\n",
       "      <th>2012</th>\n",
       "      <th>2014</th>\n",
       "      <th>2016</th>\n",
       "      <th>2017</th>\n",
       "      <th>2018</th>\n",
       "      <th>2019</th>\n",
       "      <th>2020</th>\n",
       "    </tr>\n",
       "    <tr>\n",
       "      <th>Category</th>\n",
       "      <th></th>\n",
       "      <th></th>\n",
       "      <th></th>\n",
       "      <th></th>\n",
       "      <th></th>\n",
       "      <th></th>\n",
       "      <th></th>\n",
       "      <th></th>\n",
       "      <th></th>\n",
       "      <th></th>\n",
       "      <th></th>\n",
       "      <th></th>\n",
       "      <th></th>\n",
       "      <th></th>\n",
       "      <th></th>\n",
       "      <th></th>\n",
       "      <th></th>\n",
       "      <th></th>\n",
       "      <th></th>\n",
       "      <th></th>\n",
       "      <th></th>\n",
       "    </tr>\n",
       "  </thead>\n",
       "  <tbody>\n",
       "    <tr>\n",
       "      <th>1.0</th>\n",
       "      <td>1</td>\n",
       "      <td>1</td>\n",
       "      <td>1</td>\n",
       "      <td>1</td>\n",
       "      <td>0</td>\n",
       "      <td>0</td>\n",
       "      <td>0</td>\n",
       "      <td>1</td>\n",
       "      <td>2</td>\n",
       "      <td>0</td>\n",
       "      <td>...</td>\n",
       "      <td>1</td>\n",
       "      <td>1</td>\n",
       "      <td>1</td>\n",
       "      <td>2</td>\n",
       "      <td>0</td>\n",
       "      <td>1</td>\n",
       "      <td>1</td>\n",
       "      <td>1</td>\n",
       "      <td>1</td>\n",
       "      <td>2</td>\n",
       "    </tr>\n",
       "    <tr>\n",
       "      <th>2.0</th>\n",
       "      <td>0</td>\n",
       "      <td>1</td>\n",
       "      <td>0</td>\n",
       "      <td>1</td>\n",
       "      <td>0</td>\n",
       "      <td>1</td>\n",
       "      <td>1</td>\n",
       "      <td>0</td>\n",
       "      <td>0</td>\n",
       "      <td>2</td>\n",
       "      <td>...</td>\n",
       "      <td>0</td>\n",
       "      <td>2</td>\n",
       "      <td>0</td>\n",
       "      <td>0</td>\n",
       "      <td>1</td>\n",
       "      <td>1</td>\n",
       "      <td>0</td>\n",
       "      <td>0</td>\n",
       "      <td>1</td>\n",
       "      <td>3</td>\n",
       "    </tr>\n",
       "    <tr>\n",
       "      <th>3.0</th>\n",
       "      <td>1</td>\n",
       "      <td>1</td>\n",
       "      <td>0</td>\n",
       "      <td>1</td>\n",
       "      <td>1</td>\n",
       "      <td>0</td>\n",
       "      <td>0</td>\n",
       "      <td>0</td>\n",
       "      <td>0</td>\n",
       "      <td>1</td>\n",
       "      <td>...</td>\n",
       "      <td>0</td>\n",
       "      <td>0</td>\n",
       "      <td>0</td>\n",
       "      <td>0</td>\n",
       "      <td>0</td>\n",
       "      <td>0</td>\n",
       "      <td>0</td>\n",
       "      <td>0</td>\n",
       "      <td>0</td>\n",
       "      <td>0</td>\n",
       "    </tr>\n",
       "    <tr>\n",
       "      <th>4.0</th>\n",
       "      <td>0</td>\n",
       "      <td>0</td>\n",
       "      <td>0</td>\n",
       "      <td>0</td>\n",
       "      <td>0</td>\n",
       "      <td>1</td>\n",
       "      <td>0</td>\n",
       "      <td>0</td>\n",
       "      <td>0</td>\n",
       "      <td>0</td>\n",
       "      <td>...</td>\n",
       "      <td>0</td>\n",
       "      <td>0</td>\n",
       "      <td>0</td>\n",
       "      <td>0</td>\n",
       "      <td>0</td>\n",
       "      <td>0</td>\n",
       "      <td>2</td>\n",
       "      <td>0</td>\n",
       "      <td>0</td>\n",
       "      <td>1</td>\n",
       "    </tr>\n",
       "    <tr>\n",
       "      <th>5.0</th>\n",
       "      <td>0</td>\n",
       "      <td>0</td>\n",
       "      <td>0</td>\n",
       "      <td>0</td>\n",
       "      <td>0</td>\n",
       "      <td>0</td>\n",
       "      <td>0</td>\n",
       "      <td>0</td>\n",
       "      <td>0</td>\n",
       "      <td>0</td>\n",
       "      <td>...</td>\n",
       "      <td>0</td>\n",
       "      <td>0</td>\n",
       "      <td>0</td>\n",
       "      <td>0</td>\n",
       "      <td>0</td>\n",
       "      <td>0</td>\n",
       "      <td>0</td>\n",
       "      <td>1</td>\n",
       "      <td>0</td>\n",
       "      <td>0</td>\n",
       "    </tr>\n",
       "  </tbody>\n",
       "</table>\n",
       "<p>5 rows × 136 columns</p>\n",
       "</div>"
      ],
      "text/plain": [
       "Year      1851  1852  1853  1854  1855  1856  1857  1858  1859  1860  ...  \\\n",
       "Category                                                              ...   \n",
       "1.0          1     1     1     1     0     0     0     1     2     0  ...   \n",
       "2.0          0     1     0     1     0     1     1     0     0     2  ...   \n",
       "3.0          1     1     0     1     1     0     0     0     0     1  ...   \n",
       "4.0          0     0     0     0     0     1     0     0     0     0  ...   \n",
       "5.0          0     0     0     0     0     0     0     0     0     0  ...   \n",
       "\n",
       "Year      2007  2008  2011  2012  2014  2016  2017  2018  2019  2020  \n",
       "Category                                                              \n",
       "1.0          1     1     1     2     0     1     1     1     1     2  \n",
       "2.0          0     2     0     0     1     1     0     0     1     3  \n",
       "3.0          0     0     0     0     0     0     0     0     0     0  \n",
       "4.0          0     0     0     0     0     0     2     0     0     1  \n",
       "5.0          0     0     0     0     0     0     0     1     0     0  \n",
       "\n",
       "[5 rows x 136 columns]"
      ]
     },
     "execution_count": 151,
     "metadata": {},
     "output_type": "execute_result"
    }
   ],
   "source": [
    "pd.crosstab(df[\"Category\"], df[\"Year\"])"
   ]
  },
  {
   "cell_type": "code",
   "execution_count": 137,
   "id": "5040f3ab",
   "metadata": {},
   "outputs": [
    {
     "data": {
      "text/html": [
       "<div>\n",
       "<style scoped>\n",
       "    .dataframe tbody tr th:only-of-type {\n",
       "        vertical-align: middle;\n",
       "    }\n",
       "\n",
       "    .dataframe tbody tr th {\n",
       "        vertical-align: top;\n",
       "    }\n",
       "\n",
       "    .dataframe thead th {\n",
       "        text-align: right;\n",
       "    }\n",
       "</style>\n",
       "<table border=\"1\" class=\"dataframe\">\n",
       "  <thead>\n",
       "    <tr style=\"text-align: right;\">\n",
       "      <th></th>\n",
       "      <th>Year</th>\n",
       "      <th>Month</th>\n",
       "      <th>Category</th>\n",
       "      <th>Pressure</th>\n",
       "      <th>Max Wind</th>\n",
       "    </tr>\n",
       "    <tr>\n",
       "      <th>Category</th>\n",
       "      <th></th>\n",
       "      <th></th>\n",
       "      <th></th>\n",
       "      <th></th>\n",
       "      <th></th>\n",
       "    </tr>\n",
       "  </thead>\n",
       "  <tbody>\n",
       "    <tr>\n",
       "      <th>False</th>\n",
       "      <td>1931.214022</td>\n",
       "      <td>8.546125</td>\n",
       "      <td>1.771218</td>\n",
       "      <td>968.701107</td>\n",
       "      <td>84.783465</td>\n",
       "    </tr>\n",
       "    <tr>\n",
       "      <th>True</th>\n",
       "      <td>1948.933333</td>\n",
       "      <td>8.800000</td>\n",
       "      <td>4.133333</td>\n",
       "      <td>934.466667</td>\n",
       "      <td>123.275862</td>\n",
       "    </tr>\n",
       "  </tbody>\n",
       "</table>\n",
       "</div>"
      ],
      "text/plain": [
       "                 Year     Month  Category    Pressure    Max Wind\n",
       "Category                                                         \n",
       "False     1931.214022  8.546125  1.771218  968.701107   84.783465\n",
       "True      1948.933333  8.800000  4.133333  934.466667  123.275862"
      ]
     },
     "execution_count": 137,
     "metadata": {},
     "output_type": "execute_result"
    }
   ],
   "source": [
    "# Groupby \n",
    "df.groupby(df[\"Category\"] > 3.0).mean()"
   ]
  },
  {
   "cell_type": "code",
   "execution_count": 139,
   "id": "59b082c3",
   "metadata": {},
   "outputs": [
    {
     "data": {
      "text/plain": [
       "array([[<AxesSubplot:title={'center':'Year'}>,\n",
       "        <AxesSubplot:title={'center':'Month'}>]], dtype=object)"
      ]
     },
     "execution_count": 139,
     "metadata": {},
     "output_type": "execute_result"
    },
    {
     "data": {
      "image/png": "[encoded data removed]",
      "text/plain": [
       "<Figure size 432x288 with 2 Axes>"
      ]
     },
     "metadata": {
      "needs_background": "light"
     },
     "output_type": "display_data"
    }
   ],
   "source": [
    "df_month.hist()"
   ]
  },
  {
   "cell_type": "code",
   "execution_count": 140,
   "id": "dd45b955",
   "metadata": {},
   "outputs": [
    {
     "data": {
      "text/html": [
       "<div>\n",
       "<style scoped>\n",
       "    .dataframe tbody tr th:only-of-type {\n",
       "        vertical-align: middle;\n",
       "    }\n",
       "\n",
       "    .dataframe tbody tr th {\n",
       "        vertical-align: top;\n",
       "    }\n",
       "\n",
       "    .dataframe thead th {\n",
       "        text-align: right;\n",
       "    }\n",
       "</style>\n",
       "<table border=\"1\" class=\"dataframe\">\n",
       "  <thead>\n",
       "    <tr style=\"text-align: right;\">\n",
       "      <th></th>\n",
       "      <th>Year</th>\n",
       "      <th>Month</th>\n",
       "      <th>States</th>\n",
       "      <th>Category</th>\n",
       "      <th>Pressure</th>\n",
       "      <th>Max Wind</th>\n",
       "      <th>Name</th>\n",
       "    </tr>\n",
       "  </thead>\n",
       "  <tbody>\n",
       "    <tr>\n",
       "      <th>1</th>\n",
       "      <td>1851</td>\n",
       "      <td>6</td>\n",
       "      <td>TX, C1</td>\n",
       "      <td>1.0</td>\n",
       "      <td>974.0</td>\n",
       "      <td>80.0</td>\n",
       "      <td>NaN</td>\n",
       "    </tr>\n",
       "    <tr>\n",
       "      <th>2</th>\n",
       "      <td>1851</td>\n",
       "      <td>8</td>\n",
       "      <td>FL, NW3; I-GA, 1</td>\n",
       "      <td>3.0</td>\n",
       "      <td>955.0</td>\n",
       "      <td>100.0</td>\n",
       "      <td>\"Great Middle Florida\"</td>\n",
       "    </tr>\n",
       "    <tr>\n",
       "      <th>3</th>\n",
       "      <td>1852</td>\n",
       "      <td>8</td>\n",
       "      <td>AL, 3; MS, 3; LA, 2; FL, SW2, NW1</td>\n",
       "      <td>3.0</td>\n",
       "      <td>961.0</td>\n",
       "      <td>100.0</td>\n",
       "      <td>\"Great Mobile\"</td>\n",
       "    </tr>\n",
       "    <tr>\n",
       "      <th>4</th>\n",
       "      <td>1852</td>\n",
       "      <td>9</td>\n",
       "      <td>FL, SW1</td>\n",
       "      <td>1.0</td>\n",
       "      <td>982.0</td>\n",
       "      <td>70.0</td>\n",
       "      <td>NaN</td>\n",
       "    </tr>\n",
       "    <tr>\n",
       "      <th>5</th>\n",
       "      <td>1852</td>\n",
       "      <td>10</td>\n",
       "      <td>FL, NW2; I-GA, 1</td>\n",
       "      <td>2.0</td>\n",
       "      <td>965.0</td>\n",
       "      <td>90.0</td>\n",
       "      <td>\"Middle Florida\"</td>\n",
       "    </tr>\n",
       "    <tr>\n",
       "      <th>...</th>\n",
       "      <td>...</td>\n",
       "      <td>...</td>\n",
       "      <td>...</td>\n",
       "      <td>...</td>\n",
       "      <td>...</td>\n",
       "      <td>...</td>\n",
       "      <td>...</td>\n",
       "    </tr>\n",
       "    <tr>\n",
       "      <th>350</th>\n",
       "      <td>2020</td>\n",
       "      <td>8</td>\n",
       "      <td>NC, 1; SC, 1</td>\n",
       "      <td>1.0</td>\n",
       "      <td>986.0</td>\n",
       "      <td>80.0</td>\n",
       "      <td>Isaias</td>\n",
       "    </tr>\n",
       "    <tr>\n",
       "      <th>351</th>\n",
       "      <td>2020</td>\n",
       "      <td>8</td>\n",
       "      <td>LA, 4; TX, N1</td>\n",
       "      <td>4.0</td>\n",
       "      <td>938.0</td>\n",
       "      <td>130.0</td>\n",
       "      <td>Laura</td>\n",
       "    </tr>\n",
       "    <tr>\n",
       "      <th>352</th>\n",
       "      <td>2020</td>\n",
       "      <td>9</td>\n",
       "      <td>AL, 2; FL, NW2</td>\n",
       "      <td>2.0</td>\n",
       "      <td>965.0</td>\n",
       "      <td>95.0</td>\n",
       "      <td>Sally</td>\n",
       "    </tr>\n",
       "    <tr>\n",
       "      <th>353</th>\n",
       "      <td>2020</td>\n",
       "      <td>10</td>\n",
       "      <td>LA,2</td>\n",
       "      <td>2.0</td>\n",
       "      <td>970.0</td>\n",
       "      <td>85.0</td>\n",
       "      <td>Delta</td>\n",
       "    </tr>\n",
       "    <tr>\n",
       "      <th>354</th>\n",
       "      <td>2020</td>\n",
       "      <td>10</td>\n",
       "      <td>LA,3; MS, 2; I-AL, 1</td>\n",
       "      <td>2.0</td>\n",
       "      <td>973.0</td>\n",
       "      <td>90.0</td>\n",
       "      <td>Zeta</td>\n",
       "    </tr>\n",
       "  </tbody>\n",
       "</table>\n",
       "<p>301 rows × 7 columns</p>\n",
       "</div>"
      ],
      "text/plain": [
       "     Year  Month                             States  Category  Pressure  \\\n",
       "1    1851      6                             TX, C1       1.0     974.0   \n",
       "2    1851      8                   FL, NW3; I-GA, 1       3.0     955.0   \n",
       "3    1852      8  AL, 3; MS, 3; LA, 2; FL, SW2, NW1       3.0     961.0   \n",
       "4    1852      9                            FL, SW1       1.0     982.0   \n",
       "5    1852     10                   FL, NW2; I-GA, 1       2.0     965.0   \n",
       "..    ...    ...                                ...       ...       ...   \n",
       "350  2020      8                       NC, 1; SC, 1       1.0     986.0   \n",
       "351  2020      8                      LA, 4; TX, N1       4.0     938.0   \n",
       "352  2020      9                     AL, 2; FL, NW2       2.0     965.0   \n",
       "353  2020     10                               LA,2       2.0     970.0   \n",
       "354  2020     10               LA,3; MS, 2; I-AL, 1       2.0     973.0   \n",
       "\n",
       "     Max Wind                    Name  \n",
       "1        80.0                     NaN  \n",
       "2       100.0  \"Great Middle Florida\"  \n",
       "3       100.0          \"Great Mobile\"  \n",
       "4        70.0                     NaN  \n",
       "5        90.0        \"Middle Florida\"  \n",
       "..        ...                     ...  \n",
       "350      80.0                  Isaias  \n",
       "351     130.0                   Laura  \n",
       "352      95.0                   Sally  \n",
       "353      85.0                   Delta  \n",
       "354      90.0                    Zeta  \n",
       "\n",
       "[301 rows x 7 columns]"
      ]
     },
     "execution_count": 140,
     "metadata": {},
     "output_type": "execute_result"
    }
   ],
   "source": [
    "df"
   ]
  },
  {
   "cell_type": "code",
   "execution_count": 142,
   "id": "1025bb89",
   "metadata": {},
   "outputs": [
    {
     "data": {
      "text/plain": [
       "9     110\n",
       "8      80\n",
       "10     60\n",
       "7      29\n",
       "6      19\n",
       "11      3\n",
       "Name: Month, dtype: int64"
      ]
     },
     "execution_count": 142,
     "metadata": {},
     "output_type": "execute_result"
    }
   ],
   "source": [
    "df[\"Month\"].value_counts()"
   ]
  },
  {
   "cell_type": "code",
   "execution_count": null,
   "id": "96ee8b6a",
   "metadata": {},
   "outputs": [],
   "source": []
  }
 ],
 "metadata": {
  "kernelspec": {
   "display_name": "Python 3",
   "language": "python",
   "name": "python3"
  },
  "language_info": {
   "codemirror_mode": {
    "name": "ipython",
    "version": 3
   },
   "file_extension": ".py",
   "mimetype": "text/x-python",
   "name": "python",
   "nbconvert_exporter": "python",
   "pygments_lexer": "ipython3",
   "version": "3.9.6"
  }
 },
 "nbformat": 4,
 "nbformat_minor": 5
}
